{
 "cells": [
  {
   "cell_type": "markdown",
   "metadata": {},
   "source": [
    "# Data Preprocessing"
   ]
  },
  {
   "cell_type": "markdown",
   "metadata": {},
   "source": [
    "## Read in Our Data"
   ]
  },
  {
   "cell_type": "code",
   "execution_count": 1,
   "metadata": {},
   "outputs": [],
   "source": [
    "import numpy as np\n",
    "import pandas as pd\n",
    "import matplotlib.pyplot as plt\n",
    "import math\n",
    "%matplotlib inline"
   ]
  },
  {
   "cell_type": "code",
   "execution_count": 2,
   "metadata": {},
   "outputs": [
    {
     "data": {
      "text/html": [
       "<div>\n",
       "<style scoped>\n",
       "    .dataframe tbody tr th:only-of-type {\n",
       "        vertical-align: middle;\n",
       "    }\n",
       "\n",
       "    .dataframe tbody tr th {\n",
       "        vertical-align: top;\n",
       "    }\n",
       "\n",
       "    .dataframe thead th {\n",
       "        text-align: right;\n",
       "    }\n",
       "</style>\n",
       "<table border=\"1\" class=\"dataframe\">\n",
       "  <thead>\n",
       "    <tr style=\"text-align: right;\">\n",
       "      <th></th>\n",
       "      <th>track_popularity</th>\n",
       "      <th>playlist_genre</th>\n",
       "      <th>playlist_subgenre</th>\n",
       "      <th>danceability</th>\n",
       "      <th>energy</th>\n",
       "      <th>loudness</th>\n",
       "      <th>speechiness</th>\n",
       "      <th>acousticness</th>\n",
       "      <th>instrumentalness</th>\n",
       "      <th>liveness</th>\n",
       "      <th>...</th>\n",
       "      <th>tempo</th>\n",
       "      <th>duration_ms</th>\n",
       "      <th>Hit or Not</th>\n",
       "      <th>lyrical_subjectivity</th>\n",
       "      <th>lyrical_polarity</th>\n",
       "      <th>repeated_phrases</th>\n",
       "      <th>minutes</th>\n",
       "      <th>word_count</th>\n",
       "      <th>WPM_approx</th>\n",
       "      <th>artist_past_performance</th>\n",
       "    </tr>\n",
       "  </thead>\n",
       "  <tbody>\n",
       "    <tr>\n",
       "      <th>0</th>\n",
       "      <td>0</td>\n",
       "      <td>3</td>\n",
       "      <td>14</td>\n",
       "      <td>0.845</td>\n",
       "      <td>0.652</td>\n",
       "      <td>-7.504</td>\n",
       "      <td>0.216</td>\n",
       "      <td>0.00432</td>\n",
       "      <td>0.007230</td>\n",
       "      <td>0.4890</td>\n",
       "      <td>...</td>\n",
       "      <td>111.904</td>\n",
       "      <td>262467</td>\n",
       "      <td>1</td>\n",
       "      <td>0.460365</td>\n",
       "      <td>0.150858</td>\n",
       "      <td>0</td>\n",
       "      <td>4.374450</td>\n",
       "      <td>420</td>\n",
       "      <td>96.012070</td>\n",
       "      <td>7</td>\n",
       "    </tr>\n",
       "    <tr>\n",
       "      <th>1</th>\n",
       "      <td>70</td>\n",
       "      <td>3</td>\n",
       "      <td>23</td>\n",
       "      <td>0.496</td>\n",
       "      <td>0.639</td>\n",
       "      <td>-6.157</td>\n",
       "      <td>0.055</td>\n",
       "      <td>0.28000</td>\n",
       "      <td>0.000000</td>\n",
       "      <td>0.0975</td>\n",
       "      <td>...</td>\n",
       "      <td>147.764</td>\n",
       "      <td>224720</td>\n",
       "      <td>1</td>\n",
       "      <td>0.609292</td>\n",
       "      <td>0.232474</td>\n",
       "      <td>0</td>\n",
       "      <td>3.745333</td>\n",
       "      <td>359</td>\n",
       "      <td>95.852617</td>\n",
       "      <td>0</td>\n",
       "    </tr>\n",
       "    <tr>\n",
       "      <th>2</th>\n",
       "      <td>52</td>\n",
       "      <td>3</td>\n",
       "      <td>14</td>\n",
       "      <td>0.764</td>\n",
       "      <td>0.594</td>\n",
       "      <td>-10.050</td>\n",
       "      <td>0.185</td>\n",
       "      <td>0.59100</td>\n",
       "      <td>0.000000</td>\n",
       "      <td>0.1450</td>\n",
       "      <td>...</td>\n",
       "      <td>87.261</td>\n",
       "      <td>286441</td>\n",
       "      <td>1</td>\n",
       "      <td>0.590514</td>\n",
       "      <td>0.200076</td>\n",
       "      <td>0</td>\n",
       "      <td>4.774017</td>\n",
       "      <td>634</td>\n",
       "      <td>132.802218</td>\n",
       "      <td>2</td>\n",
       "    </tr>\n",
       "    <tr>\n",
       "      <th>3</th>\n",
       "      <td>72</td>\n",
       "      <td>4</td>\n",
       "      <td>6</td>\n",
       "      <td>0.865</td>\n",
       "      <td>0.657</td>\n",
       "      <td>-6.722</td>\n",
       "      <td>0.076</td>\n",
       "      <td>0.04040</td>\n",
       "      <td>0.000000</td>\n",
       "      <td>0.1400</td>\n",
       "      <td>...</td>\n",
       "      <td>111.115</td>\n",
       "      <td>268960</td>\n",
       "      <td>1</td>\n",
       "      <td>0.409803</td>\n",
       "      <td>0.013691</td>\n",
       "      <td>3</td>\n",
       "      <td>4.482667</td>\n",
       "      <td>722</td>\n",
       "      <td>161.064842</td>\n",
       "      <td>8</td>\n",
       "    </tr>\n",
       "    <tr>\n",
       "      <th>4</th>\n",
       "      <td>8</td>\n",
       "      <td>3</td>\n",
       "      <td>9</td>\n",
       "      <td>0.662</td>\n",
       "      <td>0.748</td>\n",
       "      <td>-3.041</td>\n",
       "      <td>0.268</td>\n",
       "      <td>0.68800</td>\n",
       "      <td>0.000008</td>\n",
       "      <td>0.0841</td>\n",
       "      <td>...</td>\n",
       "      <td>82.331</td>\n",
       "      <td>239027</td>\n",
       "      <td>1</td>\n",
       "      <td>0.737900</td>\n",
       "      <td>0.459439</td>\n",
       "      <td>7</td>\n",
       "      <td>3.983783</td>\n",
       "      <td>554</td>\n",
       "      <td>139.063788</td>\n",
       "      <td>0</td>\n",
       "    </tr>\n",
       "  </tbody>\n",
       "</table>\n",
       "<p>5 rows × 21 columns</p>\n",
       "</div>"
      ],
      "text/plain": [
       "   track_popularity  playlist_genre  playlist_subgenre  danceability  energy  \\\n",
       "0                 0               3                 14         0.845   0.652   \n",
       "1                70               3                 23         0.496   0.639   \n",
       "2                52               3                 14         0.764   0.594   \n",
       "3                72               4                  6         0.865   0.657   \n",
       "4                 8               3                  9         0.662   0.748   \n",
       "\n",
       "   loudness  speechiness  acousticness  instrumentalness  liveness  ...  \\\n",
       "0    -7.504        0.216       0.00432          0.007230    0.4890  ...   \n",
       "1    -6.157        0.055       0.28000          0.000000    0.0975  ...   \n",
       "2   -10.050        0.185       0.59100          0.000000    0.1450  ...   \n",
       "3    -6.722        0.076       0.04040          0.000000    0.1400  ...   \n",
       "4    -3.041        0.268       0.68800          0.000008    0.0841  ...   \n",
       "\n",
       "     tempo  duration_ms  Hit or Not  lyrical_subjectivity  lyrical_polarity  \\\n",
       "0  111.904       262467           1              0.460365          0.150858   \n",
       "1  147.764       224720           1              0.609292          0.232474   \n",
       "2   87.261       286441           1              0.590514          0.200076   \n",
       "3  111.115       268960           1              0.409803          0.013691   \n",
       "4   82.331       239027           1              0.737900          0.459439   \n",
       "\n",
       "   repeated_phrases   minutes  word_count  WPM_approx  artist_past_performance  \n",
       "0                 0  4.374450         420   96.012070                        7  \n",
       "1                 0  3.745333         359   95.852617                        0  \n",
       "2                 0  4.774017         634  132.802218                        2  \n",
       "3                 3  4.482667         722  161.064842                        8  \n",
       "4                 7  3.983783         554  139.063788                        0  \n",
       "\n",
       "[5 rows x 21 columns]"
      ]
     },
     "execution_count": 2,
     "metadata": {},
     "output_type": "execute_result"
    }
   ],
   "source": [
    "df = pd.read_csv('data/final_subset.csv')\n",
    "df = df.drop(columns = 'Unnamed: 0')\n",
    "df.head()"
   ]
  },
  {
   "cell_type": "code",
   "execution_count": 3,
   "metadata": {},
   "outputs": [
    {
     "data": {
      "text/plain": [
       "(7358, 21)"
      ]
     },
     "execution_count": 3,
     "metadata": {},
     "output_type": "execute_result"
    }
   ],
   "source": [
    "df.shape"
   ]
  },
  {
   "cell_type": "markdown",
   "metadata": {},
   "source": [
    "## Normalization (If Necessary)"
   ]
  },
  {
   "cell_type": "code",
   "execution_count": 4,
   "metadata": {},
   "outputs": [],
   "source": [
    "def z_score_norm_df(daf):\n",
    "    \"\"\"\n",
    "    A helper function that z-score normalizes the columns of\n",
    "    DataFrame daf and returns those normalized columns in a\n",
    "    new DataFrame df_norm; thus, this does not mutate daf.\n",
    "    \"\"\"\n",
    "    nrows, ncols = daf.shape\n",
    "    cols = list(daf.columns.values)\n",
    "    mat = daf.to_numpy()\n",
    "    mat_norm = np.zeros((nrows, ncols))\n",
    "    for i in range(ncols):\n",
    "        mean = mat[:,i].mean()\n",
    "        std = mat[:,i].std()\n",
    "        mat_norm[:,i] = (mat[:,i] - mean) / std\n",
    "    df_norm = pd.DataFrame(mat_norm, columns = cols)\n",
    "    return df_norm"
   ]
  },
  {
   "cell_type": "code",
   "execution_count": 5,
   "metadata": {},
   "outputs": [],
   "source": [
    "def min_max_norm_df(daf):\n",
    "    \"\"\"\n",
    "    A helper function that min-max normalizes the columns of\n",
    "    DataFrame daf and returns those normalized columns in a\n",
    "    new DataFrame df_norm; thus, this does not mutate daf.\n",
    "    \"\"\"\n",
    "    nrows, ncols = daf.shape\n",
    "    cols = list(daf.columns.values)\n",
    "    mat = daf.to_numpy()\n",
    "    mat_norm = np.zeros((nrows, ncols))\n",
    "    for i in range(ncols):\n",
    "        maximum = np.max(mat[:,i])\n",
    "        minimum = np.min(mat[:,i])\n",
    "        mat_norm[:,i] = (mat[:,i] - minimum) / (maximum - minimum)\n",
    "    df_norm = pd.DataFrame(mat_norm, columns = cols)\n",
    "    return df_norm"
   ]
  },
  {
   "cell_type": "markdown",
   "metadata": {},
   "source": [
    "## Split Data into Training and Test Sets "
   ]
  },
  {
   "cell_type": "code",
   "execution_count": 6,
   "metadata": {},
   "outputs": [],
   "source": [
    "from sklearn.model_selection import train_test_split\n",
    "\n",
    "y = df['Hit or Not']\n",
    "X = df.drop(columns = 'Hit or Not')\n",
    "X_train, X_test, y_train, y_test = train_test_split(X, y, test_size=0.3, random_state=42)"
   ]
  },
  {
   "cell_type": "markdown",
   "metadata": {},
   "source": [
    "# Modelling"
   ]
  },
  {
   "cell_type": "markdown",
   "metadata": {},
   "source": [
    "## Model Imports "
   ]
  },
  {
   "cell_type": "code",
   "execution_count": 7,
   "metadata": {},
   "outputs": [],
   "source": [
    "from sklearn.svm import SVC\n",
    "from sklearn.ensemble import RandomForestClassifier\n",
    "from sklearn.ensemble import GradientBoostingClassifier"
   ]
  },
  {
   "cell_type": "markdown",
   "metadata": {},
   "source": [
    "## Hyperparameter Tuning and Accuracy Metric Imports"
   ]
  },
  {
   "cell_type": "code",
   "execution_count": 8,
   "metadata": {},
   "outputs": [],
   "source": [
    "from sklearn.model_selection import GridSearchCV\n",
    "from sklearn.metrics import plot_confusion_matrix, plot_roc_curve"
   ]
  },
  {
   "cell_type": "markdown",
   "metadata": {},
   "source": [
    "## Support Vector Machine"
   ]
  },
  {
   "cell_type": "markdown",
   "metadata": {},
   "source": [
    "Here, I will try to fit an SVM to the data. I will start by using all the features, and then I will experiment with subsets of features and see how they impact the results."
   ]
  },
  {
   "cell_type": "code",
   "execution_count": 9,
   "metadata": {},
   "outputs": [
    {
     "name": "stdout",
     "output_type": "stream",
     "text": [
      "Fitting 4 folds for each of 160 candidates, totalling 640 fits\n"
     ]
    },
    {
     "name": "stderr",
     "output_type": "stream",
     "text": [
      "[Parallel(n_jobs=-1)]: Using backend LokyBackend with 4 concurrent workers.\n",
      "[Parallel(n_jobs=-1)]: Done  33 tasks      | elapsed:   11.1s\n",
      "[Parallel(n_jobs=-1)]: Done 154 tasks      | elapsed:   43.3s\n",
      "[Parallel(n_jobs=-1)]: Done 357 tasks      | elapsed:  1.6min\n",
      "[Parallel(n_jobs=-1)]: Done 640 out of 640 | elapsed: 10.2min finished\n"
     ]
    },
    {
     "data": {
      "image/png": "[encoded data removed]",
      "text/plain": [
       "<Figure size 432x288 with 2 Axes>"
      ]
     },
     "metadata": {
      "needs_background": "light"
     },
     "output_type": "display_data"
    },
    {
     "data": {
      "image/png": "[encoded data removed]",
      "text/plain": [
       "<Figure size 432x288 with 1 Axes>"
      ]
     },
     "metadata": {
      "needs_background": "light"
     },
     "output_type": "display_data"
    }
   ],
   "source": [
    "X_train_norm = z_score_norm_df(X_train)\n",
    "X_test_norm = z_score_norm_df(X_test)\n",
    "\n",
    "params1 = {'C':[0.01,0.1,1,10,100],\n",
    "          'kernel':['linear', 'poly', 'rbf', 'sigmoid'],\n",
    "          'degree':[2,3,4,5],\n",
    "          'gamma':['scale', 'auto']}\n",
    "\n",
    "svm_clf = SVC()\n",
    "grid_search1 = GridSearchCV(estimator = svm_clf, param_grid = params1, cv = 4, n_jobs = -1, verbose = 2)\n",
    "grid_search1.fit(X_train_norm, y_train)\n",
    "best_grid1 = grid_search1.best_estimator_\n",
    "\n",
    "title = 'Confusion Matrix for the Best SVM'\n",
    "disp = plot_confusion_matrix(best_grid1, X_test_norm, y_test,\n",
    "                                 display_labels=['Not a Hit', 'Hit'],\n",
    "                                 cmap=plt.cm.Blues,\n",
    "                                 normalize = 'true')\n",
    "disp.ax_.set_title(title)\n",
    "roc = plot_roc_curve(best_grid1, X_test_norm, y_test)\n",
    "roc.ax_.set_title('ROC Curve for the Best SVM')\n",
    "plt.plot(np.linspace(0,1,1000), np.linspace(0,1,1000))\n",
    "plt.show()"
   ]
  },
  {
   "cell_type": "code",
   "execution_count": 10,
   "metadata": {},
   "outputs": [
    {
     "data": {
      "text/plain": [
       "{'C': 1, 'degree': 2, 'gamma': 'scale', 'kernel': 'rbf'}"
      ]
     },
     "execution_count": 10,
     "metadata": {},
     "output_type": "execute_result"
    }
   ],
   "source": [
    "grid_search1.best_params_"
   ]
  },
  {
   "cell_type": "markdown",
   "metadata": {},
   "source": [
    "## Random Forest Binary Classification"
   ]
  },
  {
   "cell_type": "markdown",
   "metadata": {},
   "source": [
    "Here, I will try to fit a random forest model to the data. I can be a little more lenient with which features I use since random forest will average the performance of the randomly generated trees based on random sets of features."
   ]
  },
  {
   "cell_type": "code",
   "execution_count": 11,
   "metadata": {},
   "outputs": [
    {
     "name": "stdout",
     "output_type": "stream",
     "text": [
      "Fitting 4 folds for each of 64 candidates, totalling 256 fits\n"
     ]
    },
    {
     "name": "stderr",
     "output_type": "stream",
     "text": [
      "[Parallel(n_jobs=-1)]: Using backend LokyBackend with 4 concurrent workers.\n",
      "[Parallel(n_jobs=-1)]: Done  33 tasks      | elapsed:    7.2s\n",
      "[Parallel(n_jobs=-1)]: Done 154 tasks      | elapsed:   41.0s\n",
      "[Parallel(n_jobs=-1)]: Done 256 out of 256 | elapsed:  1.7min finished\n"
     ]
    },
    {
     "data": {
      "image/png": "[encoded data removed]",
      "text/plain": [
       "<Figure size 432x288 with 2 Axes>"
      ]
     },
     "metadata": {
      "needs_background": "light"
     },
     "output_type": "display_data"
    },
    {
     "data": {
      "image/png": "[encoded data removed]",
      "text/plain": [
       "<Figure size 432x288 with 1 Axes>"
      ]
     },
     "metadata": {
      "needs_background": "light"
     },
     "output_type": "display_data"
    }
   ],
   "source": [
    "params2 = {'bootstrap':[True],\n",
    "         'max_depth':[3,4,5,None],\n",
    "         'max_features':['auto', 6, 8, 10],\n",
    "         'min_samples_leaf':[1],\n",
    "         'min_samples_split':[2],\n",
    "         'n_estimators':[80,110,140,170]}\n",
    "\n",
    "forest_clf = RandomForestClassifier()\n",
    "grid_search2 = GridSearchCV(estimator = forest_clf, param_grid = params2, cv = 4, n_jobs = -1, verbose = 2)\n",
    "grid_search2.fit(X_train, y_train)\n",
    "best_grid2 = grid_search2.best_estimator_\n",
    "\n",
    "title = 'Confusion Matrix for the Best Forest'\n",
    "disp = plot_confusion_matrix(best_grid2, X_test, y_test,\n",
    "                                 display_labels=['Not a Hit', 'Hit'],\n",
    "                                 cmap=plt.cm.Blues,\n",
    "                                 normalize = 'true')\n",
    "disp.ax_.set_title(title)\n",
    "roc = plot_roc_curve(best_grid2, X_test, y_test)\n",
    "roc.ax_.set_title('ROC Curve for the Best Forest')\n",
    "plt.plot(np.linspace(0,1,1000), np.linspace(0,1,1000))\n",
    "plt.show()"
   ]
  },
  {
   "cell_type": "code",
   "execution_count": 12,
   "metadata": {},
   "outputs": [
    {
     "name": "stdout",
     "output_type": "stream",
     "text": [
      "[0.06040526 0.02116721 0.03707313 0.05259318 0.04976363 0.05156013\n",
      " 0.0736256  0.05516017 0.03868139 0.05299179 0.06067767 0.05606813\n",
      " 0.05810052 0.05307563 0.0617572  0.02494037 0.05757919 0.05144104\n",
      " 0.05138378 0.03195498]\n",
      "Index(['track_popularity', 'playlist_genre', 'playlist_subgenre',\n",
      "       'danceability', 'energy', 'loudness', 'speechiness', 'acousticness',\n",
      "       'instrumentalness', 'liveness', 'valence', 'tempo', 'duration_ms',\n",
      "       'lyrical_subjectivity', 'lyrical_polarity', 'repeated_phrases',\n",
      "       'minutes', 'word_count', 'WPM_approx', 'artist_past_performance'],\n",
      "      dtype='object')\n"
     ]
    }
   ],
   "source": [
    "print(best_grid2.feature_importances_)\n",
    "print(X_train.columns)"
   ]
  },
  {
   "cell_type": "code",
   "execution_count": 13,
   "metadata": {},
   "outputs": [
    {
     "data": {
      "text/plain": [
       "{'bootstrap': True,\n",
       " 'max_depth': None,\n",
       " 'max_features': 'auto',\n",
       " 'min_samples_leaf': 1,\n",
       " 'min_samples_split': 2,\n",
       " 'n_estimators': 140}"
      ]
     },
     "execution_count": 13,
     "metadata": {},
     "output_type": "execute_result"
    }
   ],
   "source": [
    "grid_search2.best_params_"
   ]
  },
  {
   "cell_type": "markdown",
   "metadata": {},
   "source": [
    "### Create a Dataset of Incorrectly Classified Songs to see Similarities Between Their Features"
   ]
  },
  {
   "cell_type": "code",
   "execution_count": 14,
   "metadata": {},
   "outputs": [
    {
     "data": {
      "text/html": [
       "<div>\n",
       "<style scoped>\n",
       "    .dataframe tbody tr th:only-of-type {\n",
       "        vertical-align: middle;\n",
       "    }\n",
       "\n",
       "    .dataframe tbody tr th {\n",
       "        vertical-align: top;\n",
       "    }\n",
       "\n",
       "    .dataframe thead th {\n",
       "        text-align: right;\n",
       "    }\n",
       "</style>\n",
       "<table border=\"1\" class=\"dataframe\">\n",
       "  <thead>\n",
       "    <tr style=\"text-align: right;\">\n",
       "      <th></th>\n",
       "      <th>track_popularity</th>\n",
       "      <th>playlist_genre</th>\n",
       "      <th>playlist_subgenre</th>\n",
       "      <th>danceability</th>\n",
       "      <th>energy</th>\n",
       "      <th>loudness</th>\n",
       "      <th>speechiness</th>\n",
       "      <th>acousticness</th>\n",
       "      <th>instrumentalness</th>\n",
       "      <th>liveness</th>\n",
       "      <th>...</th>\n",
       "      <th>tempo</th>\n",
       "      <th>duration_ms</th>\n",
       "      <th>lyrical_subjectivity</th>\n",
       "      <th>lyrical_polarity</th>\n",
       "      <th>repeated_phrases</th>\n",
       "      <th>minutes</th>\n",
       "      <th>word_count</th>\n",
       "      <th>WPM_approx</th>\n",
       "      <th>artist_past_performance</th>\n",
       "      <th>correct</th>\n",
       "    </tr>\n",
       "  </thead>\n",
       "  <tbody>\n",
       "    <tr>\n",
       "      <th>1893</th>\n",
       "      <td>76</td>\n",
       "      <td>2</td>\n",
       "      <td>17</td>\n",
       "      <td>0.459</td>\n",
       "      <td>0.891</td>\n",
       "      <td>-5.057</td>\n",
       "      <td>0.0623</td>\n",
       "      <td>0.00511</td>\n",
       "      <td>0.00000</td>\n",
       "      <td>0.1060</td>\n",
       "      <td>...</td>\n",
       "      <td>154.837</td>\n",
       "      <td>203507</td>\n",
       "      <td>0.531820</td>\n",
       "      <td>0.255952</td>\n",
       "      <td>9</td>\n",
       "      <td>3.391783</td>\n",
       "      <td>668</td>\n",
       "      <td>196.946542</td>\n",
       "      <td>0</td>\n",
       "      <td>True</td>\n",
       "    </tr>\n",
       "    <tr>\n",
       "      <th>4385</th>\n",
       "      <td>80</td>\n",
       "      <td>4</td>\n",
       "      <td>8</td>\n",
       "      <td>0.732</td>\n",
       "      <td>0.627</td>\n",
       "      <td>-5.693</td>\n",
       "      <td>0.1610</td>\n",
       "      <td>0.34600</td>\n",
       "      <td>0.00000</td>\n",
       "      <td>0.2610</td>\n",
       "      <td>...</td>\n",
       "      <td>81.481</td>\n",
       "      <td>135460</td>\n",
       "      <td>0.536957</td>\n",
       "      <td>-0.103011</td>\n",
       "      <td>0</td>\n",
       "      <td>2.257667</td>\n",
       "      <td>405</td>\n",
       "      <td>179.388749</td>\n",
       "      <td>0</td>\n",
       "      <td>True</td>\n",
       "    </tr>\n",
       "    <tr>\n",
       "      <th>6821</th>\n",
       "      <td>35</td>\n",
       "      <td>5</td>\n",
       "      <td>0</td>\n",
       "      <td>0.610</td>\n",
       "      <td>0.825</td>\n",
       "      <td>-9.316</td>\n",
       "      <td>0.0515</td>\n",
       "      <td>0.11700</td>\n",
       "      <td>0.00238</td>\n",
       "      <td>0.1530</td>\n",
       "      <td>...</td>\n",
       "      <td>129.300</td>\n",
       "      <td>176907</td>\n",
       "      <td>0.599333</td>\n",
       "      <td>-0.029333</td>\n",
       "      <td>0</td>\n",
       "      <td>2.948450</td>\n",
       "      <td>259</td>\n",
       "      <td>87.842765</td>\n",
       "      <td>0</td>\n",
       "      <td>True</td>\n",
       "    </tr>\n",
       "    <tr>\n",
       "      <th>6825</th>\n",
       "      <td>6</td>\n",
       "      <td>1</td>\n",
       "      <td>11</td>\n",
       "      <td>0.937</td>\n",
       "      <td>0.565</td>\n",
       "      <td>-10.325</td>\n",
       "      <td>0.0955</td>\n",
       "      <td>0.09440</td>\n",
       "      <td>0.00000</td>\n",
       "      <td>0.0928</td>\n",
       "      <td>...</td>\n",
       "      <td>130.012</td>\n",
       "      <td>165040</td>\n",
       "      <td>0.576539</td>\n",
       "      <td>0.332893</td>\n",
       "      <td>0</td>\n",
       "      <td>2.750667</td>\n",
       "      <td>513</td>\n",
       "      <td>186.500242</td>\n",
       "      <td>0</td>\n",
       "      <td>True</td>\n",
       "    </tr>\n",
       "    <tr>\n",
       "      <th>1669</th>\n",
       "      <td>56</td>\n",
       "      <td>3</td>\n",
       "      <td>9</td>\n",
       "      <td>0.699</td>\n",
       "      <td>0.668</td>\n",
       "      <td>-5.305</td>\n",
       "      <td>0.1060</td>\n",
       "      <td>0.26500</td>\n",
       "      <td>0.00000</td>\n",
       "      <td>0.1410</td>\n",
       "      <td>...</td>\n",
       "      <td>83.074</td>\n",
       "      <td>254467</td>\n",
       "      <td>0.582977</td>\n",
       "      <td>0.107423</td>\n",
       "      <td>0</td>\n",
       "      <td>4.241117</td>\n",
       "      <td>822</td>\n",
       "      <td>193.816880</td>\n",
       "      <td>6</td>\n",
       "      <td>False</td>\n",
       "    </tr>\n",
       "  </tbody>\n",
       "</table>\n",
       "<p>5 rows × 21 columns</p>\n",
       "</div>"
      ],
      "text/plain": [
       "      track_popularity  playlist_genre  playlist_subgenre  danceability  \\\n",
       "1893                76               2                 17         0.459   \n",
       "4385                80               4                  8         0.732   \n",
       "6821                35               5                  0         0.610   \n",
       "6825                 6               1                 11         0.937   \n",
       "1669                56               3                  9         0.699   \n",
       "\n",
       "      energy  loudness  speechiness  acousticness  instrumentalness  liveness  \\\n",
       "1893   0.891    -5.057       0.0623       0.00511           0.00000    0.1060   \n",
       "4385   0.627    -5.693       0.1610       0.34600           0.00000    0.2610   \n",
       "6821   0.825    -9.316       0.0515       0.11700           0.00238    0.1530   \n",
       "6825   0.565   -10.325       0.0955       0.09440           0.00000    0.0928   \n",
       "1669   0.668    -5.305       0.1060       0.26500           0.00000    0.1410   \n",
       "\n",
       "      ...    tempo  duration_ms  lyrical_subjectivity  lyrical_polarity  \\\n",
       "1893  ...  154.837       203507              0.531820          0.255952   \n",
       "4385  ...   81.481       135460              0.536957         -0.103011   \n",
       "6821  ...  129.300       176907              0.599333         -0.029333   \n",
       "6825  ...  130.012       165040              0.576539          0.332893   \n",
       "1669  ...   83.074       254467              0.582977          0.107423   \n",
       "\n",
       "      repeated_phrases   minutes  word_count  WPM_approx  \\\n",
       "1893                 9  3.391783         668  196.946542   \n",
       "4385                 0  2.257667         405  179.388749   \n",
       "6821                 0  2.948450         259   87.842765   \n",
       "6825                 0  2.750667         513  186.500242   \n",
       "1669                 0  4.241117         822  193.816880   \n",
       "\n",
       "      artist_past_performance  correct  \n",
       "1893                        0     True  \n",
       "4385                        0     True  \n",
       "6821                        0     True  \n",
       "6825                        0     True  \n",
       "1669                        6    False  \n",
       "\n",
       "[5 rows x 21 columns]"
      ]
     },
     "execution_count": 14,
     "metadata": {},
     "output_type": "execute_result"
    }
   ],
   "source": [
    "y_pred = best_grid2.predict(X_test)\n",
    "comparison = X_test.copy()\n",
    "comparison['correct'] = (y_pred == y_test.to_numpy())\n",
    "comparison.head()"
   ]
  },
  {
   "cell_type": "code",
   "execution_count": 15,
   "metadata": {},
   "outputs": [
    {
     "name": "stdout",
     "output_type": "stream",
     "text": [
      "(2208, 21) (754, 21)\n"
     ]
    },
    {
     "data": {
      "text/html": [
       "<div>\n",
       "<style scoped>\n",
       "    .dataframe tbody tr th:only-of-type {\n",
       "        vertical-align: middle;\n",
       "    }\n",
       "\n",
       "    .dataframe tbody tr th {\n",
       "        vertical-align: top;\n",
       "    }\n",
       "\n",
       "    .dataframe thead th {\n",
       "        text-align: right;\n",
       "    }\n",
       "</style>\n",
       "<table border=\"1\" class=\"dataframe\">\n",
       "  <thead>\n",
       "    <tr style=\"text-align: right;\">\n",
       "      <th></th>\n",
       "      <th>track_popularity</th>\n",
       "      <th>playlist_genre</th>\n",
       "      <th>playlist_subgenre</th>\n",
       "      <th>danceability</th>\n",
       "      <th>energy</th>\n",
       "      <th>loudness</th>\n",
       "      <th>speechiness</th>\n",
       "      <th>acousticness</th>\n",
       "      <th>instrumentalness</th>\n",
       "      <th>liveness</th>\n",
       "      <th>...</th>\n",
       "      <th>tempo</th>\n",
       "      <th>duration_ms</th>\n",
       "      <th>lyrical_subjectivity</th>\n",
       "      <th>lyrical_polarity</th>\n",
       "      <th>repeated_phrases</th>\n",
       "      <th>minutes</th>\n",
       "      <th>word_count</th>\n",
       "      <th>WPM_approx</th>\n",
       "      <th>artist_past_performance</th>\n",
       "      <th>correct</th>\n",
       "    </tr>\n",
       "  </thead>\n",
       "  <tbody>\n",
       "    <tr>\n",
       "      <th>1669</th>\n",
       "      <td>56</td>\n",
       "      <td>3</td>\n",
       "      <td>9</td>\n",
       "      <td>0.699</td>\n",
       "      <td>0.668</td>\n",
       "      <td>-5.305</td>\n",
       "      <td>0.1060</td>\n",
       "      <td>0.2650</td>\n",
       "      <td>0.000000</td>\n",
       "      <td>0.1410</td>\n",
       "      <td>...</td>\n",
       "      <td>83.074</td>\n",
       "      <td>254467</td>\n",
       "      <td>0.582977</td>\n",
       "      <td>0.107423</td>\n",
       "      <td>0</td>\n",
       "      <td>4.241117</td>\n",
       "      <td>822</td>\n",
       "      <td>193.816880</td>\n",
       "      <td>6</td>\n",
       "      <td>False</td>\n",
       "    </tr>\n",
       "    <tr>\n",
       "      <th>95</th>\n",
       "      <td>38</td>\n",
       "      <td>2</td>\n",
       "      <td>3</td>\n",
       "      <td>0.645</td>\n",
       "      <td>0.578</td>\n",
       "      <td>-6.818</td>\n",
       "      <td>0.0390</td>\n",
       "      <td>0.0171</td>\n",
       "      <td>0.000000</td>\n",
       "      <td>0.0815</td>\n",
       "      <td>...</td>\n",
       "      <td>97.950</td>\n",
       "      <td>181905</td>\n",
       "      <td>0.429514</td>\n",
       "      <td>0.030556</td>\n",
       "      <td>0</td>\n",
       "      <td>3.031750</td>\n",
       "      <td>236</td>\n",
       "      <td>77.842830</td>\n",
       "      <td>0</td>\n",
       "      <td>False</td>\n",
       "    </tr>\n",
       "    <tr>\n",
       "      <th>468</th>\n",
       "      <td>23</td>\n",
       "      <td>2</td>\n",
       "      <td>10</td>\n",
       "      <td>0.281</td>\n",
       "      <td>0.654</td>\n",
       "      <td>-7.765</td>\n",
       "      <td>0.0359</td>\n",
       "      <td>0.2680</td>\n",
       "      <td>0.000478</td>\n",
       "      <td>0.0631</td>\n",
       "      <td>...</td>\n",
       "      <td>172.009</td>\n",
       "      <td>206613</td>\n",
       "      <td>0.748413</td>\n",
       "      <td>-0.236508</td>\n",
       "      <td>0</td>\n",
       "      <td>3.443550</td>\n",
       "      <td>129</td>\n",
       "      <td>37.461341</td>\n",
       "      <td>0</td>\n",
       "      <td>False</td>\n",
       "    </tr>\n",
       "    <tr>\n",
       "      <th>230</th>\n",
       "      <td>60</td>\n",
       "      <td>3</td>\n",
       "      <td>23</td>\n",
       "      <td>0.642</td>\n",
       "      <td>0.284</td>\n",
       "      <td>-15.317</td>\n",
       "      <td>0.0326</td>\n",
       "      <td>0.8450</td>\n",
       "      <td>0.000234</td>\n",
       "      <td>0.1130</td>\n",
       "      <td>...</td>\n",
       "      <td>147.874</td>\n",
       "      <td>310000</td>\n",
       "      <td>0.571739</td>\n",
       "      <td>0.096739</td>\n",
       "      <td>0</td>\n",
       "      <td>5.166667</td>\n",
       "      <td>209</td>\n",
       "      <td>40.451613</td>\n",
       "      <td>0</td>\n",
       "      <td>False</td>\n",
       "    </tr>\n",
       "    <tr>\n",
       "      <th>763</th>\n",
       "      <td>6</td>\n",
       "      <td>3</td>\n",
       "      <td>14</td>\n",
       "      <td>0.783</td>\n",
       "      <td>0.580</td>\n",
       "      <td>-7.398</td>\n",
       "      <td>0.2980</td>\n",
       "      <td>0.0817</td>\n",
       "      <td>0.000000</td>\n",
       "      <td>0.0831</td>\n",
       "      <td>...</td>\n",
       "      <td>93.026</td>\n",
       "      <td>284360</td>\n",
       "      <td>0.303125</td>\n",
       "      <td>0.108854</td>\n",
       "      <td>17</td>\n",
       "      <td>4.739333</td>\n",
       "      <td>646</td>\n",
       "      <td>136.306091</td>\n",
       "      <td>5</td>\n",
       "      <td>False</td>\n",
       "    </tr>\n",
       "  </tbody>\n",
       "</table>\n",
       "<p>5 rows × 21 columns</p>\n",
       "</div>"
      ],
      "text/plain": [
       "      track_popularity  playlist_genre  playlist_subgenre  danceability  \\\n",
       "1669                56               3                  9         0.699   \n",
       "95                  38               2                  3         0.645   \n",
       "468                 23               2                 10         0.281   \n",
       "230                 60               3                 23         0.642   \n",
       "763                  6               3                 14         0.783   \n",
       "\n",
       "      energy  loudness  speechiness  acousticness  instrumentalness  liveness  \\\n",
       "1669   0.668    -5.305       0.1060        0.2650          0.000000    0.1410   \n",
       "95     0.578    -6.818       0.0390        0.0171          0.000000    0.0815   \n",
       "468    0.654    -7.765       0.0359        0.2680          0.000478    0.0631   \n",
       "230    0.284   -15.317       0.0326        0.8450          0.000234    0.1130   \n",
       "763    0.580    -7.398       0.2980        0.0817          0.000000    0.0831   \n",
       "\n",
       "      ...    tempo  duration_ms  lyrical_subjectivity  lyrical_polarity  \\\n",
       "1669  ...   83.074       254467              0.582977          0.107423   \n",
       "95    ...   97.950       181905              0.429514          0.030556   \n",
       "468   ...  172.009       206613              0.748413         -0.236508   \n",
       "230   ...  147.874       310000              0.571739          0.096739   \n",
       "763   ...   93.026       284360              0.303125          0.108854   \n",
       "\n",
       "      repeated_phrases   minutes  word_count  WPM_approx  \\\n",
       "1669                 0  4.241117         822  193.816880   \n",
       "95                   0  3.031750         236   77.842830   \n",
       "468                  0  3.443550         129   37.461341   \n",
       "230                  0  5.166667         209   40.451613   \n",
       "763                 17  4.739333         646  136.306091   \n",
       "\n",
       "      artist_past_performance  correct  \n",
       "1669                        6    False  \n",
       "95                          0    False  \n",
       "468                         0    False  \n",
       "230                         0    False  \n",
       "763                         5    False  \n",
       "\n",
       "[5 rows x 21 columns]"
      ]
     },
     "execution_count": 15,
     "metadata": {},
     "output_type": "execute_result"
    }
   ],
   "source": [
    "incorrect = comparison[comparison['correct'] != True]\n",
    "print(comparison.shape, incorrect.shape)\n",
    "incorrect.head()"
   ]
  },
  {
   "cell_type": "code",
   "execution_count": 16,
   "metadata": {},
   "outputs": [],
   "source": [
    "incorrect.to_csv('data/rf_incorrect.csv')"
   ]
  },
  {
   "cell_type": "markdown",
   "metadata": {},
   "source": [
    "## Gradient Boosted Trees "
   ]
  },
  {
   "cell_type": "code",
   "execution_count": 17,
   "metadata": {},
   "outputs": [
    {
     "name": "stdout",
     "output_type": "stream",
     "text": [
      "Fitting 4 folds for each of 32 candidates, totalling 128 fits\n"
     ]
    },
    {
     "name": "stderr",
     "output_type": "stream",
     "text": [
      "[Parallel(n_jobs=-1)]: Using backend LokyBackend with 4 concurrent workers.\n",
      "[Parallel(n_jobs=-1)]: Done  33 tasks      | elapsed:  2.3min\n",
      "[Parallel(n_jobs=-1)]: Done 128 out of 128 | elapsed:  8.2min finished\n"
     ]
    },
    {
     "data": {
      "image/png": "[encoded data removed]",
      "text/plain": [
       "<Figure size 432x288 with 2 Axes>"
      ]
     },
     "metadata": {
      "needs_background": "light"
     },
     "output_type": "display_data"
    },
    {
     "data": {
      "image/png": "[encoded data removed]",
      "text/plain": [
       "<Figure size 432x288 with 1 Axes>"
      ]
     },
     "metadata": {
      "needs_background": "light"
     },
     "output_type": "display_data"
    }
   ],
   "source": [
    "params3 = {'loss':['deviance', 'exponential'],\n",
    "           'learning_rate':[0.01,0.1,1,10],\n",
    "           'n_estimators':[600,700,800,900]}\n",
    "\n",
    "gbc_clf = GradientBoostingClassifier()\n",
    "grid_search3 = GridSearchCV(estimator = gbc_clf, param_grid = params3, cv = 4, n_jobs = -1, verbose = 2)\n",
    "grid_search3.fit(X_train, y_train)\n",
    "best_grid3 = grid_search3.best_estimator_\n",
    "\n",
    "title = 'Confusion Matrix for the Best GBC'\n",
    "disp = plot_confusion_matrix(best_grid3, X_test, y_test,\n",
    "                                 display_labels=['Not a Hit', 'Hit'],\n",
    "                                 cmap=plt.cm.Blues,\n",
    "                                 normalize = 'true')\n",
    "disp.ax_.set_title(title)\n",
    "roc = plot_roc_curve(best_grid3, X_test, y_test)\n",
    "roc.ax_.set_title('ROC Curve for the Best GBC')\n",
    "plt.plot(np.linspace(0,1,1000), np.linspace(0,1,1000))\n",
    "plt.show()"
   ]
  },
  {
   "cell_type": "code",
   "execution_count": 18,
   "metadata": {},
   "outputs": [
    {
     "name": "stdout",
     "output_type": "stream",
     "text": [
      "[0.06987095 0.01159075 0.03786496 0.04588244 0.03908073 0.04269567\n",
      " 0.09533679 0.04909288 0.0378108  0.05437464 0.06170435 0.06056811\n",
      " 0.05585004 0.05231933 0.07255329 0.0194688  0.05510786 0.04398473\n",
      " 0.0448767  0.04996619]\n",
      "Index(['track_popularity', 'playlist_genre', 'playlist_subgenre',\n",
      "       'danceability', 'energy', 'loudness', 'speechiness', 'acousticness',\n",
      "       'instrumentalness', 'liveness', 'valence', 'tempo', 'duration_ms',\n",
      "       'lyrical_subjectivity', 'lyrical_polarity', 'repeated_phrases',\n",
      "       'minutes', 'word_count', 'WPM_approx', 'artist_past_performance'],\n",
      "      dtype='object')\n"
     ]
    }
   ],
   "source": [
    "print(best_grid3.feature_importances_)\n",
    "print(X_train.columns)"
   ]
  },
  {
   "cell_type": "code",
   "execution_count": 19,
   "metadata": {},
   "outputs": [
    {
     "data": {
      "text/plain": [
       "{'learning_rate': 0.1, 'loss': 'deviance', 'n_estimators': 600}"
      ]
     },
     "execution_count": 19,
     "metadata": {},
     "output_type": "execute_result"
    }
   ],
   "source": [
    "grid_search3.best_params_"
   ]
  }
 ],
 "metadata": {
  "kernelspec": {
   "display_name": "env",
   "language": "python",
   "name": "env"
  },
  "language_info": {
   "codemirror_mode": {
    "name": "ipython",
    "version": 3
   },
   "file_extension": ".py",
   "mimetype": "text/x-python",
   "name": "python",
   "nbconvert_exporter": "python",
   "pygments_lexer": "ipython3",
   "version": "3.8.5"
  }
 },
 "nbformat": 4,
 "nbformat_minor": 4
}
