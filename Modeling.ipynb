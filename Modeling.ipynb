{
 "cells": [
  {
   "cell_type": "code",
   "execution_count": 1,
   "metadata": {},
   "outputs": [],
   "source": [
    "import pandas as pd"
   ]
  },
  {
   "cell_type": "markdown",
   "metadata": {},
   "source": [
    "# SMOTE Models"
   ]
  },
  {
   "cell_type": "code",
   "execution_count": 2,
   "metadata": {},
   "outputs": [],
   "source": [
    "# final_dataset is unbalanced\n",
    "data = pd.read_csv(\"data/final_dataset.csv\", index_col=0)\n",
    "del data['Unnamed: 0.1']"
   ]
  },
  {
   "cell_type": "code",
   "execution_count": 3,
   "metadata": {},
   "outputs": [
    {
     "data": {
      "text/html": [
       "<div>\n",
       "<style scoped>\n",
       "    .dataframe tbody tr th:only-of-type {\n",
       "        vertical-align: middle;\n",
       "    }\n",
       "\n",
       "    .dataframe tbody tr th {\n",
       "        vertical-align: top;\n",
       "    }\n",
       "\n",
       "    .dataframe thead th {\n",
       "        text-align: right;\n",
       "    }\n",
       "</style>\n",
       "<table border=\"1\" class=\"dataframe\">\n",
       "  <thead>\n",
       "    <tr style=\"text-align: right;\">\n",
       "      <th></th>\n",
       "      <th>track_id</th>\n",
       "      <th>track_name</th>\n",
       "      <th>track_artist</th>\n",
       "      <th>lyrics</th>\n",
       "      <th>track_popularity</th>\n",
       "      <th>track_album_id</th>\n",
       "      <th>track_album_name</th>\n",
       "      <th>track_album_release_date</th>\n",
       "      <th>playlist_name</th>\n",
       "      <th>playlist_id</th>\n",
       "      <th>...</th>\n",
       "      <th>language</th>\n",
       "      <th>Hit or Not</th>\n",
       "      <th>lyrical_subjectivity</th>\n",
       "      <th>lyrical_polarity</th>\n",
       "      <th>repeated_phrases</th>\n",
       "      <th>minutes</th>\n",
       "      <th>word_count</th>\n",
       "      <th>WPM_approx</th>\n",
       "      <th>year</th>\n",
       "      <th>artist_past_performance</th>\n",
       "    </tr>\n",
       "  </thead>\n",
       "  <tbody>\n",
       "    <tr>\n",
       "      <th>0</th>\n",
       "      <td>004s3t0ONYlzxII9PLgU6z</td>\n",
       "      <td>I Feel Alive</td>\n",
       "      <td>Steady Rollin</td>\n",
       "      <td>The trees, are singing in the wind The sky blu...</td>\n",
       "      <td>28</td>\n",
       "      <td>3z04Lb9Dsilqw68SHt6jLB</td>\n",
       "      <td>Love &amp; Loss</td>\n",
       "      <td>2017-11-21</td>\n",
       "      <td>Hard Rock Workout</td>\n",
       "      <td>3YouF0u7waJnolytf9JCXf</td>\n",
       "      <td>...</td>\n",
       "      <td>en</td>\n",
       "      <td>0</td>\n",
       "      <td>0.388542</td>\n",
       "      <td>0.214583</td>\n",
       "      <td>0</td>\n",
       "      <td>6.225200</td>\n",
       "      <td>111</td>\n",
       "      <td>17.830752</td>\n",
       "      <td>2017</td>\n",
       "      <td>0</td>\n",
       "    </tr>\n",
       "    <tr>\n",
       "      <th>1</th>\n",
       "      <td>00chLpzhgVjxs1zKC9UScL</td>\n",
       "      <td>Poison</td>\n",
       "      <td>Bell Biv DeVoe</td>\n",
       "      <td>NA Yeah, Spyderman and Freeze in full effect U...</td>\n",
       "      <td>0</td>\n",
       "      <td>6oZ6brjB8x3GoeSYdwJdPc</td>\n",
       "      <td>Gold</td>\n",
       "      <td>2005-01-01</td>\n",
       "      <td>Back in the day - R&amp;B, New Jack Swing, Swingbe...</td>\n",
       "      <td>3a9y4eeCJRmG9p4YKfqYIx</td>\n",
       "      <td>...</td>\n",
       "      <td>en</td>\n",
       "      <td>1</td>\n",
       "      <td>0.460365</td>\n",
       "      <td>0.150858</td>\n",
       "      <td>0</td>\n",
       "      <td>4.374450</td>\n",
       "      <td>420</td>\n",
       "      <td>96.012070</td>\n",
       "      <td>2005</td>\n",
       "      <td>7</td>\n",
       "    </tr>\n",
       "    <tr>\n",
       "      <th>2</th>\n",
       "      <td>00cqd6ZsSkLZqGMlQCR0Zo</td>\n",
       "      <td>Baby It's Cold Outside</td>\n",
       "      <td>CeeLo Green</td>\n",
       "      <td>I really can't stay Baby it's cold outside I'v...</td>\n",
       "      <td>41</td>\n",
       "      <td>3ssspRe42CXkhPxdc12xcp</td>\n",
       "      <td>CeeLo's Magic Moment</td>\n",
       "      <td>2012-10-29</td>\n",
       "      <td>Christmas Soul</td>\n",
       "      <td>6FZYc2BvF7tColxO8PBShV</td>\n",
       "      <td>...</td>\n",
       "      <td>en</td>\n",
       "      <td>0</td>\n",
       "      <td>0.611454</td>\n",
       "      <td>0.113423</td>\n",
       "      <td>0</td>\n",
       "      <td>4.051117</td>\n",
       "      <td>341</td>\n",
       "      <td>84.174322</td>\n",
       "      <td>2012</td>\n",
       "      <td>0</td>\n",
       "    </tr>\n",
       "    <tr>\n",
       "      <th>3</th>\n",
       "      <td>00emjlCv9azBN0fzuuyLqy</td>\n",
       "      <td>Dumb Litty</td>\n",
       "      <td>KARD</td>\n",
       "      <td>Get up out of my business You don't keep me fr...</td>\n",
       "      <td>65</td>\n",
       "      <td>7h5X3xhh3peIK9Y0qI5hbK</td>\n",
       "      <td>KARD 2nd Digital Single ‘Dumb Litty’</td>\n",
       "      <td>2019-09-22</td>\n",
       "      <td>K-Party Dance Mix</td>\n",
       "      <td>37i9dQZF1DX4RDXswvP6Mj</td>\n",
       "      <td>...</td>\n",
       "      <td>en</td>\n",
       "      <td>0</td>\n",
       "      <td>0.570486</td>\n",
       "      <td>-0.442188</td>\n",
       "      <td>2</td>\n",
       "      <td>3.219333</td>\n",
       "      <td>347</td>\n",
       "      <td>107.786291</td>\n",
       "      <td>2019</td>\n",
       "      <td>0</td>\n",
       "    </tr>\n",
       "    <tr>\n",
       "      <th>4</th>\n",
       "      <td>00f9VGHfQhAHMCQ2bSjg3D</td>\n",
       "      <td>Soldier</td>\n",
       "      <td>James TW</td>\n",
       "      <td>Hold your breath, don't look down, keep trying...</td>\n",
       "      <td>70</td>\n",
       "      <td>3GNzXsFbzdwM0WKCZtgeNP</td>\n",
       "      <td>Chapters</td>\n",
       "      <td>2019-04-26</td>\n",
       "      <td>urban contemporary</td>\n",
       "      <td>4WiB26kw0INKwbzfb5M6Tv</td>\n",
       "      <td>...</td>\n",
       "      <td>en</td>\n",
       "      <td>1</td>\n",
       "      <td>0.609292</td>\n",
       "      <td>0.232474</td>\n",
       "      <td>0</td>\n",
       "      <td>3.745333</td>\n",
       "      <td>359</td>\n",
       "      <td>95.852617</td>\n",
       "      <td>2019</td>\n",
       "      <td>0</td>\n",
       "    </tr>\n",
       "  </tbody>\n",
       "</table>\n",
       "<p>5 rows × 34 columns</p>\n",
       "</div>"
      ],
      "text/plain": [
       "                 track_id              track_name    track_artist  \\\n",
       "0  004s3t0ONYlzxII9PLgU6z            I Feel Alive   Steady Rollin   \n",
       "1  00chLpzhgVjxs1zKC9UScL                  Poison  Bell Biv DeVoe   \n",
       "2  00cqd6ZsSkLZqGMlQCR0Zo  Baby It's Cold Outside     CeeLo Green   \n",
       "3  00emjlCv9azBN0fzuuyLqy              Dumb Litty            KARD   \n",
       "4  00f9VGHfQhAHMCQ2bSjg3D                 Soldier        James TW   \n",
       "\n",
       "                                              lyrics  track_popularity  \\\n",
       "0  The trees, are singing in the wind The sky blu...                28   \n",
       "1  NA Yeah, Spyderman and Freeze in full effect U...                 0   \n",
       "2  I really can't stay Baby it's cold outside I'v...                41   \n",
       "3  Get up out of my business You don't keep me fr...                65   \n",
       "4  Hold your breath, don't look down, keep trying...                70   \n",
       "\n",
       "           track_album_id                      track_album_name  \\\n",
       "0  3z04Lb9Dsilqw68SHt6jLB                           Love & Loss   \n",
       "1  6oZ6brjB8x3GoeSYdwJdPc                                  Gold   \n",
       "2  3ssspRe42CXkhPxdc12xcp                  CeeLo's Magic Moment   \n",
       "3  7h5X3xhh3peIK9Y0qI5hbK  KARD 2nd Digital Single ‘Dumb Litty’   \n",
       "4  3GNzXsFbzdwM0WKCZtgeNP                              Chapters   \n",
       "\n",
       "  track_album_release_date                                      playlist_name  \\\n",
       "0               2017-11-21                                  Hard Rock Workout   \n",
       "1               2005-01-01  Back in the day - R&B, New Jack Swing, Swingbe...   \n",
       "2               2012-10-29                                     Christmas Soul   \n",
       "3               2019-09-22                                  K-Party Dance Mix   \n",
       "4               2019-04-26                                 urban contemporary   \n",
       "\n",
       "              playlist_id  ... language Hit or Not  lyrical_subjectivity  \\\n",
       "0  3YouF0u7waJnolytf9JCXf  ...       en          0              0.388542   \n",
       "1  3a9y4eeCJRmG9p4YKfqYIx  ...       en          1              0.460365   \n",
       "2  6FZYc2BvF7tColxO8PBShV  ...       en          0              0.611454   \n",
       "3  37i9dQZF1DX4RDXswvP6Mj  ...       en          0              0.570486   \n",
       "4  4WiB26kw0INKwbzfb5M6Tv  ...       en          1              0.609292   \n",
       "\n",
       "   lyrical_polarity  repeated_phrases   minutes  word_count  WPM_approx  year  \\\n",
       "0          0.214583                 0  6.225200         111   17.830752  2017   \n",
       "1          0.150858                 0  4.374450         420   96.012070  2005   \n",
       "2          0.113423                 0  4.051117         341   84.174322  2012   \n",
       "3         -0.442188                 2  3.219333         347  107.786291  2019   \n",
       "4          0.232474                 0  3.745333         359   95.852617  2019   \n",
       "\n",
       "   artist_past_performance  \n",
       "0                        0  \n",
       "1                        7  \n",
       "2                        0  \n",
       "3                        0  \n",
       "4                        0  \n",
       "\n",
       "[5 rows x 34 columns]"
      ]
     },
     "execution_count": 3,
     "metadata": {},
     "output_type": "execute_result"
    }
   ],
   "source": [
    "data.head()"
   ]
  },
  {
   "cell_type": "code",
   "execution_count": 4,
   "metadata": {},
   "outputs": [
    {
     "data": {
      "text/plain": [
       "False"
      ]
     },
     "execution_count": 4,
     "metadata": {},
     "output_type": "execute_result"
    }
   ],
   "source": [
    "# check for nan values in df\n",
    "data.isna().values.any()"
   ]
  },
  {
   "cell_type": "code",
   "execution_count": 5,
   "metadata": {},
   "outputs": [],
   "source": [
    "# Defining the relevant columns from the dataframe as some are not necessary or useful \n",
    "\n",
    "numerical_columns = ['danceability', 'energy', 'key', 'loudness',\n",
    "           'mode', 'speechiness', 'acousticness', 'instrumentalness', \n",
    "           'liveness', 'valence', 'tempo', \n",
    "           'lyrical_subjectivity', 'lyrical_polarity', \n",
    "           'repeated_phrases', 'minutes', 'word_count', 'WPM_approx', 'artist_past_performance']\n",
    "\n",
    "categorical_columns = ['track_artist', 'playlist_genre', 'playlist_subgenre']\n",
    "\n",
    "target_variable = ['Hit or Not']\n",
    "\n",
    "all_features = ['danceability', 'energy', 'key', 'loudness',\n",
    "           'mode', 'speechiness', 'acousticness', 'instrumentalness', \n",
    "           'liveness', 'valence', 'tempo', \n",
    "           'lyrical_subjectivity', 'lyrical_polarity', \n",
    "           'repeated_phrases', 'minutes', 'word_count', 'WPM_approx',\n",
    "               'track_artist', 'playlist_genre', 'playlist_subgenre']"
   ]
  },
  {
   "cell_type": "code",
   "execution_count": 6,
   "metadata": {},
   "outputs": [],
   "source": [
    "from sklearn import preprocessing\n",
    "import matplotlib.pyplot as plt \n",
    "from sklearn.linear_model import LogisticRegression\n",
    "from sklearn.model_selection import train_test_split\n",
    "import seaborn as sns\n",
    "plt.rc(\"font\", size=14)"
   ]
  },
  {
   "cell_type": "code",
   "execution_count": 7,
   "metadata": {},
   "outputs": [],
   "source": [
    "from sklearn.compose import make_column_transformer\n",
    "from sklearn.preprocessing import RobustScaler\n",
    "from sklearn.preprocessing import OneHotEncoder\n",
    "from sklearn.preprocessing import LabelEncoder"
   ]
  },
  {
   "cell_type": "code",
   "execution_count": 8,
   "metadata": {},
   "outputs": [],
   "source": [
    "# Some of the variables are strings and need to be converted to categoricals (ints) to be machine interpretable\n",
    "le = LabelEncoder()\n",
    "data[categorical_columns] = data[categorical_columns].apply(le.fit_transform)"
   ]
  },
  {
   "cell_type": "code",
   "execution_count": 9,
   "metadata": {},
   "outputs": [
    {
     "data": {
      "text/plain": [
       "False"
      ]
     },
     "execution_count": 9,
     "metadata": {},
     "output_type": "execute_result"
    }
   ],
   "source": [
    "data.isna().values.any()"
   ]
  },
  {
   "cell_type": "code",
   "execution_count": 10,
   "metadata": {},
   "outputs": [],
   "source": [
    "# min-max scaling of numerical features\n",
    "data[numerical_columns]=(data[numerical_columns]-data[numerical_columns].min())/(data[numerical_columns].max()-data[numerical_columns].min())"
   ]
  },
  {
   "cell_type": "code",
   "execution_count": 11,
   "metadata": {},
   "outputs": [
    {
     "data": {
      "text/plain": [
       "False"
      ]
     },
     "execution_count": 11,
     "metadata": {},
     "output_type": "execute_result"
    }
   ],
   "source": [
    "data.isna().values.any()"
   ]
  },
  {
   "cell_type": "code",
   "execution_count": 12,
   "metadata": {},
   "outputs": [],
   "source": [
    "# Define the X and y matrices\n",
    "X = data[all_features]\n",
    "y = data[target_variable]"
   ]
  },
  {
   "cell_type": "code",
   "execution_count": 13,
   "metadata": {},
   "outputs": [
    {
     "data": {
      "text/plain": [
       "(15405, 15405)"
      ]
     },
     "execution_count": 13,
     "metadata": {},
     "output_type": "execute_result"
    }
   ],
   "source": [
    "len(X), len(y)"
   ]
  },
  {
   "cell_type": "code",
   "execution_count": 14,
   "metadata": {},
   "outputs": [],
   "source": [
    "# Split the data into train and test, random state for reproducability\n",
    "X_train, X_test, y_train, y_test = train_test_split(X, y, test_size=0.3, random_state=42)"
   ]
  },
  {
   "cell_type": "code",
   "execution_count": 15,
   "metadata": {},
   "outputs": [],
   "source": [
    "from imblearn.over_sampling import SMOTE"
   ]
  },
  {
   "cell_type": "code",
   "execution_count": 16,
   "metadata": {},
   "outputs": [],
   "source": [
    "# def resample_data(X_train, y_train, target): \n",
    "#     resampling = X_train.copy()\n",
    "#     resampling[target] = y_train.values\n",
    "#     majclass = resampling[resampling[target]==0]\n",
    "#     minclass = resampling[resampling[target]==1]\n",
    "#     return majclass, minclass"
   ]
  },
  {
   "cell_type": "code",
   "execution_count": 17,
   "metadata": {},
   "outputs": [],
   "source": [
    "def upsample(X_train, y_train, ratio=1.0):\n",
    "    # Upsampling using SMOTE\n",
    "    sm = SMOTE(random_state=42, sampling_strategy=ratio)\n",
    "    X_train_sm, y_train_sm = sm.fit_resample(X_train, y_train)\n",
    "    print(len(X_train_sm), len(y_train_sm))\n",
    "    return X_train_sm, y_train_sm"
   ]
  },
  {
   "cell_type": "code",
   "execution_count": 20,
   "metadata": {},
   "outputs": [],
   "source": [
    "# resample_data(X_train, y_train, 'Hit Or Not')"
   ]
  },
  {
   "cell_type": "code",
   "execution_count": 22,
   "metadata": {},
   "outputs": [
    {
     "name": "stdout",
     "output_type": "stream",
     "text": [
      "14325 14325\n"
     ]
    }
   ],
   "source": [
    "X_train_up, y_train_up = upsample(X_train,y_train, ratio = 0.75)"
   ]
  },
  {
   "cell_type": "markdown",
   "metadata": {},
   "source": [
    "## Feature Selection "
   ]
  },
  {
   "cell_type": "code",
   "execution_count": 23,
   "metadata": {},
   "outputs": [],
   "source": [
    "from sklearn.feature_selection import mutual_info_classif"
   ]
  },
  {
   "cell_type": "code",
   "execution_count": 24,
   "metadata": {},
   "outputs": [
    {
     "name": "stderr",
     "output_type": "stream",
     "text": [
      "/usr/local/lib/python3.7/site-packages/sklearn/utils/validation.py:73: DataConversionWarning: A column-vector y was passed when a 1d array was expected. Please change the shape of y to (n_samples, ), for example using ravel().\n",
      "  return f(**kwargs)\n"
     ]
    },
    {
     "data": {
      "text/plain": [
       "array([0.12764596, 0.12395621, 0.21377104, 0.01435135, 0.0979983 ,\n",
       "       0.10535558, 0.05513778, 0.03294038, 0.12593669, 0.11368722,\n",
       "       0.0687057 , 0.05621832, 0.04756767, 0.15676703, 0.03108602,\n",
       "       0.1065448 , 0.01545162, 0.14676644, 0.01376721, 0.03254072])"
      ]
     },
     "execution_count": 24,
     "metadata": {},
     "output_type": "execute_result"
    }
   ],
   "source": [
    "mutual_info_classif(X_train_up, y_train_up ,discrete_features='auto', n_neighbors=5, copy=True, random_state=None)"
   ]
  },
  {
   "cell_type": "code",
   "execution_count": 27,
   "metadata": {},
   "outputs": [
    {
     "name": "stderr",
     "output_type": "stream",
     "text": [
      "/usr/local/lib/python3.7/site-packages/sklearn/linear_model/_logistic.py:764: ConvergenceWarning: lbfgs failed to converge (status=1):\n",
      "STOP: TOTAL NO. of ITERATIONS REACHED LIMIT.\n",
      "\n",
      "Increase the number of iterations (max_iter) or scale the data as shown in:\n",
      "    https://scikit-learn.org/stable/modules/preprocessing.html\n",
      "Please also refer to the documentation for alternative solver options:\n",
      "    https://scikit-learn.org/stable/modules/linear_model.html#logistic-regression\n",
      "  extra_warning_msg=_LOGISTIC_SOLVER_CONVERGENCE_MSG)\n",
      "/usr/local/lib/python3.7/site-packages/sklearn/linear_model/_logistic.py:764: ConvergenceWarning: lbfgs failed to converge (status=1):\n",
      "STOP: TOTAL NO. of ITERATIONS REACHED LIMIT.\n",
      "\n",
      "Increase the number of iterations (max_iter) or scale the data as shown in:\n",
      "    https://scikit-learn.org/stable/modules/preprocessing.html\n",
      "Please also refer to the documentation for alternative solver options:\n",
      "    https://scikit-learn.org/stable/modules/linear_model.html#logistic-regression\n",
      "  extra_warning_msg=_LOGISTIC_SOLVER_CONVERGENCE_MSG)\n",
      "/usr/local/lib/python3.7/site-packages/sklearn/linear_model/_logistic.py:764: ConvergenceWarning: lbfgs failed to converge (status=1):\n",
      "STOP: TOTAL NO. of ITERATIONS REACHED LIMIT.\n",
      "\n",
      "Increase the number of iterations (max_iter) or scale the data as shown in:\n",
      "    https://scikit-learn.org/stable/modules/preprocessing.html\n",
      "Please also refer to the documentation for alternative solver options:\n",
      "    https://scikit-learn.org/stable/modules/linear_model.html#logistic-regression\n",
      "  extra_warning_msg=_LOGISTIC_SOLVER_CONVERGENCE_MSG)\n",
      "/usr/local/lib/python3.7/site-packages/sklearn/linear_model/_logistic.py:764: ConvergenceWarning: lbfgs failed to converge (status=1):\n",
      "STOP: TOTAL NO. of ITERATIONS REACHED LIMIT.\n",
      "\n",
      "Increase the number of iterations (max_iter) or scale the data as shown in:\n",
      "    https://scikit-learn.org/stable/modules/preprocessing.html\n",
      "Please also refer to the documentation for alternative solver options:\n",
      "    https://scikit-learn.org/stable/modules/linear_model.html#logistic-regression\n",
      "  extra_warning_msg=_LOGISTIC_SOLVER_CONVERGENCE_MSG)\n"
     ]
    },
    {
     "name": "stdout",
     "output_type": "stream",
     "text": [
      "[False False False  True False  True False  True False  True False  True\n",
      "  True  True  True  True  True False False False]\n",
      "[ 4  2  6  1  7  1  9  1  3  1  5  1  1  1  1  1  1 11  8 10]\n"
     ]
    }
   ],
   "source": [
    "import numpy as np\n",
    "from sklearn.feature_selection import RFE\n",
    "from sklearn.linear_model import LogisticRegression\n",
    "logreg = LogisticRegression()\n",
    "rfe = RFE(estimator=LogisticRegression(), n_features_to_select=10)\n",
    "rfe = rfe.fit(X_train_up, np.asarray(y_train_up).ravel())\n",
    "print(rfe.support_)\n",
    "print(rfe.ranking_)"
   ]
  },
  {
   "cell_type": "code",
   "execution_count": 30,
   "metadata": {},
   "outputs": [],
   "source": [
    "# select the features selected by RFE\n",
    "f = rfe.get_support(1)\n",
    "X_train_log = X_train_up[X_train_up.columns[f]]\n",
    "X_test_log = X_test[X_test.columns[f]]"
   ]
  },
  {
   "cell_type": "code",
   "execution_count": 33,
   "metadata": {},
   "outputs": [
    {
     "data": {
      "text/html": [
       "<div>\n",
       "<style scoped>\n",
       "    .dataframe tbody tr th:only-of-type {\n",
       "        vertical-align: middle;\n",
       "    }\n",
       "\n",
       "    .dataframe tbody tr th {\n",
       "        vertical-align: top;\n",
       "    }\n",
       "\n",
       "    .dataframe thead th {\n",
       "        text-align: right;\n",
       "    }\n",
       "</style>\n",
       "<table border=\"1\" class=\"dataframe\">\n",
       "  <thead>\n",
       "    <tr style=\"text-align: right;\">\n",
       "      <th></th>\n",
       "      <th>loudness</th>\n",
       "      <th>speechiness</th>\n",
       "      <th>instrumentalness</th>\n",
       "      <th>valence</th>\n",
       "      <th>lyrical_subjectivity</th>\n",
       "      <th>lyrical_polarity</th>\n",
       "      <th>repeated_phrases</th>\n",
       "      <th>minutes</th>\n",
       "      <th>word_count</th>\n",
       "      <th>WPM_approx</th>\n",
       "    </tr>\n",
       "  </thead>\n",
       "  <tbody>\n",
       "    <tr>\n",
       "      <th>0</th>\n",
       "      <td>0.595281</td>\n",
       "      <td>0.016414</td>\n",
       "      <td>0.001345</td>\n",
       "      <td>0.131172</td>\n",
       "      <td>0.610737</td>\n",
       "      <td>0.427226</td>\n",
       "      <td>0.000000</td>\n",
       "      <td>0.421411</td>\n",
       "      <td>0.050557</td>\n",
       "      <td>0.044163</td>\n",
       "    </tr>\n",
       "    <tr>\n",
       "      <th>1</th>\n",
       "      <td>0.854379</td>\n",
       "      <td>0.030706</td>\n",
       "      <td>0.029363</td>\n",
       "      <td>0.268408</td>\n",
       "      <td>0.800000</td>\n",
       "      <td>0.573460</td>\n",
       "      <td>0.015267</td>\n",
       "      <td>0.269900</td>\n",
       "      <td>0.018252</td>\n",
       "      <td>0.023329</td>\n",
       "    </tr>\n",
       "    <tr>\n",
       "      <th>2</th>\n",
       "      <td>0.772034</td>\n",
       "      <td>0.052814</td>\n",
       "      <td>0.000006</td>\n",
       "      <td>0.116035</td>\n",
       "      <td>0.294029</td>\n",
       "      <td>0.489153</td>\n",
       "      <td>0.091603</td>\n",
       "      <td>0.505272</td>\n",
       "      <td>0.155320</td>\n",
       "      <td>0.115552</td>\n",
       "    </tr>\n",
       "    <tr>\n",
       "      <th>3</th>\n",
       "      <td>0.826453</td>\n",
       "      <td>0.089996</td>\n",
       "      <td>0.000005</td>\n",
       "      <td>0.631681</td>\n",
       "      <td>0.510362</td>\n",
       "      <td>0.563565</td>\n",
       "      <td>0.000000</td>\n",
       "      <td>0.467352</td>\n",
       "      <td>0.083957</td>\n",
       "      <td>0.066943</td>\n",
       "    </tr>\n",
       "    <tr>\n",
       "      <th>4</th>\n",
       "      <td>0.881996</td>\n",
       "      <td>0.063756</td>\n",
       "      <td>0.000000</td>\n",
       "      <td>0.396563</td>\n",
       "      <td>0.505696</td>\n",
       "      <td>0.676435</td>\n",
       "      <td>0.122137</td>\n",
       "      <td>0.393570</td>\n",
       "      <td>0.146925</td>\n",
       "      <td>0.135947</td>\n",
       "    </tr>\n",
       "  </tbody>\n",
       "</table>\n",
       "</div>"
      ],
      "text/plain": [
       "   loudness  speechiness  instrumentalness   valence  lyrical_subjectivity  \\\n",
       "0  0.595281     0.016414          0.001345  0.131172              0.610737   \n",
       "1  0.854379     0.030706          0.029363  0.268408              0.800000   \n",
       "2  0.772034     0.052814          0.000006  0.116035              0.294029   \n",
       "3  0.826453     0.089996          0.000005  0.631681              0.510362   \n",
       "4  0.881996     0.063756          0.000000  0.396563              0.505696   \n",
       "\n",
       "   lyrical_polarity  repeated_phrases   minutes  word_count  WPM_approx  \n",
       "0          0.427226          0.000000  0.421411    0.050557    0.044163  \n",
       "1          0.573460          0.015267  0.269900    0.018252    0.023329  \n",
       "2          0.489153          0.091603  0.505272    0.155320    0.115552  \n",
       "3          0.563565          0.000000  0.467352    0.083957    0.066943  \n",
       "4          0.676435          0.122137  0.393570    0.146925    0.135947  "
      ]
     },
     "execution_count": 33,
     "metadata": {},
     "output_type": "execute_result"
    }
   ],
   "source": [
    "# inspecting the features selected\n",
    "X_train_log.head()"
   ]
  },
  {
   "cell_type": "code",
   "execution_count": 35,
   "metadata": {},
   "outputs": [
    {
     "data": {
      "text/plain": [
       "LogisticRegression()"
      ]
     },
     "execution_count": 35,
     "metadata": {},
     "output_type": "execute_result"
    }
   ],
   "source": [
    "logreg = LogisticRegression()\n",
    "logreg.fit(X_train_log, np.asarray(y_train_up).ravel())"
   ]
  },
  {
   "cell_type": "code",
   "execution_count": 37,
   "metadata": {},
   "outputs": [
    {
     "name": "stdout",
     "output_type": "stream",
     "text": [
      "Accuracy of logistic regression classifier on test set: 0.69\n"
     ]
    }
   ],
   "source": [
    "y_pred = logreg.predict(X_test_log)\n",
    "print('Accuracy of logistic regression classifier on test set: {:.2f}'.format(logreg.score(X_test_log, y_test)))"
   ]
  },
  {
   "cell_type": "code",
   "execution_count": 39,
   "metadata": {},
   "outputs": [
    {
     "name": "stdout",
     "output_type": "stream",
     "text": [
      "[[2788  752]\n",
      " [ 683  399]]\n"
     ]
    }
   ],
   "source": [
    "from sklearn.metrics import confusion_matrix\n",
    "confusion_matrix = confusion_matrix(y_test, y_pred)\n",
    "print(confusion_matrix)"
   ]
  },
  {
   "cell_type": "code",
   "execution_count": 40,
   "metadata": {
    "scrolled": true
   },
   "outputs": [
    {
     "data": {
      "image/png": "[encoded data removed]",
      "text/plain": [
       "<Figure size 432x288 with 2 Axes>"
      ]
     },
     "metadata": {
      "needs_background": "light"
     },
     "output_type": "display_data"
    }
   ],
   "source": [
    "from sklearn.metrics import plot_confusion_matrix\n",
    "disp = plot_confusion_matrix(logreg, X_test_log, y_test, display_labels=['Not a Hit', 'Hit'], cmap = plt.cm.Blues, normalize='true')\n"
   ]
  },
  {
   "cell_type": "code",
   "execution_count": 41,
   "metadata": {},
   "outputs": [
    {
     "data": {
      "image/png": "[encoded data removed]",
      "text/plain": [
       "<Figure size 432x288 with 1 Axes>"
      ]
     },
     "metadata": {
      "needs_background": "light"
     },
     "output_type": "display_data"
    }
   ],
   "source": [
    "from sklearn.metrics import roc_auc_score\n",
    "from sklearn.metrics import roc_curve\n",
    "logit_roc_auc = roc_auc_score(y_test, logreg.predict(X_test_log))\n",
    "fpr, tpr, thresholds = roc_curve(y_test, logreg.predict_proba(X_test_log)[:,1])\n",
    "plt.figure()\n",
    "plt.plot(fpr, tpr, label='Logistic Regression (area = %0.2f)' % logit_roc_auc)\n",
    "plt.plot([0, 1], [0, 1],'r--')\n",
    "plt.xlim([0.0, 1.0])\n",
    "plt.ylim([0.0, 1.05])\n",
    "plt.xlabel('False Positive Rate')\n",
    "plt.ylabel('True Positive Rate')\n",
    "plt.title('ROC Curve Logistic Regression with SMOTE')\n",
    "plt.legend(loc=\"lower right\")\n",
    "plt.savefig('Log_ROC')\n",
    "plt.show()"
   ]
  },
  {
   "cell_type": "code",
   "execution_count": 44,
   "metadata": {},
   "outputs": [
    {
     "data": {
      "text/plain": [
       "GridSearchCV(estimator=LogisticRegression(),\n",
       "             param_grid={'C': [0.001, 0.01, 0.1, 1, 10, 100, 1000]})"
      ]
     },
     "execution_count": 44,
     "metadata": {},
     "output_type": "execute_result"
    }
   ],
   "source": [
    "param_grid = {'C': [0.001, 0.01, 0.1, 1, 10, 100, 1000] }\n",
    "clf = GridSearchCV(LogisticRegression(penalty='l2'), param_grid)\n",
    "GridSearchCV(cv=None,\n",
    "             estimator=LogisticRegression(C=1.0, intercept_scaling=1,   \n",
    "               dual=False, fit_intercept=True, penalty='l2', tol=0.0001),\n",
    "             param_grid={'C': [0.001, 0.01, 0.1, 1, 10, 100, 1000]})"
   ]
  },
  {
   "cell_type": "code",
   "execution_count": 50,
   "metadata": {},
   "outputs": [
    {
     "name": "stderr",
     "output_type": "stream",
     "text": [
      "/usr/local/lib/python3.7/site-packages/sklearn/utils/validation.py:73: DataConversionWarning: A column-vector y was passed when a 1d array was expected. Please change the shape of y to (n_samples, ), for example using ravel().\n",
      "  return f(**kwargs)\n",
      "/usr/local/lib/python3.7/site-packages/sklearn/utils/validation.py:73: DataConversionWarning: A column-vector y was passed when a 1d array was expected. Please change the shape of y to (n_samples, ), for example using ravel().\n",
      "  return f(**kwargs)\n",
      "/usr/local/lib/python3.7/site-packages/sklearn/utils/validation.py:73: DataConversionWarning: A column-vector y was passed when a 1d array was expected. Please change the shape of y to (n_samples, ), for example using ravel().\n",
      "  return f(**kwargs)\n",
      "/usr/local/lib/python3.7/site-packages/sklearn/utils/validation.py:73: DataConversionWarning: A column-vector y was passed when a 1d array was expected. Please change the shape of y to (n_samples, ), for example using ravel().\n",
      "  return f(**kwargs)\n",
      "/usr/local/lib/python3.7/site-packages/sklearn/utils/validation.py:73: DataConversionWarning: A column-vector y was passed when a 1d array was expected. Please change the shape of y to (n_samples, ), for example using ravel().\n",
      "  return f(**kwargs)\n",
      "/usr/local/lib/python3.7/site-packages/sklearn/utils/validation.py:73: DataConversionWarning: A column-vector y was passed when a 1d array was expected. Please change the shape of y to (n_samples, ), for example using ravel().\n",
      "  return f(**kwargs)\n",
      "/usr/local/lib/python3.7/site-packages/sklearn/utils/validation.py:73: DataConversionWarning: A column-vector y was passed when a 1d array was expected. Please change the shape of y to (n_samples, ), for example using ravel().\n",
      "  return f(**kwargs)\n",
      "/usr/local/lib/python3.7/site-packages/sklearn/utils/validation.py:73: DataConversionWarning: A column-vector y was passed when a 1d array was expected. Please change the shape of y to (n_samples, ), for example using ravel().\n",
      "  return f(**kwargs)\n",
      "/usr/local/lib/python3.7/site-packages/sklearn/utils/validation.py:73: DataConversionWarning: A column-vector y was passed when a 1d array was expected. Please change the shape of y to (n_samples, ), for example using ravel().\n",
      "  return f(**kwargs)\n",
      "/usr/local/lib/python3.7/site-packages/sklearn/utils/validation.py:73: DataConversionWarning: A column-vector y was passed when a 1d array was expected. Please change the shape of y to (n_samples, ), for example using ravel().\n",
      "  return f(**kwargs)\n",
      "/usr/local/lib/python3.7/site-packages/sklearn/utils/validation.py:73: DataConversionWarning: A column-vector y was passed when a 1d array was expected. Please change the shape of y to (n_samples, ), for example using ravel().\n",
      "  return f(**kwargs)\n",
      "/usr/local/lib/python3.7/site-packages/sklearn/linear_model/_logistic.py:764: ConvergenceWarning: lbfgs failed to converge (status=1):\n",
      "STOP: TOTAL NO. of ITERATIONS REACHED LIMIT.\n",
      "\n",
      "Increase the number of iterations (max_iter) or scale the data as shown in:\n",
      "    https://scikit-learn.org/stable/modules/preprocessing.html\n",
      "Please also refer to the documentation for alternative solver options:\n",
      "    https://scikit-learn.org/stable/modules/linear_model.html#logistic-regression\n",
      "  extra_warning_msg=_LOGISTIC_SOLVER_CONVERGENCE_MSG)\n",
      "/usr/local/lib/python3.7/site-packages/sklearn/utils/validation.py:73: DataConversionWarning: A column-vector y was passed when a 1d array was expected. Please change the shape of y to (n_samples, ), for example using ravel().\n",
      "  return f(**kwargs)\n",
      "/usr/local/lib/python3.7/site-packages/sklearn/linear_model/_logistic.py:764: ConvergenceWarning: lbfgs failed to converge (status=1):\n",
      "STOP: TOTAL NO. of ITERATIONS REACHED LIMIT.\n",
      "\n",
      "Increase the number of iterations (max_iter) or scale the data as shown in:\n",
      "    https://scikit-learn.org/stable/modules/preprocessing.html\n",
      "Please also refer to the documentation for alternative solver options:\n",
      "    https://scikit-learn.org/stable/modules/linear_model.html#logistic-regression\n",
      "  extra_warning_msg=_LOGISTIC_SOLVER_CONVERGENCE_MSG)\n",
      "/usr/local/lib/python3.7/site-packages/sklearn/utils/validation.py:73: DataConversionWarning: A column-vector y was passed when a 1d array was expected. Please change the shape of y to (n_samples, ), for example using ravel().\n",
      "  return f(**kwargs)\n",
      "/usr/local/lib/python3.7/site-packages/sklearn/utils/validation.py:73: DataConversionWarning: A column-vector y was passed when a 1d array was expected. Please change the shape of y to (n_samples, ), for example using ravel().\n",
      "  return f(**kwargs)\n",
      "/usr/local/lib/python3.7/site-packages/sklearn/linear_model/_logistic.py:764: ConvergenceWarning: lbfgs failed to converge (status=1):\n",
      "STOP: TOTAL NO. of ITERATIONS REACHED LIMIT.\n",
      "\n",
      "Increase the number of iterations (max_iter) or scale the data as shown in:\n",
      "    https://scikit-learn.org/stable/modules/preprocessing.html\n",
      "Please also refer to the documentation for alternative solver options:\n",
      "    https://scikit-learn.org/stable/modules/linear_model.html#logistic-regression\n",
      "  extra_warning_msg=_LOGISTIC_SOLVER_CONVERGENCE_MSG)\n",
      "/usr/local/lib/python3.7/site-packages/sklearn/utils/validation.py:73: DataConversionWarning: A column-vector y was passed when a 1d array was expected. Please change the shape of y to (n_samples, ), for example using ravel().\n",
      "  return f(**kwargs)\n",
      "/usr/local/lib/python3.7/site-packages/sklearn/linear_model/_logistic.py:764: ConvergenceWarning: lbfgs failed to converge (status=1):\n",
      "STOP: TOTAL NO. of ITERATIONS REACHED LIMIT.\n",
      "\n",
      "Increase the number of iterations (max_iter) or scale the data as shown in:\n",
      "    https://scikit-learn.org/stable/modules/preprocessing.html\n",
      "Please also refer to the documentation for alternative solver options:\n",
      "    https://scikit-learn.org/stable/modules/linear_model.html#logistic-regression\n",
      "  extra_warning_msg=_LOGISTIC_SOLVER_CONVERGENCE_MSG)\n",
      "/usr/local/lib/python3.7/site-packages/sklearn/utils/validation.py:73: DataConversionWarning: A column-vector y was passed when a 1d array was expected. Please change the shape of y to (n_samples, ), for example using ravel().\n",
      "  return f(**kwargs)\n",
      "/usr/local/lib/python3.7/site-packages/sklearn/utils/validation.py:73: DataConversionWarning: A column-vector y was passed when a 1d array was expected. Please change the shape of y to (n_samples, ), for example using ravel().\n",
      "  return f(**kwargs)\n",
      "/usr/local/lib/python3.7/site-packages/sklearn/linear_model/_logistic.py:764: ConvergenceWarning: lbfgs failed to converge (status=1):\n",
      "STOP: TOTAL NO. of ITERATIONS REACHED LIMIT.\n",
      "\n",
      "Increase the number of iterations (max_iter) or scale the data as shown in:\n",
      "    https://scikit-learn.org/stable/modules/preprocessing.html\n",
      "Please also refer to the documentation for alternative solver options:\n",
      "    https://scikit-learn.org/stable/modules/linear_model.html#logistic-regression\n",
      "  extra_warning_msg=_LOGISTIC_SOLVER_CONVERGENCE_MSG)\n",
      "/usr/local/lib/python3.7/site-packages/sklearn/utils/validation.py:73: DataConversionWarning: A column-vector y was passed when a 1d array was expected. Please change the shape of y to (n_samples, ), for example using ravel().\n",
      "  return f(**kwargs)\n",
      "/usr/local/lib/python3.7/site-packages/sklearn/linear_model/_logistic.py:764: ConvergenceWarning: lbfgs failed to converge (status=1):\n",
      "STOP: TOTAL NO. of ITERATIONS REACHED LIMIT.\n",
      "\n",
      "Increase the number of iterations (max_iter) or scale the data as shown in:\n",
      "    https://scikit-learn.org/stable/modules/preprocessing.html\n",
      "Please also refer to the documentation for alternative solver options:\n",
      "    https://scikit-learn.org/stable/modules/linear_model.html#logistic-regression\n",
      "  extra_warning_msg=_LOGISTIC_SOLVER_CONVERGENCE_MSG)\n",
      "/usr/local/lib/python3.7/site-packages/sklearn/utils/validation.py:73: DataConversionWarning: A column-vector y was passed when a 1d array was expected. Please change the shape of y to (n_samples, ), for example using ravel().\n",
      "  return f(**kwargs)\n",
      "/usr/local/lib/python3.7/site-packages/sklearn/linear_model/_logistic.py:764: ConvergenceWarning: lbfgs failed to converge (status=1):\n",
      "STOP: TOTAL NO. of ITERATIONS REACHED LIMIT.\n",
      "\n",
      "Increase the number of iterations (max_iter) or scale the data as shown in:\n",
      "    https://scikit-learn.org/stable/modules/preprocessing.html\n",
      "Please also refer to the documentation for alternative solver options:\n",
      "    https://scikit-learn.org/stable/modules/linear_model.html#logistic-regression\n",
      "  extra_warning_msg=_LOGISTIC_SOLVER_CONVERGENCE_MSG)\n",
      "/usr/local/lib/python3.7/site-packages/sklearn/utils/validation.py:73: DataConversionWarning: A column-vector y was passed when a 1d array was expected. Please change the shape of y to (n_samples, ), for example using ravel().\n",
      "  return f(**kwargs)\n"
     ]
    },
    {
     "name": "stderr",
     "output_type": "stream",
     "text": [
      "/usr/local/lib/python3.7/site-packages/sklearn/linear_model/_logistic.py:764: ConvergenceWarning: lbfgs failed to converge (status=1):\n",
      "STOP: TOTAL NO. of ITERATIONS REACHED LIMIT.\n",
      "\n",
      "Increase the number of iterations (max_iter) or scale the data as shown in:\n",
      "    https://scikit-learn.org/stable/modules/preprocessing.html\n",
      "Please also refer to the documentation for alternative solver options:\n",
      "    https://scikit-learn.org/stable/modules/linear_model.html#logistic-regression\n",
      "  extra_warning_msg=_LOGISTIC_SOLVER_CONVERGENCE_MSG)\n",
      "/usr/local/lib/python3.7/site-packages/sklearn/utils/validation.py:73: DataConversionWarning: A column-vector y was passed when a 1d array was expected. Please change the shape of y to (n_samples, ), for example using ravel().\n",
      "  return f(**kwargs)\n",
      "/usr/local/lib/python3.7/site-packages/sklearn/utils/validation.py:73: DataConversionWarning: A column-vector y was passed when a 1d array was expected. Please change the shape of y to (n_samples, ), for example using ravel().\n",
      "  return f(**kwargs)\n",
      "/usr/local/lib/python3.7/site-packages/sklearn/linear_model/_logistic.py:764: ConvergenceWarning: lbfgs failed to converge (status=1):\n",
      "STOP: TOTAL NO. of ITERATIONS REACHED LIMIT.\n",
      "\n",
      "Increase the number of iterations (max_iter) or scale the data as shown in:\n",
      "    https://scikit-learn.org/stable/modules/preprocessing.html\n",
      "Please also refer to the documentation for alternative solver options:\n",
      "    https://scikit-learn.org/stable/modules/linear_model.html#logistic-regression\n",
      "  extra_warning_msg=_LOGISTIC_SOLVER_CONVERGENCE_MSG)\n",
      "/usr/local/lib/python3.7/site-packages/sklearn/utils/validation.py:73: DataConversionWarning: A column-vector y was passed when a 1d array was expected. Please change the shape of y to (n_samples, ), for example using ravel().\n",
      "  return f(**kwargs)\n",
      "/usr/local/lib/python3.7/site-packages/sklearn/linear_model/_logistic.py:764: ConvergenceWarning: lbfgs failed to converge (status=1):\n",
      "STOP: TOTAL NO. of ITERATIONS REACHED LIMIT.\n",
      "\n",
      "Increase the number of iterations (max_iter) or scale the data as shown in:\n",
      "    https://scikit-learn.org/stable/modules/preprocessing.html\n",
      "Please also refer to the documentation for alternative solver options:\n",
      "    https://scikit-learn.org/stable/modules/linear_model.html#logistic-regression\n",
      "  extra_warning_msg=_LOGISTIC_SOLVER_CONVERGENCE_MSG)\n",
      "/usr/local/lib/python3.7/site-packages/sklearn/utils/validation.py:73: DataConversionWarning: A column-vector y was passed when a 1d array was expected. Please change the shape of y to (n_samples, ), for example using ravel().\n",
      "  return f(**kwargs)\n",
      "/usr/local/lib/python3.7/site-packages/sklearn/utils/validation.py:73: DataConversionWarning: A column-vector y was passed when a 1d array was expected. Please change the shape of y to (n_samples, ), for example using ravel().\n",
      "  return f(**kwargs)\n",
      "/usr/local/lib/python3.7/site-packages/sklearn/linear_model/_logistic.py:764: ConvergenceWarning: lbfgs failed to converge (status=1):\n",
      "STOP: TOTAL NO. of ITERATIONS REACHED LIMIT.\n",
      "\n",
      "Increase the number of iterations (max_iter) or scale the data as shown in:\n",
      "    https://scikit-learn.org/stable/modules/preprocessing.html\n",
      "Please also refer to the documentation for alternative solver options:\n",
      "    https://scikit-learn.org/stable/modules/linear_model.html#logistic-regression\n",
      "  extra_warning_msg=_LOGISTIC_SOLVER_CONVERGENCE_MSG)\n",
      "/usr/local/lib/python3.7/site-packages/sklearn/utils/validation.py:73: DataConversionWarning: A column-vector y was passed when a 1d array was expected. Please change the shape of y to (n_samples, ), for example using ravel().\n",
      "  return f(**kwargs)\n",
      "/usr/local/lib/python3.7/site-packages/sklearn/linear_model/_logistic.py:764: ConvergenceWarning: lbfgs failed to converge (status=1):\n",
      "STOP: TOTAL NO. of ITERATIONS REACHED LIMIT.\n",
      "\n",
      "Increase the number of iterations (max_iter) or scale the data as shown in:\n",
      "    https://scikit-learn.org/stable/modules/preprocessing.html\n",
      "Please also refer to the documentation for alternative solver options:\n",
      "    https://scikit-learn.org/stable/modules/linear_model.html#logistic-regression\n",
      "  extra_warning_msg=_LOGISTIC_SOLVER_CONVERGENCE_MSG)\n",
      "/usr/local/lib/python3.7/site-packages/sklearn/utils/validation.py:73: DataConversionWarning: A column-vector y was passed when a 1d array was expected. Please change the shape of y to (n_samples, ), for example using ravel().\n",
      "  return f(**kwargs)\n",
      "/usr/local/lib/python3.7/site-packages/sklearn/linear_model/_logistic.py:764: ConvergenceWarning: lbfgs failed to converge (status=1):\n",
      "STOP: TOTAL NO. of ITERATIONS REACHED LIMIT.\n",
      "\n",
      "Increase the number of iterations (max_iter) or scale the data as shown in:\n",
      "    https://scikit-learn.org/stable/modules/preprocessing.html\n",
      "Please also refer to the documentation for alternative solver options:\n",
      "    https://scikit-learn.org/stable/modules/linear_model.html#logistic-regression\n",
      "  extra_warning_msg=_LOGISTIC_SOLVER_CONVERGENCE_MSG)\n",
      "/usr/local/lib/python3.7/site-packages/sklearn/utils/validation.py:73: DataConversionWarning: A column-vector y was passed when a 1d array was expected. Please change the shape of y to (n_samples, ), for example using ravel().\n",
      "  return f(**kwargs)\n",
      "/usr/local/lib/python3.7/site-packages/sklearn/linear_model/_logistic.py:764: ConvergenceWarning: lbfgs failed to converge (status=1):\n",
      "STOP: TOTAL NO. of ITERATIONS REACHED LIMIT.\n",
      "\n",
      "Increase the number of iterations (max_iter) or scale the data as shown in:\n",
      "    https://scikit-learn.org/stable/modules/preprocessing.html\n",
      "Please also refer to the documentation for alternative solver options:\n",
      "    https://scikit-learn.org/stable/modules/linear_model.html#logistic-regression\n",
      "  extra_warning_msg=_LOGISTIC_SOLVER_CONVERGENCE_MSG)\n",
      "/usr/local/lib/python3.7/site-packages/sklearn/utils/validation.py:73: DataConversionWarning: A column-vector y was passed when a 1d array was expected. Please change the shape of y to (n_samples, ), for example using ravel().\n",
      "  return f(**kwargs)\n",
      "/usr/local/lib/python3.7/site-packages/sklearn/utils/validation.py:73: DataConversionWarning: A column-vector y was passed when a 1d array was expected. Please change the shape of y to (n_samples, ), for example using ravel().\n",
      "  return f(**kwargs)\n",
      "/usr/local/lib/python3.7/site-packages/sklearn/linear_model/_logistic.py:764: ConvergenceWarning: lbfgs failed to converge (status=1):\n",
      "STOP: TOTAL NO. of ITERATIONS REACHED LIMIT.\n",
      "\n",
      "Increase the number of iterations (max_iter) or scale the data as shown in:\n",
      "    https://scikit-learn.org/stable/modules/preprocessing.html\n",
      "Please also refer to the documentation for alternative solver options:\n",
      "    https://scikit-learn.org/stable/modules/linear_model.html#logistic-regression\n",
      "  extra_warning_msg=_LOGISTIC_SOLVER_CONVERGENCE_MSG)\n",
      "/usr/local/lib/python3.7/site-packages/sklearn/utils/validation.py:73: DataConversionWarning: A column-vector y was passed when a 1d array was expected. Please change the shape of y to (n_samples, ), for example using ravel().\n",
      "  return f(**kwargs)\n",
      "/usr/local/lib/python3.7/site-packages/sklearn/linear_model/_logistic.py:764: ConvergenceWarning: lbfgs failed to converge (status=1):\n",
      "STOP: TOTAL NO. of ITERATIONS REACHED LIMIT.\n",
      "\n",
      "Increase the number of iterations (max_iter) or scale the data as shown in:\n",
      "    https://scikit-learn.org/stable/modules/preprocessing.html\n",
      "Please also refer to the documentation for alternative solver options:\n",
      "    https://scikit-learn.org/stable/modules/linear_model.html#logistic-regression\n",
      "  extra_warning_msg=_LOGISTIC_SOLVER_CONVERGENCE_MSG)\n",
      "/usr/local/lib/python3.7/site-packages/sklearn/utils/validation.py:73: DataConversionWarning: A column-vector y was passed when a 1d array was expected. Please change the shape of y to (n_samples, ), for example using ravel().\n",
      "  return f(**kwargs)\n",
      "/usr/local/lib/python3.7/site-packages/sklearn/linear_model/_logistic.py:764: ConvergenceWarning: lbfgs failed to converge (status=1):\n",
      "STOP: TOTAL NO. of ITERATIONS REACHED LIMIT.\n",
      "\n",
      "Increase the number of iterations (max_iter) or scale the data as shown in:\n",
      "    https://scikit-learn.org/stable/modules/preprocessing.html\n",
      "Please also refer to the documentation for alternative solver options:\n",
      "    https://scikit-learn.org/stable/modules/linear_model.html#logistic-regression\n",
      "  extra_warning_msg=_LOGISTIC_SOLVER_CONVERGENCE_MSG)\n",
      "/usr/local/lib/python3.7/site-packages/sklearn/utils/validation.py:73: DataConversionWarning: A column-vector y was passed when a 1d array was expected. Please change the shape of y to (n_samples, ), for example using ravel().\n",
      "  return f(**kwargs)\n"
     ]
    },
    {
     "name": "stderr",
     "output_type": "stream",
     "text": [
      "/usr/local/lib/python3.7/site-packages/sklearn/linear_model/_logistic.py:764: ConvergenceWarning: lbfgs failed to converge (status=1):\n",
      "STOP: TOTAL NO. of ITERATIONS REACHED LIMIT.\n",
      "\n",
      "Increase the number of iterations (max_iter) or scale the data as shown in:\n",
      "    https://scikit-learn.org/stable/modules/preprocessing.html\n",
      "Please also refer to the documentation for alternative solver options:\n",
      "    https://scikit-learn.org/stable/modules/linear_model.html#logistic-regression\n",
      "  extra_warning_msg=_LOGISTIC_SOLVER_CONVERGENCE_MSG)\n",
      "/usr/local/lib/python3.7/site-packages/sklearn/utils/validation.py:73: DataConversionWarning: A column-vector y was passed when a 1d array was expected. Please change the shape of y to (n_samples, ), for example using ravel().\n",
      "  return f(**kwargs)\n",
      "/usr/local/lib/python3.7/site-packages/sklearn/linear_model/_logistic.py:764: ConvergenceWarning: lbfgs failed to converge (status=1):\n",
      "STOP: TOTAL NO. of ITERATIONS REACHED LIMIT.\n",
      "\n",
      "Increase the number of iterations (max_iter) or scale the data as shown in:\n",
      "    https://scikit-learn.org/stable/modules/preprocessing.html\n",
      "Please also refer to the documentation for alternative solver options:\n",
      "    https://scikit-learn.org/stable/modules/linear_model.html#logistic-regression\n",
      "  extra_warning_msg=_LOGISTIC_SOLVER_CONVERGENCE_MSG)\n",
      "/usr/local/lib/python3.7/site-packages/sklearn/utils/validation.py:73: DataConversionWarning: A column-vector y was passed when a 1d array was expected. Please change the shape of y to (n_samples, ), for example using ravel().\n",
      "  return f(**kwargs)\n",
      "/usr/local/lib/python3.7/site-packages/sklearn/utils/validation.py:73: DataConversionWarning: A column-vector y was passed when a 1d array was expected. Please change the shape of y to (n_samples, ), for example using ravel().\n",
      "  return f(**kwargs)\n",
      "/usr/local/lib/python3.7/site-packages/sklearn/linear_model/_logistic.py:764: ConvergenceWarning: lbfgs failed to converge (status=1):\n",
      "STOP: TOTAL NO. of ITERATIONS REACHED LIMIT.\n",
      "\n",
      "Increase the number of iterations (max_iter) or scale the data as shown in:\n",
      "    https://scikit-learn.org/stable/modules/preprocessing.html\n",
      "Please also refer to the documentation for alternative solver options:\n",
      "    https://scikit-learn.org/stable/modules/linear_model.html#logistic-regression\n",
      "  extra_warning_msg=_LOGISTIC_SOLVER_CONVERGENCE_MSG)\n"
     ]
    },
    {
     "data": {
      "text/plain": [
       "LogisticRegression(C=100)"
      ]
     },
     "execution_count": 50,
     "metadata": {},
     "output_type": "execute_result"
    }
   ],
   "source": [
    "best_clf = clf.fit(X_train_up, y_train_up)\n",
    "best_clf.best_estimator_"
   ]
  },
  {
   "cell_type": "code",
   "execution_count": 51,
   "metadata": {},
   "outputs": [
    {
     "data": {
      "text/plain": [
       "LogisticRegression(C=100)"
      ]
     },
     "execution_count": 51,
     "metadata": {},
     "output_type": "execute_result"
    }
   ],
   "source": [
    "logreg2 = LogisticRegression(C=100)\n",
    "logreg2.fit(X_train_log, np.asarray(y_train_up).ravel())"
   ]
  },
  {
   "cell_type": "code",
   "execution_count": 55,
   "metadata": {},
   "outputs": [
    {
     "name": "stdout",
     "output_type": "stream",
     "text": [
      "Accuracy of logistic regression classifier on test set: 0.69\n"
     ]
    }
   ],
   "source": [
    "y_pred = logreg2.predict(X_test_log)\n",
    "print('Accuracy of logistic regression classifier on test set: {:.2f}'.format(logreg2.score(X_test_log, y_test)))"
   ]
  },
  {
   "cell_type": "code",
   "execution_count": 56,
   "metadata": {},
   "outputs": [
    {
     "data": {
      "image/png": "[encoded data removed]",
      "text/plain": [
       "<Figure size 432x288 with 2 Axes>"
      ]
     },
     "metadata": {
      "needs_background": "light"
     },
     "output_type": "display_data"
    }
   ],
   "source": [
    "from sklearn.metrics import plot_confusion_matrix\n",
    "disp = plot_confusion_matrix(logreg2, X_test_log, y_test, display_labels=['Not a Hit', 'Hit'], cmap = plt.cm.Blues, normalize='true')\n"
   ]
  },
  {
   "cell_type": "code",
   "execution_count": 57,
   "metadata": {},
   "outputs": [
    {
     "data": {
      "image/png": "[encoded data removed]",
      "text/plain": [
       "<Figure size 432x288 with 1 Axes>"
      ]
     },
     "metadata": {
      "needs_background": "light"
     },
     "output_type": "display_data"
    }
   ],
   "source": [
    "logit_roc_auc = roc_auc_score(y_test, logreg2.predict(X_test_log))\n",
    "fpr, tpr, thresholds = roc_curve(y_test, logreg2.predict_proba(X_test_log)[:,1])\n",
    "plt.figure()\n",
    "plt.plot(fpr, tpr, label='Logistic Regression (area = %0.2f)' % logit_roc_auc)\n",
    "plt.plot([0, 1], [0, 1],'r--')\n",
    "plt.xlim([0.0, 1.0])\n",
    "plt.ylim([0.0, 1.05])\n",
    "plt.xlabel('False Positive Rate')\n",
    "plt.ylabel('True Positive Rate')\n",
    "plt.title('ROC Curve Logistic Regression with SMOTE, tuned')\n",
    "plt.legend(loc=\"lower right\")\n",
    "plt.savefig('Log_ROC')\n",
    "plt.show()"
   ]
  },
  {
   "cell_type": "markdown",
   "metadata": {},
   "source": [
    "# Bagging Classifier"
   ]
  },
  {
   "cell_type": "code",
   "execution_count": 58,
   "metadata": {},
   "outputs": [
    {
     "name": "stderr",
     "output_type": "stream",
     "text": [
      "/usr/local/lib/python3.7/site-packages/sklearn/utils/validation.py:73: DataConversionWarning: A column-vector y was passed when a 1d array was expected. Please change the shape of y to (n_samples, ), for example using ravel().\n",
      "  return f(**kwargs)\n"
     ]
    }
   ],
   "source": [
    "from sklearn.svm import SVC\n",
    "from sklearn.ensemble import BaggingClassifier\n",
    "from sklearn.datasets import make_classification\n",
    "clf = BaggingClassifier(base_estimator=SVC(),\n",
    "                        n_estimators=10, random_state=0).fit(X_train_up, y_train_up)\n",
    "y_pred = clf.predict(X_test)"
   ]
  },
  {
   "cell_type": "code",
   "execution_count": 61,
   "metadata": {},
   "outputs": [
    {
     "data": {
      "text/plain": [
       "0.7659022068368672"
      ]
     },
     "execution_count": 61,
     "metadata": {},
     "output_type": "execute_result"
    }
   ],
   "source": [
    "from sklearn.metrics import accuracy_score\n",
    "accuracy_score(y_test, y_pred)"
   ]
  },
  {
   "cell_type": "code",
   "execution_count": 62,
   "metadata": {
    "scrolled": false
   },
   "outputs": [
    {
     "data": {
      "image/png": "[encoded data removed]",
      "text/plain": [
       "<Figure size 432x288 with 2 Axes>"
      ]
     },
     "metadata": {
      "needs_background": "light"
     },
     "output_type": "display_data"
    }
   ],
   "source": [
    "disp = plot_confusion_matrix(clf, X_test, y_test, display_labels=['Not a Hit', 'Hit'], cmap = plt.cm.Blues, normalize='true')\n"
   ]
  },
  {
   "cell_type": "code",
   "execution_count": 58,
   "metadata": {},
   "outputs": [
    {
     "name": "stderr",
     "output_type": "stream",
     "text": [
      "/usr/local/lib/python3.7/site-packages/sklearn/utils/validation.py:73: DataConversionWarning: A column-vector y was passed when a 1d array was expected. Please change the shape of y to (n_samples, ), for example using ravel().\n",
      "  return f(**kwargs)\n"
     ]
    }
   ],
   "source": [
    "from sklearn.svm import SVC\n",
    "from sklearn.ensemble import BaggingClassifier\n",
    "from sklearn.datasets import make_classification\n",
    "clf = BaggingClassifier(base_estimator=SVC(),\n",
    "                        n_estimators=10, random_state=0).fit(X_train_up, y_train_up)\n",
    "y_pred = clf.predict(X_test)"
   ]
  },
  {
   "cell_type": "code",
   "execution_count": 61,
   "metadata": {},
   "outputs": [
    {
     "data": {
      "text/plain": [
       "0.7659022068368672"
      ]
     },
     "execution_count": 61,
     "metadata": {},
     "output_type": "execute_result"
    }
   ],
   "source": [
    "from sklearn.metrics import accuracy_score\n",
    "accuracy_score(y_test, y_pred)"
   ]
  },
  {
   "cell_type": "code",
   "execution_count": 62,
   "metadata": {
    "scrolled": true
   },
   "outputs": [
    {
     "data": {
      "image/png": "[encoded data removed]",
      "text/plain": [
       "<Figure size 432x288 with 2 Axes>"
      ]
     },
     "metadata": {
      "needs_background": "light"
     },
     "output_type": "display_data"
    }
   ],
   "source": [
    "disp = plot_confusion_matrix(clf, X_test, y_test, display_labels=['Not a Hit', 'Hit'], cmap = plt.cm.Blues, normalize='true')\n"
   ]
  },
  {
   "cell_type": "code",
   "execution_count": 76,
   "metadata": {},
   "outputs": [],
   "source": [
    "# model = BaggingClassifier()\n",
    "# # evaluate the model\n",
    "# cv = RepeatedStratifiedKFold(n_splits=10, n_repeats=3, random_state=1)\n",
    "# n_scores = cross_val_score(model, X, y, scoring='accuracy', cv=cv, n_jobs=-1, error_score='raise')\n",
    "# # report performance\n",
    "# print('Accuracy: %.3f (%.3f)' % (mean(n_scores), std(n_scores)))"
   ]
  },
  {
   "cell_type": "markdown",
   "metadata": {},
   "source": [
    "## Fully Connected NN"
   ]
  },
  {
   "cell_type": "code",
   "execution_count": 77,
   "metadata": {},
   "outputs": [],
   "source": [
    "import tensorflow as tf\n",
    "from tensorflow import keras\n",
    "import sklearn.model_selection\n",
    "import sklearn.metrics\n",
    "import sklearn.neural_network"
   ]
  },
  {
   "cell_type": "code",
   "execution_count": 80,
   "metadata": {},
   "outputs": [],
   "source": [
    "model = keras.Sequential([\n",
    "    keras.layers.Flatten(input_shape=(20,)),\n",
    "\n",
    "    keras.layers.Dense(11, activation=tf.nn.relu, kernel_initializer='normal'),\n",
    "\n",
    "    keras.layers.Dense(1, activation=tf.nn.sigmoid),\n",
    "])\n",
    "# RMS prop, sigmoid for final"
   ]
  },
  {
   "cell_type": "code",
   "execution_count": 84,
   "metadata": {
    "scrolled": true
   },
   "outputs": [
    {
     "name": "stdout",
     "output_type": "stream",
     "text": [
      "Epoch 1/50\n",
      "115/115 [==============================] - 0s 2ms/step - loss: 0.8817 - accuracy: 0.6613 - val_loss: 1.4436 - val_accuracy: 0.0000e+00\n",
      "Epoch 2/50\n",
      "115/115 [==============================] - 0s 2ms/step - loss: 0.6273 - accuracy: 0.6910 - val_loss: 1.6584 - val_accuracy: 0.0000e+00\n",
      "Epoch 3/50\n",
      "115/115 [==============================] - 0s 2ms/step - loss: 0.6111 - accuracy: 0.7011 - val_loss: 2.1973 - val_accuracy: 0.0000e+00\n",
      "Epoch 4/50\n",
      "115/115 [==============================] - 0s 2ms/step - loss: 0.6137 - accuracy: 0.6937 - val_loss: 2.8965 - val_accuracy: 0.0000e+00\n",
      "Epoch 5/50\n",
      "115/115 [==============================] - 0s 2ms/step - loss: 0.6347 - accuracy: 0.6872 - val_loss: 0.8746 - val_accuracy: 0.1784\n",
      "Epoch 6/50\n",
      "115/115 [==============================] - 0s 1ms/step - loss: 0.6766 - accuracy: 0.6703 - val_loss: 1.1566 - val_accuracy: 0.0017\n",
      "Epoch 7/50\n",
      "115/115 [==============================] - 0s 1ms/step - loss: 0.6101 - accuracy: 0.6965 - val_loss: 1.2671 - val_accuracy: 0.0000e+00\n",
      "Epoch 8/50\n",
      "115/115 [==============================] - 0s 2ms/step - loss: 0.6345 - accuracy: 0.6901 - val_loss: 1.2231 - val_accuracy: 0.0000e+00\n",
      "Epoch 9/50\n",
      "115/115 [==============================] - 0s 2ms/step - loss: 0.6293 - accuracy: 0.6883 - val_loss: 0.6459 - val_accuracy: 0.6415\n",
      "Epoch 10/50\n",
      "115/115 [==============================] - 0s 2ms/step - loss: 0.6183 - accuracy: 0.6956 - val_loss: 1.8129 - val_accuracy: 0.0000e+00\n",
      "Epoch 11/50\n",
      "115/115 [==============================] - 0s 3ms/step - loss: 0.6532 - accuracy: 0.6806 - val_loss: 1.1021 - val_accuracy: 0.0087\n",
      "Epoch 12/50\n",
      "115/115 [==============================] - 0s 4ms/step - loss: 0.6078 - accuracy: 0.6922 - val_loss: 0.6274 - val_accuracy: 0.6600\n",
      "Epoch 13/50\n",
      "115/115 [==============================] - 0s 2ms/step - loss: 0.6257 - accuracy: 0.6881 - val_loss: 0.9823 - val_accuracy: 0.1623\n",
      "Epoch 14/50\n",
      "115/115 [==============================] - 0s 2ms/step - loss: 0.6353 - accuracy: 0.6828 - val_loss: 0.6438 - val_accuracy: 0.6370\n",
      "Epoch 15/50\n",
      "115/115 [==============================] - 0s 3ms/step - loss: 0.6862 - accuracy: 0.6789 - val_loss: 1.4151 - val_accuracy: 6.9808e-04\n",
      "Epoch 16/50\n",
      "115/115 [==============================] - 0s 2ms/step - loss: 0.6734 - accuracy: 0.6688 - val_loss: 0.8136 - val_accuracy: 0.3271\n",
      "Epoch 17/50\n",
      "115/115 [==============================] - 0s 4ms/step - loss: 0.6720 - accuracy: 0.6715 - val_loss: 2.8441 - val_accuracy: 0.0000e+00\n",
      "Epoch 18/50\n",
      "115/115 [==============================] - 0s 3ms/step - loss: 0.6266 - accuracy: 0.6887 - val_loss: 0.9749 - val_accuracy: 0.0953\n",
      "Epoch 19/50\n",
      "115/115 [==============================] - 0s 2ms/step - loss: 0.6066 - accuracy: 0.6949 - val_loss: 0.5902 - val_accuracy: 0.6866\n",
      "Epoch 20/50\n",
      "115/115 [==============================] - 0s 3ms/step - loss: 0.6173 - accuracy: 0.6833 - val_loss: 1.6754 - val_accuracy: 0.0000e+00\n",
      "Epoch 21/50\n",
      "115/115 [==============================] - 0s 2ms/step - loss: 0.6508 - accuracy: 0.6784 - val_loss: 0.7457 - val_accuracy: 0.5002\n",
      "Epoch 22/50\n",
      "115/115 [==============================] - 0s 1ms/step - loss: 0.6382 - accuracy: 0.6845 - val_loss: 2.1524 - val_accuracy: 3.4904e-04\n",
      "Epoch 23/50\n",
      "115/115 [==============================] - 0s 2ms/step - loss: 0.6149 - accuracy: 0.6949 - val_loss: 2.3107 - val_accuracy: 0.0000e+00\n",
      "Epoch 24/50\n",
      "115/115 [==============================] - 0s 1ms/step - loss: 0.6377 - accuracy: 0.6813 - val_loss: 0.7774 - val_accuracy: 0.4244\n",
      "Epoch 25/50\n",
      "115/115 [==============================] - 0s 2ms/step - loss: 0.6504 - accuracy: 0.6787 - val_loss: 0.6740 - val_accuracy: 0.5822\n",
      "Epoch 26/50\n",
      "115/115 [==============================] - 0s 2ms/step - loss: 0.6626 - accuracy: 0.6870 - val_loss: 0.7345 - val_accuracy: 0.4953\n",
      "Epoch 27/50\n",
      "115/115 [==============================] - 0s 2ms/step - loss: 0.6044 - accuracy: 0.6978 - val_loss: 0.8534 - val_accuracy: 0.2771\n",
      "Epoch 28/50\n",
      "115/115 [==============================] - 0s 2ms/step - loss: 0.6121 - accuracy: 0.6964 - val_loss: 1.6070 - val_accuracy: 0.0000e+00\n",
      "Epoch 29/50\n",
      "115/115 [==============================] - 0s 1ms/step - loss: 0.6127 - accuracy: 0.6918 - val_loss: 1.9408 - val_accuracy: 0.0000e+00\n",
      "Epoch 30/50\n",
      "115/115 [==============================] - 0s 2ms/step - loss: 0.6554 - accuracy: 0.6769 - val_loss: 1.9278 - val_accuracy: 3.4904e-04\n",
      "Epoch 31/50\n",
      "115/115 [==============================] - 0s 3ms/step - loss: 0.6133 - accuracy: 0.6959 - val_loss: 1.5460 - val_accuracy: 0.0000e+00\n",
      "Epoch 32/50\n",
      "115/115 [==============================] - 0s 3ms/step - loss: 0.6043 - accuracy: 0.6984 - val_loss: 1.7283 - val_accuracy: 0.0000e+00\n",
      "Epoch 33/50\n",
      "115/115 [==============================] - 1s 5ms/step - loss: 0.6652 - accuracy: 0.6776 - val_loss: 1.3045 - val_accuracy: 0.0028\n",
      "Epoch 34/50\n",
      "115/115 [==============================] - 0s 4ms/step - loss: 0.6130 - accuracy: 0.6919 - val_loss: 1.1596 - val_accuracy: 0.0108\n",
      "Epoch 35/50\n",
      "115/115 [==============================] - 0s 3ms/step - loss: 0.6097 - accuracy: 0.6910 - val_loss: 1.7023 - val_accuracy: 0.0000e+00\n",
      "Epoch 36/50\n",
      "115/115 [==============================] - 0s 2ms/step - loss: 0.5980 - accuracy: 0.7058 - val_loss: 1.3300 - val_accuracy: 0.0010\n",
      "Epoch 37/50\n",
      "115/115 [==============================] - 0s 2ms/step - loss: 0.6099 - accuracy: 0.6940 - val_loss: 1.6069 - val_accuracy: 0.0000e+00\n",
      "Epoch 38/50\n",
      "115/115 [==============================] - 0s 2ms/step - loss: 0.6271 - accuracy: 0.6882 - val_loss: 2.2001 - val_accuracy: 0.0000e+00\n",
      "Epoch 39/50\n",
      "115/115 [==============================] - 0s 3ms/step - loss: 0.6420 - accuracy: 0.6828 - val_loss: 1.5794 - val_accuracy: 0.0000e+00\n",
      "Epoch 40/50\n",
      "115/115 [==============================] - 0s 2ms/step - loss: 0.6416 - accuracy: 0.6821 - val_loss: 2.2352 - val_accuracy: 0.0000e+00\n",
      "Epoch 41/50\n",
      "115/115 [==============================] - 1s 5ms/step - loss: 0.6064 - accuracy: 0.6976 - val_loss: 0.5622 - val_accuracy: 0.6963\n",
      "Epoch 42/50\n",
      "115/115 [==============================] - 0s 4ms/step - loss: 0.6811 - accuracy: 0.6716 - val_loss: 1.7676 - val_accuracy: 6.9808e-04\n",
      "Epoch 43/50\n",
      "115/115 [==============================] - 0s 2ms/step - loss: 0.5952 - accuracy: 0.7017 - val_loss: 0.8921 - val_accuracy: 0.2262\n",
      "Epoch 44/50\n",
      "115/115 [==============================] - 0s 3ms/step - loss: 0.6109 - accuracy: 0.6931 - val_loss: 1.1810 - val_accuracy: 0.0129\n",
      "Epoch 45/50\n",
      "115/115 [==============================] - 1s 5ms/step - loss: 0.7417 - accuracy: 0.6697 - val_loss: 0.4807 - val_accuracy: 0.7710\n",
      "Epoch 46/50\n",
      "115/115 [==============================] - 0s 2ms/step - loss: 0.6259 - accuracy: 0.6923 - val_loss: 1.0843 - val_accuracy: 0.0346\n",
      "Epoch 47/50\n",
      "115/115 [==============================] - 0s 2ms/step - loss: 0.6119 - accuracy: 0.6935 - val_loss: 1.0060 - val_accuracy: 0.0778\n",
      "Epoch 48/50\n",
      "115/115 [==============================] - 0s 2ms/step - loss: 0.6065 - accuracy: 0.6922 - val_loss: 0.9517 - val_accuracy: 0.1592\n",
      "Epoch 49/50\n",
      "115/115 [==============================] - 0s 2ms/step - loss: 0.6011 - accuracy: 0.6976 - val_loss: 1.0228 - val_accuracy: 0.0635\n",
      "Epoch 50/50\n",
      "115/115 [==============================] - 0s 2ms/step - loss: 0.5985 - accuracy: 0.7010 - val_loss: 2.3346 - val_accuracy: 0.0000e+00\n",
      "145/145 [==============================] - 0s 1ms/step - loss: 0.6480 - accuracy: 0.7655\n"
     ]
    }
   ],
   "source": [
    "# run with diff LR\n",
    "opt = keras.optimizers.Adam(lr = 0.001)\n",
    "model.compile(optimizer=opt,\n",
    "              loss='binary_crossentropy',\n",
    "              metrics=['accuracy'])\n",
    "\n",
    "hist = model.fit(X_train_up, y_train_up, epochs=50, batch_size=100, validation_split = 0.3)\n",
    "test_loss, test_acc = model.evaluate(X_test, y_test)"
   ]
  },
  {
   "cell_type": "code",
   "execution_count": 85,
   "metadata": {},
   "outputs": [
    {
     "data": {
      "text/plain": [
       "0.765469491481781"
      ]
     },
     "execution_count": 85,
     "metadata": {},
     "output_type": "execute_result"
    }
   ],
   "source": [
    "test_acc"
   ]
  },
  {
   "cell_type": "code",
   "execution_count": 87,
   "metadata": {},
   "outputs": [
    {
     "data": {
      "image/png": "[encoded data removed]",
      "text/plain": [
       "<Figure size 432x288 with 1 Axes>"
      ]
     },
     "metadata": {
      "needs_background": "light"
     },
     "output_type": "display_data"
    }
   ],
   "source": [
    "plt.plot(hist.history['accuracy'])\n",
    "plt.plot(hist.history['val_accuracy'])\n",
    "plt.title('Fully Connected Neural Network Loss')\n",
    "plt.ylabel('accuracy')\n",
    "plt.xlabel('epoch')\n",
    "plt.legend(['train', 'validation'], loc='upper left')\n",
    "plt.show()"
   ]
  },
  {
   "cell_type": "markdown",
   "metadata": {},
   "source": [
    "### MLP Classifier"
   ]
  },
  {
   "cell_type": "code",
   "execution_count": 88,
   "metadata": {},
   "outputs": [
    {
     "name": "stderr",
     "output_type": "stream",
     "text": [
      "/usr/local/lib/python3.7/site-packages/sklearn/utils/validation.py:73: DataConversionWarning: A column-vector y was passed when a 1d array was expected. Please change the shape of y to (n_samples, ), for example using ravel().\n",
      "  return f(**kwargs)\n"
     ]
    },
    {
     "data": {
      "text/plain": [
       "MLPClassifier(alpha=0.001, hidden_layer_sizes=(15,), max_iter=1000,\n",
       "              momentum=0.2, validation_fraction=0.2)"
      ]
     },
     "execution_count": 88,
     "metadata": {},
     "output_type": "execute_result"
    }
   ],
   "source": [
    "model = sklearn.neural_network.MLPClassifier(hidden_layer_sizes=(15, ), activation='relu', solver='adam', \n",
    "                                             alpha=0.001, batch_size='auto', learning_rate='constant', learning_rate_init=0.001, power_t=0.5, \n",
    "                                             max_iter=1000, shuffle=True, random_state=None, tol=0.0001, verbose=False, warm_start=False, momentum=0.2, \n",
    "                                             nesterovs_momentum=True, early_stopping=False, validation_fraction=0.2, beta_1=0.9, beta_2=0.999, epsilon=1e-08, \n",
    "                                             n_iter_no_change=10)\n",
    "# Train the model on the whole data set\n",
    "model.fit(X_train_up, y_train_up)"
   ]
  },
  {
   "cell_type": "code",
   "execution_count": 89,
   "metadata": {},
   "outputs": [],
   "source": [
    "predictions = model.predict(X_train)\n",
    "accuracy = sklearn.metrics.accuracy_score(y_train, predictions)"
   ]
  },
  {
   "cell_type": "code",
   "execution_count": 90,
   "metadata": {},
   "outputs": [
    {
     "data": {
      "text/plain": [
       "0.7393118798108134"
      ]
     },
     "execution_count": 90,
     "metadata": {},
     "output_type": "execute_result"
    }
   ],
   "source": [
    "accuracy"
   ]
  },
  {
   "cell_type": "code",
   "execution_count": 92,
   "metadata": {},
   "outputs": [
    {
     "name": "stderr",
     "output_type": "stream",
     "text": [
      "/usr/local/lib/python3.7/site-packages/sklearn/utils/validation.py:73: DataConversionWarning: A column-vector y was passed when a 1d array was expected. Please change the shape of y to (n_samples, ), for example using ravel().\n",
      "  return f(**kwargs)\n"
     ]
    },
    {
     "data": {
      "text/plain": [
       "GridSearchCV(cv=5,\n",
       "             estimator=MLPClassifier(max_iter=1000, validation_fraction=0.2),\n",
       "             n_jobs=-1,\n",
       "             param_grid={'activation': ['tanh', 'relu'],\n",
       "                         'alpha': [0.0001, 0.001, 0.005, 0.05],\n",
       "                         'hidden_layer_sizes': [(10, 30, 10), (20,)],\n",
       "                         'learning_rate': ['constant', 'adaptive'],\n",
       "                         'solver': ['sgd', 'adam']})"
      ]
     },
     "execution_count": 92,
     "metadata": {},
     "output_type": "execute_result"
    }
   ],
   "source": [
    "mlp_gs = sklearn.neural_network.MLPClassifier(max_iter=1000, batch_size='auto', verbose=False,\n",
    "                                             warm_start=False, nesterovs_momentum=True, early_stopping=False,\n",
    "                                             validation_fraction=0.2)\n",
    "parameter_space = {\n",
    "    'hidden_layer_sizes': [(10,30,10),(20,)],\n",
    "    'activation': ['tanh', 'relu'],\n",
    "    'solver': ['sgd', 'adam'],\n",
    "    'alpha': [0.0001, 0.001, 0.005, 0.05],\n",
    "    'learning_rate': ['constant','adaptive']}\n",
    "\n",
    "clf = GridSearchCV(mlp_gs, parameter_space, n_jobs=-1, cv=5)\n",
    "clf.fit(X_train_up, y_train_up) # X is train samples and y is the corresponding labels"
   ]
  },
  {
   "cell_type": "code",
   "execution_count": 93,
   "metadata": {},
   "outputs": [
    {
     "name": "stdout",
     "output_type": "stream",
     "text": [
      "Best parameters:\n",
      " {'activation': 'relu', 'alpha': 0.005, 'hidden_layer_sizes': (20,), 'learning_rate': 'adaptive', 'solver': 'adam'}\n"
     ]
    }
   ],
   "source": [
    "print('Best parameters:\\n', clf.best_params_)"
   ]
  },
  {
   "cell_type": "code",
   "execution_count": 94,
   "metadata": {},
   "outputs": [
    {
     "data": {
      "text/plain": [
       "0.7436174816096928"
      ]
     },
     "execution_count": 94,
     "metadata": {},
     "output_type": "execute_result"
    }
   ],
   "source": [
    "clf.predict(X_test)\n",
    "clf.score(X_test, np.asarray(y_test).ravel())"
   ]
  },
  {
   "cell_type": "code",
   "execution_count": 95,
   "metadata": {},
   "outputs": [
    {
     "data": {
      "image/png": "[encoded data removed]",
      "text/plain": [
       "<Figure size 432x288 with 2 Axes>"
      ]
     },
     "metadata": {
      "needs_background": "light"
     },
     "output_type": "display_data"
    }
   ],
   "source": [
    "disp = plot_confusion_matrix(clf, X_test, y_test, display_labels=['Not a Hit', 'Hit'], cmap = plt.cm.Blues, normalize='true')\n"
   ]
  },
  {
   "cell_type": "markdown",
   "metadata": {},
   "source": [
    "## Gradient Boosting Classifier"
   ]
  },
  {
   "cell_type": "code",
   "execution_count": 96,
   "metadata": {},
   "outputs": [
    {
     "data": {
      "text/plain": [
       "0.7540025962786673"
      ]
     },
     "execution_count": 96,
     "metadata": {},
     "output_type": "execute_result"
    }
   ],
   "source": [
    "clf = GradientBoostingClassifier(random_state=2, n_estimators = 700, max_features = 15, learning_rate = 0.005)\n",
    "clf.fit(X_train_up, np.asarray(y_train_up).ravel())\n",
    "clf.predict(X_test)\n",
    "clf.score(X_test, np.asarray(y_test).ravel())"
   ]
  },
  {
   "cell_type": "code",
   "execution_count": 97,
   "metadata": {},
   "outputs": [
    {
     "data": {
      "text/plain": [
       "GridSearchCV(cv=5,\n",
       "             estimator=GradientBoostingClassifier(max_depth=8,\n",
       "                                                  max_features='sqrt',\n",
       "                                                  min_samples_leaf=50,\n",
       "                                                  min_samples_split=500,\n",
       "                                                  random_state=10,\n",
       "                                                  subsample=0.8),\n",
       "             n_jobs=4, param_grid={'n_estimators': range(20, 81, 10)},\n",
       "             scoring='roc_auc')"
      ]
     },
     "execution_count": 97,
     "metadata": {},
     "output_type": "execute_result"
    }
   ],
   "source": [
    "param_test1 = {'n_estimators':range(20,81,10)}\n",
    "gsearch1 = GridSearchCV(estimator = GradientBoostingClassifier(learning_rate=0.1, min_samples_split=500,min_samples_leaf=50,max_depth=8,max_features='sqrt',subsample=0.8,random_state=10), \n",
    "param_grid = param_test1, scoring='roc_auc',n_jobs=4,cv=5)\n",
    "gsearch1.fit(X_train_up,np.asarray(y_train_up).ravel())"
   ]
  },
  {
   "cell_type": "code",
   "execution_count": 98,
   "metadata": {},
   "outputs": [
    {
     "data": {
      "text/plain": [
       "({'n_estimators': 80}, 0.843906490921729)"
      ]
     },
     "execution_count": 98,
     "metadata": {},
     "output_type": "execute_result"
    }
   ],
   "source": [
    "gsearch1.best_params_, gsearch1.best_score_"
   ]
  },
  {
   "cell_type": "code",
   "execution_count": 99,
   "metadata": {},
   "outputs": [
    {
     "data": {
      "text/plain": [
       "GridSearchCV(cv=5,\n",
       "             estimator=GradientBoostingClassifier(max_features='sqrt',\n",
       "                                                  n_estimators=60,\n",
       "                                                  random_state=10,\n",
       "                                                  subsample=0.8),\n",
       "             n_jobs=4,\n",
       "             param_grid={'max_depth': range(5, 16, 2),\n",
       "                         'min_samples_split': range(200, 1001, 200)},\n",
       "             scoring='roc_auc')"
      ]
     },
     "execution_count": 99,
     "metadata": {},
     "output_type": "execute_result"
    }
   ],
   "source": [
    "param_test2 = {'max_depth':range(5,16,2), 'min_samples_split':range(200,1001,200)}\n",
    "gsearch2 = GridSearchCV(estimator = GradientBoostingClassifier(learning_rate=0.1, n_estimators=60, max_features='sqrt', subsample=0.8, random_state=10), \n",
    "param_grid = param_test2, scoring='roc_auc',n_jobs=4, cv=5)\n",
    "gsearch2.fit(X_train_up,np.asarray(y_train_up).ravel())"
   ]
  },
  {
   "cell_type": "code",
   "execution_count": 100,
   "metadata": {},
   "outputs": [
    {
     "data": {
      "text/plain": [
       "({'max_depth': 15, 'min_samples_split': 200}, 0.8643063313323097)"
      ]
     },
     "execution_count": 100,
     "metadata": {},
     "output_type": "execute_result"
    }
   ],
   "source": [
    "gsearch2.best_params_, gsearch2.best_score_"
   ]
  },
  {
   "cell_type": "code",
   "execution_count": 105,
   "metadata": {},
   "outputs": [
    {
     "data": {
      "text/plain": [
       "({'min_samples_leaf': 40, 'min_samples_split': 1000}, 0.8300660937020462)"
      ]
     },
     "execution_count": 105,
     "metadata": {},
     "output_type": "execute_result"
    }
   ],
   "source": [
    "param_test3 = {'min_samples_split':range(1000,2100,200), 'min_samples_leaf':range(30,71,10)}\n",
    "gsearch3 = GridSearchCV(estimator = GradientBoostingClassifier(learning_rate=0.1, n_estimators=60,max_depth=15,max_features='sqrt', subsample=0.8, random_state=10), \n",
    "param_grid = param_test3, scoring='roc_auc',n_jobs=4,cv=5)\n",
    "gsearch3.fit(X_train_up,np.asarray(y_train_up).ravel())\n",
    "gsearch3.best_params_, gsearch3.best_score_"
   ]
  },
  {
   "cell_type": "code",
   "execution_count": 107,
   "metadata": {},
   "outputs": [
    {
     "data": {
      "text/plain": [
       "({'max_features': 17}, 0.8513381167549413)"
      ]
     },
     "execution_count": 107,
     "metadata": {},
     "output_type": "execute_result"
    }
   ],
   "source": [
    "param_test4 = {'max_features':range(7,20,2)}\n",
    "gsearch4 = GridSearchCV(estimator = GradientBoostingClassifier(learning_rate=0.1, n_estimators=60,max_depth=15, min_samples_split=1000, min_samples_leaf=40, subsample=0.8, random_state=10),\n",
    "param_grid = param_test4, scoring='roc_auc',n_jobs=4, cv=5)\n",
    "gsearch4.fit(X_train_up,np.asarray(y_train_up).ravel())\n",
    "gsearch4.best_params_, gsearch4.best_score_"
   ]
  },
  {
   "cell_type": "code",
   "execution_count": 108,
   "metadata": {},
   "outputs": [
    {
     "data": {
      "text/plain": [
       "({'subsample': 0.85}, 0.8528224051317966)"
      ]
     },
     "execution_count": 108,
     "metadata": {},
     "output_type": "execute_result"
    }
   ],
   "source": [
    "param_test5 = {'subsample':[0.6,0.7,0.75,0.8,0.85,0.9]}\n",
    "gsearch5 = GridSearchCV(estimator = GradientBoostingClassifier(learning_rate=0.1, n_estimators=60,max_depth=15,min_samples_split=1000, min_samples_leaf=40, subsample=0.8, random_state=10,max_features=17),\n",
    "param_grid = param_test5, scoring='roc_auc',n_jobs=4, cv=5)\n",
    "gsearch5.fit(X_train_up,np.asarray(y_train_up).ravel())\n",
    "gsearch5.best_params_, gsearch5.best_score_"
   ]
  },
  {
   "cell_type": "code",
   "execution_count": 109,
   "metadata": {},
   "outputs": [
    {
     "data": {
      "text/plain": [
       "GradientBoostingClassifier(learning_rate=0.01, max_depth=15, max_features=17,\n",
       "                           min_samples_leaf=40, min_samples_split=1000,\n",
       "                           n_estimators=60, random_state=10, subsample=0.8)"
      ]
     },
     "execution_count": 109,
     "metadata": {},
     "output_type": "execute_result"
    }
   ],
   "source": [
    "boosting_tuned = GradientBoostingClassifier(learning_rate=0.01, n_estimators=60,max_depth=15, min_samples_split=1000,min_samples_leaf=40, subsample=0.8, random_state=10, max_features=17)\n",
    "boosting_tuned.fit(X_train_up,np.asarray(y_train_up).ravel())"
   ]
  },
  {
   "cell_type": "code",
   "execution_count": 110,
   "metadata": {
    "scrolled": true
   },
   "outputs": [
    {
     "data": {
      "text/plain": [
       "0.7659022068368672"
      ]
     },
     "execution_count": 110,
     "metadata": {},
     "output_type": "execute_result"
    }
   ],
   "source": [
    "boosting_tuned.predict(X_test)\n",
    "boosting_tuned.score(X_test, np.asarray(y_test).ravel())"
   ]
  },
  {
   "cell_type": "code",
   "execution_count": 111,
   "metadata": {},
   "outputs": [
    {
     "data": {
      "image/png": "[encoded data removed]",
      "text/plain": [
       "<Figure size 432x288 with 1 Axes>"
      ]
     },
     "metadata": {
      "needs_background": "light"
     },
     "output_type": "display_data"
    }
   ],
   "source": [
    "gbc_roc_auc = roc_auc_score(y_test, boosting_tuned.predict(X_test))\n",
    "fpr, tpr, thresholds = roc_curve(y_test, boosting_tuned.predict_proba(X_test)[:,1])\n",
    "plt.figure()\n",
    "plt.plot(fpr, tpr, label='GBC (area = %0.2f)' % gbc_roc_auc)\n",
    "plt.plot([0, 1], [0, 1],'r--')\n",
    "plt.xlim([0.0, 1.0])\n",
    "plt.ylim([0.0, 1.05])\n",
    "plt.xlabel('False Positive Rate')\n",
    "plt.ylabel('True Positive Rate')\n",
    "plt.title('ROC Curve Gradient Boosting Classifier (GBC)')\n",
    "plt.legend(loc=\"upper left\")\n",
    "plt.show()"
   ]
  },
  {
   "cell_type": "code",
   "execution_count": 112,
   "metadata": {
    "scrolled": true
   },
   "outputs": [
    {
     "data": {
      "text/plain": [
       "array([0.0035707 , 0.00127434, 0.01719822, 0.00083132, 0.26724781,\n",
       "       0.06180328, 0.03072506, 0.03509599, 0.00050522, 0.01144345,\n",
       "       0.00186019, 0.00187121, 0.00953818, 0.40208622, 0.08026292,\n",
       "       0.00735848, 0.00552767, 0.00141011, 0.01245152, 0.04793811])"
      ]
     },
     "execution_count": 112,
     "metadata": {},
     "output_type": "execute_result"
    }
   ],
   "source": [
    "boosting_tuned.feature_importances_"
   ]
  },
  {
   "cell_type": "code",
   "execution_count": 113,
   "metadata": {
    "scrolled": true
   },
   "outputs": [
    {
     "data": {
      "image/png": "[encoded data removed]",
      "text/plain": [
       "<Figure size 432x288 with 2 Axes>"
      ]
     },
     "metadata": {
      "needs_background": "light"
     },
     "output_type": "display_data"
    }
   ],
   "source": [
    "disp = plot_confusion_matrix(boosting_tuned, X_test, y_test, display_labels=['Not a Hit', 'Hit'], cmap = plt.cm.Blues, normalize='true')\n"
   ]
  },
  {
   "cell_type": "markdown",
   "metadata": {},
   "source": [
    "# Using Balanced non SMOTE data"
   ]
  },
  {
   "cell_type": "code",
   "execution_count": 126,
   "metadata": {},
   "outputs": [],
   "source": [
    "data = pd.read_csv(\"data/final_subset.csv\", index_col = 0)"
   ]
  },
  {
   "cell_type": "code",
   "execution_count": 127,
   "metadata": {},
   "outputs": [
    {
     "data": {
      "text/html": [
       "<div>\n",
       "<style scoped>\n",
       "    .dataframe tbody tr th:only-of-type {\n",
       "        vertical-align: middle;\n",
       "    }\n",
       "\n",
       "    .dataframe tbody tr th {\n",
       "        vertical-align: top;\n",
       "    }\n",
       "\n",
       "    .dataframe thead th {\n",
       "        text-align: right;\n",
       "    }\n",
       "</style>\n",
       "<table border=\"1\" class=\"dataframe\">\n",
       "  <thead>\n",
       "    <tr style=\"text-align: right;\">\n",
       "      <th></th>\n",
       "      <th>track_popularity</th>\n",
       "      <th>playlist_genre</th>\n",
       "      <th>playlist_subgenre</th>\n",
       "      <th>danceability</th>\n",
       "      <th>energy</th>\n",
       "      <th>loudness</th>\n",
       "      <th>speechiness</th>\n",
       "      <th>acousticness</th>\n",
       "      <th>instrumentalness</th>\n",
       "      <th>liveness</th>\n",
       "      <th>...</th>\n",
       "      <th>tempo</th>\n",
       "      <th>duration_ms</th>\n",
       "      <th>Hit or Not</th>\n",
       "      <th>lyrical_subjectivity</th>\n",
       "      <th>lyrical_polarity</th>\n",
       "      <th>repeated_phrases</th>\n",
       "      <th>minutes</th>\n",
       "      <th>word_count</th>\n",
       "      <th>WPM_approx</th>\n",
       "      <th>artist_past_performance</th>\n",
       "    </tr>\n",
       "  </thead>\n",
       "  <tbody>\n",
       "    <tr>\n",
       "      <th>1</th>\n",
       "      <td>0</td>\n",
       "      <td>3</td>\n",
       "      <td>14</td>\n",
       "      <td>0.845</td>\n",
       "      <td>0.652</td>\n",
       "      <td>-7.504</td>\n",
       "      <td>0.216</td>\n",
       "      <td>0.00432</td>\n",
       "      <td>0.007230</td>\n",
       "      <td>0.4890</td>\n",
       "      <td>...</td>\n",
       "      <td>111.904</td>\n",
       "      <td>262467</td>\n",
       "      <td>1</td>\n",
       "      <td>0.460365</td>\n",
       "      <td>0.150858</td>\n",
       "      <td>0</td>\n",
       "      <td>4.374450</td>\n",
       "      <td>420</td>\n",
       "      <td>96.012070</td>\n",
       "      <td>7</td>\n",
       "    </tr>\n",
       "    <tr>\n",
       "      <th>4</th>\n",
       "      <td>70</td>\n",
       "      <td>3</td>\n",
       "      <td>23</td>\n",
       "      <td>0.496</td>\n",
       "      <td>0.639</td>\n",
       "      <td>-6.157</td>\n",
       "      <td>0.055</td>\n",
       "      <td>0.28000</td>\n",
       "      <td>0.000000</td>\n",
       "      <td>0.0975</td>\n",
       "      <td>...</td>\n",
       "      <td>147.764</td>\n",
       "      <td>224720</td>\n",
       "      <td>1</td>\n",
       "      <td>0.609292</td>\n",
       "      <td>0.232474</td>\n",
       "      <td>0</td>\n",
       "      <td>3.745333</td>\n",
       "      <td>359</td>\n",
       "      <td>95.852617</td>\n",
       "      <td>0</td>\n",
       "    </tr>\n",
       "    <tr>\n",
       "      <th>5</th>\n",
       "      <td>52</td>\n",
       "      <td>3</td>\n",
       "      <td>14</td>\n",
       "      <td>0.764</td>\n",
       "      <td>0.594</td>\n",
       "      <td>-10.050</td>\n",
       "      <td>0.185</td>\n",
       "      <td>0.59100</td>\n",
       "      <td>0.000000</td>\n",
       "      <td>0.1450</td>\n",
       "      <td>...</td>\n",
       "      <td>87.261</td>\n",
       "      <td>286441</td>\n",
       "      <td>1</td>\n",
       "      <td>0.590514</td>\n",
       "      <td>0.200076</td>\n",
       "      <td>0</td>\n",
       "      <td>4.774017</td>\n",
       "      <td>634</td>\n",
       "      <td>132.802218</td>\n",
       "      <td>2</td>\n",
       "    </tr>\n",
       "    <tr>\n",
       "      <th>9</th>\n",
       "      <td>72</td>\n",
       "      <td>4</td>\n",
       "      <td>6</td>\n",
       "      <td>0.865</td>\n",
       "      <td>0.657</td>\n",
       "      <td>-6.722</td>\n",
       "      <td>0.076</td>\n",
       "      <td>0.04040</td>\n",
       "      <td>0.000000</td>\n",
       "      <td>0.1400</td>\n",
       "      <td>...</td>\n",
       "      <td>111.115</td>\n",
       "      <td>268960</td>\n",
       "      <td>1</td>\n",
       "      <td>0.409803</td>\n",
       "      <td>0.013691</td>\n",
       "      <td>3</td>\n",
       "      <td>4.482667</td>\n",
       "      <td>722</td>\n",
       "      <td>161.064842</td>\n",
       "      <td>8</td>\n",
       "    </tr>\n",
       "    <tr>\n",
       "      <th>11</th>\n",
       "      <td>8</td>\n",
       "      <td>3</td>\n",
       "      <td>9</td>\n",
       "      <td>0.662</td>\n",
       "      <td>0.748</td>\n",
       "      <td>-3.041</td>\n",
       "      <td>0.268</td>\n",
       "      <td>0.68800</td>\n",
       "      <td>0.000008</td>\n",
       "      <td>0.0841</td>\n",
       "      <td>...</td>\n",
       "      <td>82.331</td>\n",
       "      <td>239027</td>\n",
       "      <td>1</td>\n",
       "      <td>0.737900</td>\n",
       "      <td>0.459439</td>\n",
       "      <td>7</td>\n",
       "      <td>3.983783</td>\n",
       "      <td>554</td>\n",
       "      <td>139.063788</td>\n",
       "      <td>0</td>\n",
       "    </tr>\n",
       "  </tbody>\n",
       "</table>\n",
       "<p>5 rows × 21 columns</p>\n",
       "</div>"
      ],
      "text/plain": [
       "    track_popularity  playlist_genre  playlist_subgenre  danceability  energy  \\\n",
       "1                  0               3                 14         0.845   0.652   \n",
       "4                 70               3                 23         0.496   0.639   \n",
       "5                 52               3                 14         0.764   0.594   \n",
       "9                 72               4                  6         0.865   0.657   \n",
       "11                 8               3                  9         0.662   0.748   \n",
       "\n",
       "    loudness  speechiness  acousticness  instrumentalness  liveness  ...  \\\n",
       "1     -7.504        0.216       0.00432          0.007230    0.4890  ...   \n",
       "4     -6.157        0.055       0.28000          0.000000    0.0975  ...   \n",
       "5    -10.050        0.185       0.59100          0.000000    0.1450  ...   \n",
       "9     -6.722        0.076       0.04040          0.000000    0.1400  ...   \n",
       "11    -3.041        0.268       0.68800          0.000008    0.0841  ...   \n",
       "\n",
       "      tempo  duration_ms  Hit or Not  lyrical_subjectivity  lyrical_polarity  \\\n",
       "1   111.904       262467           1              0.460365          0.150858   \n",
       "4   147.764       224720           1              0.609292          0.232474   \n",
       "5    87.261       286441           1              0.590514          0.200076   \n",
       "9   111.115       268960           1              0.409803          0.013691   \n",
       "11   82.331       239027           1              0.737900          0.459439   \n",
       "\n",
       "    repeated_phrases   minutes  word_count  WPM_approx  \\\n",
       "1                  0  4.374450         420   96.012070   \n",
       "4                  0  3.745333         359   95.852617   \n",
       "5                  0  4.774017         634  132.802218   \n",
       "9                  3  4.482667         722  161.064842   \n",
       "11                 7  3.983783         554  139.063788   \n",
       "\n",
       "    artist_past_performance  \n",
       "1                         7  \n",
       "4                         0  \n",
       "5                         2  \n",
       "9                         8  \n",
       "11                        0  \n",
       "\n",
       "[5 rows x 21 columns]"
      ]
     },
     "execution_count": 127,
     "metadata": {},
     "output_type": "execute_result"
    }
   ],
   "source": [
    "data.head()"
   ]
  },
  {
   "cell_type": "code",
   "execution_count": 134,
   "metadata": {},
   "outputs": [],
   "source": [
    "# Defining the relevant columns from the dataframe as some are not necessary or useful \n",
    "\n",
    "numerical_columns = ['danceability', 'energy', 'loudness',\n",
    "            'speechiness', 'acousticness', 'instrumentalness', \n",
    "           'liveness', 'valence', 'tempo', \n",
    "           'lyrical_subjectivity', 'lyrical_polarity', \n",
    "           'repeated_phrases', 'minutes', 'word_count', 'WPM_approx', 'artist_past_performance']\n",
    "\n",
    "categorical_columns = ['playlist_genre', 'playlist_subgenre']\n",
    "\n",
    "target_variable = ['Hit or Not']\n",
    "\n",
    "all_features = ['danceability', 'energy', 'loudness',\n",
    "           'speechiness', 'acousticness', 'instrumentalness', \n",
    "           'liveness', 'valence', 'tempo', \n",
    "           'lyrical_subjectivity', 'lyrical_polarity', \n",
    "           'repeated_phrases', 'minutes', 'word_count', 'WPM_approx',\n",
    "             'playlist_genre', 'playlist_subgenre', 'artist_past_performance']"
   ]
  },
  {
   "cell_type": "code",
   "execution_count": 135,
   "metadata": {},
   "outputs": [],
   "source": [
    "# Define the X and y matrices\n",
    "X = data[all_features]\n",
    "y = data[target_variable]"
   ]
  },
  {
   "cell_type": "code",
   "execution_count": 137,
   "metadata": {},
   "outputs": [],
   "source": [
    "# Split the data into train and test, random state for reproducability\n",
    "X_train, X_test, y_train, y_test = train_test_split(X, y, test_size=0.3, random_state=42)"
   ]
  },
  {
   "cell_type": "markdown",
   "metadata": {},
   "source": [
    "## Logistic Regression"
   ]
  },
  {
   "cell_type": "code",
   "execution_count": 138,
   "metadata": {},
   "outputs": [
    {
     "name": "stderr",
     "output_type": "stream",
     "text": [
      "/usr/local/lib/python3.7/site-packages/sklearn/linear_model/_logistic.py:764: ConvergenceWarning: lbfgs failed to converge (status=1):\n",
      "STOP: TOTAL NO. of ITERATIONS REACHED LIMIT.\n",
      "\n",
      "Increase the number of iterations (max_iter) or scale the data as shown in:\n",
      "    https://scikit-learn.org/stable/modules/preprocessing.html\n",
      "Please also refer to the documentation for alternative solver options:\n",
      "    https://scikit-learn.org/stable/modules/linear_model.html#logistic-regression\n",
      "  extra_warning_msg=_LOGISTIC_SOLVER_CONVERGENCE_MSG)\n",
      "/usr/local/lib/python3.7/site-packages/sklearn/linear_model/_logistic.py:764: ConvergenceWarning: lbfgs failed to converge (status=1):\n",
      "STOP: TOTAL NO. of ITERATIONS REACHED LIMIT.\n",
      "\n",
      "Increase the number of iterations (max_iter) or scale the data as shown in:\n",
      "    https://scikit-learn.org/stable/modules/preprocessing.html\n",
      "Please also refer to the documentation for alternative solver options:\n",
      "    https://scikit-learn.org/stable/modules/linear_model.html#logistic-regression\n",
      "  extra_warning_msg=_LOGISTIC_SOLVER_CONVERGENCE_MSG)\n",
      "/usr/local/lib/python3.7/site-packages/sklearn/linear_model/_logistic.py:764: ConvergenceWarning: lbfgs failed to converge (status=1):\n",
      "STOP: TOTAL NO. of ITERATIONS REACHED LIMIT.\n",
      "\n",
      "Increase the number of iterations (max_iter) or scale the data as shown in:\n",
      "    https://scikit-learn.org/stable/modules/preprocessing.html\n",
      "Please also refer to the documentation for alternative solver options:\n",
      "    https://scikit-learn.org/stable/modules/linear_model.html#logistic-regression\n",
      "  extra_warning_msg=_LOGISTIC_SOLVER_CONVERGENCE_MSG)\n",
      "/usr/local/lib/python3.7/site-packages/sklearn/linear_model/_logistic.py:764: ConvergenceWarning: lbfgs failed to converge (status=1):\n",
      "STOP: TOTAL NO. of ITERATIONS REACHED LIMIT.\n",
      "\n",
      "Increase the number of iterations (max_iter) or scale the data as shown in:\n",
      "    https://scikit-learn.org/stable/modules/preprocessing.html\n",
      "Please also refer to the documentation for alternative solver options:\n",
      "    https://scikit-learn.org/stable/modules/linear_model.html#logistic-regression\n",
      "  extra_warning_msg=_LOGISTIC_SOLVER_CONVERGENCE_MSG)\n",
      "/usr/local/lib/python3.7/site-packages/sklearn/linear_model/_logistic.py:764: ConvergenceWarning: lbfgs failed to converge (status=1):\n",
      "STOP: TOTAL NO. of ITERATIONS REACHED LIMIT.\n",
      "\n",
      "Increase the number of iterations (max_iter) or scale the data as shown in:\n",
      "    https://scikit-learn.org/stable/modules/preprocessing.html\n",
      "Please also refer to the documentation for alternative solver options:\n",
      "    https://scikit-learn.org/stable/modules/linear_model.html#logistic-regression\n",
      "  extra_warning_msg=_LOGISTIC_SOLVER_CONVERGENCE_MSG)\n",
      "/usr/local/lib/python3.7/site-packages/sklearn/linear_model/_logistic.py:764: ConvergenceWarning: lbfgs failed to converge (status=1):\n",
      "STOP: TOTAL NO. of ITERATIONS REACHED LIMIT.\n",
      "\n",
      "Increase the number of iterations (max_iter) or scale the data as shown in:\n",
      "    https://scikit-learn.org/stable/modules/preprocessing.html\n",
      "Please also refer to the documentation for alternative solver options:\n",
      "    https://scikit-learn.org/stable/modules/linear_model.html#logistic-regression\n",
      "  extra_warning_msg=_LOGISTIC_SOLVER_CONVERGENCE_MSG)\n",
      "/usr/local/lib/python3.7/site-packages/sklearn/linear_model/_logistic.py:764: ConvergenceWarning: lbfgs failed to converge (status=1):\n",
      "STOP: TOTAL NO. of ITERATIONS REACHED LIMIT.\n",
      "\n",
      "Increase the number of iterations (max_iter) or scale the data as shown in:\n",
      "    https://scikit-learn.org/stable/modules/preprocessing.html\n",
      "Please also refer to the documentation for alternative solver options:\n",
      "    https://scikit-learn.org/stable/modules/linear_model.html#logistic-regression\n",
      "  extra_warning_msg=_LOGISTIC_SOLVER_CONVERGENCE_MSG)\n"
     ]
    },
    {
     "name": "stdout",
     "output_type": "stream",
     "text": [
      "[ True False False  True  True  True  True  True False  True  True False\n",
      "  True False False False False  True]\n",
      "[1 2 3 1 1 1 1 1 7 1 1 4 1 9 8 6 5 1]\n"
     ]
    }
   ],
   "source": [
    "logreg = LogisticRegression()\n",
    "rfe = RFE(estimator=LogisticRegression(), n_features_to_select=10)\n",
    "rfe = rfe.fit(X_train, np.asarray(y_train).ravel())\n",
    "print(rfe.support_)\n",
    "print(rfe.ranking_)"
   ]
  },
  {
   "cell_type": "code",
   "execution_count": 140,
   "metadata": {},
   "outputs": [],
   "source": [
    "# select the features selected by RFE\n",
    "f = rfe.get_support(1)\n",
    "X_train_log = X_train[X_train.columns[f]]\n",
    "X_test_log = X_test[X_test.columns[f]]"
   ]
  },
  {
   "cell_type": "code",
   "execution_count": 141,
   "metadata": {},
   "outputs": [
    {
     "data": {
      "text/html": [
       "<div>\n",
       "<style scoped>\n",
       "    .dataframe tbody tr th:only-of-type {\n",
       "        vertical-align: middle;\n",
       "    }\n",
       "\n",
       "    .dataframe tbody tr th {\n",
       "        vertical-align: top;\n",
       "    }\n",
       "\n",
       "    .dataframe thead th {\n",
       "        text-align: right;\n",
       "    }\n",
       "</style>\n",
       "<table border=\"1\" class=\"dataframe\">\n",
       "  <thead>\n",
       "    <tr style=\"text-align: right;\">\n",
       "      <th></th>\n",
       "      <th>danceability</th>\n",
       "      <th>speechiness</th>\n",
       "      <th>acousticness</th>\n",
       "      <th>instrumentalness</th>\n",
       "      <th>liveness</th>\n",
       "      <th>valence</th>\n",
       "      <th>lyrical_subjectivity</th>\n",
       "      <th>lyrical_polarity</th>\n",
       "      <th>minutes</th>\n",
       "      <th>artist_past_performance</th>\n",
       "    </tr>\n",
       "  </thead>\n",
       "  <tbody>\n",
       "    <tr>\n",
       "      <th>1881</th>\n",
       "      <td>0.830</td>\n",
       "      <td>0.4320</td>\n",
       "      <td>0.02530</td>\n",
       "      <td>0.024800</td>\n",
       "      <td>0.1060</td>\n",
       "      <td>0.6070</td>\n",
       "      <td>0.000000</td>\n",
       "      <td>0.000000</td>\n",
       "      <td>2.570433</td>\n",
       "      <td>0</td>\n",
       "    </tr>\n",
       "    <tr>\n",
       "      <th>11873</th>\n",
       "      <td>0.446</td>\n",
       "      <td>0.0295</td>\n",
       "      <td>0.02980</td>\n",
       "      <td>0.000009</td>\n",
       "      <td>0.0931</td>\n",
       "      <td>0.3940</td>\n",
       "      <td>0.741493</td>\n",
       "      <td>0.330382</td>\n",
       "      <td>3.950000</td>\n",
       "      <td>0</td>\n",
       "    </tr>\n",
       "    <tr>\n",
       "      <th>4054</th>\n",
       "      <td>0.386</td>\n",
       "      <td>0.0489</td>\n",
       "      <td>0.00287</td>\n",
       "      <td>0.000023</td>\n",
       "      <td>0.2450</td>\n",
       "      <td>0.0858</td>\n",
       "      <td>0.516049</td>\n",
       "      <td>-0.099383</td>\n",
       "      <td>3.463500</td>\n",
       "      <td>0</td>\n",
       "    </tr>\n",
       "    <tr>\n",
       "      <th>9986</th>\n",
       "      <td>0.693</td>\n",
       "      <td>0.1190</td>\n",
       "      <td>0.67900</td>\n",
       "      <td>0.000000</td>\n",
       "      <td>0.2580</td>\n",
       "      <td>0.4730</td>\n",
       "      <td>0.249242</td>\n",
       "      <td>0.000758</td>\n",
       "      <td>2.034450</td>\n",
       "      <td>10</td>\n",
       "    </tr>\n",
       "    <tr>\n",
       "      <th>14265</th>\n",
       "      <td>0.764</td>\n",
       "      <td>0.1390</td>\n",
       "      <td>0.05440</td>\n",
       "      <td>0.000000</td>\n",
       "      <td>0.3100</td>\n",
       "      <td>0.6520</td>\n",
       "      <td>0.564947</td>\n",
       "      <td>0.065468</td>\n",
       "      <td>3.552217</td>\n",
       "      <td>2</td>\n",
       "    </tr>\n",
       "  </tbody>\n",
       "</table>\n",
       "</div>"
      ],
      "text/plain": [
       "       danceability  speechiness  acousticness  instrumentalness  liveness  \\\n",
       "1881          0.830       0.4320       0.02530          0.024800    0.1060   \n",
       "11873         0.446       0.0295       0.02980          0.000009    0.0931   \n",
       "4054          0.386       0.0489       0.00287          0.000023    0.2450   \n",
       "9986          0.693       0.1190       0.67900          0.000000    0.2580   \n",
       "14265         0.764       0.1390       0.05440          0.000000    0.3100   \n",
       "\n",
       "       valence  lyrical_subjectivity  lyrical_polarity   minutes  \\\n",
       "1881    0.6070              0.000000          0.000000  2.570433   \n",
       "11873   0.3940              0.741493          0.330382  3.950000   \n",
       "4054    0.0858              0.516049         -0.099383  3.463500   \n",
       "9986    0.4730              0.249242          0.000758  2.034450   \n",
       "14265   0.6520              0.564947          0.065468  3.552217   \n",
       "\n",
       "       artist_past_performance  \n",
       "1881                         0  \n",
       "11873                        0  \n",
       "4054                         0  \n",
       "9986                        10  \n",
       "14265                        2  "
      ]
     },
     "execution_count": 141,
     "metadata": {},
     "output_type": "execute_result"
    }
   ],
   "source": [
    "# inspecting the features selected\n",
    "X_train_log.head()"
   ]
  },
  {
   "cell_type": "code",
   "execution_count": 143,
   "metadata": {},
   "outputs": [
    {
     "data": {
      "text/plain": [
       "LogisticRegression()"
      ]
     },
     "execution_count": 143,
     "metadata": {},
     "output_type": "execute_result"
    }
   ],
   "source": [
    "logreg = LogisticRegression()\n",
    "logreg.fit(X_train_log, np.asarray(y_train).ravel())"
   ]
  },
  {
   "cell_type": "code",
   "execution_count": 144,
   "metadata": {},
   "outputs": [
    {
     "name": "stdout",
     "output_type": "stream",
     "text": [
      "Accuracy of logistic regression classifier on test set: 0.60\n"
     ]
    }
   ],
   "source": [
    "y_pred = logreg.predict(X_test_log)\n",
    "print('Accuracy of logistic regression classifier on test set: {:.2f}'.format(logreg.score(X_test_log, y_test)))"
   ]
  },
  {
   "cell_type": "code",
   "execution_count": 145,
   "metadata": {},
   "outputs": [
    {
     "name": "stdout",
     "output_type": "stream",
     "text": [
      "[[653 436]\n",
      " [452 667]]\n"
     ]
    }
   ],
   "source": [
    "from sklearn.metrics import confusion_matrix\n",
    "confusion_matrix = confusion_matrix(y_test, y_pred)\n",
    "print(confusion_matrix)"
   ]
  },
  {
   "cell_type": "code",
   "execution_count": 146,
   "metadata": {
    "scrolled": true
   },
   "outputs": [
    {
     "data": {
      "image/png": "[encoded data removed]",
      "text/plain": [
       "<Figure size 432x288 with 2 Axes>"
      ]
     },
     "metadata": {
      "needs_background": "light"
     },
     "output_type": "display_data"
    }
   ],
   "source": [
    "from sklearn.metrics import plot_confusion_matrix\n",
    "disp = plot_confusion_matrix(logreg, X_test_log, y_test, display_labels=['Not a Hit', 'Hit'], cmap = plt.cm.Blues, normalize='true')\n"
   ]
  },
  {
   "cell_type": "code",
   "execution_count": 148,
   "metadata": {},
   "outputs": [
    {
     "data": {
      "image/png": "[encoded data removed]",
      "text/plain": [
       "<Figure size 432x288 with 1 Axes>"
      ]
     },
     "metadata": {
      "needs_background": "light"
     },
     "output_type": "display_data"
    }
   ],
   "source": [
    "from sklearn.metrics import roc_auc_score\n",
    "from sklearn.metrics import roc_curve\n",
    "logit_roc_auc = roc_auc_score(y_test, logreg.predict(X_test_log))\n",
    "fpr, tpr, thresholds = roc_curve(y_test, logreg.predict_proba(X_test_log)[:,1])\n",
    "plt.figure()\n",
    "plt.plot(fpr, tpr, label='Logistic Regression (area = %0.2f)' % logit_roc_auc)\n",
    "plt.plot([0, 1], [0, 1],'r--')\n",
    "plt.xlim([0.0, 1.0])\n",
    "plt.ylim([0.0, 1.05])\n",
    "plt.xlabel('False Positive Rate')\n",
    "plt.ylabel('True Positive Rate')\n",
    "plt.title('ROC Curve Logistic Regression')\n",
    "plt.legend(loc=\"lower right\")\n",
    "plt.savefig('Log_ROC')\n",
    "plt.show()"
   ]
  },
  {
   "cell_type": "markdown",
   "metadata": {},
   "source": [
    "## Bagging Classifier"
   ]
  },
  {
   "cell_type": "code",
   "execution_count": 150,
   "metadata": {},
   "outputs": [
    {
     "name": "stderr",
     "output_type": "stream",
     "text": [
      "/usr/local/lib/python3.7/site-packages/sklearn/utils/validation.py:73: DataConversionWarning: A column-vector y was passed when a 1d array was expected. Please change the shape of y to (n_samples, ), for example using ravel().\n",
      "  return f(**kwargs)\n"
     ]
    }
   ],
   "source": [
    "clf = BaggingClassifier(base_estimator=SVC(),\n",
    "                        n_estimators=10, random_state=42).fit(X_train, y_train)\n",
    "y_pred = clf.predict(X_test)"
   ]
  },
  {
   "cell_type": "code",
   "execution_count": 151,
   "metadata": {},
   "outputs": [
    {
     "data": {
      "text/plain": [
       "0.5538949275362319"
      ]
     },
     "execution_count": 151,
     "metadata": {},
     "output_type": "execute_result"
    }
   ],
   "source": [
    "from sklearn.metrics import accuracy_score\n",
    "accuracy_score(y_test, y_pred)"
   ]
  },
  {
   "cell_type": "code",
   "execution_count": 152,
   "metadata": {
    "scrolled": true
   },
   "outputs": [
    {
     "data": {
      "image/png": "[encoded data removed]",
      "text/plain": [
       "<Figure size 432x288 with 2 Axes>"
      ]
     },
     "metadata": {
      "needs_background": "light"
     },
     "output_type": "display_data"
    }
   ],
   "source": [
    "disp = plot_confusion_matrix(clf, X_test, y_test, display_labels=['Not a Hit', 'Hit'], cmap = plt.cm.Blues, normalize='true')\n"
   ]
  },
  {
   "cell_type": "markdown",
   "metadata": {},
   "source": [
    "## Fully Connected Neural Network"
   ]
  },
  {
   "cell_type": "code",
   "execution_count": 276,
   "metadata": {},
   "outputs": [],
   "source": [
    "from tensorflow.keras import initializers\n",
    "model = keras.Sequential([\n",
    "    keras.layers.Flatten(input_shape=(18,)),\n",
    "\n",
    "    keras.layers.Dense(12, activation=tf.nn.relu, kernel_initializer='glorot_normal'),\n",
    "    \n",
    "#     keras.layers.Dense(6, activation=tf.nn.relu, kernel_initializer='normal'),\n",
    "\n",
    "    keras.layers.Dense(1, activation=tf.nn.sigmoid),\n",
    "])"
   ]
  },
  {
   "cell_type": "code",
   "execution_count": 278,
   "metadata": {},
   "outputs": [],
   "source": [
    "from sklearn.preprocessing import StandardScaler\n",
    "scaler = StandardScaler()\n",
    "X_train_nn = pd.DataFrame(scaler.fit_transform(X_train), columns=X_train.columns)\n",
    "X_test_nn = pd.DataFrame(scaler.fit_transform(X_test), columns=X_test.columns)"
   ]
  },
  {
   "cell_type": "code",
   "execution_count": 279,
   "metadata": {
    "scrolled": true
   },
   "outputs": [
    {
     "name": "stdout",
     "output_type": "stream",
     "text": [
      "Epoch 1/100\n",
      "59/59 [==============================] - 0s 4ms/step - loss: 0.7618 - accuracy: 0.5204 - val_loss: 0.7475 - val_accuracy: 0.5049\n",
      "Epoch 2/100\n",
      "59/59 [==============================] - 0s 3ms/step - loss: 0.7553 - accuracy: 0.5214 - val_loss: 0.7420 - val_accuracy: 0.5117\n",
      "Epoch 3/100\n",
      "59/59 [==============================] - 0s 3ms/step - loss: 0.7493 - accuracy: 0.5248 - val_loss: 0.7370 - val_accuracy: 0.5126\n",
      "Epoch 4/100\n",
      "59/59 [==============================] - 0s 2ms/step - loss: 0.7436 - accuracy: 0.5250 - val_loss: 0.7324 - val_accuracy: 0.5165\n",
      "Epoch 5/100\n",
      "59/59 [==============================] - 0s 4ms/step - loss: 0.7383 - accuracy: 0.5262 - val_loss: 0.7279 - val_accuracy: 0.5223\n",
      "Epoch 6/100\n",
      "59/59 [==============================] - 0s 2ms/step - loss: 0.7333 - accuracy: 0.5267 - val_loss: 0.7238 - val_accuracy: 0.5184\n",
      "Epoch 7/100\n",
      "59/59 [==============================] - 0s 2ms/step - loss: 0.7286 - accuracy: 0.5328 - val_loss: 0.7199 - val_accuracy: 0.5194\n",
      "Epoch 8/100\n",
      "59/59 [==============================] - 0s 3ms/step - loss: 0.7243 - accuracy: 0.5367 - val_loss: 0.7164 - val_accuracy: 0.5204\n",
      "Epoch 9/100\n",
      "59/59 [==============================] - 0s 3ms/step - loss: 0.7203 - accuracy: 0.5396 - val_loss: 0.7131 - val_accuracy: 0.5214\n",
      "Epoch 10/100\n",
      "59/59 [==============================] - 0s 3ms/step - loss: 0.7165 - accuracy: 0.5393 - val_loss: 0.7101 - val_accuracy: 0.5243\n",
      "Epoch 11/100\n",
      "59/59 [==============================] - 0s 3ms/step - loss: 0.7130 - accuracy: 0.5442 - val_loss: 0.7072 - val_accuracy: 0.5262\n",
      "Epoch 12/100\n",
      "59/59 [==============================] - 0s 3ms/step - loss: 0.7096 - accuracy: 0.5461 - val_loss: 0.7045 - val_accuracy: 0.5350\n",
      "Epoch 13/100\n",
      "59/59 [==============================] - 0s 2ms/step - loss: 0.7065 - accuracy: 0.5473 - val_loss: 0.7020 - val_accuracy: 0.5398\n",
      "Epoch 14/100\n",
      "59/59 [==============================] - 0s 2ms/step - loss: 0.7035 - accuracy: 0.5512 - val_loss: 0.6996 - val_accuracy: 0.5369\n",
      "Epoch 15/100\n",
      "59/59 [==============================] - 0s 2ms/step - loss: 0.7007 - accuracy: 0.5532 - val_loss: 0.6974 - val_accuracy: 0.5369\n",
      "Epoch 16/100\n",
      "59/59 [==============================] - 0s 3ms/step - loss: 0.6980 - accuracy: 0.5553 - val_loss: 0.6954 - val_accuracy: 0.5359\n",
      "Epoch 17/100\n",
      "59/59 [==============================] - 0s 3ms/step - loss: 0.6955 - accuracy: 0.5578 - val_loss: 0.6935 - val_accuracy: 0.5350\n",
      "Epoch 18/100\n",
      "59/59 [==============================] - 0s 2ms/step - loss: 0.6932 - accuracy: 0.5602 - val_loss: 0.6916 - val_accuracy: 0.5417\n",
      "Epoch 19/100\n",
      "59/59 [==============================] - 0s 2ms/step - loss: 0.6910 - accuracy: 0.5619 - val_loss: 0.6900 - val_accuracy: 0.5447\n",
      "Epoch 20/100\n",
      "59/59 [==============================] - 0s 2ms/step - loss: 0.6889 - accuracy: 0.5650 - val_loss: 0.6884 - val_accuracy: 0.5495\n",
      "Epoch 21/100\n",
      "59/59 [==============================] - 0s 2ms/step - loss: 0.6870 - accuracy: 0.5687 - val_loss: 0.6870 - val_accuracy: 0.5515\n",
      "Epoch 22/100\n",
      "59/59 [==============================] - 0s 2ms/step - loss: 0.6852 - accuracy: 0.5697 - val_loss: 0.6856 - val_accuracy: 0.5544\n",
      "Epoch 23/100\n",
      "59/59 [==============================] - 0s 2ms/step - loss: 0.6834 - accuracy: 0.5709 - val_loss: 0.6844 - val_accuracy: 0.5553\n",
      "Epoch 24/100\n",
      "59/59 [==============================] - 0s 2ms/step - loss: 0.6818 - accuracy: 0.5743 - val_loss: 0.6833 - val_accuracy: 0.5602\n",
      "Epoch 25/100\n",
      "59/59 [==============================] - 0s 2ms/step - loss: 0.6803 - accuracy: 0.5752 - val_loss: 0.6821 - val_accuracy: 0.5583\n",
      "Epoch 26/100\n",
      "59/59 [==============================] - 0s 2ms/step - loss: 0.6788 - accuracy: 0.5765 - val_loss: 0.6811 - val_accuracy: 0.5641\n",
      "Epoch 27/100\n",
      "59/59 [==============================] - 0s 2ms/step - loss: 0.6775 - accuracy: 0.5796 - val_loss: 0.6801 - val_accuracy: 0.5660\n",
      "Epoch 28/100\n",
      "59/59 [==============================] - 0s 2ms/step - loss: 0.6762 - accuracy: 0.5811 - val_loss: 0.6792 - val_accuracy: 0.5680\n",
      "Epoch 29/100\n",
      "59/59 [==============================] - 0s 2ms/step - loss: 0.6750 - accuracy: 0.5825 - val_loss: 0.6783 - val_accuracy: 0.5718\n",
      "Epoch 30/100\n",
      "59/59 [==============================] - 0s 3ms/step - loss: 0.6739 - accuracy: 0.5857 - val_loss: 0.6776 - val_accuracy: 0.5738\n",
      "Epoch 31/100\n",
      "59/59 [==============================] - 0s 2ms/step - loss: 0.6728 - accuracy: 0.5874 - val_loss: 0.6768 - val_accuracy: 0.5738\n",
      "Epoch 32/100\n",
      "59/59 [==============================] - 0s 2ms/step - loss: 0.6717 - accuracy: 0.5886 - val_loss: 0.6761 - val_accuracy: 0.5757\n",
      "Epoch 33/100\n",
      "59/59 [==============================] - 0s 2ms/step - loss: 0.6708 - accuracy: 0.5886 - val_loss: 0.6755 - val_accuracy: 0.5748\n",
      "Epoch 34/100\n",
      "59/59 [==============================] - 0s 2ms/step - loss: 0.6698 - accuracy: 0.5891 - val_loss: 0.6749 - val_accuracy: 0.5777\n",
      "Epoch 35/100\n",
      "59/59 [==============================] - 0s 2ms/step - loss: 0.6689 - accuracy: 0.5905 - val_loss: 0.6744 - val_accuracy: 0.5816\n",
      "Epoch 36/100\n",
      "59/59 [==============================] - 0s 2ms/step - loss: 0.6681 - accuracy: 0.5910 - val_loss: 0.6738 - val_accuracy: 0.5825\n",
      "Epoch 37/100\n",
      "59/59 [==============================] - 0s 2ms/step - loss: 0.6674 - accuracy: 0.5934 - val_loss: 0.6733 - val_accuracy: 0.5816\n",
      "Epoch 38/100\n",
      "59/59 [==============================] - 0s 2ms/step - loss: 0.6666 - accuracy: 0.5956 - val_loss: 0.6729 - val_accuracy: 0.5796\n",
      "Epoch 39/100\n",
      "59/59 [==============================] - 0s 2ms/step - loss: 0.6659 - accuracy: 0.5959 - val_loss: 0.6725 - val_accuracy: 0.5806\n",
      "Epoch 40/100\n",
      "59/59 [==============================] - 0s 2ms/step - loss: 0.6652 - accuracy: 0.5966 - val_loss: 0.6721 - val_accuracy: 0.5816\n",
      "Epoch 41/100\n",
      "59/59 [==============================] - 0s 2ms/step - loss: 0.6646 - accuracy: 0.5951 - val_loss: 0.6718 - val_accuracy: 0.5816\n",
      "Epoch 42/100\n",
      "59/59 [==============================] - 0s 2ms/step - loss: 0.6639 - accuracy: 0.5959 - val_loss: 0.6715 - val_accuracy: 0.5854\n",
      "Epoch 43/100\n",
      "59/59 [==============================] - 0s 2ms/step - loss: 0.6633 - accuracy: 0.5968 - val_loss: 0.6711 - val_accuracy: 0.5854\n",
      "Epoch 44/100\n",
      "59/59 [==============================] - 0s 2ms/step - loss: 0.6627 - accuracy: 0.5973 - val_loss: 0.6709 - val_accuracy: 0.5864\n",
      "Epoch 45/100\n",
      "59/59 [==============================] - 0s 2ms/step - loss: 0.6622 - accuracy: 0.5978 - val_loss: 0.6706 - val_accuracy: 0.5883\n",
      "Epoch 46/100\n",
      "59/59 [==============================] - 0s 2ms/step - loss: 0.6617 - accuracy: 0.5968 - val_loss: 0.6703 - val_accuracy: 0.5893\n",
      "Epoch 47/100\n",
      "59/59 [==============================] - 0s 2ms/step - loss: 0.6612 - accuracy: 0.5993 - val_loss: 0.6702 - val_accuracy: 0.5883\n",
      "Epoch 48/100\n",
      "59/59 [==============================] - 0s 2ms/step - loss: 0.6607 - accuracy: 0.6002 - val_loss: 0.6699 - val_accuracy: 0.5893\n",
      "Epoch 49/100\n",
      "59/59 [==============================] - 0s 2ms/step - loss: 0.6603 - accuracy: 0.6015 - val_loss: 0.6697 - val_accuracy: 0.5893\n",
      "Epoch 50/100\n",
      "59/59 [==============================] - 0s 2ms/step - loss: 0.6599 - accuracy: 0.6019 - val_loss: 0.6695 - val_accuracy: 0.5893\n",
      "Epoch 51/100\n",
      "59/59 [==============================] - 0s 2ms/step - loss: 0.6594 - accuracy: 0.6034 - val_loss: 0.6694 - val_accuracy: 0.5913\n",
      "Epoch 52/100\n",
      "59/59 [==============================] - 0s 2ms/step - loss: 0.6590 - accuracy: 0.6046 - val_loss: 0.6692 - val_accuracy: 0.5951\n",
      "Epoch 53/100\n",
      "59/59 [==============================] - 0s 2ms/step - loss: 0.6586 - accuracy: 0.6063 - val_loss: 0.6692 - val_accuracy: 0.5951\n",
      "Epoch 54/100\n",
      "59/59 [==============================] - 0s 2ms/step - loss: 0.6583 - accuracy: 0.6075 - val_loss: 0.6690 - val_accuracy: 0.5971\n",
      "Epoch 55/100\n",
      "59/59 [==============================] - 0s 3ms/step - loss: 0.6579 - accuracy: 0.6078 - val_loss: 0.6689 - val_accuracy: 0.5961\n",
      "Epoch 56/100\n",
      "59/59 [==============================] - 0s 2ms/step - loss: 0.6576 - accuracy: 0.6083 - val_loss: 0.6687 - val_accuracy: 0.5942\n",
      "Epoch 57/100\n",
      "59/59 [==============================] - ETA: 0s - loss: 0.6572 - accuracy: 0.60 - 0s 3ms/step - loss: 0.6572 - accuracy: 0.6090 - val_loss: 0.6686 - val_accuracy: 0.5922\n",
      "Epoch 58/100\n"
     ]
    },
    {
     "name": "stdout",
     "output_type": "stream",
     "text": [
      "59/59 [==============================] - 0s 6ms/step - loss: 0.6569 - accuracy: 0.6092 - val_loss: 0.6685 - val_accuracy: 0.5932\n",
      "Epoch 59/100\n",
      "59/59 [==============================] - 0s 2ms/step - loss: 0.6566 - accuracy: 0.6090 - val_loss: 0.6685 - val_accuracy: 0.5951\n",
      "Epoch 60/100\n",
      "59/59 [==============================] - 0s 2ms/step - loss: 0.6563 - accuracy: 0.6097 - val_loss: 0.6683 - val_accuracy: 0.5922\n",
      "Epoch 61/100\n",
      "59/59 [==============================] - 0s 2ms/step - loss: 0.6560 - accuracy: 0.6092 - val_loss: 0.6683 - val_accuracy: 0.5903\n",
      "Epoch 62/100\n",
      "59/59 [==============================] - 0s 2ms/step - loss: 0.6557 - accuracy: 0.6092 - val_loss: 0.6683 - val_accuracy: 0.5913\n",
      "Epoch 63/100\n",
      "59/59 [==============================] - 0s 3ms/step - loss: 0.6554 - accuracy: 0.6100 - val_loss: 0.6682 - val_accuracy: 0.5932\n",
      "Epoch 64/100\n",
      "59/59 [==============================] - 0s 2ms/step - loss: 0.6552 - accuracy: 0.6102 - val_loss: 0.6682 - val_accuracy: 0.5942\n",
      "Epoch 65/100\n",
      "59/59 [==============================] - 0s 2ms/step - loss: 0.6549 - accuracy: 0.6114 - val_loss: 0.6681 - val_accuracy: 0.5932\n",
      "Epoch 66/100\n",
      "59/59 [==============================] - 0s 2ms/step - loss: 0.6547 - accuracy: 0.6124 - val_loss: 0.6680 - val_accuracy: 0.5942\n",
      "Epoch 67/100\n",
      "59/59 [==============================] - 0s 2ms/step - loss: 0.6544 - accuracy: 0.6121 - val_loss: 0.6680 - val_accuracy: 0.5942\n",
      "Epoch 68/100\n",
      "59/59 [==============================] - 0s 2ms/step - loss: 0.6542 - accuracy: 0.6129 - val_loss: 0.6680 - val_accuracy: 0.5951\n",
      "Epoch 69/100\n",
      "59/59 [==============================] - 0s 2ms/step - loss: 0.6540 - accuracy: 0.6124 - val_loss: 0.6679 - val_accuracy: 0.5951\n",
      "Epoch 70/100\n",
      "59/59 [==============================] - 0s 2ms/step - loss: 0.6538 - accuracy: 0.6129 - val_loss: 0.6679 - val_accuracy: 0.5932\n",
      "Epoch 71/100\n",
      "59/59 [==============================] - 0s 3ms/step - loss: 0.6535 - accuracy: 0.6133 - val_loss: 0.6679 - val_accuracy: 0.5922\n",
      "Epoch 72/100\n",
      "59/59 [==============================] - 0s 2ms/step - loss: 0.6534 - accuracy: 0.6141 - val_loss: 0.6678 - val_accuracy: 0.5913\n",
      "Epoch 73/100\n",
      "59/59 [==============================] - 0s 2ms/step - loss: 0.6531 - accuracy: 0.6143 - val_loss: 0.6679 - val_accuracy: 0.5922\n",
      "Epoch 74/100\n",
      "59/59 [==============================] - 0s 2ms/step - loss: 0.6530 - accuracy: 0.6143 - val_loss: 0.6678 - val_accuracy: 0.5932\n",
      "Epoch 75/100\n",
      "59/59 [==============================] - 0s 3ms/step - loss: 0.6527 - accuracy: 0.6141 - val_loss: 0.6679 - val_accuracy: 0.5922\n",
      "Epoch 76/100\n",
      "59/59 [==============================] - 0s 4ms/step - loss: 0.6525 - accuracy: 0.6136 - val_loss: 0.6678 - val_accuracy: 0.5932\n",
      "Epoch 77/100\n",
      "59/59 [==============================] - 0s 3ms/step - loss: 0.6523 - accuracy: 0.6143 - val_loss: 0.6679 - val_accuracy: 0.5913\n",
      "Epoch 78/100\n",
      "59/59 [==============================] - 0s 2ms/step - loss: 0.6522 - accuracy: 0.6153 - val_loss: 0.6678 - val_accuracy: 0.5951\n",
      "Epoch 79/100\n",
      "59/59 [==============================] - 0s 2ms/step - loss: 0.6520 - accuracy: 0.6155 - val_loss: 0.6678 - val_accuracy: 0.5942\n",
      "Epoch 80/100\n",
      "59/59 [==============================] - 0s 2ms/step - loss: 0.6518 - accuracy: 0.6153 - val_loss: 0.6678 - val_accuracy: 0.5942\n",
      "Epoch 81/100\n",
      "59/59 [==============================] - 0s 2ms/step - loss: 0.6516 - accuracy: 0.6158 - val_loss: 0.6678 - val_accuracy: 0.5951\n",
      "Epoch 82/100\n",
      "59/59 [==============================] - 0s 2ms/step - loss: 0.6514 - accuracy: 0.6163 - val_loss: 0.6678 - val_accuracy: 0.5961\n",
      "Epoch 83/100\n",
      "59/59 [==============================] - 0s 2ms/step - loss: 0.6513 - accuracy: 0.6165 - val_loss: 0.6679 - val_accuracy: 0.5971\n",
      "Epoch 84/100\n",
      "59/59 [==============================] - 0s 2ms/step - loss: 0.6511 - accuracy: 0.6167 - val_loss: 0.6678 - val_accuracy: 0.5951\n",
      "Epoch 85/100\n",
      "59/59 [==============================] - 0s 2ms/step - loss: 0.6509 - accuracy: 0.6155 - val_loss: 0.6678 - val_accuracy: 0.5951\n",
      "Epoch 86/100\n",
      "59/59 [==============================] - 0s 2ms/step - loss: 0.6508 - accuracy: 0.6170 - val_loss: 0.6679 - val_accuracy: 0.5951\n",
      "Epoch 87/100\n",
      "59/59 [==============================] - 0s 2ms/step - loss: 0.6506 - accuracy: 0.6170 - val_loss: 0.6679 - val_accuracy: 0.5932\n",
      "Epoch 88/100\n",
      "59/59 [==============================] - 0s 2ms/step - loss: 0.6505 - accuracy: 0.6170 - val_loss: 0.6679 - val_accuracy: 0.5932\n",
      "Epoch 89/100\n",
      "59/59 [==============================] - 0s 1ms/step - loss: 0.6503 - accuracy: 0.6170 - val_loss: 0.6678 - val_accuracy: 0.5942\n",
      "Epoch 90/100\n",
      "59/59 [==============================] - 0s 1ms/step - loss: 0.6502 - accuracy: 0.6182 - val_loss: 0.6680 - val_accuracy: 0.5961\n",
      "Epoch 91/100\n",
      "59/59 [==============================] - 0s 3ms/step - loss: 0.6500 - accuracy: 0.6180 - val_loss: 0.6679 - val_accuracy: 0.5981\n",
      "Epoch 92/100\n",
      "59/59 [==============================] - 0s 2ms/step - loss: 0.6498 - accuracy: 0.6175 - val_loss: 0.6679 - val_accuracy: 0.5971\n",
      "Epoch 93/100\n",
      "59/59 [==============================] - 0s 2ms/step - loss: 0.6497 - accuracy: 0.6167 - val_loss: 0.6679 - val_accuracy: 0.5951\n",
      "Epoch 94/100\n",
      "59/59 [==============================] - 0s 3ms/step - loss: 0.6495 - accuracy: 0.6182 - val_loss: 0.6680 - val_accuracy: 0.5971\n",
      "Epoch 95/100\n",
      "59/59 [==============================] - 0s 6ms/step - loss: 0.6494 - accuracy: 0.6182 - val_loss: 0.6680 - val_accuracy: 0.5961\n",
      "Epoch 96/100\n",
      "59/59 [==============================] - 0s 2ms/step - loss: 0.6493 - accuracy: 0.6187 - val_loss: 0.6680 - val_accuracy: 0.5981\n",
      "Epoch 97/100\n",
      "59/59 [==============================] - 0s 2ms/step - loss: 0.6491 - accuracy: 0.6177 - val_loss: 0.6681 - val_accuracy: 0.5981\n",
      "Epoch 98/100\n",
      "59/59 [==============================] - 0s 2ms/step - loss: 0.6490 - accuracy: 0.6184 - val_loss: 0.6680 - val_accuracy: 0.5981\n",
      "Epoch 99/100\n",
      "59/59 [==============================] - 0s 2ms/step - loss: 0.6488 - accuracy: 0.6182 - val_loss: 0.6680 - val_accuracy: 0.5981\n",
      "Epoch 100/100\n",
      "59/59 [==============================] - 0s 2ms/step - loss: 0.6487 - accuracy: 0.6175 - val_loss: 0.6680 - val_accuracy: 0.5990\n",
      "69/69 [==============================] - 0s 1ms/step - loss: 4.3757 - accuracy: 0.5358\n"
     ]
    }
   ],
   "source": [
    "\n",
    "opt = keras.optimizers.Adam(lr = 0.0001)\n",
    "model.compile(optimizer=opt,\n",
    "              loss='binary_crossentropy',\n",
    "              metrics=['accuracy'])\n",
    "\n",
    "hist = model.fit(X_train_nn, y_train, epochs=100, batch_size=70, validation_split = 0.2)\n",
    "test_loss, test_acc = model.evaluate(X_test, y_test)"
   ]
  },
  {
   "cell_type": "code",
   "execution_count": 280,
   "metadata": {},
   "outputs": [
    {
     "data": {
      "text/plain": [
       "0.5357789993286133"
      ]
     },
     "execution_count": 280,
     "metadata": {},
     "output_type": "execute_result"
    }
   ],
   "source": [
    "test_acc"
   ]
  },
  {
   "cell_type": "code",
   "execution_count": 281,
   "metadata": {},
   "outputs": [
    {
     "data": {
      "image/png": "[encoded data removed]",
      "text/plain": [
       "<Figure size 432x288 with 1 Axes>"
      ]
     },
     "metadata": {
      "needs_background": "light"
     },
     "output_type": "display_data"
    }
   ],
   "source": [
    "plt.plot(hist.history['accuracy'])\n",
    "plt.plot(hist.history['val_accuracy'])\n",
    "plt.title('Fully Connected Neural Network Loss')\n",
    "plt.ylabel('accuracy')\n",
    "plt.xlabel('epoch')\n",
    "plt.legend(['train', 'validation'], loc='upper left')\n",
    "plt.show()"
   ]
  },
  {
   "cell_type": "code",
   "execution_count": 283,
   "metadata": {},
   "outputs": [],
   "source": [
    "y_pred = model.predict(X_test_nn)"
   ]
  },
  {
   "cell_type": "code",
   "execution_count": 285,
   "metadata": {},
   "outputs": [
    {
     "data": {
      "image/png": "[encoded data removed]",
      "text/plain": [
       "<Figure size 432x288 with 1 Axes>"
      ]
     },
     "metadata": {
      "needs_background": "light"
     },
     "output_type": "display_data"
    }
   ],
   "source": [
    "nn_roc_auc = roc_auc_score(y_test, y_pred)\n",
    "fpr, tpr, thresholds = roc_curve(y_test, y_pred)\n",
    "plt.figure()\n",
    "plt.plot(fpr, tpr, label='Neural Network(area = %0.2f)' % logit_roc_auc)\n",
    "plt.plot([0, 1], [0, 1],'r--')\n",
    "plt.xlim([0.0, 1.0])\n",
    "plt.ylim([0.0, 1.05])\n",
    "plt.xlabel('False Positive Rate')\n",
    "plt.ylabel('True Positive Rate')\n",
    "plt.title('ROC Curve Neural Network')\n",
    "plt.legend(loc=\"lower right\")\n",
    "plt.savefig('Log_ROC')\n",
    "plt.show()"
   ]
  },
  {
   "cell_type": "code",
   "execution_count": 282,
   "metadata": {},
   "outputs": [],
   "source": [
    "model.save(\"data/NN1.h5\")"
   ]
  },
  {
   "cell_type": "markdown",
   "metadata": {},
   "source": [
    "## Gradient Boosting Classifier"
   ]
  },
  {
   "cell_type": "code",
   "execution_count": 359,
   "metadata": {
    "scrolled": true
   },
   "outputs": [],
   "source": [
    "# parameters = {\n",
    "#     \"learning_rate\": [0.01],\n",
    "#     \"min_samples_split\": [2,3,4,6,8],\n",
    "#     \"min_samples_leaf\": [3,4,5,6],\n",
    "#     \"max_depth\":[4,7,10,12],\n",
    "#     \"max_features\":[\"log2\"],\n",
    "#     \"criterion\": [\"friedman_mse\"],\n",
    "#     \"subsample\":[1.0],\n",
    "#     \"n_estimators\":[700,900,1000]\n",
    "#     }\n",
    "# # pass param grid into GridSearchCV\n",
    "# clf = GridSearchCV(GradientBoostingClassifier(), parameters,refit=False, n_jobs=-1)\n",
    "\n",
    "# clf.fit(X_train, y_train)\n",
    "# clf.best_params_"
   ]
  },
  {
   "cell_type": "code",
   "execution_count": 402,
   "metadata": {},
   "outputs": [],
   "source": [
    "clfb = GradientBoostingClassifier(criterion= 'friedman_mse',\n",
    "                                     learning_rate= 0.01,\n",
    "                                     max_depth= 10, #4 #6\n",
    "                                     max_features= 'log2',\n",
    "                                     min_samples_leaf= 5,\n",
    "                                     min_samples_split= 5, #0.1\n",
    "                                     n_estimators= 900,\n",
    "                                     subsample= 1)"
   ]
  },
  {
   "cell_type": "code",
   "execution_count": 403,
   "metadata": {},
   "outputs": [
    {
     "name": "stderr",
     "output_type": "stream",
     "text": [
      "/usr/local/lib/python3.7/site-packages/sklearn/utils/validation.py:73: DataConversionWarning: A column-vector y was passed when a 1d array was expected. Please change the shape of y to (n_samples, ), for example using ravel().\n",
      "  return f(**kwargs)\n"
     ]
    },
    {
     "data": {
      "text/plain": [
       "GradientBoostingClassifier(learning_rate=0.01, max_depth=10,\n",
       "                           max_features='log2', min_samples_leaf=5,\n",
       "                           min_samples_split=5, n_estimators=900, subsample=1)"
      ]
     },
     "execution_count": 403,
     "metadata": {},
     "output_type": "execute_result"
    }
   ],
   "source": [
    "clfb.fit(X_train, y_train)"
   ]
  },
  {
   "cell_type": "code",
   "execution_count": 404,
   "metadata": {
    "scrolled": true
   },
   "outputs": [
    {
     "data": {
      "text/plain": [
       "0.6702898550724637"
      ]
     },
     "execution_count": 404,
     "metadata": {},
     "output_type": "execute_result"
    }
   ],
   "source": [
    "clfb.predict(X_test)\n",
    "clfb.score(X_test, np.asarray(y_test).ravel())"
   ]
  },
  {
   "cell_type": "code",
   "execution_count": 405,
   "metadata": {},
   "outputs": [
    {
     "data": {
      "image/png": "[encoded data removed]",
      "text/plain": [
       "<Figure size 432x288 with 1 Axes>"
      ]
     },
     "metadata": {
      "needs_background": "light"
     },
     "output_type": "display_data"
    }
   ],
   "source": [
    "gbc_roc_auc = roc_auc_score(y_test, clfb.predict(X_test))\n",
    "fpr, tpr, thresholds = roc_curve(y_test, clfb.predict_proba(X_test)[:,1])\n",
    "plt.figure()\n",
    "plt.plot(fpr, tpr, label='GBC (area = %0.2f)' % gbc_roc_auc)\n",
    "plt.plot([0, 1], [0, 1],'r--')\n",
    "plt.xlim([0.0, 1.0])\n",
    "plt.ylim([0.0, 1.05])\n",
    "plt.xlabel('False Positive Rate')\n",
    "plt.ylabel('True Positive Rate')\n",
    "plt.title('ROC Curve Gradient Boosting Classifier (GBC)')\n",
    "plt.legend(loc=\"upper left\")\n",
    "plt.show()"
   ]
  },
  {
   "cell_type": "code",
   "execution_count": 406,
   "metadata": {
    "scrolled": true
   },
   "outputs": [
    {
     "data": {
      "text/plain": [
       "array([0.06134339, 0.05385902, 0.05557644, 0.08303388, 0.06093974,\n",
       "       0.0433348 , 0.06085993, 0.06585819, 0.06282836, 0.05836339,\n",
       "       0.06956377, 0.02491619, 0.0855021 , 0.05678201, 0.05738265,\n",
       "       0.02321233, 0.04044175, 0.03620204])"
      ]
     },
     "execution_count": 406,
     "metadata": {},
     "output_type": "execute_result"
    }
   ],
   "source": [
    "clfb.feature_importances_"
   ]
  },
  {
   "cell_type": "code",
   "execution_count": 407,
   "metadata": {
    "scrolled": true
   },
   "outputs": [
    {
     "data": {
      "image/png": "[encoded data removed]",
      "text/plain": [
       "<Figure size 432x288 with 2 Axes>"
      ]
     },
     "metadata": {
      "needs_background": "light"
     },
     "output_type": "display_data"
    }
   ],
   "source": [
    "disp = plot_confusion_matrix(clfb, X_test, y_test, display_labels=['Not a Hit', 'Hit'], cmap = plt.cm.Blues, normalize='true')\n"
   ]
  },
  {
   "cell_type": "markdown",
   "metadata": {},
   "source": [
    "## XGBoost"
   ]
  },
  {
   "cell_type": "code",
   "execution_count": 409,
   "metadata": {},
   "outputs": [],
   "source": [
    "from xgboost import XGBClassifier"
   ]
  },
  {
   "cell_type": "code",
   "execution_count": 487,
   "metadata": {},
   "outputs": [
    {
     "data": {
      "text/plain": [
       "XGBClassifier(base_score=0.5, booster='gbtree', colsample_bylevel=1,\n",
       "              colsample_bynode=1, colsample_bytree=1, gamma=0, gpu_id=-1,\n",
       "              importance_type='gain', interaction_constraints='',\n",
       "              learning_rate=0.1, max_delta_step=0, max_depth=8,\n",
       "              min_child_weight=4, missing=nan, monotone_constraints='()',\n",
       "              n_estimators=500, n_jobs=0, num_parallel_tree=1, random_state=42,\n",
       "              reg_alpha=0, reg_lambda=1, scale_pos_weight=1, subsample=0.8,\n",
       "              tree_method='exact', validate_parameters=1, verbosity=None)"
      ]
     },
     "execution_count": 487,
     "metadata": {},
     "output_type": "execute_result"
    }
   ],
   "source": [
    "xgb = XGBClassifier(max_depth = 8, min_child_weight = 4, subsample = 0.8, colsample_bytree = 1\n",
    "                        ,n_estimators = 500, booster = 'gbtree', objective= 'binary:logistic'\n",
    "                      ,random_state = 42, learning_rate = 0.1)\n",
    "xgb.fit(X_train, y_train)"
   ]
  },
  {
   "cell_type": "code",
   "execution_count": 488,
   "metadata": {},
   "outputs": [],
   "source": [
    "y_pred = xgb.predict(X_test)\n",
    "predictions = [round(value) for value in y_pred]"
   ]
  },
  {
   "cell_type": "code",
   "execution_count": 489,
   "metadata": {},
   "outputs": [
    {
     "name": "stdout",
     "output_type": "stream",
     "text": [
      "Accuracy: 65.04%\n"
     ]
    }
   ],
   "source": [
    "accuracy = accuracy_score(y_test, predictions)\n",
    "print(\"Accuracy: %.2f%%\" % (accuracy * 100.0))"
   ]
  },
  {
   "cell_type": "code",
   "execution_count": 490,
   "metadata": {},
   "outputs": [
    {
     "data": {
      "image/png": "[encoded data removed]",
      "text/plain": [
       "<Figure size 432x288 with 2 Axes>"
      ]
     },
     "metadata": {
      "needs_background": "light"
     },
     "output_type": "display_data"
    }
   ],
   "source": [
    "disp = plot_confusion_matrix(xgb, X_test, y_test, display_labels=['Not a Hit', 'Hit'], cmap = plt.cm.Blues, normalize='true')\n"
   ]
  },
  {
   "cell_type": "code",
   "execution_count": null,
   "metadata": {},
   "outputs": [],
   "source": []
  }
 ],
 "metadata": {
  "kernelspec": {
   "display_name": "music",
   "language": "python",
   "name": "music"
  },
  "language_info": {
   "codemirror_mode": {
    "name": "ipython",
    "version": 3
   },
   "file_extension": ".py",
   "mimetype": "text/x-python",
   "name": "python",
   "nbconvert_exporter": "python",
   "pygments_lexer": "ipython3",
   "version": "3.7.7"
  }
 },
 "nbformat": 4,
 "nbformat_minor": 2
}
