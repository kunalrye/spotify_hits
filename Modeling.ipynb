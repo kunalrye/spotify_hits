{
 "cells": [
  {
   "cell_type": "markdown",
   "metadata": {
    "cell_id": "00001-edfab5ab-1132-457d-bc85-3a19f7b13390",
    "deepnote_cell_type": "markdown"
   },
   "source": [
    "# README:\n",
    "This notebook contains both SMOTE and non-SMOTE models. The non-SMOTE models are what are presented in our final report. This notebook only contains some of the models, please also inspect our other modeling notebook to see all of them"
   ]
  },
  {
   "cell_type": "code",
   "execution_count": 48,
   "metadata": {
    "cell_id": "00000-5c96b772-4f04-4a37-bb6f-5a4c12799be1",
    "deepnote_cell_type": "code",
    "execution_millis": 30924,
    "execution_start": 1607008895846,
    "output_cleared": false,
    "source_hash": "56b90a25",
    "tags": []
   },
   "outputs": [],
   "source": [
    "# only needs to be run if running notebook in Deepnote / Colab\n",
    "# !pip install seaborn tensorflow xgboost imblearn"
   ]
  },
  {
   "cell_type": "code",
   "execution_count": 18,
   "metadata": {
    "cell_id": "00000-a2f7312f-c4e1-4d0a-b613-02d4341e7d7e",
    "deepnote_cell_type": "code",
    "execution_millis": 2119,
    "execution_start": 1607008931567,
    "output_cleared": false,
    "source_hash": "c4c31241"
   },
   "outputs": [],
   "source": [
    "import pandas as pd\n",
    "import numpy as np\n",
    "import seaborn as sns\n",
    "import matplotlib.pyplot as plt \n",
    "plt.rc(\"font\", size=14)\n",
    "\n",
    "import sklearn\n",
    "from sklearn import preprocessing\n",
    "from sklearn.model_selection import train_test_split\n",
    "from sklearn.metrics import plot_roc_curve, roc_auc_score, roc_curve\n",
    "\n",
    "from sklearn.compose import make_column_transformer\n",
    "from sklearn.preprocessing import LabelEncoder\n",
    "from sklearn.feature_selection import mutual_info_classif, RFE\n",
    "\n",
    "from sklearn.linear_model import LogisticRegression\n",
    "from sklearn.metrics import confusion_matrix, plot_confusion_matrix, accuracy_score\n",
    "from sklearn.preprocessing import StandardScaler\n",
    "from sklearn.model_selection import GridSearchCV \n",
    "from sklearn.neural_network import MLPClassifier\n",
    "from sklearn.ensemble import GradientBoostingClassifier\n",
    "from sklearn.tree import DecisionTreeClassifier\n",
    "\n",
    "import tensorflow as tf\n",
    "from tensorflow import keras\n",
    "from tensorflow.keras import initializers\n",
    "from xgboost import XGBClassifier\n",
    "from collections import Counter\n",
    "from imblearn.over_sampling import SMOTE"
   ]
  },
  {
   "cell_type": "markdown",
   "metadata": {
    "cell_id": "00002-1b2fd277-abf9-4afb-8b66-fb51bf3d48c1",
    "deepnote_cell_type": "markdown"
   },
   "source": [
    "# SMOTE Models"
   ]
  },
  {
   "cell_type": "code",
   "execution_count": 2,
   "metadata": {
    "cell_id": "00003-0be29b8a-6d2a-4264-9531-c15b5220332b",
    "deepnote_cell_type": "code",
    "execution_millis": 349,
    "execution_start": 1607015995601,
    "output_cleared": false,
    "source_hash": "f1c39733"
   },
   "outputs": [],
   "source": [
    "# final_dataset file is unbalanced\n",
    "data = pd.read_csv(\"data/final_dataset.csv\", index_col=0)\n",
    "del data['Unnamed: 0.1']"
   ]
  },
  {
   "cell_type": "code",
   "execution_count": 3,
   "metadata": {
    "cell_id": "00004-81f0612b-8baa-4eab-9bd0-4d5334fce062",
    "deepnote_cell_type": "code",
    "execution_millis": 42,
    "execution_start": 1607015996205,
    "output_cleared": false,
    "source_hash": "41313cfa"
   },
   "outputs": [
    {
     "data": {
      "text/html": [
       "<div>\n",
       "<style scoped>\n",
       "    .dataframe tbody tr th:only-of-type {\n",
       "        vertical-align: middle;\n",
       "    }\n",
       "\n",
       "    .dataframe tbody tr th {\n",
       "        vertical-align: top;\n",
       "    }\n",
       "\n",
       "    .dataframe thead th {\n",
       "        text-align: right;\n",
       "    }\n",
       "</style>\n",
       "<table border=\"1\" class=\"dataframe\">\n",
       "  <thead>\n",
       "    <tr style=\"text-align: right;\">\n",
       "      <th></th>\n",
       "      <th>track_id</th>\n",
       "      <th>track_name</th>\n",
       "      <th>track_artist</th>\n",
       "      <th>lyrics</th>\n",
       "      <th>track_popularity</th>\n",
       "      <th>track_album_id</th>\n",
       "      <th>track_album_name</th>\n",
       "      <th>track_album_release_date</th>\n",
       "      <th>playlist_name</th>\n",
       "      <th>playlist_id</th>\n",
       "      <th>...</th>\n",
       "      <th>language</th>\n",
       "      <th>Hit or Not</th>\n",
       "      <th>lyrical_subjectivity</th>\n",
       "      <th>lyrical_polarity</th>\n",
       "      <th>repeated_phrases</th>\n",
       "      <th>minutes</th>\n",
       "      <th>word_count</th>\n",
       "      <th>WPM_approx</th>\n",
       "      <th>year</th>\n",
       "      <th>artist_past_performance</th>\n",
       "    </tr>\n",
       "  </thead>\n",
       "  <tbody>\n",
       "    <tr>\n",
       "      <th>0</th>\n",
       "      <td>004s3t0ONYlzxII9PLgU6z</td>\n",
       "      <td>I Feel Alive</td>\n",
       "      <td>Steady Rollin</td>\n",
       "      <td>The trees, are singing in the wind The sky blu...</td>\n",
       "      <td>28</td>\n",
       "      <td>3z04Lb9Dsilqw68SHt6jLB</td>\n",
       "      <td>Love &amp; Loss</td>\n",
       "      <td>2017-11-21</td>\n",
       "      <td>Hard Rock Workout</td>\n",
       "      <td>3YouF0u7waJnolytf9JCXf</td>\n",
       "      <td>...</td>\n",
       "      <td>en</td>\n",
       "      <td>0</td>\n",
       "      <td>0.388542</td>\n",
       "      <td>0.214583</td>\n",
       "      <td>0</td>\n",
       "      <td>6.225200</td>\n",
       "      <td>111</td>\n",
       "      <td>17.830752</td>\n",
       "      <td>2017</td>\n",
       "      <td>0</td>\n",
       "    </tr>\n",
       "    <tr>\n",
       "      <th>1</th>\n",
       "      <td>00chLpzhgVjxs1zKC9UScL</td>\n",
       "      <td>Poison</td>\n",
       "      <td>Bell Biv DeVoe</td>\n",
       "      <td>NA Yeah, Spyderman and Freeze in full effect U...</td>\n",
       "      <td>0</td>\n",
       "      <td>6oZ6brjB8x3GoeSYdwJdPc</td>\n",
       "      <td>Gold</td>\n",
       "      <td>2005-01-01</td>\n",
       "      <td>Back in the day - R&amp;B, New Jack Swing, Swingbe...</td>\n",
       "      <td>3a9y4eeCJRmG9p4YKfqYIx</td>\n",
       "      <td>...</td>\n",
       "      <td>en</td>\n",
       "      <td>1</td>\n",
       "      <td>0.460365</td>\n",
       "      <td>0.150858</td>\n",
       "      <td>0</td>\n",
       "      <td>4.374450</td>\n",
       "      <td>420</td>\n",
       "      <td>96.012070</td>\n",
       "      <td>2005</td>\n",
       "      <td>7</td>\n",
       "    </tr>\n",
       "    <tr>\n",
       "      <th>2</th>\n",
       "      <td>00cqd6ZsSkLZqGMlQCR0Zo</td>\n",
       "      <td>Baby It's Cold Outside</td>\n",
       "      <td>CeeLo Green</td>\n",
       "      <td>I really can't stay Baby it's cold outside I'v...</td>\n",
       "      <td>41</td>\n",
       "      <td>3ssspRe42CXkhPxdc12xcp</td>\n",
       "      <td>CeeLo's Magic Moment</td>\n",
       "      <td>2012-10-29</td>\n",
       "      <td>Christmas Soul</td>\n",
       "      <td>6FZYc2BvF7tColxO8PBShV</td>\n",
       "      <td>...</td>\n",
       "      <td>en</td>\n",
       "      <td>0</td>\n",
       "      <td>0.611454</td>\n",
       "      <td>0.113423</td>\n",
       "      <td>0</td>\n",
       "      <td>4.051117</td>\n",
       "      <td>341</td>\n",
       "      <td>84.174322</td>\n",
       "      <td>2012</td>\n",
       "      <td>0</td>\n",
       "    </tr>\n",
       "    <tr>\n",
       "      <th>3</th>\n",
       "      <td>00emjlCv9azBN0fzuuyLqy</td>\n",
       "      <td>Dumb Litty</td>\n",
       "      <td>KARD</td>\n",
       "      <td>Get up out of my business You don't keep me fr...</td>\n",
       "      <td>65</td>\n",
       "      <td>7h5X3xhh3peIK9Y0qI5hbK</td>\n",
       "      <td>KARD 2nd Digital Single ‘Dumb Litty’</td>\n",
       "      <td>2019-09-22</td>\n",
       "      <td>K-Party Dance Mix</td>\n",
       "      <td>37i9dQZF1DX4RDXswvP6Mj</td>\n",
       "      <td>...</td>\n",
       "      <td>en</td>\n",
       "      <td>0</td>\n",
       "      <td>0.570486</td>\n",
       "      <td>-0.442188</td>\n",
       "      <td>2</td>\n",
       "      <td>3.219333</td>\n",
       "      <td>347</td>\n",
       "      <td>107.786291</td>\n",
       "      <td>2019</td>\n",
       "      <td>0</td>\n",
       "    </tr>\n",
       "    <tr>\n",
       "      <th>4</th>\n",
       "      <td>00f9VGHfQhAHMCQ2bSjg3D</td>\n",
       "      <td>Soldier</td>\n",
       "      <td>James TW</td>\n",
       "      <td>Hold your breath, don't look down, keep trying...</td>\n",
       "      <td>70</td>\n",
       "      <td>3GNzXsFbzdwM0WKCZtgeNP</td>\n",
       "      <td>Chapters</td>\n",
       "      <td>2019-04-26</td>\n",
       "      <td>urban contemporary</td>\n",
       "      <td>4WiB26kw0INKwbzfb5M6Tv</td>\n",
       "      <td>...</td>\n",
       "      <td>en</td>\n",
       "      <td>1</td>\n",
       "      <td>0.609292</td>\n",
       "      <td>0.232474</td>\n",
       "      <td>0</td>\n",
       "      <td>3.745333</td>\n",
       "      <td>359</td>\n",
       "      <td>95.852617</td>\n",
       "      <td>2019</td>\n",
       "      <td>0</td>\n",
       "    </tr>\n",
       "  </tbody>\n",
       "</table>\n",
       "<p>5 rows × 34 columns</p>\n",
       "</div>"
      ],
      "text/plain": [
       "                 track_id              track_name    track_artist  \\\n",
       "0  004s3t0ONYlzxII9PLgU6z            I Feel Alive   Steady Rollin   \n",
       "1  00chLpzhgVjxs1zKC9UScL                  Poison  Bell Biv DeVoe   \n",
       "2  00cqd6ZsSkLZqGMlQCR0Zo  Baby It's Cold Outside     CeeLo Green   \n",
       "3  00emjlCv9azBN0fzuuyLqy              Dumb Litty            KARD   \n",
       "4  00f9VGHfQhAHMCQ2bSjg3D                 Soldier        James TW   \n",
       "\n",
       "                                              lyrics  track_popularity  \\\n",
       "0  The trees, are singing in the wind The sky blu...                28   \n",
       "1  NA Yeah, Spyderman and Freeze in full effect U...                 0   \n",
       "2  I really can't stay Baby it's cold outside I'v...                41   \n",
       "3  Get up out of my business You don't keep me fr...                65   \n",
       "4  Hold your breath, don't look down, keep trying...                70   \n",
       "\n",
       "           track_album_id                      track_album_name  \\\n",
       "0  3z04Lb9Dsilqw68SHt6jLB                           Love & Loss   \n",
       "1  6oZ6brjB8x3GoeSYdwJdPc                                  Gold   \n",
       "2  3ssspRe42CXkhPxdc12xcp                  CeeLo's Magic Moment   \n",
       "3  7h5X3xhh3peIK9Y0qI5hbK  KARD 2nd Digital Single ‘Dumb Litty’   \n",
       "4  3GNzXsFbzdwM0WKCZtgeNP                              Chapters   \n",
       "\n",
       "  track_album_release_date                                      playlist_name  \\\n",
       "0               2017-11-21                                  Hard Rock Workout   \n",
       "1               2005-01-01  Back in the day - R&B, New Jack Swing, Swingbe...   \n",
       "2               2012-10-29                                     Christmas Soul   \n",
       "3               2019-09-22                                  K-Party Dance Mix   \n",
       "4               2019-04-26                                 urban contemporary   \n",
       "\n",
       "              playlist_id  ... language Hit or Not  lyrical_subjectivity  \\\n",
       "0  3YouF0u7waJnolytf9JCXf  ...       en          0              0.388542   \n",
       "1  3a9y4eeCJRmG9p4YKfqYIx  ...       en          1              0.460365   \n",
       "2  6FZYc2BvF7tColxO8PBShV  ...       en          0              0.611454   \n",
       "3  37i9dQZF1DX4RDXswvP6Mj  ...       en          0              0.570486   \n",
       "4  4WiB26kw0INKwbzfb5M6Tv  ...       en          1              0.609292   \n",
       "\n",
       "   lyrical_polarity  repeated_phrases   minutes  word_count  WPM_approx  year  \\\n",
       "0          0.214583                 0  6.225200         111   17.830752  2017   \n",
       "1          0.150858                 0  4.374450         420   96.012070  2005   \n",
       "2          0.113423                 0  4.051117         341   84.174322  2012   \n",
       "3         -0.442188                 2  3.219333         347  107.786291  2019   \n",
       "4          0.232474                 0  3.745333         359   95.852617  2019   \n",
       "\n",
       "   artist_past_performance  \n",
       "0                        0  \n",
       "1                        7  \n",
       "2                        0  \n",
       "3                        0  \n",
       "4                        0  \n",
       "\n",
       "[5 rows x 34 columns]"
      ]
     },
     "execution_count": 3,
     "metadata": {},
     "output_type": "execute_result"
    }
   ],
   "source": [
    "data.head()"
   ]
  },
  {
   "cell_type": "code",
   "execution_count": 4,
   "metadata": {
    "cell_id": "00005-817a529a-96ba-4428-bfc5-ded802f7b6b5",
    "deepnote_cell_type": "code",
    "execution_millis": 5,
    "execution_start": 1607015996878,
    "output_cleared": false,
    "source_hash": "fb2bfa78"
   },
   "outputs": [
    {
     "data": {
      "text/plain": [
       "False"
      ]
     },
     "execution_count": 4,
     "metadata": {},
     "output_type": "execute_result"
    }
   ],
   "source": [
    "# check for nan values in df\n",
    "data.isna().values.any()"
   ]
  },
  {
   "cell_type": "code",
   "execution_count": 5,
   "metadata": {
    "cell_id": "00006-410df981-c8f3-46e3-92dc-b13f2c4cc340",
    "deepnote_cell_type": "code",
    "execution_millis": 3,
    "execution_start": 1607015996886,
    "output_cleared": false,
    "source_hash": "f1b1a4cd"
   },
   "outputs": [],
   "source": [
    "# Defining the relevant columns from the dataframe as some are not necessary or useful \n",
    "\n",
    "numerical_columns = ['danceability', 'energy', 'loudness',\n",
    "           'speechiness', 'acousticness', 'instrumentalness', \n",
    "           'liveness', 'valence', 'tempo', \n",
    "           'lyrical_subjectivity', 'lyrical_polarity', \n",
    "           'repeated_phrases', 'minutes', 'word_count', 'WPM_approx', 'artist_past_performance']\n",
    "\n",
    "categorical_columns = ['track_artist', 'playlist_genre', 'playlist_subgenre']\n",
    "\n",
    "target_variable = ['Hit or Not']\n",
    "\n",
    "all_features = ['danceability', 'energy', 'loudness',\n",
    "           'speechiness', 'acousticness', 'instrumentalness', \n",
    "           'liveness', 'valence', 'tempo', \n",
    "           'lyrical_subjectivity', 'lyrical_polarity', \n",
    "           'repeated_phrases', 'minutes', 'word_count', 'WPM_approx',\n",
    "             'playlist_genre', 'playlist_subgenre', 'artist_past_performance']"
   ]
  },
  {
   "cell_type": "code",
   "execution_count": 6,
   "metadata": {
    "cell_id": "00007-37ef55c2-afb1-4553-a543-fadd2fe90021",
    "deepnote_cell_type": "code",
    "execution_millis": 7,
    "execution_start": 1607015996905,
    "output_cleared": false,
    "source_hash": "1d354b52"
   },
   "outputs": [],
   "source": [
    "# Some of the variables are strings and need to be converted to categoricals (ints) to be machine interpretable\n",
    "le = LabelEncoder()\n",
    "data[categorical_columns] = data[categorical_columns].apply(le.fit_transform)"
   ]
  },
  {
   "cell_type": "code",
   "execution_count": 7,
   "metadata": {
    "cell_id": "00008-d850b54b-9747-4027-8fe1-1804daa5d429",
    "deepnote_cell_type": "code",
    "execution_millis": 11,
    "execution_start": 1607015999133,
    "output_cleared": false,
    "source_hash": "fc94f7af"
   },
   "outputs": [
    {
     "data": {
      "text/plain": [
       "False"
      ]
     },
     "execution_count": 7,
     "metadata": {},
     "output_type": "execute_result"
    }
   ],
   "source": [
    "data.isna().values.any()"
   ]
  },
  {
   "cell_type": "code",
   "execution_count": 8,
   "metadata": {
    "cell_id": "00009-5de0fafb-c81b-4ed6-90c1-af964fc94830",
    "deepnote_cell_type": "code",
    "execution_millis": 22,
    "execution_start": 1607016001568,
    "output_cleared": false,
    "source_hash": "89b027b6"
   },
   "outputs": [],
   "source": [
    "# min-max scaling of numerical features\n",
    "data[numerical_columns]=(data[numerical_columns]-data[numerical_columns].min())/(data[numerical_columns].max()-data[numerical_columns].min())"
   ]
  },
  {
   "cell_type": "code",
   "execution_count": 9,
   "metadata": {
    "cell_id": "00010-e2c667fd-882f-41d5-823d-f2316a423c14",
    "deepnote_cell_type": "code",
    "execution_millis": 11,
    "execution_start": 1607016002016,
    "output_cleared": false,
    "source_hash": "fc94f7af"
   },
   "outputs": [
    {
     "data": {
      "text/plain": [
       "False"
      ]
     },
     "execution_count": 9,
     "metadata": {},
     "output_type": "execute_result"
    }
   ],
   "source": [
    "data.isna().values.any()"
   ]
  },
  {
   "cell_type": "code",
   "execution_count": 10,
   "metadata": {
    "cell_id": "00011-339025ae-21a3-4741-883e-baa76e2219d2",
    "deepnote_cell_type": "code",
    "execution_millis": 1,
    "execution_start": 1607016003524,
    "output_cleared": false,
    "source_hash": "7d1d0de6"
   },
   "outputs": [],
   "source": [
    "# Define the X and y matrices\n",
    "X = data[all_features]\n",
    "y = data[target_variable]"
   ]
  },
  {
   "cell_type": "code",
   "execution_count": 11,
   "metadata": {
    "cell_id": "00012-2bbaa9ac-9f21-4c9c-969a-372d0d9f0814",
    "deepnote_cell_type": "code",
    "execution_millis": 1,
    "execution_start": 1607016003937,
    "output_cleared": false,
    "source_hash": "627c7390"
   },
   "outputs": [
    {
     "data": {
      "text/plain": [
       "(15405, 15405)"
      ]
     },
     "execution_count": 11,
     "metadata": {},
     "output_type": "execute_result"
    }
   ],
   "source": [
    "len(X), len(y)"
   ]
  },
  {
   "cell_type": "code",
   "execution_count": 12,
   "metadata": {
    "cell_id": "00013-d864b624-9aee-4290-bd08-7230fe2a8bbc",
    "deepnote_cell_type": "code",
    "execution_millis": 3,
    "execution_start": 1607016005530,
    "output_cleared": false,
    "source_hash": "ca82e6c4"
   },
   "outputs": [],
   "source": [
    "# Split the data into train and test, random state for reproducability\n",
    "X_train, X_test, y_train, y_test = train_test_split(X, y, test_size=0.3, random_state=42)"
   ]
  },
  {
   "cell_type": "code",
   "execution_count": 13,
   "metadata": {
    "cell_id": "00014-2f3fa41f-bfee-4fc1-9354-c3a9b3b7975d",
    "deepnote_cell_type": "code",
    "execution_millis": 4,
    "execution_start": 1607016006056,
    "output_cleared": false,
    "source_hash": "7072ce58"
   },
   "outputs": [],
   "source": [
    "def upsample(X_train, y_train):\n",
    "    # Upsampling using SMOTE\n",
    "    sm = SMOTE(random_state=42)\n",
    "    X_train_sm, y_train_sm = sm.fit_resample(X_train, y_train)\n",
    "    print(len(X_train_sm), len(y_train_sm))\n",
    "    return X_train_sm, y_train_sm"
   ]
  },
  {
   "cell_type": "code",
   "execution_count": 14,
   "metadata": {
    "cell_id": "00015-a2574fe6-982a-48a3-8927-a2589b014d1e",
    "deepnote_cell_type": "code",
    "execution_millis": 4,
    "execution_start": 1607016006314,
    "output_cleared": false,
    "source_hash": "d2aec2ff"
   },
   "outputs": [
    {
     "name": "stdout",
     "output_type": "stream",
     "text": [
      "16372 16372\n"
     ]
    }
   ],
   "source": [
    "X_train_up, y_train_up = upsample(X_train,y_train)"
   ]
  },
  {
   "cell_type": "markdown",
   "metadata": {
    "cell_id": "00016-129f44cb-40e3-40d5-a503-d77c61cea4c0",
    "deepnote_cell_type": "markdown"
   },
   "source": [
    "## Logistic Regression SMOTE"
   ]
  },
  {
   "cell_type": "code",
   "execution_count": 15,
   "metadata": {
    "cell_id": "00017-bf44fd1e-1159-4c7b-a6b7-115fd55baf38",
    "deepnote_cell_type": "code",
    "execution_millis": 2266,
    "execution_start": 1607016009916,
    "output_cleared": false,
    "source_hash": "c0b956c"
   },
   "outputs": [
    {
     "data": {
      "text/plain": [
       "array([0.19025095, 0.17580517, 0.01116774, 0.15544079, 0.05914863,\n",
       "       0.03913693, 0.15776367, 0.15178664, 0.08311011, 0.04458488,\n",
       "       0.04126809, 0.1777815 , 0.03059063, 0.1606651 , 0.01577895,\n",
       "       0.0152039 , 0.03555996, 0.1536122 ])"
      ]
     },
     "execution_count": 15,
     "metadata": {},
     "output_type": "execute_result"
    }
   ],
   "source": [
    "# inspecting the mutual information of features\n",
    "mutual_info_classif(X_train_up, np.asarray(y_train_up).ravel() ,discrete_features='auto', n_neighbors=5, copy=True, random_state=None)"
   ]
  },
  {
   "cell_type": "markdown",
   "metadata": {
    "cell_id": "00018-66ca6ed5-8aab-4098-a4bf-25fe2b75cc51",
    "deepnote_cell_type": "markdown"
   },
   "source": [
    "#### Recursive Feature Elimination for Logistic Regression"
   ]
  },
  {
   "cell_type": "code",
   "execution_count": 19,
   "metadata": {
    "cell_id": "00019-801dc85c-6dfd-4631-acb9-0d2783f55c8d",
    "deepnote_cell_type": "code",
    "execution_millis": 6605,
    "execution_start": 1607016014966,
    "output_cleared": false,
    "source_hash": "7caeaca4"
   },
   "outputs": [
    {
     "name": "stdout",
     "output_type": "stream",
     "text": [
      "[ True False  True  True  True False False  True False  True  True  True\n",
      "  True False False False False  True]\n",
      "[1 2 1 1 1 8 5 1 3 1 1 1 1 4 7 9 6 1]\n"
     ]
    }
   ],
   "source": [
    "logreg = LogisticRegression()\n",
    "rfe = RFE(estimator=DecisionTreeClassifier(), n_features_to_select=10)\n",
    "rfe = rfe.fit(X_train_up, np.asarray(y_train_up).ravel())\n",
    "print(rfe.support_)\n",
    "print(rfe.ranking_)"
   ]
  },
  {
   "cell_type": "code",
   "execution_count": 20,
   "metadata": {
    "cell_id": "00020-a6f52050-34f3-410a-85f5-1224724a7481",
    "deepnote_cell_type": "code",
    "execution_millis": 10,
    "execution_start": 1607016021577,
    "output_cleared": false,
    "source_hash": "d09133ec"
   },
   "outputs": [],
   "source": [
    "# select the features selected by RFE\n",
    "f = rfe.get_support(1)\n",
    "X_train_log = X_train_up[X_train_up.columns[f]]\n",
    "X_test_log = X_test[X_test.columns[f]]"
   ]
  },
  {
   "cell_type": "code",
   "execution_count": 21,
   "metadata": {
    "cell_id": "00021-2af128d5-1327-4138-b23f-70421d8513b1",
    "deepnote_cell_type": "code",
    "execution_millis": 103,
    "execution_start": 1607016021591,
    "output_cleared": false,
    "source_hash": "5b4e01d4"
   },
   "outputs": [
    {
     "data": {
      "text/html": [
       "<div>\n",
       "<style scoped>\n",
       "    .dataframe tbody tr th:only-of-type {\n",
       "        vertical-align: middle;\n",
       "    }\n",
       "\n",
       "    .dataframe tbody tr th {\n",
       "        vertical-align: top;\n",
       "    }\n",
       "\n",
       "    .dataframe thead th {\n",
       "        text-align: right;\n",
       "    }\n",
       "</style>\n",
       "<table border=\"1\" class=\"dataframe\">\n",
       "  <thead>\n",
       "    <tr style=\"text-align: right;\">\n",
       "      <th></th>\n",
       "      <th>danceability</th>\n",
       "      <th>loudness</th>\n",
       "      <th>speechiness</th>\n",
       "      <th>acousticness</th>\n",
       "      <th>valence</th>\n",
       "      <th>lyrical_subjectivity</th>\n",
       "      <th>lyrical_polarity</th>\n",
       "      <th>repeated_phrases</th>\n",
       "      <th>minutes</th>\n",
       "      <th>artist_past_performance</th>\n",
       "    </tr>\n",
       "  </thead>\n",
       "  <tbody>\n",
       "    <tr>\n",
       "      <th>0</th>\n",
       "      <td>0.623407</td>\n",
       "      <td>0.595281</td>\n",
       "      <td>0.016414</td>\n",
       "      <td>0.053325</td>\n",
       "      <td>0.131172</td>\n",
       "      <td>0.610737</td>\n",
       "      <td>0.427226</td>\n",
       "      <td>0.000000</td>\n",
       "      <td>0.421411</td>\n",
       "      <td>0.0</td>\n",
       "    </tr>\n",
       "    <tr>\n",
       "      <th>1</th>\n",
       "      <td>0.399768</td>\n",
       "      <td>0.854379</td>\n",
       "      <td>0.030706</td>\n",
       "      <td>0.000151</td>\n",
       "      <td>0.268408</td>\n",
       "      <td>0.800000</td>\n",
       "      <td>0.573460</td>\n",
       "      <td>0.015267</td>\n",
       "      <td>0.269900</td>\n",
       "      <td>0.0</td>\n",
       "    </tr>\n",
       "    <tr>\n",
       "      <th>2</th>\n",
       "      <td>0.826188</td>\n",
       "      <td>0.772034</td>\n",
       "      <td>0.052814</td>\n",
       "      <td>0.064212</td>\n",
       "      <td>0.116035</td>\n",
       "      <td>0.294029</td>\n",
       "      <td>0.489153</td>\n",
       "      <td>0.091603</td>\n",
       "      <td>0.505272</td>\n",
       "      <td>0.0</td>\n",
       "    </tr>\n",
       "    <tr>\n",
       "      <th>3</th>\n",
       "      <td>0.523754</td>\n",
       "      <td>0.826453</td>\n",
       "      <td>0.089996</td>\n",
       "      <td>0.180442</td>\n",
       "      <td>0.631681</td>\n",
       "      <td>0.510362</td>\n",
       "      <td>0.563565</td>\n",
       "      <td>0.000000</td>\n",
       "      <td>0.467352</td>\n",
       "      <td>0.0</td>\n",
       "    </tr>\n",
       "    <tr>\n",
       "      <th>4</th>\n",
       "      <td>0.772885</td>\n",
       "      <td>0.881996</td>\n",
       "      <td>0.063756</td>\n",
       "      <td>0.280241</td>\n",
       "      <td>0.396563</td>\n",
       "      <td>0.505696</td>\n",
       "      <td>0.676435</td>\n",
       "      <td>0.122137</td>\n",
       "      <td>0.393570</td>\n",
       "      <td>0.0</td>\n",
       "    </tr>\n",
       "  </tbody>\n",
       "</table>\n",
       "</div>"
      ],
      "text/plain": [
       "   danceability  loudness  speechiness  acousticness   valence  \\\n",
       "0      0.623407  0.595281     0.016414      0.053325  0.131172   \n",
       "1      0.399768  0.854379     0.030706      0.000151  0.268408   \n",
       "2      0.826188  0.772034     0.052814      0.064212  0.116035   \n",
       "3      0.523754  0.826453     0.089996      0.180442  0.631681   \n",
       "4      0.772885  0.881996     0.063756      0.280241  0.396563   \n",
       "\n",
       "   lyrical_subjectivity  lyrical_polarity  repeated_phrases   minutes  \\\n",
       "0              0.610737          0.427226          0.000000  0.421411   \n",
       "1              0.800000          0.573460          0.015267  0.269900   \n",
       "2              0.294029          0.489153          0.091603  0.505272   \n",
       "3              0.510362          0.563565          0.000000  0.467352   \n",
       "4              0.505696          0.676435          0.122137  0.393570   \n",
       "\n",
       "   artist_past_performance  \n",
       "0                      0.0  \n",
       "1                      0.0  \n",
       "2                      0.0  \n",
       "3                      0.0  \n",
       "4                      0.0  "
      ]
     },
     "execution_count": 21,
     "metadata": {},
     "output_type": "execute_result"
    }
   ],
   "source": [
    "# inspecting the features selected\n",
    "X_train_log.head()"
   ]
  },
  {
   "cell_type": "code",
   "execution_count": 22,
   "metadata": {
    "cell_id": "00023-d7bcc3f4-29e8-46a3-97e8-9b0ce1aded1b",
    "deepnote_cell_type": "code",
    "execution_millis": 8,
    "execution_start": 1607016042508,
    "output_cleared": false,
    "source_hash": "47de37e3",
    "tags": []
   },
   "outputs": [],
   "source": [
    "# scale columns for logistic regression\n",
    "scaler = StandardScaler()\n",
    "X_train_lr_sm = pd.DataFrame(scaler.fit_transform(X_train_log), columns=X_train_log.columns)\n",
    "X_test_lr_sm = pd.DataFrame(scaler.fit_transform(X_test_log), columns=X_test_log.columns)"
   ]
  },
  {
   "cell_type": "code",
   "execution_count": 23,
   "metadata": {
    "cell_id": "00022-0dfb0ca9-5b05-432a-8c8c-f9c2a739a449",
    "deepnote_cell_type": "code",
    "execution_millis": 80,
    "execution_start": 1607016048480,
    "output_cleared": false,
    "source_hash": "441b2514"
   },
   "outputs": [
    {
     "data": {
      "text/plain": [
       "LogisticRegression()"
      ]
     },
     "execution_count": 23,
     "metadata": {},
     "output_type": "execute_result"
    }
   ],
   "source": [
    "logreg = LogisticRegression()\n",
    "logreg.fit(X_train_lr_sm, np.asarray(y_train_up).ravel())"
   ]
  },
  {
   "cell_type": "code",
   "execution_count": 24,
   "metadata": {
    "cell_id": "00023-2ed4aa45-e418-4937-b197-dac6b754105b",
    "deepnote_cell_type": "code",
    "execution_millis": 1,
    "execution_start": 1607016076449,
    "output_cleared": false,
    "source_hash": "3ad4c40f"
   },
   "outputs": [
    {
     "name": "stdout",
     "output_type": "stream",
     "text": [
      "Accuracy of logistic regression classifier on test set: 0.56\n"
     ]
    }
   ],
   "source": [
    "y_pred = logreg.predict(X_test_lr_sm)\n",
    "print('Accuracy of logistic regression classifier on test set: {:.2f}'.format(logreg.score(X_test_lr_sm, y_test)))"
   ]
  },
  {
   "cell_type": "code",
   "execution_count": 25,
   "metadata": {
    "cell_id": "00025-28afb3b6-fe3b-4f62-afdd-784d1c8ea3a5",
    "deepnote_cell_type": "code",
    "execution_millis": 204,
    "execution_start": 1607016086442,
    "output_cleared": false,
    "scrolled": true,
    "source_hash": "7fdb51ab"
   },
   "outputs": [
    {
     "data": {
      "image/png": "[encoded data removed]",
      "text/plain": [
       "<Figure size 432x288 with 2 Axes>"
      ]
     },
     "metadata": {
      "needs_background": "light"
     },
     "output_type": "display_data"
    }
   ],
   "source": [
    "disp = plot_confusion_matrix(logreg, X_test_lr_sm, y_test, display_labels=['Not a Hit', 'Hit'], cmap = plt.cm.Blues, normalize='true')"
   ]
  },
  {
   "cell_type": "code",
   "execution_count": 26,
   "metadata": {
    "cell_id": "00026-ef49456b-7de5-4e76-9bc8-b940713bc426",
    "deepnote_cell_type": "code",
    "execution_millis": 252,
    "execution_start": 1607016098999,
    "output_cleared": false,
    "source_hash": "c6967bd4"
   },
   "outputs": [
    {
     "data": {
      "text/plain": [
       "<sklearn.metrics._plot.roc_curve.RocCurveDisplay at 0x146b75910>"
      ]
     },
     "execution_count": 26,
     "metadata": {},
     "output_type": "execute_result"
    },
    {
     "data": {
      "image/png": "[encoded data removed]",
      "text/plain": [
       "<Figure size 432x288 with 1 Axes>"
      ]
     },
     "metadata": {
      "needs_background": "light"
     },
     "output_type": "display_data"
    }
   ],
   "source": [
    "plot_roc_curve(logreg, X_test_lr_sm, y_test)"
   ]
  },
  {
   "cell_type": "code",
   "execution_count": 112,
   "metadata": {
    "cell_id": "00027-984e7539-e411-450f-a92b-1007ee36d5ea",
    "deepnote_cell_type": "code",
    "execution_millis": 0,
    "execution_start": 1607016117562,
    "output_cleared": false,
    "source_hash": "afc5db42"
   },
   "outputs": [
    {
     "data": {
      "text/plain": [
       "GridSearchCV(estimator=LogisticRegression(max_iter=10000),\n",
       "             param_grid={'C': [0.001, 0.01, 0.1, 1, 10, 100, 1000]})"
      ]
     },
     "execution_count": 112,
     "metadata": {},
     "output_type": "execute_result"
    }
   ],
   "source": [
    "param_grid={'C': [0.001, 0.01, 0.1, 1, 10, 100, 1000]}\n",
    "clf = GridSearchCV(LogisticRegression(penalty='l2'), param_grid)\n",
    "GridSearchCV(cv=None,\n",
    "             estimator=LogisticRegression(C=1.0, intercept_scaling=1,   \n",
    "               dual=False, fit_intercept=True, penalty='l2', tol=0.0001, \n",
    "               max_iter = 10000),\n",
    "             param_grid={'C': [0.001, 0.01, 0.1, 1, 10, 100, 1000]})"
   ]
  },
  {
   "cell_type": "code",
   "execution_count": 113,
   "metadata": {
    "cell_id": "00028-596dbc5c-6ca9-4d16-9413-4a6ca121a3ac",
    "deepnote_cell_type": "code",
    "execution_millis": 3549,
    "execution_start": 1607016123126,
    "output_cleared": false,
    "scrolled": true,
    "source_hash": "f8b600b0"
   },
   "outputs": [
    {
     "data": {
      "text/plain": [
       "LogisticRegression(C=0.001)"
      ]
     },
     "execution_count": 113,
     "metadata": {},
     "output_type": "execute_result"
    }
   ],
   "source": [
    "best_clf = clf.fit(X_train_lr_sm, np.asarray(y_train_up).ravel())\n",
    "best_clf.best_estimator_"
   ]
  },
  {
   "cell_type": "code",
   "execution_count": 114,
   "metadata": {
    "cell_id": "00029-5ad402c3-92b2-4ec1-8227-98996855e2af",
    "deepnote_cell_type": "code",
    "execution_millis": 35,
    "execution_start": 1607016139059,
    "output_cleared": false,
    "source_hash": "86dd5bb"
   },
   "outputs": [
    {
     "data": {
      "text/plain": [
       "LogisticRegression(C=0.001)"
      ]
     },
     "execution_count": 114,
     "metadata": {},
     "output_type": "execute_result"
    }
   ],
   "source": [
    "logreg2 = LogisticRegression(C=0.001)\n",
    "logreg2.fit(X_train_lr_sm, np.asarray(y_train_up).ravel())"
   ]
  },
  {
   "cell_type": "code",
   "execution_count": 115,
   "metadata": {
    "cell_id": "00030-7bb7734b-dc08-47ae-a3fc-3e0eb75040a9",
    "deepnote_cell_type": "code",
    "execution_millis": 13,
    "execution_start": 1607016149322,
    "output_cleared": false,
    "source_hash": "75e41c90"
   },
   "outputs": [
    {
     "name": "stdout",
     "output_type": "stream",
     "text": [
      "Accuracy of logistic regression classifier on test set: 0.56\n"
     ]
    }
   ],
   "source": [
    "y_pred = logreg2.predict(X_test_lr_sm)\n",
    "print('Accuracy of logistic regression classifier on test set: {:.2f}'.format(logreg2.score(X_test_lr_sm, y_test)))"
   ]
  },
  {
   "cell_type": "code",
   "execution_count": 117,
   "metadata": {
    "cell_id": "00031-8063b67f-c6d8-4550-a6a9-440f7405e305",
    "deepnote_cell_type": "code",
    "execution_millis": 214,
    "execution_start": 1607016159737,
    "output_cleared": false,
    "source_hash": "17d3b07e"
   },
   "outputs": [
    {
     "data": {
      "image/png": "[encoded data removed]",
      "text/plain": [
       "<Figure size 432x288 with 2 Axes>"
      ]
     },
     "metadata": {
      "needs_background": "light"
     },
     "output_type": "display_data"
    }
   ],
   "source": [
    "disp = plot_confusion_matrix(logreg2, X_test_lr_sm, y_test, display_labels=['Not a Hit', 'Hit'], cmap = plt.cm.Blues, normalize='true')"
   ]
  },
  {
   "cell_type": "code",
   "execution_count": 34,
   "metadata": {
    "cell_id": "00032-9759bb39-6036-46c1-9ae5-711e84fcdfc6",
    "deepnote_cell_type": "code",
    "execution_millis": 159,
    "execution_start": 1607009346790,
    "output_cleared": false,
    "source_hash": "98018c8e"
   },
   "outputs": [
    {
     "data": {
      "text/plain": [
       "<sklearn.metrics._plot.roc_curve.RocCurveDisplay at 0x7f522f9c2b50>"
      ]
     },
     "execution_count": 34,
     "metadata": {},
     "output_type": "execute_result"
    },
    {
     "data": {
      "image/png": "[encoded data removed]",
      "text/plain": [
       "<Figure size 432x288 with 1 Axes>"
      ]
     },
     "metadata": {
      "needs_background": "light"
     },
     "output_type": "display_data"
    }
   ],
   "source": [
    "plot_roc_curve(logreg2, X_test_log, y_test)"
   ]
  },
  {
   "cell_type": "markdown",
   "metadata": {
    "cell_id": "00033-3f2c1c47-9aa6-4518-888c-8c37f3f1fcee",
    "deepnote_cell_type": "markdown"
   },
   "source": [
    "## Fully Connected NN SMOTE"
   ]
  },
  {
   "cell_type": "code",
   "execution_count": null,
   "metadata": {
    "cell_id": "00034-afaeda27-6885-4a20-97e9-f821766fc1af",
    "deepnote_cell_type": "code",
    "execution_millis": 10,
    "execution_start": 1606969908556,
    "output_cleared": false,
    "source_hash": "78c21821"
   },
   "outputs": [],
   "source": [
    "# normalize the data before feeding into a neural network\n",
    "scaler = StandardScaler()\n",
    "X_train_nn = pd.DataFrame(scaler.fit_transform(X_train_up), columns=X_train_up.columns)\n",
    "X_test_nn = pd.DataFrame(scaler.fit_transform(X_test), columns=X_test.columns)"
   ]
  },
  {
   "cell_type": "code",
   "execution_count": null,
   "metadata": {
    "cell_id": "00035-5e21a97a-c546-4662-8021-a4e493447244",
    "deepnote_cell_type": "code",
    "execution_millis": 5,
    "execution_start": 1606969912054,
    "output_cleared": false,
    "source_hash": "578ea3d2"
   },
   "outputs": [],
   "source": [
    "# create a validation set for the NN as Keras validation_split only selects the last x% of the data\n",
    "X_train_nn, X_valid_nn, y_train_nn, y_valid_nn = train_test_split(X_train_nn, y_train_up, test_size=0.3, random_state=42)"
   ]
  },
  {
   "cell_type": "code",
   "execution_count": null,
   "metadata": {
    "cell_id": "00036-65b8cac9-96fc-4e8f-a3ab-0de203b7e776",
    "deepnote_cell_type": "code",
    "execution_millis": 45,
    "execution_start": 1606969916870,
    "output_cleared": false,
    "source_hash": "882aaf2f"
   },
   "outputs": [],
   "source": [
    "model = keras.Sequential([\n",
    "    keras.layers.Flatten(input_shape=(18,)),\n",
    "\n",
    "    keras.layers.Dense(11, activation=tf.nn.relu, kernel_initializer='normal'),\n",
    "\n",
    "    keras.layers.Dense(1, activation=tf.nn.sigmoid),\n",
    "])"
   ]
  },
  {
   "cell_type": "code",
   "execution_count": null,
   "metadata": {
    "cell_id": "00037-1932ba7b-6e27-48fd-a192-d71070703270",
    "deepnote_cell_type": "code",
    "execution_millis": 32354,
    "execution_start": 1606969920835,
    "output_cleared": false,
    "scrolled": true,
    "source_hash": "fc5714ba"
   },
   "outputs": [
    {
     "name": "stdout",
     "output_type": "stream",
     "text": [
      "Epoch 1/100\n",
      "230/230 [==============================] - 0s 2ms/step - loss: 0.6689 - accuracy: 0.5968 - val_loss: 0.6532 - val_accuracy: 0.6142\n",
      "Epoch 2/100\n",
      "230/230 [==============================] - 0s 1ms/step - loss: 0.6450 - accuracy: 0.6248 - val_loss: 0.6467 - val_accuracy: 0.6244\n",
      "Epoch 3/100\n",
      "230/230 [==============================] - 0s 1ms/step - loss: 0.6394 - accuracy: 0.6292 - val_loss: 0.6427 - val_accuracy: 0.6291\n",
      "Epoch 4/100\n",
      "230/230 [==============================] - 0s 1ms/step - loss: 0.6346 - accuracy: 0.6305 - val_loss: 0.6392 - val_accuracy: 0.6333\n",
      "Epoch 5/100\n",
      "230/230 [==============================] - 0s 1ms/step - loss: 0.6304 - accuracy: 0.6415 - val_loss: 0.6350 - val_accuracy: 0.6395\n",
      "Epoch 6/100\n",
      "230/230 [==============================] - 0s 1ms/step - loss: 0.6270 - accuracy: 0.6442 - val_loss: 0.6328 - val_accuracy: 0.6464\n",
      "Epoch 7/100\n",
      "230/230 [==============================] - 0s 1ms/step - loss: 0.6238 - accuracy: 0.6470 - val_loss: 0.6292 - val_accuracy: 0.6462\n",
      "Epoch 8/100\n",
      "230/230 [==============================] - 0s 1ms/step - loss: 0.6211 - accuracy: 0.6491 - val_loss: 0.6278 - val_accuracy: 0.6462\n",
      "Epoch 9/100\n",
      "230/230 [==============================] - 0s 1ms/step - loss: 0.6190 - accuracy: 0.6519 - val_loss: 0.6278 - val_accuracy: 0.6443\n",
      "Epoch 10/100\n",
      "230/230 [==============================] - 0s 1ms/step - loss: 0.6171 - accuracy: 0.6542 - val_loss: 0.6242 - val_accuracy: 0.6527\n",
      "Epoch 11/100\n",
      "230/230 [==============================] - 0s 1ms/step - loss: 0.6152 - accuracy: 0.6555 - val_loss: 0.6248 - val_accuracy: 0.6496\n",
      "Epoch 12/100\n",
      "230/230 [==============================] - 0s 1ms/step - loss: 0.6142 - accuracy: 0.6571 - val_loss: 0.6237 - val_accuracy: 0.6488\n",
      "Epoch 13/100\n",
      "230/230 [==============================] - 0s 1ms/step - loss: 0.6127 - accuracy: 0.6579 - val_loss: 0.6220 - val_accuracy: 0.6496\n",
      "Epoch 14/100\n",
      "230/230 [==============================] - 0s 1ms/step - loss: 0.6120 - accuracy: 0.6596 - val_loss: 0.6220 - val_accuracy: 0.6519\n",
      "Epoch 15/100\n",
      "230/230 [==============================] - 0s 1ms/step - loss: 0.6103 - accuracy: 0.6573 - val_loss: 0.6196 - val_accuracy: 0.6513\n",
      "Epoch 16/100\n",
      "230/230 [==============================] - 0s 1ms/step - loss: 0.6091 - accuracy: 0.6588 - val_loss: 0.6187 - val_accuracy: 0.6527\n",
      "Epoch 17/100\n",
      "230/230 [==============================] - 0s 1ms/step - loss: 0.6084 - accuracy: 0.6608 - val_loss: 0.6179 - val_accuracy: 0.6531\n",
      "Epoch 18/100\n",
      "230/230 [==============================] - 0s 1ms/step - loss: 0.6075 - accuracy: 0.6615 - val_loss: 0.6188 - val_accuracy: 0.6559\n",
      "Epoch 19/100\n",
      "230/230 [==============================] - 0s 1ms/step - loss: 0.6068 - accuracy: 0.6622 - val_loss: 0.6173 - val_accuracy: 0.6547\n",
      "Epoch 20/100\n",
      "230/230 [==============================] - 0s 1ms/step - loss: 0.6062 - accuracy: 0.6619 - val_loss: 0.6175 - val_accuracy: 0.6557\n",
      "Epoch 21/100\n",
      "230/230 [==============================] - 0s 1ms/step - loss: 0.6050 - accuracy: 0.6672 - val_loss: 0.6186 - val_accuracy: 0.6608\n",
      "Epoch 22/100\n",
      "230/230 [==============================] - 0s 1ms/step - loss: 0.6044 - accuracy: 0.6647 - val_loss: 0.6159 - val_accuracy: 0.6559\n",
      "Epoch 23/100\n",
      "230/230 [==============================] - 0s 1ms/step - loss: 0.6040 - accuracy: 0.6646 - val_loss: 0.6151 - val_accuracy: 0.6561\n",
      "Epoch 24/100\n",
      "230/230 [==============================] - 0s 1ms/step - loss: 0.6033 - accuracy: 0.6654 - val_loss: 0.6156 - val_accuracy: 0.6590\n",
      "Epoch 25/100\n",
      "230/230 [==============================] - 0s 1ms/step - loss: 0.6024 - accuracy: 0.6649 - val_loss: 0.6165 - val_accuracy: 0.6631\n",
      "Epoch 26/100\n",
      "230/230 [==============================] - 0s 2ms/step - loss: 0.6023 - accuracy: 0.6672 - val_loss: 0.6155 - val_accuracy: 0.6606\n",
      "Epoch 27/100\n",
      "230/230 [==============================] - 0s 1ms/step - loss: 0.6017 - accuracy: 0.6678 - val_loss: 0.6154 - val_accuracy: 0.6602\n",
      "Epoch 28/100\n",
      "230/230 [==============================] - 0s 1ms/step - loss: 0.6014 - accuracy: 0.6691 - val_loss: 0.6139 - val_accuracy: 0.6616\n",
      "Epoch 29/100\n",
      "230/230 [==============================] - 0s 1ms/step - loss: 0.6011 - accuracy: 0.6688 - val_loss: 0.6137 - val_accuracy: 0.6612\n",
      "Epoch 30/100\n",
      "230/230 [==============================] - 0s 2ms/step - loss: 0.6004 - accuracy: 0.6696 - val_loss: 0.6147 - val_accuracy: 0.6576\n",
      "Epoch 31/100\n",
      "230/230 [==============================] - 0s 1ms/step - loss: 0.6007 - accuracy: 0.6697 - val_loss: 0.6140 - val_accuracy: 0.6623\n",
      "Epoch 32/100\n",
      "230/230 [==============================] - 0s 1ms/step - loss: 0.6000 - accuracy: 0.6716 - val_loss: 0.6134 - val_accuracy: 0.6629\n",
      "Epoch 33/100\n",
      "230/230 [==============================] - 0s 1ms/step - loss: 0.5995 - accuracy: 0.6705 - val_loss: 0.6136 - val_accuracy: 0.6629\n",
      "Epoch 34/100\n",
      "230/230 [==============================] - 0s 1ms/step - loss: 0.5994 - accuracy: 0.6693 - val_loss: 0.6140 - val_accuracy: 0.6610\n",
      "Epoch 35/100\n",
      "230/230 [==============================] - 0s 1ms/step - loss: 0.5992 - accuracy: 0.6703 - val_loss: 0.6128 - val_accuracy: 0.6588\n",
      "Epoch 36/100\n",
      "230/230 [==============================] - 0s 1ms/step - loss: 0.5991 - accuracy: 0.6704 - val_loss: 0.6137 - val_accuracy: 0.6602\n",
      "Epoch 37/100\n",
      "230/230 [==============================] - 0s 1ms/step - loss: 0.5984 - accuracy: 0.6733 - val_loss: 0.6147 - val_accuracy: 0.6608\n",
      "Epoch 38/100\n",
      "230/230 [==============================] - 0s 1ms/step - loss: 0.5984 - accuracy: 0.6705 - val_loss: 0.6136 - val_accuracy: 0.6610\n",
      "Epoch 39/100\n",
      "230/230 [==============================] - 0s 1ms/step - loss: 0.5983 - accuracy: 0.6701 - val_loss: 0.6138 - val_accuracy: 0.6598\n",
      "Epoch 40/100\n",
      "230/230 [==============================] - 0s 1ms/step - loss: 0.5979 - accuracy: 0.6702 - val_loss: 0.6129 - val_accuracy: 0.6584\n",
      "Epoch 41/100\n",
      "230/230 [==============================] - 0s 1ms/step - loss: 0.5977 - accuracy: 0.6735 - val_loss: 0.6127 - val_accuracy: 0.6604\n",
      "Epoch 42/100\n",
      "230/230 [==============================] - 0s 1ms/step - loss: 0.5971 - accuracy: 0.6728 - val_loss: 0.6126 - val_accuracy: 0.6618\n",
      "Epoch 43/100\n",
      "230/230 [==============================] - 0s 1ms/step - loss: 0.5970 - accuracy: 0.6738 - val_loss: 0.6140 - val_accuracy: 0.6623\n",
      "Epoch 44/100\n",
      "230/230 [==============================] - 0s 1ms/step - loss: 0.5969 - accuracy: 0.6721 - val_loss: 0.6146 - val_accuracy: 0.6590\n",
      "Epoch 45/100\n",
      "230/230 [==============================] - 0s 1ms/step - loss: 0.5966 - accuracy: 0.6721 - val_loss: 0.6128 - val_accuracy: 0.6627\n",
      "Epoch 46/100\n",
      "230/230 [==============================] - 0s 1ms/step - loss: 0.5963 - accuracy: 0.6732 - val_loss: 0.6126 - val_accuracy: 0.6647\n",
      "Epoch 47/100\n",
      "230/230 [==============================] - 0s 1ms/step - loss: 0.5961 - accuracy: 0.6723 - val_loss: 0.6129 - val_accuracy: 0.6604\n",
      "Epoch 48/100\n",
      "230/230 [==============================] - 0s 1ms/step - loss: 0.5959 - accuracy: 0.6732 - val_loss: 0.6127 - val_accuracy: 0.6614\n",
      "Epoch 49/100\n",
      "230/230 [==============================] - 0s 2ms/step - loss: 0.5955 - accuracy: 0.6708 - val_loss: 0.6130 - val_accuracy: 0.6643\n",
      "Epoch 50/100\n",
      "230/230 [==============================] - 0s 1ms/step - loss: 0.5954 - accuracy: 0.6753 - val_loss: 0.6127 - val_accuracy: 0.6647\n",
      "Epoch 51/100\n",
      "230/230 [==============================] - 0s 1ms/step - loss: 0.5951 - accuracy: 0.6734 - val_loss: 0.6135 - val_accuracy: 0.6637\n",
      "Epoch 52/100\n",
      "230/230 [==============================] - 0s 1ms/step - loss: 0.5950 - accuracy: 0.6725 - val_loss: 0.6125 - val_accuracy: 0.6631\n",
      "Epoch 53/100\n",
      "230/230 [==============================] - 0s 1ms/step - loss: 0.5947 - accuracy: 0.6773 - val_loss: 0.6128 - val_accuracy: 0.6637\n",
      "Epoch 54/100\n",
      "230/230 [==============================] - 0s 1ms/step - loss: 0.5942 - accuracy: 0.6754 - val_loss: 0.6126 - val_accuracy: 0.6657\n",
      "Epoch 55/100\n",
      "230/230 [==============================] - 0s 1ms/step - loss: 0.5945 - accuracy: 0.6764 - val_loss: 0.6123 - val_accuracy: 0.6651\n",
      "Epoch 56/100\n",
      "230/230 [==============================] - 0s 1ms/step - loss: 0.5942 - accuracy: 0.6752 - val_loss: 0.6123 - val_accuracy: 0.6661\n",
      "Epoch 57/100\n",
      "230/230 [==============================] - 0s 1ms/step - loss: 0.5936 - accuracy: 0.6767 - val_loss: 0.6128 - val_accuracy: 0.6608\n",
      "Epoch 58/100\n",
      "230/230 [==============================] - 0s 2ms/step - loss: 0.5942 - accuracy: 0.6746 - val_loss: 0.6121 - val_accuracy: 0.6653\n",
      "Epoch 59/100\n",
      "230/230 [==============================] - 0s 1ms/step - loss: 0.5936 - accuracy: 0.6802 - val_loss: 0.6130 - val_accuracy: 0.6667\n",
      "Epoch 60/100\n",
      "230/230 [==============================] - 0s 1ms/step - loss: 0.5936 - accuracy: 0.6776 - val_loss: 0.6125 - val_accuracy: 0.6663\n",
      "Epoch 61/100\n",
      "230/230 [==============================] - 0s 1ms/step - loss: 0.5933 - accuracy: 0.6777 - val_loss: 0.6131 - val_accuracy: 0.6639\n",
      "Epoch 62/100\n",
      "230/230 [==============================] - 0s 1ms/step - loss: 0.5935 - accuracy: 0.6758 - val_loss: 0.6121 - val_accuracy: 0.6680\n",
      "Epoch 63/100\n",
      "230/230 [==============================] - 0s 1ms/step - loss: 0.5932 - accuracy: 0.6770 - val_loss: 0.6123 - val_accuracy: 0.6694\n",
      "Epoch 64/100\n",
      "230/230 [==============================] - 0s 1ms/step - loss: 0.5931 - accuracy: 0.6809 - val_loss: 0.6124 - val_accuracy: 0.6653\n",
      "Epoch 65/100\n",
      "230/230 [==============================] - 0s 1ms/step - loss: 0.5925 - accuracy: 0.6780 - val_loss: 0.6123 - val_accuracy: 0.6682\n",
      "Epoch 66/100\n",
      "230/230 [==============================] - 0s 1ms/step - loss: 0.5925 - accuracy: 0.6777 - val_loss: 0.6114 - val_accuracy: 0.6667\n",
      "Epoch 67/100\n",
      "230/230 [==============================] - 0s 1ms/step - loss: 0.5921 - accuracy: 0.6771 - val_loss: 0.6124 - val_accuracy: 0.6675\n",
      "Epoch 68/100\n",
      "230/230 [==============================] - 0s 1ms/step - loss: 0.5922 - accuracy: 0.6792 - val_loss: 0.6125 - val_accuracy: 0.6694\n",
      "Epoch 69/100\n",
      "230/230 [==============================] - 0s 1ms/step - loss: 0.5920 - accuracy: 0.6784 - val_loss: 0.6125 - val_accuracy: 0.6688\n",
      "Epoch 70/100\n",
      "230/230 [==============================] - 0s 1ms/step - loss: 0.5920 - accuracy: 0.6780 - val_loss: 0.6109 - val_accuracy: 0.6702\n",
      "Epoch 71/100\n",
      "230/230 [==============================] - 0s 1ms/step - loss: 0.5921 - accuracy: 0.6816 - val_loss: 0.6119 - val_accuracy: 0.6708\n",
      "Epoch 72/100\n",
      "230/230 [==============================] - 0s 1ms/step - loss: 0.5917 - accuracy: 0.6787 - val_loss: 0.6116 - val_accuracy: 0.6698\n",
      "Epoch 73/100\n",
      "230/230 [==============================] - 0s 1ms/step - loss: 0.5915 - accuracy: 0.6828 - val_loss: 0.6116 - val_accuracy: 0.6684\n",
      "Epoch 74/100\n",
      "230/230 [==============================] - 0s 1ms/step - loss: 0.5917 - accuracy: 0.6782 - val_loss: 0.6122 - val_accuracy: 0.6673\n",
      "Epoch 75/100\n",
      "230/230 [==============================] - 0s 1ms/step - loss: 0.5912 - accuracy: 0.6816 - val_loss: 0.6127 - val_accuracy: 0.6663\n",
      "Epoch 76/100\n",
      "230/230 [==============================] - 0s 1ms/step - loss: 0.5912 - accuracy: 0.6793 - val_loss: 0.6111 - val_accuracy: 0.6747\n",
      "Epoch 77/100\n",
      "230/230 [==============================] - 0s 1ms/step - loss: 0.5909 - accuracy: 0.6821 - val_loss: 0.6129 - val_accuracy: 0.6671\n",
      "Epoch 78/100\n",
      "230/230 [==============================] - 0s 1ms/step - loss: 0.5911 - accuracy: 0.6803 - val_loss: 0.6110 - val_accuracy: 0.6688\n",
      "Epoch 79/100\n",
      "230/230 [==============================] - 0s 1ms/step - loss: 0.5908 - accuracy: 0.6840 - val_loss: 0.6128 - val_accuracy: 0.6704\n",
      "Epoch 80/100\n",
      "230/230 [==============================] - 0s 1ms/step - loss: 0.5908 - accuracy: 0.6846 - val_loss: 0.6112 - val_accuracy: 0.6686\n",
      "Epoch 81/100\n",
      "230/230 [==============================] - 0s 2ms/step - loss: 0.5909 - accuracy: 0.6812 - val_loss: 0.6117 - val_accuracy: 0.6720\n",
      "Epoch 82/100\n",
      "230/230 [==============================] - 0s 1ms/step - loss: 0.5900 - accuracy: 0.6818 - val_loss: 0.6159 - val_accuracy: 0.6659\n",
      "Epoch 83/100\n",
      "230/230 [==============================] - 0s 1ms/step - loss: 0.5904 - accuracy: 0.6818 - val_loss: 0.6114 - val_accuracy: 0.6690\n",
      "Epoch 84/100\n",
      "230/230 [==============================] - 0s 1ms/step - loss: 0.5902 - accuracy: 0.6806 - val_loss: 0.6133 - val_accuracy: 0.6684\n",
      "Epoch 85/100\n",
      "230/230 [==============================] - 0s 1ms/step - loss: 0.5904 - accuracy: 0.6820 - val_loss: 0.6126 - val_accuracy: 0.6690\n",
      "Epoch 86/100\n",
      "230/230 [==============================] - 0s 1ms/step - loss: 0.5899 - accuracy: 0.6848 - val_loss: 0.6119 - val_accuracy: 0.6675\n",
      "Epoch 87/100\n",
      "230/230 [==============================] - 0s 1ms/step - loss: 0.5902 - accuracy: 0.6821 - val_loss: 0.6124 - val_accuracy: 0.6704\n",
      "Epoch 88/100\n",
      "230/230 [==============================] - 0s 1ms/step - loss: 0.5898 - accuracy: 0.6821 - val_loss: 0.6115 - val_accuracy: 0.6673\n",
      "Epoch 89/100\n",
      "230/230 [==============================] - 0s 1ms/step - loss: 0.5901 - accuracy: 0.6839 - val_loss: 0.6125 - val_accuracy: 0.6678\n",
      "Epoch 90/100\n",
      "230/230 [==============================] - 0s 2ms/step - loss: 0.5897 - accuracy: 0.6831 - val_loss: 0.6115 - val_accuracy: 0.6667\n",
      "Epoch 91/100\n",
      "230/230 [==============================] - 0s 1ms/step - loss: 0.5896 - accuracy: 0.6845 - val_loss: 0.6106 - val_accuracy: 0.6728\n",
      "Epoch 92/100\n",
      "230/230 [==============================] - 0s 1ms/step - loss: 0.5894 - accuracy: 0.6820 - val_loss: 0.6114 - val_accuracy: 0.6698\n",
      "Epoch 93/100\n",
      "230/230 [==============================] - 0s 1ms/step - loss: 0.5893 - accuracy: 0.6844 - val_loss: 0.6114 - val_accuracy: 0.6669\n",
      "Epoch 94/100\n",
      "230/230 [==============================] - 0s 2ms/step - loss: 0.5895 - accuracy: 0.6847 - val_loss: 0.6114 - val_accuracy: 0.6704\n",
      "Epoch 95/100\n",
      "230/230 [==============================] - 0s 1ms/step - loss: 0.5892 - accuracy: 0.6829 - val_loss: 0.6113 - val_accuracy: 0.6684\n",
      "Epoch 96/100\n",
      "230/230 [==============================] - 0s 1ms/step - loss: 0.5894 - accuracy: 0.6840 - val_loss: 0.6108 - val_accuracy: 0.6728\n",
      "Epoch 97/100\n",
      "230/230 [==============================] - 0s 1ms/step - loss: 0.5892 - accuracy: 0.6832 - val_loss: 0.6114 - val_accuracy: 0.6694\n",
      "Epoch 98/100\n",
      "230/230 [==============================] - 0s 1ms/step - loss: 0.5892 - accuracy: 0.6838 - val_loss: 0.6118 - val_accuracy: 0.6706\n",
      "Epoch 99/100\n",
      "230/230 [==============================] - 0s 1ms/step - loss: 0.5891 - accuracy: 0.6873 - val_loss: 0.6118 - val_accuracy: 0.6696\n",
      "Epoch 100/100\n",
      "230/230 [==============================] - 0s 1ms/step - loss: 0.5890 - accuracy: 0.6832 - val_loss: 0.6112 - val_accuracy: 0.6700\n",
      "145/145 [==============================] - 0s 571us/step - loss: 0.7008 - accuracy: 0.5865\n"
     ]
    }
   ],
   "source": [
    "# running the model\n",
    "opt = keras.optimizers.Adam(lr = 0.001)\n",
    "model.compile(optimizer=opt,\n",
    "              loss='binary_crossentropy',\n",
    "              metrics=['accuracy'])\n",
    "\n",
    "hist = model.fit(X_train_nn, y_train_nn, epochs=100, batch_size=50, validation_data=(X_valid_nn, y_valid_nn))\n",
    "test_loss, test_acc = model.evaluate(X_test_nn, y_test)"
   ]
  },
  {
   "cell_type": "code",
   "execution_count": null,
   "metadata": {
    "cell_id": "00038-a7e87ca1-b159-4db8-a99c-7f37304c2b10",
    "deepnote_cell_type": "code",
    "execution_millis": 137,
    "execution_start": 1606969953199,
    "output_cleared": false,
    "source_hash": "e5b23555"
   },
   "outputs": [
    {
     "data": {
      "image/png": "[encoded data removed]",
      "text/plain": [
       "<Figure size 432x288 with 1 Axes>"
      ]
     },
     "metadata": {
      "needs_background": "light"
     },
     "output_type": "display_data"
    }
   ],
   "source": [
    "plt.plot(hist.history['accuracy'])\n",
    "plt.plot(hist.history['val_accuracy'])\n",
    "plt.title('Fully Connected Neural Network Accuracy')\n",
    "plt.ylabel('accuracy')\n",
    "plt.xlabel('epoch')\n",
    "plt.legend(['train', 'validation'], loc='lower right')\n",
    "plt.show()"
   ]
  },
  {
   "cell_type": "code",
   "execution_count": null,
   "metadata": {
    "cell_id": "00039-2239ad5a-40e7-49cf-90d1-8f42a28e2731",
    "deepnote_cell_type": "code",
    "execution_millis": 3,
    "execution_start": 1606969953338,
    "output_cleared": false,
    "source_hash": "13c9b6"
   },
   "outputs": [
    {
     "name": "stdout",
     "output_type": "stream",
     "text": [
      "NN SMOTE test accuracy:  0.5865426063537598\n"
     ]
    }
   ],
   "source": [
    "print(\"NN SMOTE test accuracy: \", test_acc)"
   ]
  },
  {
   "cell_type": "markdown",
   "metadata": {
    "cell_id": "00040-a9a5a44a-c080-401d-bbb7-3f55f79516ba",
    "deepnote_cell_type": "markdown"
   },
   "source": [
    "#### MLP Classifier SMOTE\n",
    "Used to compare results from the neural network"
   ]
  },
  {
   "cell_type": "code",
   "execution_count": null,
   "metadata": {
    "cell_id": "00041-ec217d5e-e0d1-4eab-97b6-d1010ac3f52d",
    "deepnote_cell_type": "code",
    "execution_millis": 6886,
    "execution_start": 1606969985889,
    "output_cleared": false,
    "source_hash": "1da2bd11"
   },
   "outputs": [
    {
     "data": {
      "text/plain": [
       "MLPClassifier(alpha=0.001, hidden_layer_sizes=(15,), max_iter=1000,\n",
       "              random_state=42, validation_fraction=0.2)"
      ]
     },
     "execution_count": 44,
     "metadata": {},
     "output_type": "execute_result"
    }
   ],
   "source": [
    "model = sklearn.neural_network.MLPClassifier(hidden_layer_sizes=(15, ), activation='relu', solver='adam', \n",
    "                                             alpha=0.001, batch_size='auto', learning_rate='constant', learning_rate_init=0.001, \n",
    "                                             max_iter=1000, shuffle=True, random_state=42, tol=0.0001, validation_fraction=0.2)\n",
    "# Train the model on the whole data set\n",
    "model.fit(X_train_nn, np.asarray(y_train_nn).ravel())"
   ]
  },
  {
   "cell_type": "code",
   "execution_count": null,
   "metadata": {
    "cell_id": "00042-dc4b89c6-4a5f-42d0-be9e-4dd9218bbe4a",
    "deepnote_cell_type": "code",
    "execution_millis": 16,
    "execution_start": 1606969992917,
    "output_cleared": false,
    "source_hash": "ce2eb454"
   },
   "outputs": [],
   "source": [
    "predictions = model.predict(X_test_nn)\n",
    "accuracy = sklearn.metrics.accuracy_score(y_test, predictions)"
   ]
  },
  {
   "cell_type": "code",
   "execution_count": null,
   "metadata": {
    "cell_id": "00043-4eb41dc9-4eb5-4323-8163-43053fd73d8a",
    "deepnote_cell_type": "code",
    "execution_millis": 2,
    "execution_start": 1606969993403,
    "output_cleared": false,
    "source_hash": "6bb9ab34"
   },
   "outputs": [
    {
     "name": "stdout",
     "output_type": "stream",
     "text": [
      "MLP test accuracy:  0.5696668109043704\n"
     ]
    }
   ],
   "source": [
    "print(\"MLP test accuracy: \", accuracy)"
   ]
  },
  {
   "cell_type": "markdown",
   "metadata": {
    "cell_id": "00044-348da4b3-48f3-4248-8e0a-1c260f6c5db0",
    "deepnote_cell_type": "markdown"
   },
   "source": [
    "## Gradient Boosting Classifier SMOTE"
   ]
  },
  {
   "cell_type": "code",
   "execution_count": 35,
   "metadata": {
    "cell_id": "00045-f682f834-3f04-42d5-8765-3fe3191d476f",
    "deepnote_cell_type": "code",
    "execution_millis": 6186,
    "execution_start": 1607009354969,
    "output_cleared": false,
    "source_hash": "aa7baac6"
   },
   "outputs": [
    {
     "data": {
      "text/plain": [
       "0.6960190393768931"
      ]
     },
     "execution_count": 35,
     "metadata": {},
     "output_type": "execute_result"
    }
   ],
   "source": [
    "# Establishing a baseline for model performance\n",
    "clf = GradientBoostingClassifier(random_state=42, n_estimators = 100, max_features = 15, learning_rate = 0.005)\n",
    "clf.fit(X_train_up, np.asarray(y_train_up).ravel())\n",
    "clf.predict(X_test)\n",
    "clf.score(X_test, np.asarray(y_test).ravel())"
   ]
  },
  {
   "cell_type": "code",
   "execution_count": 38,
   "metadata": {
    "cell_id": "00047-a4989a61-0d4e-4483-8cfb-45ae12f2cd70",
    "deepnote_cell_type": "code",
    "execution_millis": 133709,
    "execution_start": 1607009583770,
    "output_cleared": false,
    "source_hash": "fcfe6903",
    "tags": []
   },
   "outputs": [
    {
     "data": {
      "text/plain": [
       "GridSearchCV(cv=3,\n",
       "             estimator=GradientBoostingClassifier(max_depth=8,\n",
       "                                                  max_features='sqrt',\n",
       "                                                  min_samples_leaf=50,\n",
       "                                                  min_samples_split=500,\n",
       "                                                  random_state=42,\n",
       "                                                  subsample=0.8),\n",
       "             n_jobs=4, param_grid={'n_estimators': [10, 100, 500, 1000]},\n",
       "             scoring='roc_auc')"
      ]
     },
     "execution_count": 38,
     "metadata": {},
     "output_type": "execute_result"
    }
   ],
   "source": [
    "param_grid1 = {'n_estimators':[10,100,500,1000]}\n",
    "gsearch1 = GridSearchCV(estimator = GradientBoostingClassifier(learning_rate=0.1, min_samples_split=500,min_samples_leaf=50,max_depth=8,max_features='sqrt',subsample=0.8,random_state=42), \n",
    "param_grid = param_grid1, scoring='roc_auc',n_jobs=4,cv=3)\n",
    "gsearch1.fit(X_train_up,np.asarray(y_train_up).ravel())"
   ]
  },
  {
   "cell_type": "code",
   "execution_count": 39,
   "metadata": {
    "cell_id": "00048-1a365fcb-6391-446a-b87a-3ea61feb2621",
    "deepnote_cell_type": "code",
    "execution_millis": 0,
    "execution_start": 1607009745482,
    "output_cleared": false,
    "source_hash": "f2eba284",
    "tags": []
   },
   "outputs": [
    {
     "data": {
      "text/plain": [
       "({'n_estimators': 1000}, 0.8977511329636728)"
      ]
     },
     "execution_count": 39,
     "metadata": {},
     "output_type": "execute_result"
    }
   ],
   "source": [
    "gsearch1.best_params_, gsearch1.best_score_"
   ]
  },
  {
   "cell_type": "code",
   "execution_count": 40,
   "metadata": {
    "cell_id": "00049-4d5bfd90-b115-4b7b-978f-f99d9b6aa6fe",
    "deepnote_cell_type": "code",
    "execution_millis": 1908630,
    "execution_start": 1607009896266,
    "output_cleared": false,
    "source_hash": "f4b4204e",
    "tags": []
   },
   "outputs": [
    {
     "data": {
      "text/plain": [
       "GridSearchCV(cv=3,\n",
       "             estimator=GradientBoostingClassifier(max_features='sqrt',\n",
       "                                                  n_estimators=1000,\n",
       "                                                  random_state=42,\n",
       "                                                  subsample=0.8),\n",
       "             n_jobs=4,\n",
       "             param_grid={'max_depth': [5, 10, 15, 20],\n",
       "                         'min_samples_split': [5, 10, 20]},\n",
       "             scoring='roc_auc')"
      ]
     },
     "execution_count": 40,
     "metadata": {},
     "output_type": "execute_result"
    }
   ],
   "source": [
    "param_grid2 = {'max_depth': [5,10,15,20], 'min_samples_split':[5,10,20]}\n",
    "gsearch2 = GridSearchCV(estimator = GradientBoostingClassifier(learning_rate=0.1, n_estimators=1000, max_features='sqrt', subsample=0.8, random_state=42), \n",
    "param_grid = param_grid2, scoring='roc_auc',n_jobs=4, cv=3)\n",
    "gsearch2.fit(X_train_up,np.asarray(y_train_up).ravel())"
   ]
  },
  {
   "cell_type": "code",
   "execution_count": 41,
   "metadata": {
    "cell_id": "00050-fde2b9be-815b-44a3-b21b-6e00f367d388",
    "deepnote_cell_type": "code",
    "execution_millis": 0,
    "execution_start": 1607012613206,
    "output_cleared": false,
    "source_hash": "3ec9404f",
    "tags": []
   },
   "outputs": [
    {
     "data": {
      "text/plain": [
       "({'max_depth': 15, 'min_samples_split': 5}, 0.9531311772027474)"
      ]
     },
     "execution_count": 41,
     "metadata": {},
     "output_type": "execute_result"
    }
   ],
   "source": [
    "gsearch2.best_params_, gsearch2.best_score_"
   ]
  },
  {
   "cell_type": "code",
   "execution_count": 42,
   "metadata": {
    "cell_id": "00051-2336207b-22ae-42bc-a7e7-c18db040ce78",
    "deepnote_cell_type": "code",
    "execution_millis": 1068933,
    "execution_start": 1607012733165,
    "output_cleared": false,
    "source_hash": "557721a0",
    "tags": []
   },
   "outputs": [
    {
     "data": {
      "text/plain": [
       "({'min_samples_leaf': 10, 'min_samples_split': 5}, 0.9433453739712346)"
      ]
     },
     "execution_count": 42,
     "metadata": {},
     "output_type": "execute_result"
    }
   ],
   "source": [
    "param_grid3 = {'min_samples_split':[5,10,50], 'min_samples_leaf':[10,25,50,100]}\n",
    "gsearch3 = GridSearchCV(estimator = GradientBoostingClassifier(learning_rate=0.1, n_estimators=1000,max_depth=15,max_features='sqrt', subsample=0.8, random_state=10), \n",
    "param_grid = param_grid3, scoring='roc_auc',n_jobs=-1,cv=3)\n",
    "gsearch3.fit(X_train_up,np.asarray(y_train_up).ravel())\n",
    "gsearch3.best_params_, gsearch3.best_score_"
   ]
  },
  {
   "cell_type": "code",
   "execution_count": 174,
   "metadata": {
    "cell_id": "00052-21898fd8-ed97-4f7a-8122-1cc4d940ca28",
    "deepnote_cell_type": "code",
    "execution_millis": 791305,
    "execution_start": 1607018314681,
    "output_cleared": false,
    "source_hash": "8e741531",
    "tags": []
   },
   "outputs": [
    {
     "data": {
      "text/plain": [
       "({'max_features': 5}, 0.9436700336985453)"
      ]
     },
     "execution_count": 174,
     "metadata": {},
     "output_type": "execute_result"
    }
   ],
   "source": [
    "param_grid4 = {'max_features':[5,10,15,'sqrt']}\n",
    "gsearch4 = GridSearchCV(estimator = GradientBoostingClassifier(learning_rate=0.1, n_estimators=1000,max_depth=15, min_samples_split=5, min_samples_leaf=10, subsample=0.8, random_state=10),\n",
    "param_grid = param_grid4, scoring='roc_auc',n_jobs=-1, cv=3)\n",
    "gsearch4.fit(X_train_up,np.asarray(y_train_up).ravel())\n",
    "gsearch4.best_params_, gsearch4.best_score_"
   ]
  },
  {
   "cell_type": "code",
   "execution_count": 179,
   "metadata": {
    "cell_id": "00052-1dc82169-7d1c-4ce6-b3d9-fb019ac8e884",
    "deepnote_cell_type": "code",
    "execution_millis": 86348,
    "execution_start": 1607020430498,
    "output_cleared": false,
    "source_hash": "cd3586cc",
    "tags": []
   },
   "outputs": [
    {
     "data": {
      "text/plain": [
       "GradientBoostingClassifier(learning_rate=0.01, max_depth=15, max_features=5,\n",
       "                           min_samples_leaf=10, min_samples_split=5,\n",
       "                           n_estimators=1000, random_state=10, subsample=0.8)"
      ]
     },
     "execution_count": 179,
     "metadata": {},
     "output_type": "execute_result"
    }
   ],
   "source": [
    "boosting_tuned = GradientBoostingClassifier(learning_rate=0.01, n_estimators=1000,max_depth=15,\n",
    "                     min_samples_split=5,min_samples_leaf=10, subsample=0.8, random_state=10, max_features=5)\n",
    "boosting_tuned.fit(X_train_up,np.asarray(y_train_up).ravel())"
   ]
  },
  {
   "cell_type": "code",
   "execution_count": 180,
   "metadata": {
    "cell_id": "00054-b62e3598-3d8d-4cd9-9ac0-c6cc8fb581b5",
    "deepnote_cell_type": "code",
    "execution_millis": 192,
    "execution_start": 1607020516847,
    "output_cleared": false,
    "source_hash": "cb93b962",
    "tags": []
   },
   "outputs": [
    {
     "data": {
      "text/plain": [
       "0.5058876811594203"
      ]
     },
     "execution_count": 180,
     "metadata": {},
     "output_type": "execute_result"
    }
   ],
   "source": [
    "boosting_tuned.predict(X_test)\n",
    "boosting_tuned.score(X_test, np.asarray(y_test).ravel())"
   ]
  },
  {
   "cell_type": "code",
   "execution_count": 181,
   "metadata": {
    "cell_id": "00046-1ed29747-459e-48b0-bda4-70ca9a51dabb",
    "deepnote_cell_type": "code",
    "execution_millis": 3,
    "execution_start": 1607020517042,
    "output_cleared": false,
    "source_hash": "1250d042"
   },
   "outputs": [],
   "source": [
    "# # Grid Search for GBC parameters: Takes (7-8 Hrs to Run locally)\n",
    "\n",
    "# parameters = {\n",
    "#     \"learning_rate\": [0.1],\n",
    "#     \"min_samples_split\": [10,100,500],\n",
    "#     \"min_samples_leaf\": [10,25,50,75],\n",
    "#     \"max_depth\":[5,10,15,20],\n",
    "#     \"max_features\":[\"log2\"],\n",
    "#     \"criterion\": [\"friedman_mse\"],\n",
    "#     \"subsample\":[1.0],\n",
    "#     \"n_estimators\":[500,750,1000]\n",
    "#     }\n",
    "# # pass param grid into GridSearchCV\n",
    "# clf = GridSearchCV(GradientBoostingClassifier(), parameters,refit=True, n_jobs=-1)\n",
    "\n",
    "# clf.fit(X_train_up, y_train_up)\n",
    "# clf.fit(X_train_up, np.asarray(y_train_up).ravel())\n",
    "# clf.predict(X_test)\n",
    "# clf.score(X_test, np.asarray(y_test).ravel())"
   ]
  },
  {
   "cell_type": "code",
   "execution_count": 182,
   "metadata": {
    "cell_id": "00049-80218d0e-657e-471f-a058-0b5b989c8266",
    "deepnote_cell_type": "code",
    "execution_millis": 238,
    "execution_start": 1607020517049,
    "output_cleared": false,
    "scrolled": true,
    "source_hash": "8dfb301e"
   },
   "outputs": [
    {
     "data": {
      "image/png": "[encoded data removed]",
      "text/plain": [
       "<Figure size 432x288 with 2 Axes>"
      ]
     },
     "metadata": {
      "needs_background": "light"
     },
     "output_type": "display_data"
    }
   ],
   "source": [
    "disp = plot_confusion_matrix(boosting_tuned, X_test, y_test, display_labels=['Not a Hit', 'Hit'], cmap = plt.cm.Blues, normalize='true')\n"
   ]
  },
  {
   "cell_type": "code",
   "execution_count": 177,
   "metadata": {
    "cell_id": "00050-3f457ff8-f8d6-473f-9a42-bfba05387a9e",
    "deepnote_cell_type": "code",
    "execution_millis": 242,
    "execution_start": 1607019229182,
    "output_cleared": false,
    "source_hash": "1847ff00"
   },
   "outputs": [
    {
     "data": {
      "text/plain": [
       "<sklearn.metrics._plot.roc_curve.RocCurveDisplay at 0x7f5284907d10>"
      ]
     },
     "execution_count": 177,
     "metadata": {},
     "output_type": "execute_result"
    },
    {
     "data": {
      "image/png": "[encoded data removed]",
      "text/plain": [
       "<Figure size 432x288 with 1 Axes>"
      ]
     },
     "metadata": {
      "needs_background": "light"
     },
     "output_type": "display_data"
    }
   ],
   "source": [
    "plot_roc_curve(boosting_tuned, X_test, y_test)"
   ]
  },
  {
   "cell_type": "markdown",
   "metadata": {
    "cell_id": "00051-abe94a51-01a1-41f2-97d3-f6ae30696060",
    "deepnote_cell_type": "markdown"
   },
   "source": [
    "# Using Balanced non SMOTE data"
   ]
  },
  {
   "cell_type": "code",
   "execution_count": 27,
   "metadata": {
    "cell_id": "00052-e2e2ccf3-6db2-4f91-b3c2-ef35cb79cc39",
    "deepnote_cell_type": "code",
    "execution_millis": 1,
    "execution_start": 1607016208945,
    "output_cleared": false,
    "source_hash": "e53c903f"
   },
   "outputs": [],
   "source": [
    "data = pd.read_csv(\"data/final_subset.csv\", index_col = 0)"
   ]
  },
  {
   "cell_type": "code",
   "execution_count": 28,
   "metadata": {
    "cell_id": "00053-e1b7a8e3-ed25-46bc-b683-fa706a535cb3",
    "deepnote_cell_type": "code",
    "execution_millis": 28,
    "execution_start": 1607016209398,
    "output_cleared": false,
    "source_hash": "41313cfa"
   },
   "outputs": [
    {
     "data": {
      "text/html": [
       "<div>\n",
       "<style scoped>\n",
       "    .dataframe tbody tr th:only-of-type {\n",
       "        vertical-align: middle;\n",
       "    }\n",
       "\n",
       "    .dataframe tbody tr th {\n",
       "        vertical-align: top;\n",
       "    }\n",
       "\n",
       "    .dataframe thead th {\n",
       "        text-align: right;\n",
       "    }\n",
       "</style>\n",
       "<table border=\"1\" class=\"dataframe\">\n",
       "  <thead>\n",
       "    <tr style=\"text-align: right;\">\n",
       "      <th></th>\n",
       "      <th>track_popularity</th>\n",
       "      <th>playlist_genre</th>\n",
       "      <th>playlist_subgenre</th>\n",
       "      <th>danceability</th>\n",
       "      <th>energy</th>\n",
       "      <th>loudness</th>\n",
       "      <th>speechiness</th>\n",
       "      <th>acousticness</th>\n",
       "      <th>instrumentalness</th>\n",
       "      <th>liveness</th>\n",
       "      <th>...</th>\n",
       "      <th>tempo</th>\n",
       "      <th>duration_ms</th>\n",
       "      <th>Hit or Not</th>\n",
       "      <th>lyrical_subjectivity</th>\n",
       "      <th>lyrical_polarity</th>\n",
       "      <th>repeated_phrases</th>\n",
       "      <th>minutes</th>\n",
       "      <th>word_count</th>\n",
       "      <th>WPM_approx</th>\n",
       "      <th>artist_past_performance</th>\n",
       "    </tr>\n",
       "  </thead>\n",
       "  <tbody>\n",
       "    <tr>\n",
       "      <th>1</th>\n",
       "      <td>0</td>\n",
       "      <td>3</td>\n",
       "      <td>14</td>\n",
       "      <td>0.845</td>\n",
       "      <td>0.652</td>\n",
       "      <td>-7.504</td>\n",
       "      <td>0.216</td>\n",
       "      <td>0.00432</td>\n",
       "      <td>0.007230</td>\n",
       "      <td>0.4890</td>\n",
       "      <td>...</td>\n",
       "      <td>111.904</td>\n",
       "      <td>262467</td>\n",
       "      <td>1</td>\n",
       "      <td>0.460365</td>\n",
       "      <td>0.150858</td>\n",
       "      <td>0</td>\n",
       "      <td>4.374450</td>\n",
       "      <td>420</td>\n",
       "      <td>96.012070</td>\n",
       "      <td>7</td>\n",
       "    </tr>\n",
       "    <tr>\n",
       "      <th>4</th>\n",
       "      <td>70</td>\n",
       "      <td>3</td>\n",
       "      <td>23</td>\n",
       "      <td>0.496</td>\n",
       "      <td>0.639</td>\n",
       "      <td>-6.157</td>\n",
       "      <td>0.055</td>\n",
       "      <td>0.28000</td>\n",
       "      <td>0.000000</td>\n",
       "      <td>0.0975</td>\n",
       "      <td>...</td>\n",
       "      <td>147.764</td>\n",
       "      <td>224720</td>\n",
       "      <td>1</td>\n",
       "      <td>0.609292</td>\n",
       "      <td>0.232474</td>\n",
       "      <td>0</td>\n",
       "      <td>3.745333</td>\n",
       "      <td>359</td>\n",
       "      <td>95.852617</td>\n",
       "      <td>0</td>\n",
       "    </tr>\n",
       "    <tr>\n",
       "      <th>5</th>\n",
       "      <td>52</td>\n",
       "      <td>3</td>\n",
       "      <td>14</td>\n",
       "      <td>0.764</td>\n",
       "      <td>0.594</td>\n",
       "      <td>-10.050</td>\n",
       "      <td>0.185</td>\n",
       "      <td>0.59100</td>\n",
       "      <td>0.000000</td>\n",
       "      <td>0.1450</td>\n",
       "      <td>...</td>\n",
       "      <td>87.261</td>\n",
       "      <td>286441</td>\n",
       "      <td>1</td>\n",
       "      <td>0.590514</td>\n",
       "      <td>0.200076</td>\n",
       "      <td>0</td>\n",
       "      <td>4.774017</td>\n",
       "      <td>634</td>\n",
       "      <td>132.802218</td>\n",
       "      <td>2</td>\n",
       "    </tr>\n",
       "    <tr>\n",
       "      <th>9</th>\n",
       "      <td>72</td>\n",
       "      <td>4</td>\n",
       "      <td>6</td>\n",
       "      <td>0.865</td>\n",
       "      <td>0.657</td>\n",
       "      <td>-6.722</td>\n",
       "      <td>0.076</td>\n",
       "      <td>0.04040</td>\n",
       "      <td>0.000000</td>\n",
       "      <td>0.1400</td>\n",
       "      <td>...</td>\n",
       "      <td>111.115</td>\n",
       "      <td>268960</td>\n",
       "      <td>1</td>\n",
       "      <td>0.409803</td>\n",
       "      <td>0.013691</td>\n",
       "      <td>3</td>\n",
       "      <td>4.482667</td>\n",
       "      <td>722</td>\n",
       "      <td>161.064842</td>\n",
       "      <td>8</td>\n",
       "    </tr>\n",
       "    <tr>\n",
       "      <th>11</th>\n",
       "      <td>8</td>\n",
       "      <td>3</td>\n",
       "      <td>9</td>\n",
       "      <td>0.662</td>\n",
       "      <td>0.748</td>\n",
       "      <td>-3.041</td>\n",
       "      <td>0.268</td>\n",
       "      <td>0.68800</td>\n",
       "      <td>0.000008</td>\n",
       "      <td>0.0841</td>\n",
       "      <td>...</td>\n",
       "      <td>82.331</td>\n",
       "      <td>239027</td>\n",
       "      <td>1</td>\n",
       "      <td>0.737900</td>\n",
       "      <td>0.459439</td>\n",
       "      <td>7</td>\n",
       "      <td>3.983783</td>\n",
       "      <td>554</td>\n",
       "      <td>139.063788</td>\n",
       "      <td>0</td>\n",
       "    </tr>\n",
       "  </tbody>\n",
       "</table>\n",
       "<p>5 rows × 21 columns</p>\n",
       "</div>"
      ],
      "text/plain": [
       "    track_popularity  playlist_genre  playlist_subgenre  danceability  energy  \\\n",
       "1                  0               3                 14         0.845   0.652   \n",
       "4                 70               3                 23         0.496   0.639   \n",
       "5                 52               3                 14         0.764   0.594   \n",
       "9                 72               4                  6         0.865   0.657   \n",
       "11                 8               3                  9         0.662   0.748   \n",
       "\n",
       "    loudness  speechiness  acousticness  instrumentalness  liveness  ...  \\\n",
       "1     -7.504        0.216       0.00432          0.007230    0.4890  ...   \n",
       "4     -6.157        0.055       0.28000          0.000000    0.0975  ...   \n",
       "5    -10.050        0.185       0.59100          0.000000    0.1450  ...   \n",
       "9     -6.722        0.076       0.04040          0.000000    0.1400  ...   \n",
       "11    -3.041        0.268       0.68800          0.000008    0.0841  ...   \n",
       "\n",
       "      tempo  duration_ms  Hit or Not  lyrical_subjectivity  lyrical_polarity  \\\n",
       "1   111.904       262467           1              0.460365          0.150858   \n",
       "4   147.764       224720           1              0.609292          0.232474   \n",
       "5    87.261       286441           1              0.590514          0.200076   \n",
       "9   111.115       268960           1              0.409803          0.013691   \n",
       "11   82.331       239027           1              0.737900          0.459439   \n",
       "\n",
       "    repeated_phrases   minutes  word_count  WPM_approx  \\\n",
       "1                  0  4.374450         420   96.012070   \n",
       "4                  0  3.745333         359   95.852617   \n",
       "5                  0  4.774017         634  132.802218   \n",
       "9                  3  4.482667         722  161.064842   \n",
       "11                 7  3.983783         554  139.063788   \n",
       "\n",
       "    artist_past_performance  \n",
       "1                         7  \n",
       "4                         0  \n",
       "5                         2  \n",
       "9                         8  \n",
       "11                        0  \n",
       "\n",
       "[5 rows x 21 columns]"
      ]
     },
     "execution_count": 28,
     "metadata": {},
     "output_type": "execute_result"
    }
   ],
   "source": [
    "data.head()"
   ]
  },
  {
   "cell_type": "code",
   "execution_count": 29,
   "metadata": {
    "cell_id": "00054-46f09dd4-2826-44a1-8821-78b68c7372b3",
    "deepnote_cell_type": "code",
    "execution_millis": 0,
    "execution_start": 1607016210438,
    "output_cleared": false,
    "source_hash": "54f25f4a"
   },
   "outputs": [],
   "source": [
    "# Defining the relevant columns from the dataframe as some are not necessary or useful \n",
    "\n",
    "numerical_columns = ['danceability', 'energy', 'loudness',\n",
    "            'speechiness', 'acousticness', 'instrumentalness', \n",
    "           'liveness', 'valence', 'tempo', \n",
    "           'lyrical_subjectivity', 'lyrical_polarity', \n",
    "           'repeated_phrases', 'minutes', 'word_count', 'WPM_approx', 'artist_past_performance']\n",
    "\n",
    "categorical_columns = ['playlist_genre', 'playlist_subgenre']\n",
    "\n",
    "target_variable = ['Hit or Not']\n",
    "\n",
    "all_features = ['danceability', 'energy', 'loudness',\n",
    "           'speechiness', 'acousticness', 'instrumentalness', \n",
    "           'liveness', 'valence', 'tempo', \n",
    "           'lyrical_subjectivity', 'lyrical_polarity', \n",
    "           'repeated_phrases', 'minutes', 'word_count', 'WPM_approx',\n",
    "             'playlist_genre', 'playlist_subgenre', 'artist_past_performance']"
   ]
  },
  {
   "cell_type": "code",
   "execution_count": 30,
   "metadata": {
    "cell_id": "00055-a078ada9-b8d2-41d6-ba4e-1979b9477b40",
    "deepnote_cell_type": "code",
    "execution_millis": 2,
    "execution_start": 1607016211026,
    "output_cleared": false,
    "source_hash": "7d1d0de6"
   },
   "outputs": [],
   "source": [
    "# Define the X and y matrices\n",
    "X = data[all_features]\n",
    "y = data[target_variable]"
   ]
  },
  {
   "cell_type": "code",
   "execution_count": 31,
   "metadata": {
    "cell_id": "00056-489495c7-bca0-4db6-a355-bb69bfe6ea6c",
    "deepnote_cell_type": "code",
    "execution_millis": 5,
    "execution_start": 1607016211787,
    "output_cleared": false,
    "source_hash": "ca82e6c4"
   },
   "outputs": [],
   "source": [
    "# Split the data into train and test, random state for reproducability\n",
    "X_train, X_test, y_train, y_test = train_test_split(X, y, test_size=0.3, random_state=42)"
   ]
  },
  {
   "cell_type": "markdown",
   "metadata": {
    "cell_id": "00057-aca0305a-a0a9-478b-b0eb-766a20280c83",
    "deepnote_cell_type": "markdown"
   },
   "source": [
    "## Logistic Regression"
   ]
  },
  {
   "cell_type": "code",
   "execution_count": 32,
   "metadata": {
    "cell_id": "00058-ca68196b-a8d3-4358-ba9b-5c55c75210bd",
    "deepnote_cell_type": "code",
    "execution_millis": 13037,
    "execution_start": 1607016214277,
    "output_cleared": false,
    "source_hash": "519924c2"
   },
   "outputs": [
    {
     "name": "stdout",
     "output_type": "stream",
     "text": [
      "[ True False  True  True  True False  True  True  True False  True False\n",
      "  True False  True False False False]\n",
      "[1 6 1 1 1 2 1 1 1 4 1 8 1 3 1 9 5 7]\n"
     ]
    }
   ],
   "source": [
    "# Use recursive feature elimination to select features for logistic regression\n",
    "rfe = RFE(estimator=DecisionTreeClassifier(), n_features_to_select=10)\n",
    "rfe = rfe.fit(X_train, np.asarray(y_train).ravel())\n",
    "print(rfe.support_)\n",
    "print(rfe.ranking_)"
   ]
  },
  {
   "cell_type": "code",
   "execution_count": 33,
   "metadata": {
    "cell_id": "00059-74ebdb7c-2a09-492f-9c37-3f66b430ba37",
    "deepnote_cell_type": "code",
    "execution_millis": 1,
    "execution_start": 1607016227314,
    "output_cleared": false,
    "source_hash": "8c5fdbbb"
   },
   "outputs": [],
   "source": [
    "# select the top features selected by RFE\n",
    "f = rfe.get_support(1)\n",
    "X_train_log = X_train[X_train.columns[f]]\n",
    "X_test_log = X_test[X_test.columns[f]]"
   ]
  },
  {
   "cell_type": "code",
   "execution_count": 34,
   "metadata": {
    "cell_id": "00060-d2a20278-daa4-4aba-95e7-e2cb8b7a000a",
    "deepnote_cell_type": "code",
    "execution_millis": 3,
    "execution_start": 1607016227396,
    "output_cleared": false,
    "source_hash": "5b4e01d4"
   },
   "outputs": [
    {
     "data": {
      "text/html": [
       "<div>\n",
       "<style scoped>\n",
       "    .dataframe tbody tr th:only-of-type {\n",
       "        vertical-align: middle;\n",
       "    }\n",
       "\n",
       "    .dataframe tbody tr th {\n",
       "        vertical-align: top;\n",
       "    }\n",
       "\n",
       "    .dataframe thead th {\n",
       "        text-align: right;\n",
       "    }\n",
       "</style>\n",
       "<table border=\"1\" class=\"dataframe\">\n",
       "  <thead>\n",
       "    <tr style=\"text-align: right;\">\n",
       "      <th></th>\n",
       "      <th>danceability</th>\n",
       "      <th>loudness</th>\n",
       "      <th>speechiness</th>\n",
       "      <th>acousticness</th>\n",
       "      <th>liveness</th>\n",
       "      <th>valence</th>\n",
       "      <th>tempo</th>\n",
       "      <th>lyrical_polarity</th>\n",
       "      <th>minutes</th>\n",
       "      <th>WPM_approx</th>\n",
       "    </tr>\n",
       "  </thead>\n",
       "  <tbody>\n",
       "    <tr>\n",
       "      <th>1881</th>\n",
       "      <td>0.830</td>\n",
       "      <td>-6.279</td>\n",
       "      <td>0.4320</td>\n",
       "      <td>0.02530</td>\n",
       "      <td>0.1060</td>\n",
       "      <td>0.6070</td>\n",
       "      <td>128.160</td>\n",
       "      <td>0.000000</td>\n",
       "      <td>2.570433</td>\n",
       "      <td>50.964169</td>\n",
       "    </tr>\n",
       "    <tr>\n",
       "      <th>11873</th>\n",
       "      <td>0.446</td>\n",
       "      <td>-4.179</td>\n",
       "      <td>0.0295</td>\n",
       "      <td>0.02980</td>\n",
       "      <td>0.0931</td>\n",
       "      <td>0.3940</td>\n",
       "      <td>159.958</td>\n",
       "      <td>0.330382</td>\n",
       "      <td>3.950000</td>\n",
       "      <td>83.291139</td>\n",
       "    </tr>\n",
       "    <tr>\n",
       "      <th>4054</th>\n",
       "      <td>0.386</td>\n",
       "      <td>-8.173</td>\n",
       "      <td>0.0489</td>\n",
       "      <td>0.00287</td>\n",
       "      <td>0.2450</td>\n",
       "      <td>0.0858</td>\n",
       "      <td>110.354</td>\n",
       "      <td>-0.099383</td>\n",
       "      <td>3.463500</td>\n",
       "      <td>92.392089</td>\n",
       "    </tr>\n",
       "    <tr>\n",
       "      <th>9986</th>\n",
       "      <td>0.693</td>\n",
       "      <td>-7.316</td>\n",
       "      <td>0.1190</td>\n",
       "      <td>0.67900</td>\n",
       "      <td>0.2580</td>\n",
       "      <td>0.4730</td>\n",
       "      <td>81.308</td>\n",
       "      <td>0.000758</td>\n",
       "      <td>2.034450</td>\n",
       "      <td>155.324535</td>\n",
       "    </tr>\n",
       "    <tr>\n",
       "      <th>14265</th>\n",
       "      <td>0.764</td>\n",
       "      <td>-7.232</td>\n",
       "      <td>0.1390</td>\n",
       "      <td>0.05440</td>\n",
       "      <td>0.3100</td>\n",
       "      <td>0.6520</td>\n",
       "      <td>89.976</td>\n",
       "      <td>0.065468</td>\n",
       "      <td>3.552217</td>\n",
       "      <td>157.648041</td>\n",
       "    </tr>\n",
       "  </tbody>\n",
       "</table>\n",
       "</div>"
      ],
      "text/plain": [
       "       danceability  loudness  speechiness  acousticness  liveness  valence  \\\n",
       "1881          0.830    -6.279       0.4320       0.02530    0.1060   0.6070   \n",
       "11873         0.446    -4.179       0.0295       0.02980    0.0931   0.3940   \n",
       "4054          0.386    -8.173       0.0489       0.00287    0.2450   0.0858   \n",
       "9986          0.693    -7.316       0.1190       0.67900    0.2580   0.4730   \n",
       "14265         0.764    -7.232       0.1390       0.05440    0.3100   0.6520   \n",
       "\n",
       "         tempo  lyrical_polarity   minutes  WPM_approx  \n",
       "1881   128.160          0.000000  2.570433   50.964169  \n",
       "11873  159.958          0.330382  3.950000   83.291139  \n",
       "4054   110.354         -0.099383  3.463500   92.392089  \n",
       "9986    81.308          0.000758  2.034450  155.324535  \n",
       "14265   89.976          0.065468  3.552217  157.648041  "
      ]
     },
     "execution_count": 34,
     "metadata": {},
     "output_type": "execute_result"
    }
   ],
   "source": [
    "# inspecting the features selected\n",
    "X_train_log.head()"
   ]
  },
  {
   "cell_type": "code",
   "execution_count": 37,
   "metadata": {
    "cell_id": "00061-374f42b1-0829-4332-8d8d-4c577708c2e0",
    "deepnote_cell_type": "code",
    "execution_millis": 178,
    "execution_start": 1607016227405,
    "output_cleared": false,
    "source_hash": "6c02fbf9"
   },
   "outputs": [
    {
     "data": {
      "text/plain": [
       "LogisticRegression(max_iter=5000)"
      ]
     },
     "execution_count": 37,
     "metadata": {},
     "output_type": "execute_result"
    }
   ],
   "source": [
    "logreg = LogisticRegression(max_iter = 5000)\n",
    "logreg.fit(X_train_log, np.asarray(y_train).ravel())"
   ]
  },
  {
   "cell_type": "code",
   "execution_count": 38,
   "metadata": {
    "cell_id": "00062-ef7aef34-2820-4e04-a5fe-de8539c63b2c",
    "deepnote_cell_type": "code",
    "execution_millis": 78,
    "execution_start": 1607016227596,
    "output_cleared": false,
    "source_hash": "24dd8ac5"
   },
   "outputs": [
    {
     "name": "stdout",
     "output_type": "stream",
     "text": [
      "Accuracy of logistic regression classifier on test set: 0.59\n"
     ]
    }
   ],
   "source": [
    "y_pred = logreg.predict(X_test_log)\n",
    "print('Accuracy of logistic regression classifier on test set: {:.2f}'.format(logreg.score(X_test_log, y_test)))"
   ]
  },
  {
   "cell_type": "code",
   "execution_count": 40,
   "metadata": {
    "cell_id": "00070-758bbb97-3cce-4bb2-9842-3ddb53e01f33",
    "deepnote_cell_type": "code",
    "execution_millis": 0,
    "execution_start": 1607016227718,
    "output_cleared": false,
    "source_hash": "ff6d9db0",
    "tags": []
   },
   "outputs": [
    {
     "data": {
      "text/plain": [
       "GridSearchCV(estimator=LogisticRegression(max_iter=10000),\n",
       "             param_grid={'C': [0.001, 0.01, 0.1, 1, 10, 100]})"
      ]
     },
     "execution_count": 40,
     "metadata": {},
     "output_type": "execute_result"
    }
   ],
   "source": [
    "param_grid_log={'C': [0.001, 0.01, 0.1, 1, 10, 100]}\n",
    "clf = GridSearchCV(LogisticRegression(penalty='l2'), param_grid_log)\n",
    "GridSearchCV(cv=None,\n",
    "             estimator=LogisticRegression(C=1.0, intercept_scaling=1,   \n",
    "               dual=False, fit_intercept=True, penalty='l2', tol=0.0001, \n",
    "               max_iter = 10000),\n",
    "             param_grid=param_grid_log)"
   ]
  },
  {
   "cell_type": "code",
   "execution_count": 41,
   "metadata": {
    "cell_id": "00071-6e84edd0-6851-4909-9a1c-ca45e32422c6",
    "deepnote_cell_type": "code",
    "execution_millis": 10,
    "execution_start": 1607016227765,
    "output_cleared": false,
    "source_hash": "7368fe8e",
    "tags": []
   },
   "outputs": [],
   "source": [
    "# scale columns for logistic regression\n",
    "scaler = StandardScaler()\n",
    "X_train_lr = pd.DataFrame(scaler.fit_transform(X_train), columns=X_train.columns)\n",
    "X_test_lr = pd.DataFrame(scaler.fit_transform(X_test), columns=X_test.columns)"
   ]
  },
  {
   "cell_type": "code",
   "execution_count": 42,
   "metadata": {
    "cell_id": "00071-21af3f60-3d39-42bf-85bc-96bb73149a01",
    "deepnote_cell_type": "code",
    "execution_millis": 2371,
    "execution_start": 1607016227821,
    "output_cleared": false,
    "source_hash": "12cc2774",
    "tags": []
   },
   "outputs": [
    {
     "data": {
      "text/plain": [
       "LogisticRegression(C=0.001)"
      ]
     },
     "execution_count": 42,
     "metadata": {},
     "output_type": "execute_result"
    }
   ],
   "source": [
    "best_clf = clf.fit(X_train_lr, np.asarray(y_train).ravel())\n",
    "best_clf.best_estimator_"
   ]
  },
  {
   "cell_type": "code",
   "execution_count": 44,
   "metadata": {
    "cell_id": "00073-3f185e2f-56f1-412a-b8be-4198c50cf125",
    "deepnote_cell_type": "code",
    "execution_millis": 83,
    "execution_start": 1607016230195,
    "output_cleared": false,
    "source_hash": "7c32f83a",
    "tags": []
   },
   "outputs": [
    {
     "data": {
      "text/plain": [
       "LogisticRegression(C=0.001)"
      ]
     },
     "execution_count": 44,
     "metadata": {},
     "output_type": "execute_result"
    }
   ],
   "source": [
    "logreg_t = LogisticRegression(C=0.001)\n",
    "logreg_t.fit(X_train_lr, np.asarray(y_train).ravel())"
   ]
  },
  {
   "cell_type": "code",
   "execution_count": 45,
   "metadata": {
    "cell_id": "00074-2582a9f4-2ab4-45cd-b7f0-d7cb12cac6b0",
    "deepnote_cell_type": "code",
    "execution_millis": 17,
    "execution_start": 1607016230281,
    "output_cleared": false,
    "source_hash": "72816f25",
    "tags": []
   },
   "outputs": [
    {
     "name": "stdout",
     "output_type": "stream",
     "text": [
      "Accuracy of logistic regression classifier on test set: 0.61\n"
     ]
    }
   ],
   "source": [
    "y_pred = logreg_t.predict(X_test_lr)\n",
    "print('Accuracy of logistic regression classifier on test set: {:.2f}'.format(logreg_t.score(X_test_lr, y_test)))"
   ]
  },
  {
   "cell_type": "code",
   "execution_count": 46,
   "metadata": {
    "cell_id": "00064-f721e15e-47ea-475f-8dcf-02d605d38400",
    "deepnote_cell_type": "code",
    "execution_millis": 218,
    "execution_start": 1607016230361,
    "output_cleared": false,
    "scrolled": true,
    "source_hash": "d794158b"
   },
   "outputs": [
    {
     "data": {
      "image/png": "[encoded data removed]",
      "text/plain": [
       "<Figure size 432x288 with 2 Axes>"
      ]
     },
     "metadata": {
      "needs_background": "light"
     },
     "output_type": "display_data"
    }
   ],
   "source": [
    "disp = plot_confusion_matrix(logreg_t, X_test_lr, y_test, display_labels=['Not a Hit', 'Hit'], cmap = plt.cm.Blues, normalize='true')\n"
   ]
  },
  {
   "cell_type": "code",
   "execution_count": 47,
   "metadata": {
    "cell_id": "00065-4cecff8e-61a1-4bb6-aa08-ea40d232f795",
    "deepnote_cell_type": "code",
    "execution_millis": 247,
    "execution_start": 1607016230588,
    "output_cleared": false,
    "source_hash": "307c89da"
   },
   "outputs": [
    {
     "data": {
      "text/plain": [
       "<sklearn.metrics._plot.roc_curve.RocCurveDisplay at 0x148ca8e10>"
      ]
     },
     "execution_count": 47,
     "metadata": {},
     "output_type": "execute_result"
    },
    {
     "data": {
      "image/png": "[encoded data removed]",
      "text/plain": [
       "<Figure size 432x288 with 1 Axes>"
      ]
     },
     "metadata": {
      "needs_background": "light"
     },
     "output_type": "display_data"
    }
   ],
   "source": [
    "plot_roc_curve(logreg_t, X_test_lr, y_test)"
   ]
  },
  {
   "cell_type": "markdown",
   "metadata": {
    "cell_id": "00066-42c33cae-fce4-496d-8485-773d7690efd4",
    "deepnote_cell_type": "markdown"
   },
   "source": [
    "## Fully Connected Neural Network"
   ]
  },
  {
   "cell_type": "code",
   "execution_count": 135,
   "metadata": {
    "cell_id": "00067-8d11f589-b192-4742-bd28-3f9396e6cd70",
    "deepnote_cell_type": "code",
    "execution_millis": 8,
    "execution_start": 1607016245239,
    "output_cleared": false,
    "source_hash": "81a55d49"
   },
   "outputs": [],
   "source": [
    "# scale the data before passing into neural network\n",
    "scaler = StandardScaler()\n",
    "X_train_nn = pd.DataFrame(scaler.fit_transform(X_train), columns=X_train.columns)\n",
    "X_test_nn = pd.DataFrame(scaler.fit_transform(X_test), columns=X_test.columns)"
   ]
  },
  {
   "cell_type": "code",
   "execution_count": 136,
   "metadata": {
    "cell_id": "00068-ae522bfa-db02-4af8-8708-f9d92f8791f0",
    "deepnote_cell_type": "code",
    "execution_millis": 0,
    "execution_start": 1607016246375,
    "output_cleared": false,
    "source_hash": "799c4c95"
   },
   "outputs": [],
   "source": [
    "# create a validation set for the NN as Keras validation_split only selects the last x% of the data\n",
    "X_train_nn, X_valid_nn, y_train_nn, y_valid_nn = train_test_split(X_train_nn, y_train, test_size=0.3, random_state=42)"
   ]
  },
  {
   "cell_type": "code",
   "execution_count": 137,
   "metadata": {
    "cell_id": "00069-8e4d5f34-c5f3-4c59-96bc-6af60948bc1e",
    "deepnote_cell_type": "code",
    "execution_millis": 38,
    "execution_start": 1607016246969,
    "output_cleared": false,
    "source_hash": "b81e8feb"
   },
   "outputs": [],
   "source": [
    "model = keras.Sequential([\n",
    "    keras.layers.Flatten(input_shape=(18,)),\n",
    "\n",
    "    keras.layers.Dense(12, activation=tf.nn.relu, kernel_initializer='glorot_normal'),\n",
    "\n",
    "    keras.layers.Dense(1, activation=tf.nn.sigmoid),\n",
    "])"
   ]
  },
  {
   "cell_type": "code",
   "execution_count": 141,
   "metadata": {
    "cell_id": "00073-bc0591e3-faf4-4cbd-964c-9c3b09627196",
    "deepnote_cell_type": "code",
    "execution_millis": 0,
    "execution_start": 1607016276500,
    "output_cleared": false,
    "source_hash": "3ee363cf"
   },
   "outputs": [],
   "source": [
    "# Load NN instead of retraining, uncomment line below\n",
    "# model = tf.keras.models.load_model(\"data/NN.h5\")"
   ]
  },
  {
   "cell_type": "code",
   "execution_count": 138,
   "metadata": {
    "cell_id": "00070-e38a9539-2f18-4ebc-b6c1-bf13792cc711",
    "deepnote_cell_type": "code",
    "execution_millis": 17323,
    "execution_start": 1607016250715,
    "output_cleared": false,
    "scrolled": true,
    "source_hash": "aca3d64a"
   },
   "outputs": [
    {
     "name": "stdout",
     "output_type": "stream",
     "text": [
      "Epoch 1/200\n",
      "73/73 [==============================] - 0s 3ms/step - loss: 0.8025 - accuracy: 0.5320 - val_loss: 0.7884 - val_accuracy: 0.5217\n",
      "Epoch 2/200\n",
      "73/73 [==============================] - 0s 980us/step - loss: 0.7896 - accuracy: 0.5334 - val_loss: 0.7771 - val_accuracy: 0.5243\n",
      "Epoch 3/200\n",
      "73/73 [==============================] - 0s 1ms/step - loss: 0.7783 - accuracy: 0.5379 - val_loss: 0.7675 - val_accuracy: 0.5301\n",
      "Epoch 4/200\n",
      "73/73 [==============================] - 0s 1ms/step - loss: 0.7685 - accuracy: 0.5404 - val_loss: 0.7589 - val_accuracy: 0.5340\n",
      "Epoch 5/200\n",
      "73/73 [==============================] - 0s 1ms/step - loss: 0.7595 - accuracy: 0.5395 - val_loss: 0.7510 - val_accuracy: 0.5340\n",
      "Epoch 6/200\n",
      "73/73 [==============================] - 0s 1ms/step - loss: 0.7513 - accuracy: 0.5412 - val_loss: 0.7440 - val_accuracy: 0.5314\n",
      "Epoch 7/200\n",
      "73/73 [==============================] - 0s 1ms/step - loss: 0.7439 - accuracy: 0.5429 - val_loss: 0.7374 - val_accuracy: 0.5359\n",
      "Epoch 8/200\n",
      "73/73 [==============================] - 0s 1ms/step - loss: 0.7370 - accuracy: 0.5459 - val_loss: 0.7316 - val_accuracy: 0.5372\n",
      "Epoch 9/200\n",
      "73/73 [==============================] - 0s 1ms/step - loss: 0.7311 - accuracy: 0.5473 - val_loss: 0.7265 - val_accuracy: 0.5411\n",
      "Epoch 10/200\n",
      "73/73 [==============================] - 0s 1ms/step - loss: 0.7255 - accuracy: 0.5479 - val_loss: 0.7216 - val_accuracy: 0.5430\n",
      "Epoch 11/200\n",
      "73/73 [==============================] - 0s 978us/step - loss: 0.7202 - accuracy: 0.5498 - val_loss: 0.7172 - val_accuracy: 0.5476\n",
      "Epoch 12/200\n",
      "73/73 [==============================] - 0s 1ms/step - loss: 0.7158 - accuracy: 0.5531 - val_loss: 0.7133 - val_accuracy: 0.5489\n",
      "Epoch 13/200\n",
      "73/73 [==============================] - 0s 1ms/step - loss: 0.7117 - accuracy: 0.5556 - val_loss: 0.7100 - val_accuracy: 0.5482\n",
      "Epoch 14/200\n",
      "73/73 [==============================] - 0s 1ms/step - loss: 0.7080 - accuracy: 0.5589 - val_loss: 0.7068 - val_accuracy: 0.5515\n",
      "Epoch 15/200\n",
      "73/73 [==============================] - 0s 1ms/step - loss: 0.7045 - accuracy: 0.5614 - val_loss: 0.7039 - val_accuracy: 0.5521\n",
      "Epoch 16/200\n",
      "73/73 [==============================] - 0s 1ms/step - loss: 0.7014 - accuracy: 0.5626 - val_loss: 0.7012 - val_accuracy: 0.5521\n",
      "Epoch 17/200\n",
      "73/73 [==============================] - 0s 966us/step - loss: 0.6985 - accuracy: 0.5642 - val_loss: 0.6989 - val_accuracy: 0.5560\n",
      "Epoch 18/200\n",
      "73/73 [==============================] - 0s 1ms/step - loss: 0.6959 - accuracy: 0.5664 - val_loss: 0.6969 - val_accuracy: 0.5579\n",
      "Epoch 19/200\n",
      "73/73 [==============================] - 0s 1ms/step - loss: 0.6936 - accuracy: 0.5678 - val_loss: 0.6950 - val_accuracy: 0.5592\n",
      "Epoch 20/200\n",
      "73/73 [==============================] - 0s 1ms/step - loss: 0.6915 - accuracy: 0.5678 - val_loss: 0.6933 - val_accuracy: 0.5592\n",
      "Epoch 21/200\n",
      "73/73 [==============================] - 0s 1ms/step - loss: 0.6895 - accuracy: 0.5673 - val_loss: 0.6917 - val_accuracy: 0.5599\n",
      "Epoch 22/200\n",
      "73/73 [==============================] - 0s 1ms/step - loss: 0.6876 - accuracy: 0.5667 - val_loss: 0.6903 - val_accuracy: 0.5579\n",
      "Epoch 23/200\n",
      "73/73 [==============================] - 0s 954us/step - loss: 0.6859 - accuracy: 0.5709 - val_loss: 0.6889 - val_accuracy: 0.5579\n",
      "Epoch 24/200\n",
      "73/73 [==============================] - 0s 1ms/step - loss: 0.6843 - accuracy: 0.5723 - val_loss: 0.6878 - val_accuracy: 0.5553\n",
      "Epoch 25/200\n",
      "73/73 [==============================] - 0s 1ms/step - loss: 0.6828 - accuracy: 0.5753 - val_loss: 0.6866 - val_accuracy: 0.5540\n",
      "Epoch 26/200\n",
      "73/73 [==============================] - 0s 1ms/step - loss: 0.6814 - accuracy: 0.5764 - val_loss: 0.6855 - val_accuracy: 0.5573\n",
      "Epoch 27/200\n",
      "73/73 [==============================] - 0s 1ms/step - loss: 0.6802 - accuracy: 0.5767 - val_loss: 0.6845 - val_accuracy: 0.5605\n",
      "Epoch 28/200\n",
      "73/73 [==============================] - 0s 1ms/step - loss: 0.6790 - accuracy: 0.5784 - val_loss: 0.6836 - val_accuracy: 0.5599\n",
      "Epoch 29/200\n",
      "73/73 [==============================] - 0s 969us/step - loss: 0.6779 - accuracy: 0.5792 - val_loss: 0.6827 - val_accuracy: 0.5599\n",
      "Epoch 30/200\n",
      "73/73 [==============================] - 0s 1ms/step - loss: 0.6767 - accuracy: 0.5820 - val_loss: 0.6819 - val_accuracy: 0.5612\n",
      "Epoch 31/200\n",
      "73/73 [==============================] - 0s 1ms/step - loss: 0.6757 - accuracy: 0.5822 - val_loss: 0.6812 - val_accuracy: 0.5599\n",
      "Epoch 32/200\n",
      "73/73 [==============================] - 0s 1ms/step - loss: 0.6747 - accuracy: 0.5842 - val_loss: 0.6804 - val_accuracy: 0.5612\n",
      "Epoch 33/200\n",
      "73/73 [==============================] - 0s 1ms/step - loss: 0.6737 - accuracy: 0.5850 - val_loss: 0.6797 - val_accuracy: 0.5650\n",
      "Epoch 34/200\n",
      "73/73 [==============================] - 0s 1ms/step - loss: 0.6728 - accuracy: 0.5864 - val_loss: 0.6790 - val_accuracy: 0.5663\n",
      "Epoch 35/200\n",
      "73/73 [==============================] - 0s 1ms/step - loss: 0.6719 - accuracy: 0.5867 - val_loss: 0.6784 - val_accuracy: 0.5683\n",
      "Epoch 36/200\n",
      "73/73 [==============================] - 0s 1ms/step - loss: 0.6711 - accuracy: 0.5872 - val_loss: 0.6779 - val_accuracy: 0.5683\n",
      "Epoch 37/200\n",
      "73/73 [==============================] - 0s 1ms/step - loss: 0.6704 - accuracy: 0.5867 - val_loss: 0.6772 - val_accuracy: 0.5683\n",
      "Epoch 38/200\n",
      "73/73 [==============================] - 0s 1ms/step - loss: 0.6695 - accuracy: 0.5875 - val_loss: 0.6767 - val_accuracy: 0.5709\n",
      "Epoch 39/200\n",
      "73/73 [==============================] - 0s 1ms/step - loss: 0.6688 - accuracy: 0.5889 - val_loss: 0.6762 - val_accuracy: 0.5715\n",
      "Epoch 40/200\n",
      "73/73 [==============================] - 0s 950us/step - loss: 0.6681 - accuracy: 0.5878 - val_loss: 0.6757 - val_accuracy: 0.5728\n",
      "Epoch 41/200\n",
      "73/73 [==============================] - 0s 942us/step - loss: 0.6675 - accuracy: 0.5892 - val_loss: 0.6754 - val_accuracy: 0.5728\n",
      "Epoch 42/200\n",
      "73/73 [==============================] - 0s 968us/step - loss: 0.6668 - accuracy: 0.5895 - val_loss: 0.6749 - val_accuracy: 0.5748\n",
      "Epoch 43/200\n",
      "73/73 [==============================] - 0s 1ms/step - loss: 0.6662 - accuracy: 0.5908 - val_loss: 0.6746 - val_accuracy: 0.5761\n",
      "Epoch 44/200\n",
      "73/73 [==============================] - 0s 1ms/step - loss: 0.6656 - accuracy: 0.5906 - val_loss: 0.6742 - val_accuracy: 0.5773\n",
      "Epoch 45/200\n",
      "73/73 [==============================] - 0s 1ms/step - loss: 0.6650 - accuracy: 0.5925 - val_loss: 0.6738 - val_accuracy: 0.5786\n",
      "Epoch 46/200\n",
      "73/73 [==============================] - 0s 1ms/step - loss: 0.6645 - accuracy: 0.5928 - val_loss: 0.6734 - val_accuracy: 0.5806\n",
      "Epoch 47/200\n",
      "73/73 [==============================] - 0s 1ms/step - loss: 0.6639 - accuracy: 0.5950 - val_loss: 0.6731 - val_accuracy: 0.5825\n",
      "Epoch 48/200\n",
      "73/73 [==============================] - 0s 1ms/step - loss: 0.6635 - accuracy: 0.5939 - val_loss: 0.6728 - val_accuracy: 0.5832\n",
      "Epoch 49/200\n",
      "73/73 [==============================] - 0s 1ms/step - loss: 0.6630 - accuracy: 0.5945 - val_loss: 0.6725 - val_accuracy: 0.5812\n",
      "Epoch 50/200\n",
      "73/73 [==============================] - 0s 1ms/step - loss: 0.6625 - accuracy: 0.5953 - val_loss: 0.6722 - val_accuracy: 0.5812\n",
      "Epoch 51/200\n",
      "73/73 [==============================] - 0s 1ms/step - loss: 0.6620 - accuracy: 0.5939 - val_loss: 0.6719 - val_accuracy: 0.5793\n",
      "Epoch 52/200\n",
      "73/73 [==============================] - 0s 1ms/step - loss: 0.6616 - accuracy: 0.5958 - val_loss: 0.6716 - val_accuracy: 0.5806\n",
      "Epoch 53/200\n",
      "73/73 [==============================] - 0s 954us/step - loss: 0.6611 - accuracy: 0.5961 - val_loss: 0.6713 - val_accuracy: 0.5812\n",
      "Epoch 54/200\n",
      "73/73 [==============================] - 0s 1ms/step - loss: 0.6607 - accuracy: 0.5969 - val_loss: 0.6711 - val_accuracy: 0.5799\n",
      "Epoch 55/200\n",
      "73/73 [==============================] - 0s 1ms/step - loss: 0.6603 - accuracy: 0.5969 - val_loss: 0.6708 - val_accuracy: 0.5819\n",
      "Epoch 56/200\n",
      "73/73 [==============================] - 0s 1ms/step - loss: 0.6599 - accuracy: 0.5967 - val_loss: 0.6706 - val_accuracy: 0.5819\n",
      "Epoch 57/200\n",
      "73/73 [==============================] - 0s 1ms/step - loss: 0.6595 - accuracy: 0.5972 - val_loss: 0.6704 - val_accuracy: 0.5819\n",
      "Epoch 58/200\n",
      "73/73 [==============================] - 0s 1ms/step - loss: 0.6592 - accuracy: 0.5981 - val_loss: 0.6702 - val_accuracy: 0.5845\n",
      "Epoch 59/200\n",
      "73/73 [==============================] - 0s 995us/step - loss: 0.6588 - accuracy: 0.5983 - val_loss: 0.6701 - val_accuracy: 0.5871\n",
      "Epoch 60/200\n",
      "73/73 [==============================] - 0s 1ms/step - loss: 0.6585 - accuracy: 0.5994 - val_loss: 0.6699 - val_accuracy: 0.5864\n",
      "Epoch 61/200\n",
      "73/73 [==============================] - 0s 1ms/step - loss: 0.6582 - accuracy: 0.5994 - val_loss: 0.6697 - val_accuracy: 0.5877\n",
      "Epoch 62/200\n",
      "73/73 [==============================] - 0s 1ms/step - loss: 0.6579 - accuracy: 0.6000 - val_loss: 0.6696 - val_accuracy: 0.5864\n",
      "Epoch 63/200\n",
      "73/73 [==============================] - 0s 1ms/step - loss: 0.6576 - accuracy: 0.5992 - val_loss: 0.6694 - val_accuracy: 0.5858\n",
      "Epoch 64/200\n",
      "73/73 [==============================] - 0s 1ms/step - loss: 0.6572 - accuracy: 0.6000 - val_loss: 0.6692 - val_accuracy: 0.5851\n",
      "Epoch 65/200\n",
      "73/73 [==============================] - 0s 954us/step - loss: 0.6569 - accuracy: 0.6006 - val_loss: 0.6690 - val_accuracy: 0.5838\n",
      "Epoch 66/200\n",
      "73/73 [==============================] - 0s 1ms/step - loss: 0.6566 - accuracy: 0.6011 - val_loss: 0.6688 - val_accuracy: 0.5851\n",
      "Epoch 67/200\n",
      "73/73 [==============================] - 0s 1ms/step - loss: 0.6564 - accuracy: 0.6014 - val_loss: 0.6687 - val_accuracy: 0.5877\n",
      "Epoch 68/200\n",
      "73/73 [==============================] - 0s 989us/step - loss: 0.6561 - accuracy: 0.6025 - val_loss: 0.6685 - val_accuracy: 0.5877\n",
      "Epoch 69/200\n",
      "73/73 [==============================] - 0s 1ms/step - loss: 0.6558 - accuracy: 0.6033 - val_loss: 0.6683 - val_accuracy: 0.5871\n",
      "Epoch 70/200\n",
      "73/73 [==============================] - 0s 959us/step - loss: 0.6555 - accuracy: 0.6031 - val_loss: 0.6682 - val_accuracy: 0.5871\n",
      "Epoch 71/200\n",
      "73/73 [==============================] - 0s 1ms/step - loss: 0.6553 - accuracy: 0.6033 - val_loss: 0.6681 - val_accuracy: 0.5877\n",
      "Epoch 72/200\n",
      "73/73 [==============================] - 0s 1ms/step - loss: 0.6550 - accuracy: 0.6039 - val_loss: 0.6679 - val_accuracy: 0.5877\n",
      "Epoch 73/200\n",
      "73/73 [==============================] - 0s 1ms/step - loss: 0.6547 - accuracy: 0.6061 - val_loss: 0.6678 - val_accuracy: 0.5871\n",
      "Epoch 74/200\n",
      "73/73 [==============================] - 0s 1ms/step - loss: 0.6545 - accuracy: 0.6058 - val_loss: 0.6677 - val_accuracy: 0.5858\n",
      "Epoch 75/200\n",
      "73/73 [==============================] - 0s 1ms/step - loss: 0.6542 - accuracy: 0.6072 - val_loss: 0.6676 - val_accuracy: 0.5845\n",
      "Epoch 76/200\n",
      "73/73 [==============================] - 0s 976us/step - loss: 0.6540 - accuracy: 0.6072 - val_loss: 0.6675 - val_accuracy: 0.5851\n",
      "Epoch 77/200\n",
      "73/73 [==============================] - 0s 1ms/step - loss: 0.6538 - accuracy: 0.6078 - val_loss: 0.6674 - val_accuracy: 0.5858\n",
      "Epoch 78/200\n",
      "73/73 [==============================] - 0s 1ms/step - loss: 0.6535 - accuracy: 0.6083 - val_loss: 0.6673 - val_accuracy: 0.5845\n",
      "Epoch 79/200\n",
      "73/73 [==============================] - 0s 1ms/step - loss: 0.6533 - accuracy: 0.6075 - val_loss: 0.6672 - val_accuracy: 0.5845\n",
      "Epoch 80/200\n",
      "73/73 [==============================] - 0s 1ms/step - loss: 0.6531 - accuracy: 0.6080 - val_loss: 0.6671 - val_accuracy: 0.5858\n",
      "Epoch 81/200\n",
      "73/73 [==============================] - 0s 1ms/step - loss: 0.6528 - accuracy: 0.6083 - val_loss: 0.6670 - val_accuracy: 0.5845\n",
      "Epoch 82/200\n",
      "73/73 [==============================] - 0s 1ms/step - loss: 0.6526 - accuracy: 0.6097 - val_loss: 0.6668 - val_accuracy: 0.5845\n",
      "Epoch 83/200\n",
      "73/73 [==============================] - 0s 1ms/step - loss: 0.6524 - accuracy: 0.6089 - val_loss: 0.6667 - val_accuracy: 0.5858\n",
      "Epoch 84/200\n",
      "73/73 [==============================] - 0s 977us/step - loss: 0.6522 - accuracy: 0.6094 - val_loss: 0.6666 - val_accuracy: 0.5864\n",
      "Epoch 85/200\n",
      "73/73 [==============================] - 0s 1ms/step - loss: 0.6520 - accuracy: 0.6097 - val_loss: 0.6665 - val_accuracy: 0.5871\n",
      "Epoch 86/200\n",
      "73/73 [==============================] - 0s 1ms/step - loss: 0.6518 - accuracy: 0.6094 - val_loss: 0.6663 - val_accuracy: 0.5864\n",
      "Epoch 87/200\n",
      "73/73 [==============================] - 0s 1ms/step - loss: 0.6515 - accuracy: 0.6094 - val_loss: 0.6662 - val_accuracy: 0.5864\n",
      "Epoch 88/200\n",
      "73/73 [==============================] - 0s 1ms/step - loss: 0.6514 - accuracy: 0.6103 - val_loss: 0.6661 - val_accuracy: 0.5851\n",
      "Epoch 89/200\n",
      "73/73 [==============================] - 0s 958us/step - loss: 0.6512 - accuracy: 0.6108 - val_loss: 0.6660 - val_accuracy: 0.5851\n",
      "Epoch 90/200\n",
      "73/73 [==============================] - 0s 1ms/step - loss: 0.6510 - accuracy: 0.6111 - val_loss: 0.6659 - val_accuracy: 0.5871\n",
      "Epoch 91/200\n",
      "73/73 [==============================] - 0s 1ms/step - loss: 0.6508 - accuracy: 0.6125 - val_loss: 0.6658 - val_accuracy: 0.5871\n",
      "Epoch 92/200\n",
      "73/73 [==============================] - 0s 1ms/step - loss: 0.6507 - accuracy: 0.6119 - val_loss: 0.6657 - val_accuracy: 0.5864\n",
      "Epoch 93/200\n",
      "73/73 [==============================] - 0s 1ms/step - loss: 0.6505 - accuracy: 0.6144 - val_loss: 0.6656 - val_accuracy: 0.5871\n",
      "Epoch 94/200\n",
      "73/73 [==============================] - 0s 1ms/step - loss: 0.6503 - accuracy: 0.6144 - val_loss: 0.6656 - val_accuracy: 0.5858\n",
      "Epoch 95/200\n",
      "73/73 [==============================] - 0s 988us/step - loss: 0.6501 - accuracy: 0.6136 - val_loss: 0.6655 - val_accuracy: 0.5890\n",
      "Epoch 96/200\n",
      "73/73 [==============================] - 0s 1ms/step - loss: 0.6500 - accuracy: 0.6136 - val_loss: 0.6654 - val_accuracy: 0.5883\n",
      "Epoch 97/200\n",
      "73/73 [==============================] - 0s 1ms/step - loss: 0.6498 - accuracy: 0.6155 - val_loss: 0.6654 - val_accuracy: 0.5883\n",
      "Epoch 98/200\n",
      "73/73 [==============================] - 0s 1ms/step - loss: 0.6496 - accuracy: 0.6155 - val_loss: 0.6654 - val_accuracy: 0.5883\n",
      "Epoch 99/200\n",
      "73/73 [==============================] - 0s 1ms/step - loss: 0.6494 - accuracy: 0.6155 - val_loss: 0.6653 - val_accuracy: 0.5883\n",
      "Epoch 100/200\n",
      "73/73 [==============================] - 0s 1ms/step - loss: 0.6493 - accuracy: 0.6153 - val_loss: 0.6653 - val_accuracy: 0.5883\n",
      "Epoch 101/200\n",
      "73/73 [==============================] - 0s 965us/step - loss: 0.6491 - accuracy: 0.6166 - val_loss: 0.6652 - val_accuracy: 0.5903\n",
      "Epoch 102/200\n",
      "73/73 [==============================] - 0s 1ms/step - loss: 0.6489 - accuracy: 0.6178 - val_loss: 0.6652 - val_accuracy: 0.5896\n",
      "Epoch 103/200\n",
      "73/73 [==============================] - 0s 1ms/step - loss: 0.6488 - accuracy: 0.6180 - val_loss: 0.6652 - val_accuracy: 0.5916\n",
      "Epoch 104/200\n",
      "73/73 [==============================] - 0s 1ms/step - loss: 0.6486 - accuracy: 0.6180 - val_loss: 0.6651 - val_accuracy: 0.5916\n",
      "Epoch 105/200\n",
      "73/73 [==============================] - 0s 1ms/step - loss: 0.6484 - accuracy: 0.6189 - val_loss: 0.6651 - val_accuracy: 0.5929\n",
      "Epoch 106/200\n",
      "73/73 [==============================] - 0s 959us/step - loss: 0.6483 - accuracy: 0.6189 - val_loss: 0.6651 - val_accuracy: 0.5942\n",
      "Epoch 107/200\n",
      "73/73 [==============================] - 0s 1ms/step - loss: 0.6481 - accuracy: 0.6186 - val_loss: 0.6651 - val_accuracy: 0.5922\n",
      "Epoch 108/200\n",
      "73/73 [==============================] - 0s 1ms/step - loss: 0.6481 - accuracy: 0.6191 - val_loss: 0.6649 - val_accuracy: 0.5922\n",
      "Epoch 109/200\n",
      "73/73 [==============================] - 0s 1ms/step - loss: 0.6478 - accuracy: 0.6186 - val_loss: 0.6649 - val_accuracy: 0.5896\n",
      "Epoch 110/200\n",
      "73/73 [==============================] - 0s 1ms/step - loss: 0.6478 - accuracy: 0.6186 - val_loss: 0.6648 - val_accuracy: 0.5896\n",
      "Epoch 111/200\n",
      "73/73 [==============================] - 0s 1ms/step - loss: 0.6476 - accuracy: 0.6205 - val_loss: 0.6648 - val_accuracy: 0.5909\n",
      "Epoch 112/200\n",
      "73/73 [==============================] - 0s 978us/step - loss: 0.6474 - accuracy: 0.6208 - val_loss: 0.6647 - val_accuracy: 0.5903\n",
      "Epoch 113/200\n",
      "73/73 [==============================] - 0s 1ms/step - loss: 0.6473 - accuracy: 0.6191 - val_loss: 0.6647 - val_accuracy: 0.5916\n",
      "Epoch 114/200\n",
      "73/73 [==============================] - 0s 1ms/step - loss: 0.6472 - accuracy: 0.6205 - val_loss: 0.6646 - val_accuracy: 0.5916\n",
      "Epoch 115/200\n",
      "73/73 [==============================] - 0s 1ms/step - loss: 0.6470 - accuracy: 0.6194 - val_loss: 0.6646 - val_accuracy: 0.5909\n",
      "Epoch 116/200\n",
      "73/73 [==============================] - 0s 1ms/step - loss: 0.6469 - accuracy: 0.6197 - val_loss: 0.6645 - val_accuracy: 0.5909\n",
      "Epoch 117/200\n",
      "73/73 [==============================] - 0s 1ms/step - loss: 0.6467 - accuracy: 0.6200 - val_loss: 0.6645 - val_accuracy: 0.5929\n",
      "Epoch 118/200\n",
      "73/73 [==============================] - 0s 990us/step - loss: 0.6466 - accuracy: 0.6205 - val_loss: 0.6645 - val_accuracy: 0.5942\n",
      "Epoch 119/200\n",
      "73/73 [==============================] - 0s 1ms/step - loss: 0.6465 - accuracy: 0.6194 - val_loss: 0.6644 - val_accuracy: 0.5942\n",
      "Epoch 120/200\n",
      "73/73 [==============================] - 0s 1ms/step - loss: 0.6464 - accuracy: 0.6189 - val_loss: 0.6643 - val_accuracy: 0.5942\n",
      "Epoch 121/200\n",
      "73/73 [==============================] - 0s 1ms/step - loss: 0.6462 - accuracy: 0.6189 - val_loss: 0.6642 - val_accuracy: 0.5955\n",
      "Epoch 122/200\n",
      "73/73 [==============================] - 0s 1ms/step - loss: 0.6461 - accuracy: 0.6186 - val_loss: 0.6642 - val_accuracy: 0.5961\n",
      "Epoch 123/200\n",
      "73/73 [==============================] - 0s 1ms/step - loss: 0.6460 - accuracy: 0.6183 - val_loss: 0.6642 - val_accuracy: 0.5974\n",
      "Epoch 124/200\n",
      "73/73 [==============================] - 0s 964us/step - loss: 0.6458 - accuracy: 0.6189 - val_loss: 0.6641 - val_accuracy: 0.5987\n",
      "Epoch 125/200\n",
      "73/73 [==============================] - 0s 1ms/step - loss: 0.6457 - accuracy: 0.6202 - val_loss: 0.6641 - val_accuracy: 0.5974\n",
      "Epoch 126/200\n",
      "73/73 [==============================] - 0s 1ms/step - loss: 0.6456 - accuracy: 0.6205 - val_loss: 0.6641 - val_accuracy: 0.5974\n",
      "Epoch 127/200\n",
      "73/73 [==============================] - 0s 1ms/step - loss: 0.6455 - accuracy: 0.6205 - val_loss: 0.6641 - val_accuracy: 0.5994\n",
      "Epoch 128/200\n",
      "73/73 [==============================] - 0s 1ms/step - loss: 0.6454 - accuracy: 0.6222 - val_loss: 0.6641 - val_accuracy: 0.5994\n",
      "Epoch 129/200\n",
      "73/73 [==============================] - 0s 1ms/step - loss: 0.6453 - accuracy: 0.6205 - val_loss: 0.6642 - val_accuracy: 0.5987\n",
      "Epoch 130/200\n",
      "73/73 [==============================] - 0s 954us/step - loss: 0.6451 - accuracy: 0.6200 - val_loss: 0.6641 - val_accuracy: 0.5987\n",
      "Epoch 131/200\n",
      "73/73 [==============================] - 0s 1ms/step - loss: 0.6450 - accuracy: 0.6197 - val_loss: 0.6640 - val_accuracy: 0.5994\n",
      "Epoch 132/200\n",
      "73/73 [==============================] - 0s 1ms/step - loss: 0.6449 - accuracy: 0.6205 - val_loss: 0.6640 - val_accuracy: 0.6000\n",
      "Epoch 133/200\n",
      "73/73 [==============================] - 0s 1ms/step - loss: 0.6448 - accuracy: 0.6214 - val_loss: 0.6640 - val_accuracy: 0.5994\n",
      "Epoch 134/200\n",
      "73/73 [==============================] - 0s 1ms/step - loss: 0.6447 - accuracy: 0.6225 - val_loss: 0.6640 - val_accuracy: 0.5994\n",
      "Epoch 135/200\n",
      "73/73 [==============================] - 0s 997us/step - loss: 0.6446 - accuracy: 0.6219 - val_loss: 0.6639 - val_accuracy: 0.5987\n",
      "Epoch 136/200\n",
      "73/73 [==============================] - 0s 975us/step - loss: 0.6445 - accuracy: 0.6225 - val_loss: 0.6639 - val_accuracy: 0.5974\n",
      "Epoch 137/200\n",
      "73/73 [==============================] - 0s 1ms/step - loss: 0.6444 - accuracy: 0.6208 - val_loss: 0.6638 - val_accuracy: 0.5994\n",
      "Epoch 138/200\n",
      "73/73 [==============================] - 0s 1ms/step - loss: 0.6442 - accuracy: 0.6219 - val_loss: 0.6638 - val_accuracy: 0.5987\n",
      "Epoch 139/200\n",
      "73/73 [==============================] - 0s 1ms/step - loss: 0.6441 - accuracy: 0.6222 - val_loss: 0.6638 - val_accuracy: 0.5994\n",
      "Epoch 140/200\n",
      "73/73 [==============================] - 0s 1ms/step - loss: 0.6440 - accuracy: 0.6227 - val_loss: 0.6638 - val_accuracy: 0.6000\n",
      "Epoch 141/200\n",
      "73/73 [==============================] - 0s 959us/step - loss: 0.6439 - accuracy: 0.6225 - val_loss: 0.6638 - val_accuracy: 0.5994\n",
      "Epoch 142/200\n",
      "73/73 [==============================] - 0s 1ms/step - loss: 0.6438 - accuracy: 0.6222 - val_loss: 0.6638 - val_accuracy: 0.5994\n",
      "Epoch 143/200\n",
      "73/73 [==============================] - 0s 1ms/step - loss: 0.6437 - accuracy: 0.6222 - val_loss: 0.6638 - val_accuracy: 0.6000\n",
      "Epoch 144/200\n",
      "73/73 [==============================] - 0s 1ms/step - loss: 0.6436 - accuracy: 0.6216 - val_loss: 0.6638 - val_accuracy: 0.6006\n",
      "Epoch 145/200\n",
      "73/73 [==============================] - 0s 1ms/step - loss: 0.6435 - accuracy: 0.6239 - val_loss: 0.6637 - val_accuracy: 0.5981\n",
      "Epoch 146/200\n",
      "73/73 [==============================] - 0s 1ms/step - loss: 0.6433 - accuracy: 0.6241 - val_loss: 0.6637 - val_accuracy: 0.6006\n",
      "Epoch 147/200\n",
      "73/73 [==============================] - 0s 983us/step - loss: 0.6432 - accuracy: 0.6225 - val_loss: 0.6637 - val_accuracy: 0.6000\n",
      "Epoch 148/200\n",
      "73/73 [==============================] - 0s 1ms/step - loss: 0.6432 - accuracy: 0.6230 - val_loss: 0.6638 - val_accuracy: 0.6000\n",
      "Epoch 149/200\n",
      "73/73 [==============================] - 0s 1ms/step - loss: 0.6430 - accuracy: 0.6233 - val_loss: 0.6637 - val_accuracy: 0.6019\n",
      "Epoch 150/200\n",
      "73/73 [==============================] - 0s 1ms/step - loss: 0.6430 - accuracy: 0.6239 - val_loss: 0.6637 - val_accuracy: 0.6013\n",
      "Epoch 151/200\n",
      "73/73 [==============================] - 0s 1ms/step - loss: 0.6428 - accuracy: 0.6239 - val_loss: 0.6637 - val_accuracy: 0.6000\n",
      "Epoch 152/200\n",
      "73/73 [==============================] - 0s 1ms/step - loss: 0.6427 - accuracy: 0.6244 - val_loss: 0.6636 - val_accuracy: 0.6013\n",
      "Epoch 153/200\n",
      "73/73 [==============================] - 0s 979us/step - loss: 0.6426 - accuracy: 0.6227 - val_loss: 0.6636 - val_accuracy: 0.5994\n",
      "Epoch 154/200\n",
      "73/73 [==============================] - 0s 1ms/step - loss: 0.6425 - accuracy: 0.6233 - val_loss: 0.6636 - val_accuracy: 0.6006\n",
      "Epoch 155/200\n",
      "73/73 [==============================] - 0s 1ms/step - loss: 0.6424 - accuracy: 0.6241 - val_loss: 0.6636 - val_accuracy: 0.5987\n",
      "Epoch 156/200\n",
      "73/73 [==============================] - 0s 1ms/step - loss: 0.6423 - accuracy: 0.6239 - val_loss: 0.6636 - val_accuracy: 0.5994\n",
      "Epoch 157/200\n",
      "73/73 [==============================] - 0s 1ms/step - loss: 0.6422 - accuracy: 0.6230 - val_loss: 0.6636 - val_accuracy: 0.5981\n",
      "Epoch 158/200\n",
      "73/73 [==============================] - 0s 1ms/step - loss: 0.6421 - accuracy: 0.6236 - val_loss: 0.6636 - val_accuracy: 0.5981\n",
      "Epoch 159/200\n",
      "73/73 [==============================] - 0s 1ms/step - loss: 0.6420 - accuracy: 0.6230 - val_loss: 0.6636 - val_accuracy: 0.5987\n",
      "Epoch 160/200\n",
      "73/73 [==============================] - 0s 971us/step - loss: 0.6419 - accuracy: 0.6239 - val_loss: 0.6636 - val_accuracy: 0.5981\n",
      "Epoch 161/200\n",
      "73/73 [==============================] - 0s 1ms/step - loss: 0.6418 - accuracy: 0.6239 - val_loss: 0.6635 - val_accuracy: 0.5981\n",
      "Epoch 162/200\n",
      "73/73 [==============================] - 0s 1ms/step - loss: 0.6417 - accuracy: 0.6241 - val_loss: 0.6635 - val_accuracy: 0.5987\n",
      "Epoch 163/200\n",
      "73/73 [==============================] - 0s 1ms/step - loss: 0.6415 - accuracy: 0.6233 - val_loss: 0.6636 - val_accuracy: 0.5968\n",
      "Epoch 164/200\n",
      "73/73 [==============================] - 0s 1ms/step - loss: 0.6415 - accuracy: 0.6236 - val_loss: 0.6635 - val_accuracy: 0.5994\n",
      "Epoch 165/200\n",
      "73/73 [==============================] - 0s 1ms/step - loss: 0.6414 - accuracy: 0.6236 - val_loss: 0.6635 - val_accuracy: 0.5987\n",
      "Epoch 166/200\n",
      "73/73 [==============================] - 0s 967us/step - loss: 0.6412 - accuracy: 0.6233 - val_loss: 0.6635 - val_accuracy: 0.5981\n",
      "Epoch 167/200\n",
      "73/73 [==============================] - 0s 1ms/step - loss: 0.6411 - accuracy: 0.6227 - val_loss: 0.6634 - val_accuracy: 0.6000\n",
      "Epoch 168/200\n",
      "73/73 [==============================] - 0s 1ms/step - loss: 0.6410 - accuracy: 0.6239 - val_loss: 0.6634 - val_accuracy: 0.6000\n",
      "Epoch 169/200\n",
      "73/73 [==============================] - 0s 1ms/step - loss: 0.6409 - accuracy: 0.6233 - val_loss: 0.6634 - val_accuracy: 0.5994\n",
      "Epoch 170/200\n",
      "73/73 [==============================] - 0s 1ms/step - loss: 0.6408 - accuracy: 0.6230 - val_loss: 0.6633 - val_accuracy: 0.6000\n",
      "Epoch 171/200\n",
      "73/73 [==============================] - 0s 1ms/step - loss: 0.6407 - accuracy: 0.6230 - val_loss: 0.6633 - val_accuracy: 0.6006\n",
      "Epoch 172/200\n",
      "73/73 [==============================] - 0s 958us/step - loss: 0.6406 - accuracy: 0.6227 - val_loss: 0.6633 - val_accuracy: 0.6032\n",
      "Epoch 173/200\n",
      "73/73 [==============================] - 0s 1ms/step - loss: 0.6405 - accuracy: 0.6225 - val_loss: 0.6633 - val_accuracy: 0.6026\n",
      "Epoch 174/200\n",
      "73/73 [==============================] - 0s 1ms/step - loss: 0.6404 - accuracy: 0.6225 - val_loss: 0.6632 - val_accuracy: 0.6019\n",
      "Epoch 175/200\n",
      "73/73 [==============================] - 0s 1ms/step - loss: 0.6403 - accuracy: 0.6225 - val_loss: 0.6632 - val_accuracy: 0.6019\n",
      "Epoch 176/200\n",
      "73/73 [==============================] - 0s 1ms/step - loss: 0.6402 - accuracy: 0.6233 - val_loss: 0.6633 - val_accuracy: 0.6019\n",
      "Epoch 177/200\n",
      "73/73 [==============================] - 0s 1ms/step - loss: 0.6401 - accuracy: 0.6219 - val_loss: 0.6632 - val_accuracy: 0.6026\n",
      "Epoch 178/200\n",
      "73/73 [==============================] - 0s 967us/step - loss: 0.6400 - accuracy: 0.6233 - val_loss: 0.6632 - val_accuracy: 0.6026\n",
      "Epoch 179/200\n",
      "73/73 [==============================] - 0s 1ms/step - loss: 0.6399 - accuracy: 0.6233 - val_loss: 0.6633 - val_accuracy: 0.6032\n",
      "Epoch 180/200\n",
      "73/73 [==============================] - 0s 1ms/step - loss: 0.6398 - accuracy: 0.6236 - val_loss: 0.6632 - val_accuracy: 0.6032\n",
      "Epoch 181/200\n",
      "73/73 [==============================] - 0s 1ms/step - loss: 0.6397 - accuracy: 0.6230 - val_loss: 0.6632 - val_accuracy: 0.6039\n",
      "Epoch 182/200\n",
      "73/73 [==============================] - 0s 1ms/step - loss: 0.6395 - accuracy: 0.6252 - val_loss: 0.6631 - val_accuracy: 0.6032\n",
      "Epoch 183/200\n",
      "73/73 [==============================] - 0s 1ms/step - loss: 0.6395 - accuracy: 0.6244 - val_loss: 0.6631 - val_accuracy: 0.6019\n",
      "Epoch 184/200\n",
      "73/73 [==============================] - 0s 1ms/step - loss: 0.6394 - accuracy: 0.6261 - val_loss: 0.6630 - val_accuracy: 0.6052\n",
      "Epoch 185/200\n",
      "73/73 [==============================] - 0s 1ms/step - loss: 0.6392 - accuracy: 0.6266 - val_loss: 0.6630 - val_accuracy: 0.6032\n",
      "Epoch 186/200\n",
      "73/73 [==============================] - 0s 1ms/step - loss: 0.6392 - accuracy: 0.6264 - val_loss: 0.6630 - val_accuracy: 0.6039\n",
      "Epoch 187/200\n",
      "73/73 [==============================] - 0s 1ms/step - loss: 0.6391 - accuracy: 0.6261 - val_loss: 0.6630 - val_accuracy: 0.6039\n",
      "Epoch 188/200\n",
      "73/73 [==============================] - 0s 1ms/step - loss: 0.6390 - accuracy: 0.6272 - val_loss: 0.6630 - val_accuracy: 0.6039\n",
      "Epoch 189/200\n",
      "73/73 [==============================] - 0s 967us/step - loss: 0.6389 - accuracy: 0.6266 - val_loss: 0.6630 - val_accuracy: 0.6045\n",
      "Epoch 190/200\n",
      "73/73 [==============================] - 0s 988us/step - loss: 0.6388 - accuracy: 0.6266 - val_loss: 0.6629 - val_accuracy: 0.6039\n",
      "Epoch 191/200\n",
      "73/73 [==============================] - 0s 1ms/step - loss: 0.6387 - accuracy: 0.6266 - val_loss: 0.6630 - val_accuracy: 0.6039\n",
      "Epoch 192/200\n",
      "73/73 [==============================] - 0s 1ms/step - loss: 0.6386 - accuracy: 0.6266 - val_loss: 0.6629 - val_accuracy: 0.6026\n",
      "Epoch 193/200\n",
      "73/73 [==============================] - 0s 1ms/step - loss: 0.6385 - accuracy: 0.6272 - val_loss: 0.6630 - val_accuracy: 0.6032\n",
      "Epoch 194/200\n",
      "73/73 [==============================] - 0s 1ms/step - loss: 0.6384 - accuracy: 0.6269 - val_loss: 0.6629 - val_accuracy: 0.6039\n",
      "Epoch 195/200\n",
      "73/73 [==============================] - 0s 1ms/step - loss: 0.6383 - accuracy: 0.6269 - val_loss: 0.6629 - val_accuracy: 0.6026\n",
      "Epoch 196/200\n",
      "73/73 [==============================] - 0s 978us/step - loss: 0.6382 - accuracy: 0.6277 - val_loss: 0.6628 - val_accuracy: 0.6026\n",
      "Epoch 197/200\n",
      "73/73 [==============================] - 0s 1ms/step - loss: 0.6381 - accuracy: 0.6275 - val_loss: 0.6629 - val_accuracy: 0.6026\n",
      "Epoch 198/200\n",
      "73/73 [==============================] - 0s 1ms/step - loss: 0.6380 - accuracy: 0.6280 - val_loss: 0.6628 - val_accuracy: 0.6019\n",
      "Epoch 199/200\n",
      "73/73 [==============================] - 0s 1ms/step - loss: 0.6380 - accuracy: 0.6277 - val_loss: 0.6628 - val_accuracy: 0.6026\n",
      "Epoch 200/200\n",
      "73/73 [==============================] - 0s 1ms/step - loss: 0.6379 - accuracy: 0.6272 - val_loss: 0.6628 - val_accuracy: 0.6019\n",
      "69/69 [==============================] - 0s 955us/step - loss: 9.0241 - accuracy: 0.5145\n"
     ]
    }
   ],
   "source": [
    "opt = keras.optimizers.Adam(lr = 0.0001)\n",
    "model.compile(optimizer=opt,\n",
    "              loss='binary_crossentropy',\n",
    "              metrics=['accuracy'])\n",
    "\n",
    "hist = model.fit(X_train_nn, y_train_nn, epochs=200, batch_size=50, validation_data = (X_valid_nn, y_valid_nn))\n",
    "test_loss, test_acc = model.evaluate(X_test, y_test)"
   ]
  },
  {
   "cell_type": "code",
   "execution_count": 139,
   "metadata": {
    "cell_id": "00071-e9e247fd-821e-46f5-b49d-59c462a4171d",
    "deepnote_cell_type": "code",
    "execution_millis": 349,
    "execution_start": 1607016268089,
    "output_cleared": false,
    "source_hash": "e5b23555"
   },
   "outputs": [
    {
     "data": {
      "image/png": "[encoded data removed]",
      "text/plain": [
       "<Figure size 432x288 with 1 Axes>"
      ]
     },
     "metadata": {
      "needs_background": "light"
     },
     "output_type": "display_data"
    }
   ],
   "source": [
    "plt.plot(hist.history['accuracy'])\n",
    "plt.plot(hist.history['val_accuracy'])\n",
    "plt.title('Fully Connected Neural Network Accuracy')\n",
    "plt.ylabel('accuracy')\n",
    "plt.xlabel('epoch')\n",
    "plt.legend(['train', 'validation'], loc='lower right')\n",
    "plt.show()"
   ]
  },
  {
   "cell_type": "code",
   "execution_count": 178,
   "metadata": {
    "cell_id": "00072-95ab6a64-2635-40e3-b23b-9047d3e8d9e4",
    "deepnote_cell_type": "code",
    "execution_millis": 0,
    "execution_start": 1607019913434,
    "output_cleared": false,
    "source_hash": "617c3aa4"
   },
   "outputs": [],
   "source": [
    "# model.save(\"data/NN.h5\")"
   ]
  },
  {
   "cell_type": "code",
   "execution_count": 142,
   "metadata": {
    "cell_id": "00074-0eeaa51d-ac23-4db1-b6d8-bc8c5b17219b",
    "deepnote_cell_type": "code",
    "execution_millis": 99,
    "execution_start": 1607016277780,
    "output_cleared": false,
    "source_hash": "b94f3242"
   },
   "outputs": [],
   "source": [
    "y_pred = model.predict(X_test_nn)"
   ]
  },
  {
   "cell_type": "markdown",
   "metadata": {
    "cell_id": "00075-7c583492-9120-48ea-a3f1-0d9c60f616f0",
    "deepnote_cell_type": "markdown"
   },
   "source": [
    "#### Calculating the confusion matrix for Neural Network"
   ]
  },
  {
   "cell_type": "code",
   "execution_count": 143,
   "metadata": {
    "cell_id": "00076-494e8aca-f2fa-409f-8f09-ee391c5c597d",
    "deepnote_cell_type": "code",
    "execution_millis": 1,
    "execution_start": 1607016280821,
    "output_cleared": false,
    "source_hash": "8c1158ec"
   },
   "outputs": [],
   "source": [
    "y_p_ = np.where(np.asarray(y_pred)>= 0.5, 1, 0).flatten()"
   ]
  },
  {
   "cell_type": "code",
   "execution_count": 144,
   "metadata": {
    "cell_id": "00077-2485d4a5-4ba5-45a7-8cf8-99a7a26f1ec3",
    "deepnote_cell_type": "code",
    "execution_millis": 1,
    "execution_start": 1607016281346,
    "output_cleared": false,
    "source_hash": "5bff2158"
   },
   "outputs": [],
   "source": [
    "counts = Counter(zip(y_p_, y_test.to_numpy().flatten().tolist()))\n",
    "tp = counts[1,1]\n",
    "fp = counts[1,0]\n",
    "tn = counts[0,0]\n",
    "fn = counts[0,1]"
   ]
  },
  {
   "cell_type": "code",
   "execution_count": 150,
   "metadata": {
    "cell_id": "00078-75fda88e-b940-451e-9215-a1c63c942604",
    "deepnote_cell_type": "code",
    "execution_millis": 4,
    "execution_start": 1607016328853,
    "output_cleared": false,
    "source_hash": "fe2c60c7"
   },
   "outputs": [
    {
     "name": "stdout",
     "output_type": "stream",
     "text": [
      "0.5951742627345844\n",
      "0.6051423324150597\n",
      "0.4048257372654156\n",
      "0.39485766758494034\n"
     ]
    },
    {
     "data": {
      "text/plain": [
       "None"
      ]
     },
     "metadata": {},
     "output_type": "display_data"
    },
    {
     "data": {
      "text/plain": [
       "None"
      ]
     },
     "metadata": {},
     "output_type": "display_data"
    },
    {
     "data": {
      "text/plain": [
       "None"
      ]
     },
     "metadata": {},
     "output_type": "display_data"
    },
    {
     "data": {
      "text/plain": [
       "None"
      ]
     },
     "metadata": {},
     "output_type": "display_data"
    }
   ],
   "source": [
    "display(print(tp / (tp+fn)), print(tn / (tn+fp)), print(1 - (tp / (tp+fn))), print(1 - (tn / (tn+fp))))"
   ]
  },
  {
   "cell_type": "code",
   "execution_count": 152,
   "metadata": {
    "cell_id": "00082-ae059644-69f9-40df-90fa-97d82c890ab3",
    "deepnote_cell_type": "code",
    "execution_millis": 141,
    "execution_start": 1607016343242,
    "output_cleared": false,
    "scrolled": true,
    "source_hash": "ea60643f"
   },
   "outputs": [
    {
     "data": {
      "image/png": "[encoded data removed]",
      "text/plain": [
       "<Figure size 432x288 with 1 Axes>"
      ]
     },
     "metadata": {
      "needs_background": "light"
     },
     "output_type": "display_data"
    }
   ],
   "source": [
    "# ROC curve for Neural Network\n",
    "nn_roc_auc = roc_auc_score(y_test, y_pred)\n",
    "fpr, tpr, thresholds = roc_curve(y_test, y_pred)\n",
    "plt.figure()\n",
    "plt.plot(fpr, tpr, label='Neural Network(area = %0.2f)' % nn_roc_auc)\n",
    "plt.plot([0, 1], [0, 1],'r--')\n",
    "plt.xlim([0.0, 1.0])\n",
    "plt.ylim([0.0, 1.05])\n",
    "plt.xlabel('False Positive Rate')\n",
    "plt.ylabel('True Positive Rate')\n",
    "plt.title('ROC Curve Neural Network')\n",
    "plt.legend(loc=\"lower right\")\n",
    "plt.savefig('Log_ROC')\n",
    "plt.show()"
   ]
  },
  {
   "cell_type": "markdown",
   "metadata": {
    "cell_id": "00083-f7e30196-2668-44be-99fc-34367ec8803f",
    "deepnote_cell_type": "markdown"
   },
   "source": [
    "## Gradient Boosting Classifier"
   ]
  },
  {
   "cell_type": "code",
   "execution_count": 154,
   "metadata": {
    "cell_id": "00092-8662f53b-0b18-4871-8d09-081194a9a1e4",
    "deepnote_cell_type": "code",
    "execution_millis": 55492,
    "execution_start": 1607016744154,
    "output_cleared": false,
    "source_hash": "a5399d5f",
    "tags": []
   },
   "outputs": [
    {
     "data": {
      "text/plain": [
       "GridSearchCV(cv=3,\n",
       "             estimator=GradientBoostingClassifier(max_depth=8,\n",
       "                                                  max_features='sqrt',\n",
       "                                                  min_samples_leaf=5,\n",
       "                                                  min_samples_split=10,\n",
       "                                                  random_state=42,\n",
       "                                                  subsample=0.8),\n",
       "             n_jobs=4, param_grid={'n_estimators': [10, 100, 500, 1000]},\n",
       "             scoring='roc_auc')"
      ]
     },
     "execution_count": 154,
     "metadata": {},
     "output_type": "execute_result"
    }
   ],
   "source": [
    "param_grid1_r = {'n_estimators':[10,100,500,1000]}\n",
    "gsearch1 = GridSearchCV(estimator = GradientBoostingClassifier(learning_rate=0.1, min_samples_split=10,min_samples_leaf=5,max_depth=8,max_features='sqrt',subsample=0.8,random_state=42), \n",
    "param_grid = param_grid1_r, scoring='roc_auc',n_jobs=4,cv=3)\n",
    "gsearch1.fit(X_train,np.asarray(y_train).ravel())"
   ]
  },
  {
   "cell_type": "code",
   "execution_count": 155,
   "metadata": {
    "cell_id": "00093-b455c313-c23f-417f-85f0-666227af824a",
    "deepnote_cell_type": "code",
    "execution_millis": 0,
    "execution_start": 1607016814257,
    "output_cleared": false,
    "source_hash": "f2eba284",
    "tags": []
   },
   "outputs": [
    {
     "data": {
      "text/plain": [
       "({'n_estimators': 1000}, 0.7035097765768815)"
      ]
     },
     "execution_count": 155,
     "metadata": {},
     "output_type": "execute_result"
    }
   ],
   "source": [
    "gsearch1.best_params_, gsearch1.best_score_"
   ]
  },
  {
   "cell_type": "code",
   "execution_count": 156,
   "metadata": {
    "cell_id": "00094-531e5eed-ceaf-4463-95df-006ba75733c9",
    "deepnote_cell_type": "code",
    "execution_millis": 622479,
    "execution_start": 1607016836019,
    "output_cleared": false,
    "source_hash": "8111d31e",
    "tags": []
   },
   "outputs": [
    {
     "data": {
      "text/plain": [
       "GridSearchCV(cv=3,\n",
       "             estimator=GradientBoostingClassifier(max_features='sqrt',\n",
       "                                                  n_estimators=1000,\n",
       "                                                  random_state=42,\n",
       "                                                  subsample=0.8),\n",
       "             n_jobs=4,\n",
       "             param_grid={'max_depth': [5, 10, 15, 20],\n",
       "                         'min_samples_split': [5, 10, 20]},\n",
       "             scoring='roc_auc')"
      ]
     },
     "execution_count": 156,
     "metadata": {},
     "output_type": "execute_result"
    }
   ],
   "source": [
    "param_grid2_r = {'max_depth': [5,10,15,20], 'min_samples_split':[5,10,20]}\n",
    "gsearch2 = GridSearchCV(estimator = GradientBoostingClassifier(learning_rate=0.1, n_estimators=1000, max_features='sqrt', subsample=0.8, random_state=42), \n",
    "param_grid = param_grid2_r, scoring='roc_auc',n_jobs=4, cv=3)\n",
    "gsearch2.fit(X_train,np.asarray(y_train).ravel())"
   ]
  },
  {
   "cell_type": "code",
   "execution_count": 157,
   "metadata": {
    "cell_id": "00095-84f06acb-a1d2-4705-a243-64b29fc3d148",
    "deepnote_cell_type": "code",
    "execution_millis": 1,
    "execution_start": 1607017465539,
    "output_cleared": false,
    "source_hash": "3ec9404f",
    "tags": []
   },
   "outputs": [
    {
     "data": {
      "text/plain": [
       "({'max_depth': 20, 'min_samples_split': 5}, 0.7186379311271992)"
      ]
     },
     "execution_count": 157,
     "metadata": {},
     "output_type": "execute_result"
    }
   ],
   "source": [
    "gsearch2.best_params_, gsearch2.best_score_"
   ]
  },
  {
   "cell_type": "code",
   "execution_count": 158,
   "metadata": {
    "cell_id": "00096-54c62a06-46e7-4a8c-8338-ffb918bb6460",
    "deepnote_cell_type": "code",
    "execution_millis": 369406,
    "execution_start": 1607017502348,
    "output_cleared": false,
    "source_hash": "88cc37e1",
    "tags": []
   },
   "outputs": [
    {
     "data": {
      "text/plain": [
       "({'min_samples_leaf': 5, 'min_samples_split': 5}, 0.7160202872276703)"
      ]
     },
     "execution_count": 158,
     "metadata": {},
     "output_type": "execute_result"
    }
   ],
   "source": [
    "param_grid3_r = {'min_samples_split':[5,10,25], 'min_samples_leaf':[5,10,25,50]}\n",
    "gsearch3 = GridSearchCV(estimator = GradientBoostingClassifier(learning_rate=0.1, n_estimators=1000,max_depth=20,max_features='sqrt', subsample=0.8, random_state=42), \n",
    "param_grid = param_grid3_r, scoring='roc_auc',n_jobs=-1,cv=3)\n",
    "gsearch3.fit(X_train,np.asarray(y_train).ravel())\n",
    "gsearch3.best_params_, gsearch3.best_score_"
   ]
  },
  {
   "cell_type": "code",
   "execution_count": 159,
   "metadata": {
    "cell_id": "00097-6462a14d-4b9c-4bed-a326-640c69f51ba9",
    "deepnote_cell_type": "code",
    "execution_millis": 256960,
    "execution_start": 1607017890999,
    "output_cleared": false,
    "source_hash": "18ee0e01",
    "tags": []
   },
   "outputs": [
    {
     "data": {
      "text/plain": [
       "({'max_features': 5}, 0.7153894388245243)"
      ]
     },
     "execution_count": 159,
     "metadata": {},
     "output_type": "execute_result"
    }
   ],
   "source": [
    "param_grid4_r = {'max_features':[5,10,15,'sqrt']}\n",
    "gsearch4 = GridSearchCV(estimator = GradientBoostingClassifier(learning_rate=0.1, n_estimators=1000,max_depth=15, min_samples_split=5, min_samples_leaf=5, subsample=0.8, random_state=10),\n",
    "param_grid = param_grid4_r, scoring='roc_auc',n_jobs=-1, cv=3)\n",
    "gsearch4.fit(X_train,np.asarray(y_train).ravel())\n",
    "gsearch4.best_params_, gsearch4.best_score_"
   ]
  },
  {
   "cell_type": "code",
   "execution_count": 160,
   "metadata": {
    "cell_id": "00098-8be8ca68-e54b-4664-8559-1d52b743c596",
    "deepnote_cell_type": "code",
    "execution_millis": 29502,
    "execution_start": 1607018161444,
    "output_cleared": false,
    "source_hash": "aef022cd",
    "tags": []
   },
   "outputs": [
    {
     "data": {
      "text/plain": [
       "GradientBoostingClassifier(learning_rate=0.01, max_depth=15, max_features=5,\n",
       "                           min_samples_leaf=5, min_samples_split=5,\n",
       "                           n_estimators=1000, random_state=10, subsample=0.8)"
      ]
     },
     "execution_count": 160,
     "metadata": {},
     "output_type": "execute_result"
    }
   ],
   "source": [
    "gs_tuned = GradientBoostingClassifier(learning_rate=0.01, n_estimators=1000,max_depth=15,\n",
    "                     min_samples_split=5,min_samples_leaf=5, subsample=0.8, random_state=10, max_features=5)\n",
    "gs_tuned.fit(X_train,np.asarray(y_train).ravel())"
   ]
  },
  {
   "cell_type": "code",
   "execution_count": 161,
   "metadata": {
    "cell_id": "00084-3855c515-751f-4a32-ab52-19c92a1a1cf0",
    "deepnote_cell_type": "code",
    "execution_millis": 1,
    "execution_start": 1607018199730,
    "output_cleared": false,
    "scrolled": true,
    "source_hash": "17562364"
   },
   "outputs": [],
   "source": [
    "# # Grid Search for GB Classifier\n",
    "# parameters = {\n",
    "#     \"learning_rate\": [0.1],\n",
    "#     \"min_samples_split\": [5,10,20],\n",
    "#     \"min_samples_leaf\": [2,5,10],\n",
    "#     \"max_depth\":[5,10,15],\n",
    "#     \"max_features\":[\"log2\", 'sqrt'],\n",
    "#     \"criterion\": [\"friedman_mse\"],\n",
    "#     \"subsample\":[0.8,1.0],\n",
    "#     \"n_estimators\":[700,900,1000]\n",
    "#     }\n",
    "# # pass param grid into GridSearchCV\n",
    "# clf = GridSearchCV(GradientBoostingClassifier(), parameters,refit=False, n_jobs=-1)\n",
    "\n",
    "# clf.fit(X_train, y_train)\n",
    "# clf.best_params_"
   ]
  },
  {
   "cell_type": "code",
   "execution_count": 162,
   "metadata": {
    "cell_id": "00085-dd4dec9c-6224-45d6-8223-dca57fbf305c",
    "deepnote_cell_type": "code",
    "execution_millis": 1,
    "execution_start": 1607018204306,
    "output_cleared": false,
    "source_hash": "6edd8110"
   },
   "outputs": [],
   "source": [
    "# clfb = GradientBoostingClassifier(criterion= 'friedman_mse',\n",
    "#                                      learning_rate= 0.01,\n",
    "#                                      max_depth= 15, \n",
    "#                                      max_features= 'log2',\n",
    "#                                      min_samples_leaf= 2,\n",
    "#                                      min_samples_split= 5, \n",
    "#                                      n_estimators= 700,\n",
    "#                                      subsample= 1,\n",
    "#                                     random_state = 42)"
   ]
  },
  {
   "cell_type": "code",
   "execution_count": 163,
   "metadata": {
    "cell_id": "00086-3e3b3041-af51-493d-a4c8-b42cb36e79f3",
    "deepnote_cell_type": "code",
    "execution_millis": 3,
    "execution_start": 1607018204882,
    "output_cleared": false,
    "source_hash": "5190810d"
   },
   "outputs": [],
   "source": [
    "# clfb.fit(X_train, np.asarray(y_train).ravel())"
   ]
  },
  {
   "cell_type": "code",
   "execution_count": 164,
   "metadata": {
    "cell_id": "00087-a15b5e1a-8420-41be-a51f-f1aa9f122756",
    "deepnote_cell_type": "code",
    "execution_millis": 381,
    "execution_start": 1607018205682,
    "output_cleared": false,
    "scrolled": true,
    "source_hash": "5ff5e1af"
   },
   "outputs": [
    {
     "data": {
      "text/plain": [
       "0.6766304347826086"
      ]
     },
     "execution_count": 164,
     "metadata": {},
     "output_type": "execute_result"
    }
   ],
   "source": [
    "gs_tuned.predict(X_test)\n",
    "gs_tuned.score(X_test, np.asarray(y_test).ravel())"
   ]
  },
  {
   "cell_type": "code",
   "execution_count": 165,
   "metadata": {
    "cell_id": "00088-e24e4a25-8491-429f-b03d-65868e17166b",
    "deepnote_cell_type": "code",
    "execution_millis": 308,
    "execution_start": 1607018215290,
    "output_cleared": false,
    "source_hash": "3ae91bcd"
   },
   "outputs": [
    {
     "data": {
      "text/plain": [
       "<sklearn.metrics._plot.roc_curve.RocCurveDisplay at 0x7f5284c78d90>"
      ]
     },
     "execution_count": 165,
     "metadata": {},
     "output_type": "execute_result"
    },
    {
     "data": {
      "image/png": "[encoded data removed]",
      "text/plain": [
       "<Figure size 432x288 with 1 Axes>"
      ]
     },
     "metadata": {
      "needs_background": "light"
     },
     "output_type": "display_data"
    }
   ],
   "source": [
    "plot_roc_curve(gs_tuned, X_test, y_test)"
   ]
  },
  {
   "cell_type": "code",
   "execution_count": 166,
   "metadata": {
    "cell_id": "00089-f68fb21f-21d2-47ab-8384-5fe3cd354303",
    "deepnote_cell_type": "code",
    "execution_millis": 48,
    "execution_start": 1607018220786,
    "output_cleared": false,
    "source_hash": "7c234d23"
   },
   "outputs": [
    {
     "data": {
      "application/vnd.deepnote.dataframe.v2+json": {
       "column_count": 18,
       "columns": [
        {
         "dtype": "float64",
         "name": "danceability",
         "stats": {
          "histogram": [
           {
            "bin_end": 0.4304,
            "bin_start": 0.386,
            "count": 1
           },
           {
            "bin_end": 0.4748,
            "bin_start": 0.4304,
            "count": 1
           },
           {
            "bin_end": 0.5192,
            "bin_start": 0.4748,
            "count": 0
           },
           {
            "bin_end": 0.5636,
            "bin_start": 0.5192,
            "count": 0
           },
           {
            "bin_end": 0.608,
            "bin_start": 0.5636,
            "count": 0
           },
           {
            "bin_end": 0.6524,
            "bin_start": 0.608,
            "count": 0
           },
           {
            "bin_end": 0.6968,
            "bin_start": 0.6524,
            "count": 1
           },
           {
            "bin_end": 0.7412,
            "bin_start": 0.6968,
            "count": 0
           },
           {
            "bin_end": 0.7856,
            "bin_start": 0.7412,
            "count": 1
           },
           {
            "bin_end": 0.83,
            "bin_start": 0.7856,
            "count": 1
           }
          ],
          "max": 0.83,
          "min": 0.386,
          "nan_count": 0,
          "unique_count": 5
         }
        },
        {
         "dtype": "float64",
         "name": "energy",
         "stats": {
          "histogram": [
           {
            "bin_end": 0.5267000000000001,
            "bin_start": 0.4970000000000001,
            "count": 1
           },
           {
            "bin_end": 0.5564000000000001,
            "bin_start": 0.5267000000000001,
            "count": 0
           },
           {
            "bin_end": 0.5861000000000001,
            "bin_start": 0.5564000000000001,
            "count": 0
           },
           {
            "bin_end": 0.6158000000000001,
            "bin_start": 0.5861000000000001,
            "count": 0
           },
           {
            "bin_end": 0.6455000000000001,
            "bin_start": 0.6158000000000001,
            "count": 0
           },
           {
            "bin_end": 0.6752,
            "bin_start": 0.6455000000000001,
            "count": 0
           },
           {
            "bin_end": 0.7049000000000001,
            "bin_start": 0.6752,
            "count": 1
           },
           {
            "bin_end": 0.7346,
            "bin_start": 0.7049000000000001,
            "count": 2
           },
           {
            "bin_end": 0.7643,
            "bin_start": 0.7346,
            "count": 0
           },
           {
            "bin_end": 0.794,
            "bin_start": 0.7643,
            "count": 1
           }
          ],
          "max": 0.794,
          "min": 0.4970000000000001,
          "nan_count": 0,
          "unique_count": 5
         }
        },
        {
         "dtype": "float64",
         "name": "loudness",
         "stats": {
          "histogram": [
           {
            "bin_end": -7.7736,
            "bin_start": -8.173,
            "count": 1
           },
           {
            "bin_end": -7.3742,
            "bin_start": -7.7736,
            "count": 0
           },
           {
            "bin_end": -6.9748,
            "bin_start": -7.3742,
            "count": 2
           },
           {
            "bin_end": -6.575399999999999,
            "bin_start": -6.9748,
            "count": 0
           },
           {
            "bin_end": -6.175999999999999,
            "bin_start": -6.575399999999999,
            "count": 1
           },
           {
            "bin_end": -5.776599999999999,
            "bin_start": -6.175999999999999,
            "count": 0
           },
           {
            "bin_end": -5.377199999999998,
            "bin_start": -5.776599999999999,
            "count": 0
           },
           {
            "bin_end": -4.9777999999999984,
            "bin_start": -5.377199999999998,
            "count": 0
           },
           {
            "bin_end": -4.5783999999999985,
            "bin_start": -4.9777999999999984,
            "count": 0
           },
           {
            "bin_end": -4.1789999999999985,
            "bin_start": -4.5783999999999985,
            "count": 1
           }
          ],
          "max": -4.1789999999999985,
          "min": -8.173,
          "nan_count": 0,
          "unique_count": 5
         }
        },
        {
         "dtype": "float64",
         "name": "speechiness",
         "stats": {
          "histogram": [
           {
            "bin_end": 0.06975,
            "bin_start": 0.0295,
            "count": 2
           },
           {
            "bin_end": 0.11000000000000001,
            "bin_start": 0.06975,
            "count": 0
           },
           {
            "bin_end": 0.15025000000000002,
            "bin_start": 0.11000000000000001,
            "count": 2
           },
           {
            "bin_end": 0.19050000000000003,
            "bin_start": 0.15025000000000002,
            "count": 0
           },
           {
            "bin_end": 0.23075000000000004,
            "bin_start": 0.19050000000000003,
            "count": 0
           },
           {
            "bin_end": 0.271,
            "bin_start": 0.23075000000000004,
            "count": 0
           },
           {
            "bin_end": 0.31125,
            "bin_start": 0.271,
            "count": 0
           },
           {
            "bin_end": 0.35150000000000003,
            "bin_start": 0.31125,
            "count": 0
           },
           {
            "bin_end": 0.39175000000000004,
            "bin_start": 0.35150000000000003,
            "count": 0
           },
           {
            "bin_end": 0.4320000000000001,
            "bin_start": 0.39175000000000004,
            "count": 1
           }
          ],
          "max": 0.4320000000000001,
          "min": 0.0295,
          "nan_count": 0,
          "unique_count": 5
         }
        },
        {
         "dtype": "float64",
         "name": "acousticness",
         "stats": {
          "histogram": [
           {
            "bin_end": 0.070483,
            "bin_start": 0.00287,
            "count": 4
           },
           {
            "bin_end": 0.13809600000000002,
            "bin_start": 0.070483,
            "count": 0
           },
           {
            "bin_end": 0.20570900000000003,
            "bin_start": 0.13809600000000002,
            "count": 0
           },
           {
            "bin_end": 0.273322,
            "bin_start": 0.20570900000000003,
            "count": 0
           },
           {
            "bin_end": 0.34093500000000004,
            "bin_start": 0.273322,
            "count": 0
           },
           {
            "bin_end": 0.408548,
            "bin_start": 0.34093500000000004,
            "count": 0
           },
           {
            "bin_end": 0.476161,
            "bin_start": 0.408548,
            "count": 0
           },
           {
            "bin_end": 0.5437740000000001,
            "bin_start": 0.476161,
            "count": 0
           },
           {
            "bin_end": 0.6113870000000001,
            "bin_start": 0.5437740000000001,
            "count": 0
           },
           {
            "bin_end": 0.679,
            "bin_start": 0.6113870000000001,
            "count": 1
           }
          ],
          "max": 0.679,
          "min": 0.00287,
          "nan_count": 0,
          "unique_count": 5
         }
        },
        {
         "dtype": "float64",
         "name": "instrumentalness",
         "stats": {
          "histogram": [
           {
            "bin_end": 0.00248,
            "bin_start": 0,
            "count": 4
           },
           {
            "bin_end": 0.00496,
            "bin_start": 0.00248,
            "count": 0
           },
           {
            "bin_end": 0.00744,
            "bin_start": 0.00496,
            "count": 0
           },
           {
            "bin_end": 0.00992,
            "bin_start": 0.00744,
            "count": 0
           },
           {
            "bin_end": 0.0124,
            "bin_start": 0.00992,
            "count": 0
           },
           {
            "bin_end": 0.01488,
            "bin_start": 0.0124,
            "count": 0
           },
           {
            "bin_end": 0.01736,
            "bin_start": 0.01488,
            "count": 0
           },
           {
            "bin_end": 0.01984,
            "bin_start": 0.01736,
            "count": 0
           },
           {
            "bin_end": 0.02232,
            "bin_start": 0.01984,
            "count": 0
           },
           {
            "bin_end": 0.0248,
            "bin_start": 0.02232,
            "count": 1
           }
          ],
          "max": 0.0248,
          "min": 0,
          "nan_count": 0,
          "unique_count": 4
         }
        },
        {
         "dtype": "float64",
         "name": "liveness",
         "stats": {
          "histogram": [
           {
            "bin_end": 0.11479,
            "bin_start": 0.0931,
            "count": 2
           },
           {
            "bin_end": 0.13648,
            "bin_start": 0.11479,
            "count": 0
           },
           {
            "bin_end": 0.15816999999999998,
            "bin_start": 0.13648,
            "count": 0
           },
           {
            "bin_end": 0.17986,
            "bin_start": 0.15816999999999998,
            "count": 0
           },
           {
            "bin_end": 0.20155,
            "bin_start": 0.17986,
            "count": 0
           },
           {
            "bin_end": 0.22324,
            "bin_start": 0.20155,
            "count": 0
           },
           {
            "bin_end": 0.24492999999999998,
            "bin_start": 0.22324,
            "count": 0
           },
           {
            "bin_end": 0.26661999999999997,
            "bin_start": 0.24492999999999998,
            "count": 2
           },
           {
            "bin_end": 0.28830999999999996,
            "bin_start": 0.26661999999999997,
            "count": 0
           },
           {
            "bin_end": 0.31,
            "bin_start": 0.28830999999999996,
            "count": 1
           }
          ],
          "max": 0.31,
          "min": 0.0931,
          "nan_count": 0,
          "unique_count": 5
         }
        },
        {
         "dtype": "float64",
         "name": "valence",
         "stats": {
          "histogram": [
           {
            "bin_end": 0.14242,
            "bin_start": 0.0858,
            "count": 1
           },
           {
            "bin_end": 0.19904,
            "bin_start": 0.14242,
            "count": 0
           },
           {
            "bin_end": 0.25566,
            "bin_start": 0.19904,
            "count": 0
           },
           {
            "bin_end": 0.31228,
            "bin_start": 0.25566,
            "count": 0
           },
           {
            "bin_end": 0.3689,
            "bin_start": 0.31228,
            "count": 0
           },
           {
            "bin_end": 0.42552,
            "bin_start": 0.3689,
            "count": 1
           },
           {
            "bin_end": 0.48214,
            "bin_start": 0.42552,
            "count": 1
           },
           {
            "bin_end": 0.53876,
            "bin_start": 0.48214,
            "count": 0
           },
           {
            "bin_end": 0.59538,
            "bin_start": 0.53876,
            "count": 0
           },
           {
            "bin_end": 0.652,
            "bin_start": 0.59538,
            "count": 2
           }
          ],
          "max": 0.652,
          "min": 0.0858,
          "nan_count": 0,
          "unique_count": 5
         }
        },
        {
         "dtype": "float64",
         "name": "tempo",
         "stats": {
          "histogram": [
           {
            "bin_end": 89.173,
            "bin_start": 81.308,
            "count": 1
           },
           {
            "bin_end": 97.03800000000001,
            "bin_start": 89.173,
            "count": 1
           },
           {
            "bin_end": 104.903,
            "bin_start": 97.03800000000001,
            "count": 0
           },
           {
            "bin_end": 112.768,
            "bin_start": 104.903,
            "count": 1
           },
           {
            "bin_end": 120.63300000000001,
            "bin_start": 112.768,
            "count": 0
           },
           {
            "bin_end": 128.498,
            "bin_start": 120.63300000000001,
            "count": 1
           },
           {
            "bin_end": 136.363,
            "bin_start": 128.498,
            "count": 0
           },
           {
            "bin_end": 144.228,
            "bin_start": 136.363,
            "count": 0
           },
           {
            "bin_end": 152.09300000000002,
            "bin_start": 144.228,
            "count": 0
           },
           {
            "bin_end": 159.958,
            "bin_start": 152.09300000000002,
            "count": 1
           }
          ],
          "max": 159.958,
          "min": 81.308,
          "nan_count": 0,
          "unique_count": 5
         }
        },
        {
         "dtype": "float64",
         "name": "lyrical_subjectivity",
         "stats": {
          "histogram": [
           {
            "bin_end": 0.07414930555555557,
            "bin_start": 0,
            "count": 1
           },
           {
            "bin_end": 0.14829861111111114,
            "bin_start": 0.07414930555555557,
            "count": 0
           },
           {
            "bin_end": 0.22244791666666672,
            "bin_start": 0.14829861111111114,
            "count": 0
           },
           {
            "bin_end": 0.2965972222222223,
            "bin_start": 0.22244791666666672,
            "count": 1
           },
           {
            "bin_end": 0.37074652777777783,
            "bin_start": 0.2965972222222223,
            "count": 0
           },
           {
            "bin_end": 0.44489583333333343,
            "bin_start": 0.37074652777777783,
            "count": 0
           },
           {
            "bin_end": 0.519045138888889,
            "bin_start": 0.44489583333333343,
            "count": 1
           },
           {
            "bin_end": 0.5931944444444446,
            "bin_start": 0.519045138888889,
            "count": 1
           },
           {
            "bin_end": 0.6673437500000001,
            "bin_start": 0.5931944444444446,
            "count": 0
           },
           {
            "bin_end": 0.7414930555555557,
            "bin_start": 0.6673437500000001,
            "count": 1
           }
          ],
          "max": 0.7414930555555557,
          "min": 0,
          "nan_count": 0,
          "unique_count": 5
         }
        },
        {
         "dtype": "float64",
         "name": "lyrical_polarity",
         "stats": {
          "histogram": [
           {
            "bin_end": -0.05640625000000002,
            "bin_start": -0.09938271604938273,
            "count": 1
           },
           {
            "bin_end": -0.013429783950617308,
            "bin_start": -0.05640625000000002,
            "count": 0
           },
           {
            "bin_end": 0.029546682098765403,
            "bin_start": -0.013429783950617308,
            "count": 2
           },
           {
            "bin_end": 0.07252314814814811,
            "bin_start": 0.029546682098765403,
            "count": 1
           },
           {
            "bin_end": 0.11549961419753083,
            "bin_start": 0.07252314814814811,
            "count": 0
           },
           {
            "bin_end": 0.15847608024691354,
            "bin_start": 0.11549961419753083,
            "count": 0
           },
           {
            "bin_end": 0.20145254629629625,
            "bin_start": 0.15847608024691354,
            "count": 0
           },
           {
            "bin_end": 0.24442901234567896,
            "bin_start": 0.20145254629629625,
            "count": 0
           },
           {
            "bin_end": 0.2874054783950617,
            "bin_start": 0.24442901234567896,
            "count": 0
           },
           {
            "bin_end": 0.3303819444444444,
            "bin_start": 0.2874054783950617,
            "count": 1
           }
          ],
          "max": 0.3303819444444444,
          "min": -0.09938271604938273,
          "nan_count": 0,
          "unique_count": 5
         }
        },
        {
         "dtype": "int64",
         "name": "repeated_phrases",
         "stats": {
          "histogram": [
           {
            "bin_end": 1,
            "bin_start": 0,
            "count": 2
           },
           {
            "bin_end": 2,
            "bin_start": 1,
            "count": 0
           },
           {
            "bin_end": 3,
            "bin_start": 2,
            "count": 0
           },
           {
            "bin_end": 4,
            "bin_start": 3,
            "count": 2
           },
           {
            "bin_end": 5,
            "bin_start": 4,
            "count": 0
           },
           {
            "bin_end": 6,
            "bin_start": 5,
            "count": 0
           },
           {
            "bin_end": 7,
            "bin_start": 6,
            "count": 0
           },
           {
            "bin_end": 8,
            "bin_start": 7,
            "count": 0
           },
           {
            "bin_end": 9,
            "bin_start": 8,
            "count": 0
           },
           {
            "bin_end": 10,
            "bin_start": 9,
            "count": 1
           }
          ],
          "max": 10,
          "min": 0,
          "nan_count": 0,
          "unique_count": 3
         }
        },
        {
         "dtype": "float64",
         "name": "minutes",
         "stats": {
          "histogram": [
           {
            "bin_end": 2.2260050000000002,
            "bin_start": 2.03445,
            "count": 1
           },
           {
            "bin_end": 2.41756,
            "bin_start": 2.2260050000000002,
            "count": 0
           },
           {
            "bin_end": 2.609115,
            "bin_start": 2.41756,
            "count": 1
           },
           {
            "bin_end": 2.80067,
            "bin_start": 2.609115,
            "count": 0
           },
           {
            "bin_end": 2.9922250000000004,
            "bin_start": 2.80067,
            "count": 0
           },
           {
            "bin_end": 3.18378,
            "bin_start": 2.9922250000000004,
            "count": 0
           },
           {
            "bin_end": 3.375335,
            "bin_start": 3.18378,
            "count": 0
           },
           {
            "bin_end": 3.56689,
            "bin_start": 3.375335,
            "count": 2
           },
           {
            "bin_end": 3.758445,
            "bin_start": 3.56689,
            "count": 0
           },
           {
            "bin_end": 3.95,
            "bin_start": 3.758445,
            "count": 1
           }
          ],
          "max": 3.95,
          "min": 2.03445,
          "nan_count": 0,
          "unique_count": 5
         }
        },
        {
         "dtype": "int64",
         "name": "word_count",
         "stats": {
          "histogram": [
           {
            "bin_end": 173.9,
            "bin_start": 131,
            "count": 1
           },
           {
            "bin_end": 216.8,
            "bin_start": 173.9,
            "count": 0
           },
           {
            "bin_end": 259.7,
            "bin_start": 216.8,
            "count": 0
           },
           {
            "bin_end": 302.6,
            "bin_start": 259.7,
            "count": 0
           },
           {
            "bin_end": 345.5,
            "bin_start": 302.6,
            "count": 3
           },
           {
            "bin_end": 388.4,
            "bin_start": 345.5,
            "count": 0
           },
           {
            "bin_end": 431.3,
            "bin_start": 388.4,
            "count": 0
           },
           {
            "bin_end": 474.2,
            "bin_start": 431.3,
            "count": 0
           },
           {
            "bin_end": 517.0999999999999,
            "bin_start": 474.2,
            "count": 0
           },
           {
            "bin_end": 560,
            "bin_start": 517.0999999999999,
            "count": 1
           }
          ],
          "max": 560,
          "min": 131,
          "nan_count": 0,
          "unique_count": 5
         }
        },
        {
         "dtype": "float64",
         "name": "WPM_approx",
         "stats": {
          "histogram": [
           {
            "bin_end": 61.63255665541483,
            "bin_start": 50.96416946558946,
            "count": 1
           },
           {
            "bin_end": 72.30094384524021,
            "bin_start": 61.63255665541483,
            "count": 0
           },
           {
            "bin_end": 82.96933103506558,
            "bin_start": 72.30094384524021,
            "count": 0
           },
           {
            "bin_end": 93.63771822489096,
            "bin_start": 82.96933103506558,
            "count": 2
           },
           {
            "bin_end": 104.30610541471634,
            "bin_start": 93.63771822489096,
            "count": 0
           },
           {
            "bin_end": 114.97449260454172,
            "bin_start": 104.30610541471634,
            "count": 0
           },
           {
            "bin_end": 125.64287979436708,
            "bin_start": 114.97449260454172,
            "count": 0
           },
           {
            "bin_end": 136.31126698419246,
            "bin_start": 125.64287979436708,
            "count": 0
           },
           {
            "bin_end": 146.97965417401784,
            "bin_start": 136.31126698419246,
            "count": 0
           },
           {
            "bin_end": 157.64804136384322,
            "bin_start": 146.97965417401784,
            "count": 2
           }
          ],
          "max": 157.64804136384322,
          "min": 50.96416946558946,
          "nan_count": 0,
          "unique_count": 5
         }
        },
        {
         "dtype": "int64",
         "name": "playlist_genre",
         "stats": {
          "histogram": [
           {
            "bin_end": 0.5,
            "bin_start": 0,
            "count": 1
           },
           {
            "bin_end": 1,
            "bin_start": 0.5,
            "count": 0
           },
           {
            "bin_end": 1.5,
            "bin_start": 1,
            "count": 1
           },
           {
            "bin_end": 2,
            "bin_start": 1.5,
            "count": 0
           },
           {
            "bin_end": 2.5,
            "bin_start": 2,
            "count": 1
           },
           {
            "bin_end": 3,
            "bin_start": 2.5,
            "count": 0
           },
           {
            "bin_end": 3.5,
            "bin_start": 3,
            "count": 1
           },
           {
            "bin_end": 4,
            "bin_start": 3.5,
            "count": 0
           },
           {
            "bin_end": 4.5,
            "bin_start": 4,
            "count": 0
           },
           {
            "bin_end": 5,
            "bin_start": 4.5,
            "count": 1
           }
          ],
          "max": 5,
          "min": 0,
          "nan_count": 0,
          "unique_count": 5
         }
        },
        {
         "dtype": "int64",
         "name": "playlist_subgenre",
         "stats": {
          "histogram": [
           {
            "bin_end": 1.4,
            "bin_start": 0,
            "count": 2
           },
           {
            "bin_end": 2.8,
            "bin_start": 1.4,
            "count": 0
           },
           {
            "bin_end": 4.199999999999999,
            "bin_start": 2.8,
            "count": 0
           },
           {
            "bin_end": 5.6,
            "bin_start": 4.199999999999999,
            "count": 0
           },
           {
            "bin_end": 7,
            "bin_start": 5.6,
            "count": 0
           },
           {
            "bin_end": 8.399999999999999,
            "bin_start": 7,
            "count": 0
           },
           {
            "bin_end": 9.799999999999999,
            "bin_start": 8.399999999999999,
            "count": 0
           },
           {
            "bin_end": 11.2,
            "bin_start": 9.799999999999999,
            "count": 2
           },
           {
            "bin_end": 12.6,
            "bin_start": 11.2,
            "count": 0
           },
           {
            "bin_end": 14,
            "bin_start": 12.6,
            "count": 1
           }
          ],
          "max": 14,
          "min": 0,
          "nan_count": 0,
          "unique_count": 5
         }
        },
        {
         "dtype": "int64",
         "name": "artist_past_performance",
         "stats": {
          "histogram": [
           {
            "bin_end": 1,
            "bin_start": 0,
            "count": 3
           },
           {
            "bin_end": 2,
            "bin_start": 1,
            "count": 0
           },
           {
            "bin_end": 3,
            "bin_start": 2,
            "count": 1
           },
           {
            "bin_end": 4,
            "bin_start": 3,
            "count": 0
           },
           {
            "bin_end": 5,
            "bin_start": 4,
            "count": 0
           },
           {
            "bin_end": 6,
            "bin_start": 5,
            "count": 0
           },
           {
            "bin_end": 7,
            "bin_start": 6,
            "count": 0
           },
           {
            "bin_end": 8,
            "bin_start": 7,
            "count": 0
           },
           {
            "bin_end": 9,
            "bin_start": 8,
            "count": 0
           },
           {
            "bin_end": 10,
            "bin_start": 9,
            "count": 1
           }
          ],
          "max": 10,
          "min": 0,
          "nan_count": 0,
          "unique_count": 3
         }
        },
        {
         "dtype": "int64",
         "name": "_deepnote_index_column"
        }
       ],
       "row_count": 5,
       "rows_bottom": null,
       "rows_top": [
        {
         "WPM_approx": 50.96416946558946,
         "_deepnote_index_column": 1881,
         "acousticness": 0.0253,
         "artist_past_performance": 0,
         "danceability": 0.83,
         "energy": 0.794,
         "instrumentalness": 0.0248,
         "liveness": 0.106,
         "loudness": -6.279,
         "lyrical_polarity": 0,
         "lyrical_subjectivity": 0,
         "minutes": 2.5704333333333333,
         "playlist_genre": 0,
         "playlist_subgenre": 1,
         "repeated_phrases": 3,
         "speechiness": 0.4320000000000001,
         "tempo": 128.16,
         "valence": 0.607,
         "word_count": 131
        },
        {
         "WPM_approx": 83.29113924050633,
         "_deepnote_index_column": 11873,
         "acousticness": 0.0298,
         "artist_past_performance": 0,
         "danceability": 0.446,
         "energy": 0.701,
         "instrumentalness": 8.89e-06,
         "liveness": 0.0931,
         "loudness": -4.1789999999999985,
         "lyrical_polarity": 0.3303819444444444,
         "lyrical_subjectivity": 0.7414930555555557,
         "minutes": 3.95,
         "playlist_genre": 1,
         "playlist_subgenre": 11,
         "repeated_phrases": 0,
         "speechiness": 0.0295,
         "tempo": 159.958,
         "valence": 0.394,
         "word_count": 329
        },
        {
         "WPM_approx": 92.3920889273856,
         "_deepnote_index_column": 4054,
         "acousticness": 0.00287,
         "artist_past_performance": 0,
         "danceability": 0.386,
         "energy": 0.708,
         "instrumentalness": 2.26e-05,
         "liveness": 0.245,
         "loudness": -8.173,
         "lyrical_polarity": -0.09938271604938273,
         "lyrical_subjectivity": 0.5160493827160495,
         "minutes": 3.4635,
         "playlist_genre": 2,
         "playlist_subgenre": 10,
         "repeated_phrases": 0,
         "speechiness": 0.0489,
         "tempo": 110.354,
         "valence": 0.0858,
         "word_count": 320
        },
        {
         "WPM_approx": 155.3245348865787,
         "_deepnote_index_column": 9986,
         "acousticness": 0.679,
         "artist_past_performance": 10,
         "danceability": 0.693,
         "energy": 0.4970000000000001,
         "instrumentalness": 0,
         "liveness": 0.258,
         "loudness": -7.316,
         "lyrical_polarity": 0.0007575757575757549,
         "lyrical_subjectivity": 0.2492424242424242,
         "minutes": 2.03445,
         "playlist_genre": 5,
         "playlist_subgenre": 0,
         "repeated_phrases": 3,
         "speechiness": 0.119,
         "tempo": 81.308,
         "valence": 0.473,
         "word_count": 316
        },
        {
         "WPM_approx": 157.64804136384322,
         "_deepnote_index_column": 14265,
         "acousticness": 0.0544,
         "artist_past_performance": 2,
         "danceability": 0.764,
         "energy": 0.732,
         "instrumentalness": 0,
         "liveness": 0.31,
         "loudness": -7.232,
         "lyrical_polarity": 0.06546792328042329,
         "lyrical_subjectivity": 0.56494708994709,
         "minutes": 3.552216666666667,
         "playlist_genre": 3,
         "playlist_subgenre": 14,
         "repeated_phrases": 10,
         "speechiness": 0.139,
         "tempo": 89.976,
         "valence": 0.652,
         "word_count": 560
        }
       ]
      },
      "text/html": [
       "<div>\n",
       "<style scoped>\n",
       "    .dataframe tbody tr th:only-of-type {\n",
       "        vertical-align: middle;\n",
       "    }\n",
       "\n",
       "    .dataframe tbody tr th {\n",
       "        vertical-align: top;\n",
       "    }\n",
       "\n",
       "    .dataframe thead th {\n",
       "        text-align: right;\n",
       "    }\n",
       "</style>\n",
       "<table border=\"1\" class=\"dataframe\">\n",
       "  <thead>\n",
       "    <tr style=\"text-align: right;\">\n",
       "      <th></th>\n",
       "      <th>danceability</th>\n",
       "      <th>energy</th>\n",
       "      <th>loudness</th>\n",
       "      <th>speechiness</th>\n",
       "      <th>acousticness</th>\n",
       "      <th>instrumentalness</th>\n",
       "      <th>liveness</th>\n",
       "      <th>valence</th>\n",
       "      <th>tempo</th>\n",
       "      <th>lyrical_subjectivity</th>\n",
       "      <th>lyrical_polarity</th>\n",
       "      <th>repeated_phrases</th>\n",
       "      <th>minutes</th>\n",
       "      <th>word_count</th>\n",
       "      <th>WPM_approx</th>\n",
       "      <th>playlist_genre</th>\n",
       "      <th>playlist_subgenre</th>\n",
       "      <th>artist_past_performance</th>\n",
       "    </tr>\n",
       "  </thead>\n",
       "  <tbody>\n",
       "    <tr>\n",
       "      <th>1881</th>\n",
       "      <td>0.830</td>\n",
       "      <td>0.794</td>\n",
       "      <td>-6.279</td>\n",
       "      <td>0.4320</td>\n",
       "      <td>0.02530</td>\n",
       "      <td>0.024800</td>\n",
       "      <td>0.1060</td>\n",
       "      <td>0.6070</td>\n",
       "      <td>128.160</td>\n",
       "      <td>0.000000</td>\n",
       "      <td>0.000000</td>\n",
       "      <td>3</td>\n",
       "      <td>2.570433</td>\n",
       "      <td>131</td>\n",
       "      <td>50.964169</td>\n",
       "      <td>0</td>\n",
       "      <td>1</td>\n",
       "      <td>0</td>\n",
       "    </tr>\n",
       "    <tr>\n",
       "      <th>11873</th>\n",
       "      <td>0.446</td>\n",
       "      <td>0.701</td>\n",
       "      <td>-4.179</td>\n",
       "      <td>0.0295</td>\n",
       "      <td>0.02980</td>\n",
       "      <td>0.000009</td>\n",
       "      <td>0.0931</td>\n",
       "      <td>0.3940</td>\n",
       "      <td>159.958</td>\n",
       "      <td>0.741493</td>\n",
       "      <td>0.330382</td>\n",
       "      <td>0</td>\n",
       "      <td>3.950000</td>\n",
       "      <td>329</td>\n",
       "      <td>83.291139</td>\n",
       "      <td>1</td>\n",
       "      <td>11</td>\n",
       "      <td>0</td>\n",
       "    </tr>\n",
       "    <tr>\n",
       "      <th>4054</th>\n",
       "      <td>0.386</td>\n",
       "      <td>0.708</td>\n",
       "      <td>-8.173</td>\n",
       "      <td>0.0489</td>\n",
       "      <td>0.00287</td>\n",
       "      <td>0.000023</td>\n",
       "      <td>0.2450</td>\n",
       "      <td>0.0858</td>\n",
       "      <td>110.354</td>\n",
       "      <td>0.516049</td>\n",
       "      <td>-0.099383</td>\n",
       "      <td>0</td>\n",
       "      <td>3.463500</td>\n",
       "      <td>320</td>\n",
       "      <td>92.392089</td>\n",
       "      <td>2</td>\n",
       "      <td>10</td>\n",
       "      <td>0</td>\n",
       "    </tr>\n",
       "    <tr>\n",
       "      <th>9986</th>\n",
       "      <td>0.693</td>\n",
       "      <td>0.497</td>\n",
       "      <td>-7.316</td>\n",
       "      <td>0.1190</td>\n",
       "      <td>0.67900</td>\n",
       "      <td>0.000000</td>\n",
       "      <td>0.2580</td>\n",
       "      <td>0.4730</td>\n",
       "      <td>81.308</td>\n",
       "      <td>0.249242</td>\n",
       "      <td>0.000758</td>\n",
       "      <td>3</td>\n",
       "      <td>2.034450</td>\n",
       "      <td>316</td>\n",
       "      <td>155.324535</td>\n",
       "      <td>5</td>\n",
       "      <td>0</td>\n",
       "      <td>10</td>\n",
       "    </tr>\n",
       "    <tr>\n",
       "      <th>14265</th>\n",
       "      <td>0.764</td>\n",
       "      <td>0.732</td>\n",
       "      <td>-7.232</td>\n",
       "      <td>0.1390</td>\n",
       "      <td>0.05440</td>\n",
       "      <td>0.000000</td>\n",
       "      <td>0.3100</td>\n",
       "      <td>0.6520</td>\n",
       "      <td>89.976</td>\n",
       "      <td>0.564947</td>\n",
       "      <td>0.065468</td>\n",
       "      <td>10</td>\n",
       "      <td>3.552217</td>\n",
       "      <td>560</td>\n",
       "      <td>157.648041</td>\n",
       "      <td>3</td>\n",
       "      <td>14</td>\n",
       "      <td>2</td>\n",
       "    </tr>\n",
       "  </tbody>\n",
       "</table>\n",
       "</div>"
      ],
      "text/plain": [
       "       danceability  energy  loudness  speechiness  acousticness  \\\n",
       "1881          0.830   0.794    -6.279       0.4320       0.02530   \n",
       "11873         0.446   0.701    -4.179       0.0295       0.02980   \n",
       "4054          0.386   0.708    -8.173       0.0489       0.00287   \n",
       "9986          0.693   0.497    -7.316       0.1190       0.67900   \n",
       "14265         0.764   0.732    -7.232       0.1390       0.05440   \n",
       "\n",
       "       instrumentalness  liveness  valence    tempo  lyrical_subjectivity  \\\n",
       "1881           0.024800    0.1060   0.6070  128.160              0.000000   \n",
       "11873          0.000009    0.0931   0.3940  159.958              0.741493   \n",
       "4054           0.000023    0.2450   0.0858  110.354              0.516049   \n",
       "9986           0.000000    0.2580   0.4730   81.308              0.249242   \n",
       "14265          0.000000    0.3100   0.6520   89.976              0.564947   \n",
       "\n",
       "       lyrical_polarity  repeated_phrases   minutes  word_count  WPM_approx  \\\n",
       "1881           0.000000                 3  2.570433         131   50.964169   \n",
       "11873          0.330382                 0  3.950000         329   83.291139   \n",
       "4054          -0.099383                 0  3.463500         320   92.392089   \n",
       "9986           0.000758                 3  2.034450         316  155.324535   \n",
       "14265          0.065468                10  3.552217         560  157.648041   \n",
       "\n",
       "       playlist_genre  playlist_subgenre  artist_past_performance  \n",
       "1881                0                  1                        0  \n",
       "11873               1                 11                        0  \n",
       "4054                2                 10                        0  \n",
       "9986                5                  0                       10  \n",
       "14265               3                 14                        2  "
      ]
     },
     "execution_count": 166,
     "metadata": {},
     "output_type": "execute_result"
    }
   ],
   "source": [
    "X_train.head()"
   ]
  },
  {
   "cell_type": "code",
   "execution_count": 167,
   "metadata": {
    "cell_id": "00090-5068e54c-3653-4321-8ce6-007ecf5c1ad5",
    "deepnote_cell_type": "code",
    "execution_millis": 17,
    "execution_start": 1607018226654,
    "output_cleared": false,
    "scrolled": true,
    "source_hash": "963a09d9"
   },
   "outputs": [
    {
     "data": {
      "text/plain": [
       "array([0.0607928 , 0.05659393, 0.05780576, 0.08015387, 0.06459858,\n",
       "       0.04511852, 0.06256507, 0.06598296, 0.06470871, 0.06199404,\n",
       "       0.06972529, 0.02393028, 0.08169931, 0.05817079, 0.05813303,\n",
       "       0.02150991, 0.03678401, 0.02973314])"
      ]
     },
     "execution_count": 167,
     "metadata": {},
     "output_type": "execute_result"
    }
   ],
   "source": [
    "gs_tuned.feature_importances_"
   ]
  },
  {
   "cell_type": "code",
   "execution_count": 168,
   "metadata": {
    "cell_id": "00091-5d08b07f-d067-4715-b8a6-f71511e7df47",
    "deepnote_cell_type": "code",
    "execution_millis": 314,
    "execution_start": 1607018232152,
    "output_cleared": false,
    "scrolled": true,
    "source_hash": "ba543fad"
   },
   "outputs": [
    {
     "data": {
      "image/png": "[encoded data removed]",
      "text/plain": [
       "<Figure size 432x288 with 2 Axes>"
      ]
     },
     "metadata": {
      "needs_background": "light"
     },
     "output_type": "display_data"
    }
   ],
   "source": [
    "disp = plot_confusion_matrix(gs_tuned, X_test, y_test, display_labels=['Not a Hit', 'Hit'], cmap = plt.cm.Blues, normalize='true')\n"
   ]
  },
  {
   "cell_type": "markdown",
   "metadata": {
    "cell_id": "00092-da8cf8a0-fafb-4cb5-97fd-bdb2c88c9fae",
    "deepnote_cell_type": "markdown"
   },
   "source": [
    "## XGBoost"
   ]
  },
  {
   "cell_type": "code",
   "execution_count": 169,
   "metadata": {
    "cell_id": "00093-a697cd00-2fed-4eef-9ec3-9d866d8d6125",
    "deepnote_cell_type": "code",
    "execution_millis": 21221,
    "execution_start": 1607018238181,
    "output_cleared": false,
    "source_hash": "6fce4b2d"
   },
   "outputs": [
    {
     "data": {
      "text/plain": [
       "XGBClassifier(base_score=0.5, booster='gbtree', colsample_bylevel=1,\n",
       "              colsample_bynode=1, colsample_bytree=1, gamma=0, gpu_id=-1,\n",
       "              importance_type='gain', interaction_constraints='',\n",
       "              learning_rate=0.01, max_delta_step=0, max_depth=10,\n",
       "              min_child_weight=4, missing=nan, monotone_constraints='()',\n",
       "              n_estimators=1000, n_jobs=0, num_parallel_tree=1, random_state=42,\n",
       "              reg_alpha=0, reg_lambda=1, scale_pos_weight=1, subsample=0.8,\n",
       "              tree_method='exact', validate_parameters=1, verbosity=None)"
      ]
     },
     "execution_count": 169,
     "metadata": {},
     "output_type": "execute_result"
    }
   ],
   "source": [
    "xgb = XGBClassifier(max_depth = 10, min_child_weight = 4, subsample = 0.8, colsample_bytree = 1\n",
    "                        ,n_estimators = 1000, booster = 'gbtree', objective= 'binary:logistic'\n",
    "                      ,random_state = 42, learning_rate = 0.01)\n",
    "xgb.fit(X_train, np.asarray(y_train).ravel())"
   ]
  },
  {
   "cell_type": "code",
   "execution_count": 170,
   "metadata": {
    "cell_id": "00094-a5b39c7f-823e-47d4-86bc-8dc0607bbdf1",
    "deepnote_cell_type": "code",
    "execution_millis": 258,
    "execution_start": 1607018259407,
    "output_cleared": false,
    "source_hash": "9f909c27"
   },
   "outputs": [],
   "source": [
    "y_pred = xgb.predict(X_test)\n",
    "predictions = [round(value) for value in y_pred]"
   ]
  },
  {
   "cell_type": "code",
   "execution_count": 171,
   "metadata": {
    "cell_id": "00095-bd09cdca-b1e4-4351-8e3e-8a9904649489",
    "deepnote_cell_type": "code",
    "execution_millis": 3,
    "execution_start": 1607018259671,
    "output_cleared": false,
    "source_hash": "bc597e20"
   },
   "outputs": [
    {
     "name": "stdout",
     "output_type": "stream",
     "text": [
      "Accuracy: 66.53%\n"
     ]
    }
   ],
   "source": [
    "accuracy = accuracy_score(y_test, predictions)\n",
    "print(\"Accuracy: %.2f%%\" % (accuracy * 100.0))"
   ]
  },
  {
   "cell_type": "code",
   "execution_count": 172,
   "metadata": {
    "cell_id": "00096-87cbce43-dff8-46cb-8e14-25d2fdce23fe",
    "deepnote_cell_type": "code",
    "execution_millis": 403,
    "execution_start": 1607018259681,
    "output_cleared": false,
    "source_hash": "ceaf15e4"
   },
   "outputs": [
    {
     "data": {
      "image/png": "[encoded data removed]",
      "text/plain": [
       "<Figure size 432x288 with 2 Axes>"
      ]
     },
     "metadata": {
      "needs_background": "light"
     },
     "output_type": "display_data"
    }
   ],
   "source": [
    "disp = plot_confusion_matrix(xgb, X_test, y_test, display_labels=['Not a Hit', 'Hit'], cmap = plt.cm.Blues, normalize='true')\n"
   ]
  },
  {
   "cell_type": "code",
   "execution_count": 173,
   "metadata": {
    "cell_id": "00097-30b0539c-1ee8-4a1a-b28d-eee674202c9e",
    "deepnote_cell_type": "code",
    "execution_millis": 373,
    "execution_start": 1607018260088,
    "output_cleared": false,
    "source_hash": "f0c5711e"
   },
   "outputs": [
    {
     "data": {
      "text/plain": [
       "<sklearn.metrics._plot.roc_curve.RocCurveDisplay at 0x7f5284c78590>"
      ]
     },
     "execution_count": 173,
     "metadata": {},
     "output_type": "execute_result"
    },
    {
     "data": {
      "image/png": "[encoded data removed]",
      "text/plain": [
       "<Figure size 432x288 with 1 Axes>"
      ]
     },
     "metadata": {
      "needs_background": "light"
     },
     "output_type": "display_data"
    }
   ],
   "source": [
    "plot_roc_curve(xgb, X_test, y_test)"
   ]
  }
 ],
 "metadata": {
  "deepnote_execution_queue": [],
  "deepnote_notebook_id": "73dcf28a-0930-4f16-b93a-b1a5ca911530",
  "kernelspec": {
   "display_name": "music",
   "language": "python",
   "name": "music"
  },
  "language_info": {
   "codemirror_mode": {
    "name": "ipython",
    "version": 3
   },
   "file_extension": ".py",
   "mimetype": "text/x-python",
   "name": "python",
   "nbconvert_exporter": "python",
   "pygments_lexer": "ipython3",
   "version": "3.7.7"
  }
 },
 "nbformat": 4,
 "nbformat_minor": 2
}
