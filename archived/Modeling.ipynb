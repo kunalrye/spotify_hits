{
 "cells": [
  {
   "cell_type": "code",
   "execution_count": 896,
   "metadata": {},
   "outputs": [],
   "source": [
    "import pandas as pd\n",
    "import numpy as np\n",
    "import seaborn as sns\n",
    "import matplotlib.pyplot as plt \n",
    "plt.rc(\"font\", size=14)\n",
    "\n",
    "from sklearn import preprocessing\n",
    "from sklearn.model_selection import train_test_split\n",
    "from sklearn.metrics import plot_roc_curve\n",
    "\n",
    "from sklearn.compose import make_column_transformer\n",
    "from sklearn.preprocessing import LabelEncoder\n",
    "from sklearn.feature_selection import mutual_info_classif\n",
    "from sklearn.feature_selection import RFE\n",
    "from sklearn.linear_model import LogisticRegression\n",
    "from sklearn.metrics import confusion_matrix\n",
    "from sklearn.metrics import plot_confusion_matrix\n",
    "from sklearn.preprocessing import StandardScaler\n",
    "from sklearn.metrics import accuracy_score\n",
    "from sklearn.neural_network import MLPClassifier\n",
    "\n",
    "import tensorflow as tf\n",
    "from tensorflow import keras\n",
    "from tensorflow.keras import initializers\n",
    "from xgboost import XGBClassifier\n",
    "from collections import Counter\n",
    "from imblearn.over_sampling import SMOTE"
   ]
  },
  {
   "cell_type": "markdown",
   "metadata": {},
   "source": [
    "# SMOTE Models"
   ]
  },
  {
   "cell_type": "code",
   "execution_count": 858,
   "metadata": {},
   "outputs": [],
   "source": [
    "# final_dataset is unbalanced\n",
    "data = pd.read_csv(\"data/final_dataset.csv\", index_col=0)\n",
    "del data['Unnamed: 0.1']"
   ]
  },
  {
   "cell_type": "code",
   "execution_count": 859,
   "metadata": {},
   "outputs": [
    {
     "data": {
      "text/html": [
       "<div>\n",
       "<style scoped>\n",
       "    .dataframe tbody tr th:only-of-type {\n",
       "        vertical-align: middle;\n",
       "    }\n",
       "\n",
       "    .dataframe tbody tr th {\n",
       "        vertical-align: top;\n",
       "    }\n",
       "\n",
       "    .dataframe thead th {\n",
       "        text-align: right;\n",
       "    }\n",
       "</style>\n",
       "<table border=\"1\" class=\"dataframe\">\n",
       "  <thead>\n",
       "    <tr style=\"text-align: right;\">\n",
       "      <th></th>\n",
       "      <th>track_id</th>\n",
       "      <th>track_name</th>\n",
       "      <th>track_artist</th>\n",
       "      <th>lyrics</th>\n",
       "      <th>track_popularity</th>\n",
       "      <th>track_album_id</th>\n",
       "      <th>track_album_name</th>\n",
       "      <th>track_album_release_date</th>\n",
       "      <th>playlist_name</th>\n",
       "      <th>playlist_id</th>\n",
       "      <th>...</th>\n",
       "      <th>language</th>\n",
       "      <th>Hit or Not</th>\n",
       "      <th>lyrical_subjectivity</th>\n",
       "      <th>lyrical_polarity</th>\n",
       "      <th>repeated_phrases</th>\n",
       "      <th>minutes</th>\n",
       "      <th>word_count</th>\n",
       "      <th>WPM_approx</th>\n",
       "      <th>year</th>\n",
       "      <th>artist_past_performance</th>\n",
       "    </tr>\n",
       "  </thead>\n",
       "  <tbody>\n",
       "    <tr>\n",
       "      <th>0</th>\n",
       "      <td>004s3t0ONYlzxII9PLgU6z</td>\n",
       "      <td>I Feel Alive</td>\n",
       "      <td>Steady Rollin</td>\n",
       "      <td>The trees, are singing in the wind The sky blu...</td>\n",
       "      <td>28</td>\n",
       "      <td>3z04Lb9Dsilqw68SHt6jLB</td>\n",
       "      <td>Love &amp; Loss</td>\n",
       "      <td>2017-11-21</td>\n",
       "      <td>Hard Rock Workout</td>\n",
       "      <td>3YouF0u7waJnolytf9JCXf</td>\n",
       "      <td>...</td>\n",
       "      <td>en</td>\n",
       "      <td>0</td>\n",
       "      <td>0.388542</td>\n",
       "      <td>0.214583</td>\n",
       "      <td>0</td>\n",
       "      <td>6.225200</td>\n",
       "      <td>111</td>\n",
       "      <td>17.830752</td>\n",
       "      <td>2017</td>\n",
       "      <td>0</td>\n",
       "    </tr>\n",
       "    <tr>\n",
       "      <th>1</th>\n",
       "      <td>00chLpzhgVjxs1zKC9UScL</td>\n",
       "      <td>Poison</td>\n",
       "      <td>Bell Biv DeVoe</td>\n",
       "      <td>NA Yeah, Spyderman and Freeze in full effect U...</td>\n",
       "      <td>0</td>\n",
       "      <td>6oZ6brjB8x3GoeSYdwJdPc</td>\n",
       "      <td>Gold</td>\n",
       "      <td>2005-01-01</td>\n",
       "      <td>Back in the day - R&amp;B, New Jack Swing, Swingbe...</td>\n",
       "      <td>3a9y4eeCJRmG9p4YKfqYIx</td>\n",
       "      <td>...</td>\n",
       "      <td>en</td>\n",
       "      <td>1</td>\n",
       "      <td>0.460365</td>\n",
       "      <td>0.150858</td>\n",
       "      <td>0</td>\n",
       "      <td>4.374450</td>\n",
       "      <td>420</td>\n",
       "      <td>96.012070</td>\n",
       "      <td>2005</td>\n",
       "      <td>7</td>\n",
       "    </tr>\n",
       "    <tr>\n",
       "      <th>2</th>\n",
       "      <td>00cqd6ZsSkLZqGMlQCR0Zo</td>\n",
       "      <td>Baby It's Cold Outside</td>\n",
       "      <td>CeeLo Green</td>\n",
       "      <td>I really can't stay Baby it's cold outside I'v...</td>\n",
       "      <td>41</td>\n",
       "      <td>3ssspRe42CXkhPxdc12xcp</td>\n",
       "      <td>CeeLo's Magic Moment</td>\n",
       "      <td>2012-10-29</td>\n",
       "      <td>Christmas Soul</td>\n",
       "      <td>6FZYc2BvF7tColxO8PBShV</td>\n",
       "      <td>...</td>\n",
       "      <td>en</td>\n",
       "      <td>0</td>\n",
       "      <td>0.611454</td>\n",
       "      <td>0.113423</td>\n",
       "      <td>0</td>\n",
       "      <td>4.051117</td>\n",
       "      <td>341</td>\n",
       "      <td>84.174322</td>\n",
       "      <td>2012</td>\n",
       "      <td>0</td>\n",
       "    </tr>\n",
       "    <tr>\n",
       "      <th>3</th>\n",
       "      <td>00emjlCv9azBN0fzuuyLqy</td>\n",
       "      <td>Dumb Litty</td>\n",
       "      <td>KARD</td>\n",
       "      <td>Get up out of my business You don't keep me fr...</td>\n",
       "      <td>65</td>\n",
       "      <td>7h5X3xhh3peIK9Y0qI5hbK</td>\n",
       "      <td>KARD 2nd Digital Single ‘Dumb Litty’</td>\n",
       "      <td>2019-09-22</td>\n",
       "      <td>K-Party Dance Mix</td>\n",
       "      <td>37i9dQZF1DX4RDXswvP6Mj</td>\n",
       "      <td>...</td>\n",
       "      <td>en</td>\n",
       "      <td>0</td>\n",
       "      <td>0.570486</td>\n",
       "      <td>-0.442188</td>\n",
       "      <td>2</td>\n",
       "      <td>3.219333</td>\n",
       "      <td>347</td>\n",
       "      <td>107.786291</td>\n",
       "      <td>2019</td>\n",
       "      <td>0</td>\n",
       "    </tr>\n",
       "    <tr>\n",
       "      <th>4</th>\n",
       "      <td>00f9VGHfQhAHMCQ2bSjg3D</td>\n",
       "      <td>Soldier</td>\n",
       "      <td>James TW</td>\n",
       "      <td>Hold your breath, don't look down, keep trying...</td>\n",
       "      <td>70</td>\n",
       "      <td>3GNzXsFbzdwM0WKCZtgeNP</td>\n",
       "      <td>Chapters</td>\n",
       "      <td>2019-04-26</td>\n",
       "      <td>urban contemporary</td>\n",
       "      <td>4WiB26kw0INKwbzfb5M6Tv</td>\n",
       "      <td>...</td>\n",
       "      <td>en</td>\n",
       "      <td>1</td>\n",
       "      <td>0.609292</td>\n",
       "      <td>0.232474</td>\n",
       "      <td>0</td>\n",
       "      <td>3.745333</td>\n",
       "      <td>359</td>\n",
       "      <td>95.852617</td>\n",
       "      <td>2019</td>\n",
       "      <td>0</td>\n",
       "    </tr>\n",
       "  </tbody>\n",
       "</table>\n",
       "<p>5 rows × 34 columns</p>\n",
       "</div>"
      ],
      "text/plain": [
       "                 track_id              track_name    track_artist  \\\n",
       "0  004s3t0ONYlzxII9PLgU6z            I Feel Alive   Steady Rollin   \n",
       "1  00chLpzhgVjxs1zKC9UScL                  Poison  Bell Biv DeVoe   \n",
       "2  00cqd6ZsSkLZqGMlQCR0Zo  Baby It's Cold Outside     CeeLo Green   \n",
       "3  00emjlCv9azBN0fzuuyLqy              Dumb Litty            KARD   \n",
       "4  00f9VGHfQhAHMCQ2bSjg3D                 Soldier        James TW   \n",
       "\n",
       "                                              lyrics  track_popularity  \\\n",
       "0  The trees, are singing in the wind The sky blu...                28   \n",
       "1  NA Yeah, Spyderman and Freeze in full effect U...                 0   \n",
       "2  I really can't stay Baby it's cold outside I'v...                41   \n",
       "3  Get up out of my business You don't keep me fr...                65   \n",
       "4  Hold your breath, don't look down, keep trying...                70   \n",
       "\n",
       "           track_album_id                      track_album_name  \\\n",
       "0  3z04Lb9Dsilqw68SHt6jLB                           Love & Loss   \n",
       "1  6oZ6brjB8x3GoeSYdwJdPc                                  Gold   \n",
       "2  3ssspRe42CXkhPxdc12xcp                  CeeLo's Magic Moment   \n",
       "3  7h5X3xhh3peIK9Y0qI5hbK  KARD 2nd Digital Single ‘Dumb Litty’   \n",
       "4  3GNzXsFbzdwM0WKCZtgeNP                              Chapters   \n",
       "\n",
       "  track_album_release_date                                      playlist_name  \\\n",
       "0               2017-11-21                                  Hard Rock Workout   \n",
       "1               2005-01-01  Back in the day - R&B, New Jack Swing, Swingbe...   \n",
       "2               2012-10-29                                     Christmas Soul   \n",
       "3               2019-09-22                                  K-Party Dance Mix   \n",
       "4               2019-04-26                                 urban contemporary   \n",
       "\n",
       "              playlist_id  ... language Hit or Not  lyrical_subjectivity  \\\n",
       "0  3YouF0u7waJnolytf9JCXf  ...       en          0              0.388542   \n",
       "1  3a9y4eeCJRmG9p4YKfqYIx  ...       en          1              0.460365   \n",
       "2  6FZYc2BvF7tColxO8PBShV  ...       en          0              0.611454   \n",
       "3  37i9dQZF1DX4RDXswvP6Mj  ...       en          0              0.570486   \n",
       "4  4WiB26kw0INKwbzfb5M6Tv  ...       en          1              0.609292   \n",
       "\n",
       "   lyrical_polarity  repeated_phrases   minutes  word_count  WPM_approx  year  \\\n",
       "0          0.214583                 0  6.225200         111   17.830752  2017   \n",
       "1          0.150858                 0  4.374450         420   96.012070  2005   \n",
       "2          0.113423                 0  4.051117         341   84.174322  2012   \n",
       "3         -0.442188                 2  3.219333         347  107.786291  2019   \n",
       "4          0.232474                 0  3.745333         359   95.852617  2019   \n",
       "\n",
       "   artist_past_performance  \n",
       "0                        0  \n",
       "1                        7  \n",
       "2                        0  \n",
       "3                        0  \n",
       "4                        0  \n",
       "\n",
       "[5 rows x 34 columns]"
      ]
     },
     "execution_count": 859,
     "metadata": {},
     "output_type": "execute_result"
    }
   ],
   "source": [
    "data.head()"
   ]
  },
  {
   "cell_type": "code",
   "execution_count": 860,
   "metadata": {},
   "outputs": [
    {
     "data": {
      "text/plain": [
       "False"
      ]
     },
     "execution_count": 860,
     "metadata": {},
     "output_type": "execute_result"
    }
   ],
   "source": [
    "# check for nan values in df\n",
    "data.isna().values.any()"
   ]
  },
  {
   "cell_type": "code",
   "execution_count": 862,
   "metadata": {},
   "outputs": [],
   "source": [
    "# Defining the relevant columns from the dataframe as some are not necessary or useful \n",
    "\n",
    "numerical_columns = ['danceability', 'energy', 'loudness',\n",
    "           'speechiness', 'acousticness', 'instrumentalness', \n",
    "           'liveness', 'valence', 'tempo', \n",
    "           'lyrical_subjectivity', 'lyrical_polarity', \n",
    "           'repeated_phrases', 'minutes', 'word_count', 'WPM_approx', 'artist_past_performance']\n",
    "\n",
    "categorical_columns = ['track_artist', 'playlist_genre', 'playlist_subgenre']\n",
    "\n",
    "target_variable = ['Hit or Not']\n",
    "\n",
    "all_features = ['danceability', 'energy', 'loudness',\n",
    "           'speechiness', 'acousticness', 'instrumentalness', \n",
    "           'liveness', 'valence', 'tempo', \n",
    "           'lyrical_subjectivity', 'lyrical_polarity', \n",
    "           'repeated_phrases', 'minutes', 'word_count', 'WPM_approx',\n",
    "               'track_artist', 'playlist_genre', 'playlist_subgenre', 'artist_past_performance']"
   ]
  },
  {
   "cell_type": "code",
   "execution_count": 865,
   "metadata": {},
   "outputs": [],
   "source": [
    "# Some of the variables are strings and need to be converted to categoricals (ints) to be machine interpretable\n",
    "le = LabelEncoder()\n",
    "data[categorical_columns] = data[categorical_columns].apply(le.fit_transform)"
   ]
  },
  {
   "cell_type": "code",
   "execution_count": 866,
   "metadata": {},
   "outputs": [
    {
     "data": {
      "text/plain": [
       "False"
      ]
     },
     "execution_count": 866,
     "metadata": {},
     "output_type": "execute_result"
    }
   ],
   "source": [
    "data.isna().values.any()"
   ]
  },
  {
   "cell_type": "code",
   "execution_count": 867,
   "metadata": {},
   "outputs": [],
   "source": [
    "# min-max scaling of numerical features\n",
    "data[numerical_columns]=(data[numerical_columns]-data[numerical_columns].min())/(data[numerical_columns].max()-data[numerical_columns].min())"
   ]
  },
  {
   "cell_type": "code",
   "execution_count": 868,
   "metadata": {},
   "outputs": [
    {
     "data": {
      "text/plain": [
       "False"
      ]
     },
     "execution_count": 868,
     "metadata": {},
     "output_type": "execute_result"
    }
   ],
   "source": [
    "data.isna().values.any()"
   ]
  },
  {
   "cell_type": "code",
   "execution_count": 869,
   "metadata": {},
   "outputs": [],
   "source": [
    "# Define the X and y matrices\n",
    "X = data[all_features]\n",
    "y = data[target_variable]"
   ]
  },
  {
   "cell_type": "code",
   "execution_count": 870,
   "metadata": {},
   "outputs": [
    {
     "data": {
      "text/plain": [
       "(15405, 15405)"
      ]
     },
     "execution_count": 870,
     "metadata": {},
     "output_type": "execute_result"
    }
   ],
   "source": [
    "len(X), len(y)"
   ]
  },
  {
   "cell_type": "code",
   "execution_count": 871,
   "metadata": {},
   "outputs": [],
   "source": [
    "# Split the data into train and test, random state for reproducability\n",
    "X_train, X_test, y_train, y_test = train_test_split(X, y, test_size=0.3, random_state=42)"
   ]
  },
  {
   "cell_type": "code",
   "execution_count": 873,
   "metadata": {},
   "outputs": [],
   "source": [
    "def upsample(X_train, y_train):\n",
    "    # Upsampling using SMOTE\n",
    "    sm = SMOTE(random_state=42)\n",
    "    X_train_sm, y_train_sm = sm.fit_resample(X_train, y_train)\n",
    "    print(len(X_train_sm), len(y_train_sm))\n",
    "    return X_train_sm, y_train_sm"
   ]
  },
  {
   "cell_type": "code",
   "execution_count": 874,
   "metadata": {},
   "outputs": [
    {
     "name": "stdout",
     "output_type": "stream",
     "text": [
      "16372 16372\n"
     ]
    }
   ],
   "source": [
    "X_train_up, y_train_up = upsample(X_train,y_train)"
   ]
  },
  {
   "cell_type": "markdown",
   "metadata": {},
   "source": [
    "## Logistic Regression SMOTE"
   ]
  },
  {
   "cell_type": "code",
   "execution_count": 549,
   "metadata": {},
   "outputs": [
    {
     "data": {
      "text/plain": [
       "array([0.19785056, 0.18487123, 0.26189991, 0.012986  , 0.12202977,\n",
       "       0.15233333, 0.07513286, 0.03837366, 0.17172445, 0.17282347,\n",
       "       0.0840795 , 0.05288262, 0.0540137 , 0.18523496, 0.02921023,\n",
       "       0.15366399, 0.01878114, 0.16065841, 0.01628193, 0.03804638])"
      ]
     },
     "execution_count": 549,
     "metadata": {},
     "output_type": "execute_result"
    }
   ],
   "source": [
    "# inspecting the mutual information of features\n",
    "mutual_info_classif(X_train_up, np.asarray(y_train_up).ravel() ,discrete_features='auto', n_neighbors=5, copy=True, random_state=None)"
   ]
  },
  {
   "cell_type": "markdown",
   "metadata": {},
   "source": [
    "#### Recursive Feature Elimination for Logistic Regression"
   ]
  },
  {
   "cell_type": "code",
   "execution_count": 555,
   "metadata": {},
   "outputs": [
    {
     "name": "stdout",
     "output_type": "stream",
     "text": [
      "[False False False  True False  True False  True False  True False  True\n",
      "  True  True  True  True  True False False False]\n",
      "[ 6  2  5  1  8  1  9  1  3  1  4  1  1  1  1  1  1 11  7 10]\n"
     ]
    }
   ],
   "source": [
    "logreg = LogisticRegression()\n",
    "rfe = RFE(estimator=LogisticRegression(max_iter = 5000), n_features_to_select=10)\n",
    "rfe = rfe.fit(X_train_up, np.asarray(y_train_up).ravel())\n",
    "print(rfe.support_)\n",
    "print(rfe.ranking_)"
   ]
  },
  {
   "cell_type": "code",
   "execution_count": 556,
   "metadata": {},
   "outputs": [],
   "source": [
    "# select the features selected by RFE\n",
    "f = rfe.get_support(1)\n",
    "X_train_log = X_train_up[X_train_up.columns[f]]\n",
    "X_test_log = X_test[X_test.columns[f]]"
   ]
  },
  {
   "cell_type": "code",
   "execution_count": 557,
   "metadata": {},
   "outputs": [
    {
     "data": {
      "text/html": [
       "<div>\n",
       "<style scoped>\n",
       "    .dataframe tbody tr th:only-of-type {\n",
       "        vertical-align: middle;\n",
       "    }\n",
       "\n",
       "    .dataframe tbody tr th {\n",
       "        vertical-align: top;\n",
       "    }\n",
       "\n",
       "    .dataframe thead th {\n",
       "        text-align: right;\n",
       "    }\n",
       "</style>\n",
       "<table border=\"1\" class=\"dataframe\">\n",
       "  <thead>\n",
       "    <tr style=\"text-align: right;\">\n",
       "      <th></th>\n",
       "      <th>loudness</th>\n",
       "      <th>speechiness</th>\n",
       "      <th>instrumentalness</th>\n",
       "      <th>valence</th>\n",
       "      <th>lyrical_subjectivity</th>\n",
       "      <th>lyrical_polarity</th>\n",
       "      <th>repeated_phrases</th>\n",
       "      <th>minutes</th>\n",
       "      <th>word_count</th>\n",
       "      <th>WPM_approx</th>\n",
       "    </tr>\n",
       "  </thead>\n",
       "  <tbody>\n",
       "    <tr>\n",
       "      <th>0</th>\n",
       "      <td>0.595281</td>\n",
       "      <td>0.016414</td>\n",
       "      <td>0.001345</td>\n",
       "      <td>0.131172</td>\n",
       "      <td>0.610737</td>\n",
       "      <td>0.427226</td>\n",
       "      <td>0.000000</td>\n",
       "      <td>0.421411</td>\n",
       "      <td>0.050557</td>\n",
       "      <td>0.044163</td>\n",
       "    </tr>\n",
       "    <tr>\n",
       "      <th>1</th>\n",
       "      <td>0.854379</td>\n",
       "      <td>0.030706</td>\n",
       "      <td>0.029363</td>\n",
       "      <td>0.268408</td>\n",
       "      <td>0.800000</td>\n",
       "      <td>0.573460</td>\n",
       "      <td>0.015267</td>\n",
       "      <td>0.269900</td>\n",
       "      <td>0.018252</td>\n",
       "      <td>0.023329</td>\n",
       "    </tr>\n",
       "    <tr>\n",
       "      <th>2</th>\n",
       "      <td>0.772034</td>\n",
       "      <td>0.052814</td>\n",
       "      <td>0.000006</td>\n",
       "      <td>0.116035</td>\n",
       "      <td>0.294029</td>\n",
       "      <td>0.489153</td>\n",
       "      <td>0.091603</td>\n",
       "      <td>0.505272</td>\n",
       "      <td>0.155320</td>\n",
       "      <td>0.115552</td>\n",
       "    </tr>\n",
       "    <tr>\n",
       "      <th>3</th>\n",
       "      <td>0.826453</td>\n",
       "      <td>0.089996</td>\n",
       "      <td>0.000005</td>\n",
       "      <td>0.631681</td>\n",
       "      <td>0.510362</td>\n",
       "      <td>0.563565</td>\n",
       "      <td>0.000000</td>\n",
       "      <td>0.467352</td>\n",
       "      <td>0.083957</td>\n",
       "      <td>0.066943</td>\n",
       "    </tr>\n",
       "    <tr>\n",
       "      <th>4</th>\n",
       "      <td>0.881996</td>\n",
       "      <td>0.063756</td>\n",
       "      <td>0.000000</td>\n",
       "      <td>0.396563</td>\n",
       "      <td>0.505696</td>\n",
       "      <td>0.676435</td>\n",
       "      <td>0.122137</td>\n",
       "      <td>0.393570</td>\n",
       "      <td>0.146925</td>\n",
       "      <td>0.135947</td>\n",
       "    </tr>\n",
       "  </tbody>\n",
       "</table>\n",
       "</div>"
      ],
      "text/plain": [
       "   loudness  speechiness  instrumentalness   valence  lyrical_subjectivity  \\\n",
       "0  0.595281     0.016414          0.001345  0.131172              0.610737   \n",
       "1  0.854379     0.030706          0.029363  0.268408              0.800000   \n",
       "2  0.772034     0.052814          0.000006  0.116035              0.294029   \n",
       "3  0.826453     0.089996          0.000005  0.631681              0.510362   \n",
       "4  0.881996     0.063756          0.000000  0.396563              0.505696   \n",
       "\n",
       "   lyrical_polarity  repeated_phrases   minutes  word_count  WPM_approx  \n",
       "0          0.427226          0.000000  0.421411    0.050557    0.044163  \n",
       "1          0.573460          0.015267  0.269900    0.018252    0.023329  \n",
       "2          0.489153          0.091603  0.505272    0.155320    0.115552  \n",
       "3          0.563565          0.000000  0.467352    0.083957    0.066943  \n",
       "4          0.676435          0.122137  0.393570    0.146925    0.135947  "
      ]
     },
     "execution_count": 557,
     "metadata": {},
     "output_type": "execute_result"
    }
   ],
   "source": [
    "# inspecting the features selected\n",
    "X_train_log.head()"
   ]
  },
  {
   "cell_type": "code",
   "execution_count": 558,
   "metadata": {},
   "outputs": [
    {
     "data": {
      "text/plain": [
       "LogisticRegression()"
      ]
     },
     "execution_count": 558,
     "metadata": {},
     "output_type": "execute_result"
    }
   ],
   "source": [
    "logreg = LogisticRegression()\n",
    "logreg.fit(X_train_log, np.asarray(y_train_up).ravel())"
   ]
  },
  {
   "cell_type": "code",
   "execution_count": 559,
   "metadata": {},
   "outputs": [
    {
     "name": "stdout",
     "output_type": "stream",
     "text": [
      "Accuracy of logistic regression classifier on test set: 0.59\n"
     ]
    }
   ],
   "source": [
    "y_pred = logreg.predict(X_test_log)\n",
    "print('Accuracy of logistic regression classifier on test set: {:.2f}'.format(logreg.score(X_test_log, y_test)))"
   ]
  },
  {
   "cell_type": "code",
   "execution_count": 560,
   "metadata": {},
   "outputs": [
    {
     "name": "stdout",
     "output_type": "stream",
     "text": [
      "[[2059 1481]\n",
      " [ 428  654]]\n"
     ]
    }
   ],
   "source": [
    "confusion_matrix = confusion_matrix(y_test, y_pred)\n",
    "print(confusion_matrix)"
   ]
  },
  {
   "cell_type": "code",
   "execution_count": 561,
   "metadata": {
    "scrolled": true
   },
   "outputs": [
    {
     "data": {
      "image/png": "[encoded data removed]",
      "text/plain": [
       "<Figure size 432x288 with 2 Axes>"
      ]
     },
     "metadata": {
      "needs_background": "light"
     },
     "output_type": "display_data"
    }
   ],
   "source": [
    "disp = plot_confusion_matrix(logreg, X_test_log, y_test, display_labels=['Not a Hit', 'Hit'], cmap = plt.cm.Blues, normalize='true')"
   ]
  },
  {
   "cell_type": "code",
   "execution_count": 562,
   "metadata": {},
   "outputs": [
    {
     "data": {
      "text/plain": [
       "<sklearn.metrics._plot.roc_curve.RocCurveDisplay at 0x141ed2e50>"
      ]
     },
     "execution_count": 562,
     "metadata": {},
     "output_type": "execute_result"
    },
    {
     "data": {
      "image/png": "[encoded data removed]",
      "text/plain": [
       "<Figure size 432x288 with 1 Axes>"
      ]
     },
     "metadata": {
      "needs_background": "light"
     },
     "output_type": "display_data"
    }
   ],
   "source": [
    "plot_roc_curve(logreg, X_test_log, y_test)"
   ]
  },
  {
   "cell_type": "code",
   "execution_count": 566,
   "metadata": {},
   "outputs": [
    {
     "data": {
      "text/plain": [
       "GridSearchCV(estimator=LogisticRegression(max_iter=5000),\n",
       "             param_grid={'C': [0.001, 0.01, 0.1, 1, 10, 100, 1000]})"
      ]
     },
     "execution_count": 566,
     "metadata": {},
     "output_type": "execute_result"
    }
   ],
   "source": [
    "param_grid = {'C': [0.001, 0.01, 0.1, 1, 10, 100, 1000] }\n",
    "clf = GridSearchCV(LogisticRegression(penalty='l2'), param_grid)\n",
    "GridSearchCV(cv=None,\n",
    "             estimator=LogisticRegression(C=1.0, intercept_scaling=1,   \n",
    "               dual=False, fit_intercept=True, penalty='l2', tol=0.0001, max_iter = 5000),\n",
    "             param_grid={'C': [0.001, 0.01, 0.1, 1, 10, 100, 1000]})"
   ]
  },
  {
   "cell_type": "code",
   "execution_count": 567,
   "metadata": {},
   "outputs": [
    {
     "name": "stderr",
     "output_type": "stream",
     "text": [
      "/usr/local/lib/python3.7/site-packages/sklearn/linear_model/_logistic.py:764: ConvergenceWarning: lbfgs failed to converge (status=1):\n",
      "STOP: TOTAL NO. of ITERATIONS REACHED LIMIT.\n",
      "\n",
      "Increase the number of iterations (max_iter) or scale the data as shown in:\n",
      "    https://scikit-learn.org/stable/modules/preprocessing.html\n",
      "Please also refer to the documentation for alternative solver options:\n",
      "    https://scikit-learn.org/stable/modules/linear_model.html#logistic-regression\n",
      "  extra_warning_msg=_LOGISTIC_SOLVER_CONVERGENCE_MSG)\n",
      "/usr/local/lib/python3.7/site-packages/sklearn/linear_model/_logistic.py:764: ConvergenceWarning: lbfgs failed to converge (status=1):\n",
      "STOP: TOTAL NO. of ITERATIONS REACHED LIMIT.\n",
      "\n",
      "Increase the number of iterations (max_iter) or scale the data as shown in:\n",
      "    https://scikit-learn.org/stable/modules/preprocessing.html\n",
      "Please also refer to the documentation for alternative solver options:\n",
      "    https://scikit-learn.org/stable/modules/linear_model.html#logistic-regression\n",
      "  extra_warning_msg=_LOGISTIC_SOLVER_CONVERGENCE_MSG)\n",
      "/usr/local/lib/python3.7/site-packages/sklearn/linear_model/_logistic.py:764: ConvergenceWarning: lbfgs failed to converge (status=1):\n",
      "STOP: TOTAL NO. of ITERATIONS REACHED LIMIT.\n",
      "\n",
      "Increase the number of iterations (max_iter) or scale the data as shown in:\n",
      "    https://scikit-learn.org/stable/modules/preprocessing.html\n",
      "Please also refer to the documentation for alternative solver options:\n",
      "    https://scikit-learn.org/stable/modules/linear_model.html#logistic-regression\n",
      "  extra_warning_msg=_LOGISTIC_SOLVER_CONVERGENCE_MSG)\n",
      "/usr/local/lib/python3.7/site-packages/sklearn/linear_model/_logistic.py:764: ConvergenceWarning: lbfgs failed to converge (status=1):\n",
      "STOP: TOTAL NO. of ITERATIONS REACHED LIMIT.\n",
      "\n",
      "Increase the number of iterations (max_iter) or scale the data as shown in:\n",
      "    https://scikit-learn.org/stable/modules/preprocessing.html\n",
      "Please also refer to the documentation for alternative solver options:\n",
      "    https://scikit-learn.org/stable/modules/linear_model.html#logistic-regression\n",
      "  extra_warning_msg=_LOGISTIC_SOLVER_CONVERGENCE_MSG)\n",
      "/usr/local/lib/python3.7/site-packages/sklearn/linear_model/_logistic.py:764: ConvergenceWarning: lbfgs failed to converge (status=1):\n",
      "STOP: TOTAL NO. of ITERATIONS REACHED LIMIT.\n",
      "\n",
      "Increase the number of iterations (max_iter) or scale the data as shown in:\n",
      "    https://scikit-learn.org/stable/modules/preprocessing.html\n",
      "Please also refer to the documentation for alternative solver options:\n",
      "    https://scikit-learn.org/stable/modules/linear_model.html#logistic-regression\n",
      "  extra_warning_msg=_LOGISTIC_SOLVER_CONVERGENCE_MSG)\n",
      "/usr/local/lib/python3.7/site-packages/sklearn/linear_model/_logistic.py:764: ConvergenceWarning: lbfgs failed to converge (status=1):\n",
      "STOP: TOTAL NO. of ITERATIONS REACHED LIMIT.\n",
      "\n",
      "Increase the number of iterations (max_iter) or scale the data as shown in:\n",
      "    https://scikit-learn.org/stable/modules/preprocessing.html\n",
      "Please also refer to the documentation for alternative solver options:\n",
      "    https://scikit-learn.org/stable/modules/linear_model.html#logistic-regression\n",
      "  extra_warning_msg=_LOGISTIC_SOLVER_CONVERGENCE_MSG)\n",
      "/usr/local/lib/python3.7/site-packages/sklearn/linear_model/_logistic.py:764: ConvergenceWarning: lbfgs failed to converge (status=1):\n",
      "STOP: TOTAL NO. of ITERATIONS REACHED LIMIT.\n",
      "\n",
      "Increase the number of iterations (max_iter) or scale the data as shown in:\n",
      "    https://scikit-learn.org/stable/modules/preprocessing.html\n",
      "Please also refer to the documentation for alternative solver options:\n",
      "    https://scikit-learn.org/stable/modules/linear_model.html#logistic-regression\n",
      "  extra_warning_msg=_LOGISTIC_SOLVER_CONVERGENCE_MSG)\n",
      "/usr/local/lib/python3.7/site-packages/sklearn/linear_model/_logistic.py:764: ConvergenceWarning: lbfgs failed to converge (status=1):\n",
      "STOP: TOTAL NO. of ITERATIONS REACHED LIMIT.\n",
      "\n",
      "Increase the number of iterations (max_iter) or scale the data as shown in:\n",
      "    https://scikit-learn.org/stable/modules/preprocessing.html\n",
      "Please also refer to the documentation for alternative solver options:\n",
      "    https://scikit-learn.org/stable/modules/linear_model.html#logistic-regression\n",
      "  extra_warning_msg=_LOGISTIC_SOLVER_CONVERGENCE_MSG)\n",
      "/usr/local/lib/python3.7/site-packages/sklearn/linear_model/_logistic.py:764: ConvergenceWarning: lbfgs failed to converge (status=1):\n",
      "STOP: TOTAL NO. of ITERATIONS REACHED LIMIT.\n",
      "\n",
      "Increase the number of iterations (max_iter) or scale the data as shown in:\n",
      "    https://scikit-learn.org/stable/modules/preprocessing.html\n",
      "Please also refer to the documentation for alternative solver options:\n",
      "    https://scikit-learn.org/stable/modules/linear_model.html#logistic-regression\n",
      "  extra_warning_msg=_LOGISTIC_SOLVER_CONVERGENCE_MSG)\n",
      "/usr/local/lib/python3.7/site-packages/sklearn/linear_model/_logistic.py:764: ConvergenceWarning: lbfgs failed to converge (status=1):\n",
      "STOP: TOTAL NO. of ITERATIONS REACHED LIMIT.\n",
      "\n",
      "Increase the number of iterations (max_iter) or scale the data as shown in:\n",
      "    https://scikit-learn.org/stable/modules/preprocessing.html\n",
      "Please also refer to the documentation for alternative solver options:\n",
      "    https://scikit-learn.org/stable/modules/linear_model.html#logistic-regression\n",
      "  extra_warning_msg=_LOGISTIC_SOLVER_CONVERGENCE_MSG)\n",
      "/usr/local/lib/python3.7/site-packages/sklearn/linear_model/_logistic.py:764: ConvergenceWarning: lbfgs failed to converge (status=1):\n",
      "STOP: TOTAL NO. of ITERATIONS REACHED LIMIT.\n",
      "\n",
      "Increase the number of iterations (max_iter) or scale the data as shown in:\n",
      "    https://scikit-learn.org/stable/modules/preprocessing.html\n",
      "Please also refer to the documentation for alternative solver options:\n",
      "    https://scikit-learn.org/stable/modules/linear_model.html#logistic-regression\n",
      "  extra_warning_msg=_LOGISTIC_SOLVER_CONVERGENCE_MSG)\n",
      "/usr/local/lib/python3.7/site-packages/sklearn/linear_model/_logistic.py:764: ConvergenceWarning: lbfgs failed to converge (status=1):\n",
      "STOP: TOTAL NO. of ITERATIONS REACHED LIMIT.\n",
      "\n",
      "Increase the number of iterations (max_iter) or scale the data as shown in:\n",
      "    https://scikit-learn.org/stable/modules/preprocessing.html\n",
      "Please also refer to the documentation for alternative solver options:\n",
      "    https://scikit-learn.org/stable/modules/linear_model.html#logistic-regression\n",
      "  extra_warning_msg=_LOGISTIC_SOLVER_CONVERGENCE_MSG)\n",
      "/usr/local/lib/python3.7/site-packages/sklearn/linear_model/_logistic.py:764: ConvergenceWarning: lbfgs failed to converge (status=1):\n",
      "STOP: TOTAL NO. of ITERATIONS REACHED LIMIT.\n",
      "\n",
      "Increase the number of iterations (max_iter) or scale the data as shown in:\n",
      "    https://scikit-learn.org/stable/modules/preprocessing.html\n",
      "Please also refer to the documentation for alternative solver options:\n",
      "    https://scikit-learn.org/stable/modules/linear_model.html#logistic-regression\n",
      "  extra_warning_msg=_LOGISTIC_SOLVER_CONVERGENCE_MSG)\n",
      "/usr/local/lib/python3.7/site-packages/sklearn/linear_model/_logistic.py:764: ConvergenceWarning: lbfgs failed to converge (status=1):\n",
      "STOP: TOTAL NO. of ITERATIONS REACHED LIMIT.\n",
      "\n",
      "Increase the number of iterations (max_iter) or scale the data as shown in:\n",
      "    https://scikit-learn.org/stable/modules/preprocessing.html\n",
      "Please also refer to the documentation for alternative solver options:\n",
      "    https://scikit-learn.org/stable/modules/linear_model.html#logistic-regression\n",
      "  extra_warning_msg=_LOGISTIC_SOLVER_CONVERGENCE_MSG)\n"
     ]
    },
    {
     "data": {
      "text/plain": [
       "LogisticRegression(C=0.1)"
      ]
     },
     "execution_count": 567,
     "metadata": {},
     "output_type": "execute_result"
    }
   ],
   "source": [
    "best_clf = clf.fit(X_train_up, np.asarray(y_train_up).ravel())\n",
    "best_clf.best_estimator_"
   ]
  },
  {
   "cell_type": "code",
   "execution_count": 568,
   "metadata": {},
   "outputs": [
    {
     "data": {
      "text/plain": [
       "LogisticRegression(C=0.1)"
      ]
     },
     "execution_count": 568,
     "metadata": {},
     "output_type": "execute_result"
    }
   ],
   "source": [
    "logreg2 = LogisticRegression(C=0.1)\n",
    "logreg2.fit(X_train_log, np.asarray(y_train_up).ravel())"
   ]
  },
  {
   "cell_type": "code",
   "execution_count": 569,
   "metadata": {},
   "outputs": [
    {
     "name": "stdout",
     "output_type": "stream",
     "text": [
      "Accuracy of logistic regression classifier on test set: 0.59\n"
     ]
    }
   ],
   "source": [
    "y_pred = logreg2.predict(X_test_log)\n",
    "print('Accuracy of logistic regression classifier on test set: {:.2f}'.format(logreg2.score(X_test_log, y_test)))"
   ]
  },
  {
   "cell_type": "code",
   "execution_count": 570,
   "metadata": {},
   "outputs": [
    {
     "data": {
      "image/png": "[encoded data removed]",
      "text/plain": [
       "<Figure size 432x288 with 2 Axes>"
      ]
     },
     "metadata": {
      "needs_background": "light"
     },
     "output_type": "display_data"
    }
   ],
   "source": [
    "disp = plot_confusion_matrix(logreg2, X_test_log, y_test, display_labels=['Not a Hit', 'Hit'], cmap = plt.cm.Blues, normalize='true')"
   ]
  },
  {
   "cell_type": "code",
   "execution_count": 571,
   "metadata": {},
   "outputs": [
    {
     "data": {
      "text/plain": [
       "<sklearn.metrics._plot.roc_curve.RocCurveDisplay at 0x13d95f490>"
      ]
     },
     "execution_count": 571,
     "metadata": {},
     "output_type": "execute_result"
    },
    {
     "data": {
      "image/png": "[encoded data removed]",
      "text/plain": [
       "<Figure size 432x288 with 1 Axes>"
      ]
     },
     "metadata": {
      "needs_background": "light"
     },
     "output_type": "display_data"
    }
   ],
   "source": [
    "plot_roc_curve(logreg2, X_test_log, y_test)"
   ]
  },
  {
   "cell_type": "markdown",
   "metadata": {},
   "source": [
    "## Fully Connected NN SMOTE"
   ]
  },
  {
   "cell_type": "code",
   "execution_count": 656,
   "metadata": {},
   "outputs": [],
   "source": [
    "# normalize the data before feeding into a neural network\n",
    "scaler = StandardScaler()\n",
    "X_train_nn = pd.DataFrame(scaler.fit_transform(X_train_up), columns=X_train_up.columns)\n",
    "X_test_nn = pd.DataFrame(scaler.fit_transform(X_test), columns=X_test.columns)"
   ]
  },
  {
   "cell_type": "code",
   "execution_count": 657,
   "metadata": {},
   "outputs": [],
   "source": [
    "# create a validation set for the NN as Keras validation_split only selects the last x% of the data\n",
    "X_train_nn, X_valid_nn, y_train_nn, y_valid_nn = train_test_split(X_train_nn, y_train_up, test_size=0.3, random_state=42)"
   ]
  },
  {
   "cell_type": "code",
   "execution_count": 664,
   "metadata": {},
   "outputs": [],
   "source": [
    "model = keras.Sequential([\n",
    "    keras.layers.Flatten(input_shape=(20,)),\n",
    "\n",
    "    keras.layers.Dense(11, activation=tf.nn.relu, kernel_initializer='normal'),\n",
    "\n",
    "    keras.layers.Dense(1, activation=tf.nn.sigmoid),\n",
    "])"
   ]
  },
  {
   "cell_type": "code",
   "execution_count": 665,
   "metadata": {
    "scrolled": true
   },
   "outputs": [
    {
     "name": "stdout",
     "output_type": "stream",
     "text": [
      "Epoch 1/100\n",
      "230/230 [==============================] - 0s 2ms/step - loss: 0.6659 - accuracy: 0.5993 - val_loss: 0.6550 - val_accuracy: 0.6154\n",
      "Epoch 2/100\n",
      "230/230 [==============================] - 0s 2ms/step - loss: 0.6441 - accuracy: 0.6356 - val_loss: 0.6467 - val_accuracy: 0.6232\n",
      "Epoch 3/100\n",
      "230/230 [==============================] - 0s 2ms/step - loss: 0.6372 - accuracy: 0.6434 - val_loss: 0.6416 - val_accuracy: 0.6319\n",
      "Epoch 4/100\n",
      "230/230 [==============================] - 0s 2ms/step - loss: 0.6323 - accuracy: 0.6500 - val_loss: 0.6384 - val_accuracy: 0.6380\n",
      "Epoch 5/100\n",
      "230/230 [==============================] - 0s 1ms/step - loss: 0.6282 - accuracy: 0.6573 - val_loss: 0.6352 - val_accuracy: 0.6441\n",
      "Epoch 6/100\n",
      "230/230 [==============================] - ETA: 0s - loss: 0.6245 - accuracy: 0.65 - 0s 1ms/step - loss: 0.6251 - accuracy: 0.6583 - val_loss: 0.6324 - val_accuracy: 0.6460\n",
      "Epoch 7/100\n",
      "230/230 [==============================] - 0s 1ms/step - loss: 0.6222 - accuracy: 0.6616 - val_loss: 0.6296 - val_accuracy: 0.6525\n",
      "Epoch 8/100\n",
      "230/230 [==============================] - 0s 1ms/step - loss: 0.6196 - accuracy: 0.6626 - val_loss: 0.6295 - val_accuracy: 0.6500\n",
      "Epoch 9/100\n",
      "230/230 [==============================] - 0s 2ms/step - loss: 0.6173 - accuracy: 0.6675 - val_loss: 0.6255 - val_accuracy: 0.6525\n",
      "Epoch 10/100\n",
      "230/230 [==============================] - 0s 2ms/step - loss: 0.6151 - accuracy: 0.6683 - val_loss: 0.6247 - val_accuracy: 0.6547\n",
      "Epoch 11/100\n",
      "230/230 [==============================] - 0s 2ms/step - loss: 0.6130 - accuracy: 0.6679 - val_loss: 0.6225 - val_accuracy: 0.6568\n",
      "Epoch 12/100\n",
      "230/230 [==============================] - 1s 2ms/step - loss: 0.6110 - accuracy: 0.6678 - val_loss: 0.6208 - val_accuracy: 0.6606\n",
      "Epoch 13/100\n",
      "230/230 [==============================] - 0s 2ms/step - loss: 0.6097 - accuracy: 0.6710 - val_loss: 0.6205 - val_accuracy: 0.6625\n",
      "Epoch 14/100\n",
      "230/230 [==============================] - 0s 2ms/step - loss: 0.6078 - accuracy: 0.6693 - val_loss: 0.6200 - val_accuracy: 0.6602\n",
      "Epoch 15/100\n",
      "230/230 [==============================] - 0s 2ms/step - loss: 0.6070 - accuracy: 0.6725 - val_loss: 0.6188 - val_accuracy: 0.6612\n",
      "Epoch 16/100\n",
      "230/230 [==============================] - 0s 1ms/step - loss: 0.6062 - accuracy: 0.6689 - val_loss: 0.6179 - val_accuracy: 0.6625\n",
      "Epoch 17/100\n",
      "230/230 [==============================] - 0s 2ms/step - loss: 0.6044 - accuracy: 0.6718 - val_loss: 0.6189 - val_accuracy: 0.6606\n",
      "Epoch 18/100\n",
      "230/230 [==============================] - 0s 2ms/step - loss: 0.6040 - accuracy: 0.6750 - val_loss: 0.6191 - val_accuracy: 0.6580\n",
      "Epoch 19/100\n",
      "230/230 [==============================] - 0s 1ms/step - loss: 0.6031 - accuracy: 0.6736 - val_loss: 0.6180 - val_accuracy: 0.6559\n",
      "Epoch 20/100\n",
      "230/230 [==============================] - 0s 2ms/step - loss: 0.6024 - accuracy: 0.6724 - val_loss: 0.6178 - val_accuracy: 0.6623\n",
      "Epoch 21/100\n",
      "230/230 [==============================] - 1s 2ms/step - loss: 0.6019 - accuracy: 0.6727 - val_loss: 0.6184 - val_accuracy: 0.6584\n",
      "Epoch 22/100\n",
      "230/230 [==============================] - 0s 2ms/step - loss: 0.6012 - accuracy: 0.6727 - val_loss: 0.6192 - val_accuracy: 0.6594\n",
      "Epoch 23/100\n",
      "230/230 [==============================] - 0s 1ms/step - loss: 0.6009 - accuracy: 0.6728 - val_loss: 0.6188 - val_accuracy: 0.6582\n",
      "Epoch 24/100\n",
      "230/230 [==============================] - 0s 2ms/step - loss: 0.6003 - accuracy: 0.6747 - val_loss: 0.6192 - val_accuracy: 0.6596\n",
      "Epoch 25/100\n",
      "230/230 [==============================] - 0s 2ms/step - loss: 0.5999 - accuracy: 0.6761 - val_loss: 0.6181 - val_accuracy: 0.6576\n",
      "Epoch 26/100\n",
      "230/230 [==============================] - 0s 2ms/step - loss: 0.5995 - accuracy: 0.6738 - val_loss: 0.6175 - val_accuracy: 0.6602\n",
      "Epoch 27/100\n",
      "230/230 [==============================] - 0s 2ms/step - loss: 0.5992 - accuracy: 0.6759 - val_loss: 0.6179 - val_accuracy: 0.6598\n",
      "Epoch 28/100\n",
      "230/230 [==============================] - 0s 2ms/step - loss: 0.5987 - accuracy: 0.6723 - val_loss: 0.6195 - val_accuracy: 0.6574\n",
      "Epoch 29/100\n",
      "230/230 [==============================] - 0s 2ms/step - loss: 0.5985 - accuracy: 0.6724 - val_loss: 0.6191 - val_accuracy: 0.6604\n",
      "Epoch 30/100\n",
      "230/230 [==============================] - 1s 2ms/step - loss: 0.5980 - accuracy: 0.6736 - val_loss: 0.6191 - val_accuracy: 0.6590\n",
      "Epoch 31/100\n",
      "230/230 [==============================] - 0s 2ms/step - loss: 0.5982 - accuracy: 0.6760 - val_loss: 0.6196 - val_accuracy: 0.6568\n",
      "Epoch 32/100\n",
      "230/230 [==============================] - 0s 2ms/step - loss: 0.5980 - accuracy: 0.6734 - val_loss: 0.6194 - val_accuracy: 0.6580\n",
      "Epoch 33/100\n",
      "230/230 [==============================] - 0s 2ms/step - loss: 0.5976 - accuracy: 0.6748 - val_loss: 0.6193 - val_accuracy: 0.6545\n",
      "Epoch 34/100\n",
      "230/230 [==============================] - 0s 2ms/step - loss: 0.5974 - accuracy: 0.6764 - val_loss: 0.6181 - val_accuracy: 0.6568\n",
      "Epoch 35/100\n",
      "230/230 [==============================] - 0s 2ms/step - loss: 0.5972 - accuracy: 0.6755 - val_loss: 0.6198 - val_accuracy: 0.6568\n",
      "Epoch 36/100\n",
      "230/230 [==============================] - 0s 2ms/step - loss: 0.5970 - accuracy: 0.6742 - val_loss: 0.6194 - val_accuracy: 0.6545\n",
      "Epoch 37/100\n",
      "230/230 [==============================] - 0s 2ms/step - loss: 0.5968 - accuracy: 0.6764 - val_loss: 0.6195 - val_accuracy: 0.6561\n",
      "Epoch 38/100\n",
      "230/230 [==============================] - 0s 2ms/step - loss: 0.5966 - accuracy: 0.6760 - val_loss: 0.6204 - val_accuracy: 0.6539\n",
      "Epoch 39/100\n",
      "230/230 [==============================] - 0s 2ms/step - loss: 0.5966 - accuracy: 0.6775 - val_loss: 0.6196 - val_accuracy: 0.6561\n",
      "Epoch 40/100\n",
      "230/230 [==============================] - 0s 2ms/step - loss: 0.5964 - accuracy: 0.6750 - val_loss: 0.6199 - val_accuracy: 0.6547\n",
      "Epoch 41/100\n",
      "230/230 [==============================] - 0s 2ms/step - loss: 0.5965 - accuracy: 0.6784 - val_loss: 0.6195 - val_accuracy: 0.6525\n",
      "Epoch 42/100\n",
      "230/230 [==============================] - 0s 2ms/step - loss: 0.5956 - accuracy: 0.6785 - val_loss: 0.6209 - val_accuracy: 0.6519\n",
      "Epoch 43/100\n",
      "230/230 [==============================] - 0s 2ms/step - loss: 0.5961 - accuracy: 0.6786 - val_loss: 0.6214 - val_accuracy: 0.6535\n",
      "Epoch 44/100\n",
      "230/230 [==============================] - 0s 2ms/step - loss: 0.5959 - accuracy: 0.6769 - val_loss: 0.6197 - val_accuracy: 0.6535\n",
      "Epoch 45/100\n",
      "230/230 [==============================] - 1s 3ms/step - loss: 0.5955 - accuracy: 0.6784 - val_loss: 0.6200 - val_accuracy: 0.6519\n",
      "Epoch 46/100\n",
      "230/230 [==============================] - 0s 2ms/step - loss: 0.5953 - accuracy: 0.6763 - val_loss: 0.6215 - val_accuracy: 0.6504\n",
      "Epoch 47/100\n",
      "230/230 [==============================] - 0s 2ms/step - loss: 0.5954 - accuracy: 0.6758 - val_loss: 0.6196 - val_accuracy: 0.6574\n",
      "Epoch 48/100\n",
      "230/230 [==============================] - 0s 2ms/step - loss: 0.5951 - accuracy: 0.6763 - val_loss: 0.6214 - val_accuracy: 0.6557\n",
      "Epoch 49/100\n",
      "230/230 [==============================] - 0s 2ms/step - loss: 0.5957 - accuracy: 0.6777 - val_loss: 0.6212 - val_accuracy: 0.6555\n",
      "Epoch 50/100\n",
      "230/230 [==============================] - 0s 2ms/step - loss: 0.5951 - accuracy: 0.6760 - val_loss: 0.6214 - val_accuracy: 0.6551\n",
      "Epoch 51/100\n",
      "230/230 [==============================] - 0s 2ms/step - loss: 0.5951 - accuracy: 0.6787 - val_loss: 0.6205 - val_accuracy: 0.6539\n",
      "Epoch 52/100\n",
      "230/230 [==============================] - 1s 3ms/step - loss: 0.5946 - accuracy: 0.6783 - val_loss: 0.6208 - val_accuracy: 0.6551\n",
      "Epoch 53/100\n",
      "230/230 [==============================] - 1s 2ms/step - loss: 0.5947 - accuracy: 0.6756 - val_loss: 0.6215 - val_accuracy: 0.6549\n",
      "Epoch 54/100\n",
      "230/230 [==============================] - 0s 2ms/step - loss: 0.5944 - accuracy: 0.6790 - val_loss: 0.6222 - val_accuracy: 0.6525\n",
      "Epoch 55/100\n",
      "230/230 [==============================] - 0s 2ms/step - loss: 0.5948 - accuracy: 0.6779 - val_loss: 0.6208 - val_accuracy: 0.6559\n",
      "Epoch 56/100\n",
      "230/230 [==============================] - 0s 2ms/step - loss: 0.5941 - accuracy: 0.6760 - val_loss: 0.6207 - val_accuracy: 0.6574\n",
      "Epoch 57/100\n",
      "230/230 [==============================] - 0s 2ms/step - loss: 0.5942 - accuracy: 0.6771 - val_loss: 0.6220 - val_accuracy: 0.6521\n",
      "Epoch 58/100\n",
      "230/230 [==============================] - 0s 2ms/step - loss: 0.5941 - accuracy: 0.6754 - val_loss: 0.6211 - val_accuracy: 0.6545\n",
      "Epoch 59/100\n",
      "230/230 [==============================] - 0s 2ms/step - loss: 0.5940 - accuracy: 0.6788 - val_loss: 0.6237 - val_accuracy: 0.6566\n",
      "Epoch 60/100\n",
      "230/230 [==============================] - 0s 1ms/step - loss: 0.5943 - accuracy: 0.6784 - val_loss: 0.6212 - val_accuracy: 0.6543\n",
      "Epoch 61/100\n",
      "230/230 [==============================] - 0s 2ms/step - loss: 0.5937 - accuracy: 0.6775 - val_loss: 0.6220 - val_accuracy: 0.6574\n",
      "Epoch 62/100\n",
      "230/230 [==============================] - 0s 2ms/step - loss: 0.5935 - accuracy: 0.6787 - val_loss: 0.6220 - val_accuracy: 0.6545\n",
      "Epoch 63/100\n",
      "230/230 [==============================] - 0s 2ms/step - loss: 0.5940 - accuracy: 0.6773 - val_loss: 0.6219 - val_accuracy: 0.6535\n",
      "Epoch 64/100\n",
      "230/230 [==============================] - 0s 2ms/step - loss: 0.5937 - accuracy: 0.6791 - val_loss: 0.6218 - val_accuracy: 0.6553\n",
      "Epoch 65/100\n",
      "230/230 [==============================] - 0s 2ms/step - loss: 0.5935 - accuracy: 0.6782 - val_loss: 0.6226 - val_accuracy: 0.6545\n",
      "Epoch 66/100\n",
      "230/230 [==============================] - 0s 2ms/step - loss: 0.5934 - accuracy: 0.6804 - val_loss: 0.6218 - val_accuracy: 0.6559\n",
      "Epoch 67/100\n",
      "230/230 [==============================] - 0s 2ms/step - loss: 0.5932 - accuracy: 0.6784 - val_loss: 0.6218 - val_accuracy: 0.6559\n",
      "Epoch 68/100\n",
      "230/230 [==============================] - 0s 2ms/step - loss: 0.5929 - accuracy: 0.6804 - val_loss: 0.6220 - val_accuracy: 0.6586\n",
      "Epoch 69/100\n",
      "230/230 [==============================] - 0s 2ms/step - loss: 0.5928 - accuracy: 0.6780 - val_loss: 0.6228 - val_accuracy: 0.6576\n",
      "Epoch 70/100\n",
      "230/230 [==============================] - 0s 2ms/step - loss: 0.5929 - accuracy: 0.6817 - val_loss: 0.6219 - val_accuracy: 0.6529\n",
      "Epoch 71/100\n",
      "230/230 [==============================] - 0s 2ms/step - loss: 0.5927 - accuracy: 0.6797 - val_loss: 0.6218 - val_accuracy: 0.6572\n",
      "Epoch 72/100\n",
      "230/230 [==============================] - 0s 1ms/step - loss: 0.5927 - accuracy: 0.6793 - val_loss: 0.6237 - val_accuracy: 0.6509\n",
      "Epoch 73/100\n",
      "230/230 [==============================] - 0s 2ms/step - loss: 0.5923 - accuracy: 0.6817 - val_loss: 0.6234 - val_accuracy: 0.6564\n",
      "Epoch 74/100\n",
      "230/230 [==============================] - 1s 3ms/step - loss: 0.5929 - accuracy: 0.6799 - val_loss: 0.6220 - val_accuracy: 0.6582\n",
      "Epoch 75/100\n",
      "230/230 [==============================] - 1s 2ms/step - loss: 0.5925 - accuracy: 0.6799 - val_loss: 0.6227 - val_accuracy: 0.6539\n",
      "Epoch 76/100\n",
      "230/230 [==============================] - 0s 1ms/step - loss: 0.5927 - accuracy: 0.6802 - val_loss: 0.6219 - val_accuracy: 0.6582\n",
      "Epoch 77/100\n",
      "230/230 [==============================] - 0s 2ms/step - loss: 0.5924 - accuracy: 0.6811 - val_loss: 0.6222 - val_accuracy: 0.6547\n",
      "Epoch 78/100\n",
      "230/230 [==============================] - 0s 2ms/step - loss: 0.5927 - accuracy: 0.6810 - val_loss: 0.6221 - val_accuracy: 0.6559\n",
      "Epoch 79/100\n",
      "230/230 [==============================] - 1s 2ms/step - loss: 0.5926 - accuracy: 0.6804 - val_loss: 0.6218 - val_accuracy: 0.6594\n",
      "Epoch 80/100\n",
      "230/230 [==============================] - 0s 2ms/step - loss: 0.5923 - accuracy: 0.6800 - val_loss: 0.6214 - val_accuracy: 0.6566\n",
      "Epoch 81/100\n",
      "230/230 [==============================] - 0s 1ms/step - loss: 0.5920 - accuracy: 0.6790 - val_loss: 0.6224 - val_accuracy: 0.6602\n",
      "Epoch 82/100\n",
      "230/230 [==============================] - 1s 3ms/step - loss: 0.5921 - accuracy: 0.6808 - val_loss: 0.6217 - val_accuracy: 0.6586\n",
      "Epoch 83/100\n",
      "230/230 [==============================] - 0s 2ms/step - loss: 0.5919 - accuracy: 0.6805 - val_loss: 0.6228 - val_accuracy: 0.6570\n",
      "Epoch 84/100\n",
      "230/230 [==============================] - 0s 2ms/step - loss: 0.5919 - accuracy: 0.6837 - val_loss: 0.6233 - val_accuracy: 0.6604\n",
      "Epoch 85/100\n",
      "230/230 [==============================] - 0s 2ms/step - loss: 0.5921 - accuracy: 0.6802 - val_loss: 0.6231 - val_accuracy: 0.6586\n",
      "Epoch 86/100\n",
      "230/230 [==============================] - 1s 3ms/step - loss: 0.5917 - accuracy: 0.6813 - val_loss: 0.6227 - val_accuracy: 0.6555\n",
      "Epoch 87/100\n",
      "230/230 [==============================] - 0s 2ms/step - loss: 0.5921 - accuracy: 0.6821 - val_loss: 0.6237 - val_accuracy: 0.6553\n",
      "Epoch 88/100\n",
      "230/230 [==============================] - 0s 2ms/step - loss: 0.5919 - accuracy: 0.6796 - val_loss: 0.6220 - val_accuracy: 0.6564\n",
      "Epoch 89/100\n",
      "230/230 [==============================] - 0s 2ms/step - loss: 0.5917 - accuracy: 0.6822 - val_loss: 0.6226 - val_accuracy: 0.6568\n",
      "Epoch 90/100\n",
      "230/230 [==============================] - 1s 3ms/step - loss: 0.5915 - accuracy: 0.6805 - val_loss: 0.6233 - val_accuracy: 0.6592\n",
      "Epoch 91/100\n",
      "230/230 [==============================] - 1s 2ms/step - loss: 0.5915 - accuracy: 0.6802 - val_loss: 0.6231 - val_accuracy: 0.6553\n",
      "Epoch 92/100\n",
      "230/230 [==============================] - 1s 3ms/step - loss: 0.5914 - accuracy: 0.6811 - val_loss: 0.6229 - val_accuracy: 0.6592\n",
      "Epoch 93/100\n",
      "230/230 [==============================] - 0s 1ms/step - loss: 0.5916 - accuracy: 0.6812 - val_loss: 0.6218 - val_accuracy: 0.6580\n",
      "Epoch 94/100\n",
      "230/230 [==============================] - 0s 2ms/step - loss: 0.5913 - accuracy: 0.6808 - val_loss: 0.6229 - val_accuracy: 0.6541\n",
      "Epoch 95/100\n",
      "230/230 [==============================] - 0s 2ms/step - loss: 0.5915 - accuracy: 0.6823 - val_loss: 0.6227 - val_accuracy: 0.6549\n",
      "Epoch 96/100\n",
      "230/230 [==============================] - 0s 2ms/step - loss: 0.5909 - accuracy: 0.6830 - val_loss: 0.6221 - val_accuracy: 0.6553\n",
      "Epoch 97/100\n",
      "230/230 [==============================] - 0s 2ms/step - loss: 0.5911 - accuracy: 0.6819 - val_loss: 0.6217 - val_accuracy: 0.6568\n",
      "Epoch 98/100\n",
      "230/230 [==============================] - 0s 2ms/step - loss: 0.5914 - accuracy: 0.6811 - val_loss: 0.6224 - val_accuracy: 0.6535\n",
      "Epoch 99/100\n",
      "230/230 [==============================] - 0s 2ms/step - loss: 0.5914 - accuracy: 0.6806 - val_loss: 0.6227 - val_accuracy: 0.6578\n",
      "Epoch 100/100\n",
      "230/230 [==============================] - 0s 2ms/step - loss: 0.5912 - accuracy: 0.6793 - val_loss: 0.6223 - val_accuracy: 0.6578\n",
      "145/145 [==============================] - 0s 2ms/step - loss: 0.7169 - accuracy: 0.5599\n"
     ]
    }
   ],
   "source": [
    "# running the model\n",
    "opt = keras.optimizers.Adam(lr = 0.001)\n",
    "model.compile(optimizer=opt,\n",
    "              loss='binary_crossentropy',\n",
    "              metrics=['accuracy'])\n",
    "\n",
    "hist = model.fit(X_train_nn, y_train_nn, epochs=100, batch_size=50, validation_data=(X_valid_nn, y_valid_nn))\n",
    "test_loss, test_acc = model.evaluate(X_test_nn, y_test)"
   ]
  },
  {
   "cell_type": "code",
   "execution_count": 797,
   "metadata": {},
   "outputs": [
    {
     "data": {
      "image/png": "[encoded data removed]",
      "text/plain": [
       "<Figure size 432x288 with 1 Axes>"
      ]
     },
     "metadata": {
      "needs_background": "light"
     },
     "output_type": "display_data"
    }
   ],
   "source": [
    "plt.plot(hist.history['accuracy'])\n",
    "plt.plot(hist.history['val_accuracy'])\n",
    "plt.title('Fully Connected Neural Network Accuracy')\n",
    "plt.ylabel('accuracy')\n",
    "plt.xlabel('epoch')\n",
    "plt.legend(['train', 'validation'], loc='lower right')\n",
    "plt.show()"
   ]
  },
  {
   "cell_type": "code",
   "execution_count": 667,
   "metadata": {},
   "outputs": [
    {
     "data": {
      "text/plain": [
       "0.5599307417869568"
      ]
     },
     "execution_count": 667,
     "metadata": {},
     "output_type": "execute_result"
    }
   ],
   "source": [
    "test_acc"
   ]
  },
  {
   "cell_type": "markdown",
   "metadata": {},
   "source": [
    "#### MLP Classifier SMOTE\n",
    "Used to compare results from the neural network"
   ]
  },
  {
   "cell_type": "code",
   "execution_count": 668,
   "metadata": {},
   "outputs": [],
   "source": [
    "scaler = StandardScaler()\n",
    "X_train_nn = pd.DataFrame(scaler.fit_transform(X_train_up), columns=X_train_up.columns)\n",
    "X_test_nn = pd.DataFrame(scaler.fit_transform(X_test), columns=X_test.columns)"
   ]
  },
  {
   "cell_type": "code",
   "execution_count": 672,
   "metadata": {},
   "outputs": [
    {
     "data": {
      "text/plain": [
       "MLPClassifier(alpha=0.001, hidden_layer_sizes=(15,), max_iter=1000,\n",
       "              random_state=42, validation_fraction=0.2)"
      ]
     },
     "execution_count": 672,
     "metadata": {},
     "output_type": "execute_result"
    }
   ],
   "source": [
    "model = sklearn.neural_network.MLPClassifier(hidden_layer_sizes=(15, ), activation='relu', solver='adam', \n",
    "                                             alpha=0.001, batch_size='auto', learning_rate='constant', learning_rate_init=0.001, \n",
    "                                             max_iter=1000, shuffle=True, random_state=42, tol=0.0001, validation_fraction=0.2)\n",
    "# Train the model on the whole data set\n",
    "model.fit(X_train_nn, np.asarray(y_train_up).ravel())"
   ]
  },
  {
   "cell_type": "code",
   "execution_count": 673,
   "metadata": {},
   "outputs": [],
   "source": [
    "predictions = model.predict(X_test_nn)\n",
    "accuracy = sklearn.metrics.accuracy_score(y_test, predictions)"
   ]
  },
  {
   "cell_type": "code",
   "execution_count": 674,
   "metadata": {},
   "outputs": [
    {
     "data": {
      "text/plain": [
       "0.5155776720034617"
      ]
     },
     "execution_count": 674,
     "metadata": {},
     "output_type": "execute_result"
    }
   ],
   "source": [
    "accuracy"
   ]
  },
  {
   "cell_type": "markdown",
   "metadata": {},
   "source": [
    "## Gradient Boosting Classifier SMOTE"
   ]
  },
  {
   "cell_type": "code",
   "execution_count": 875,
   "metadata": {},
   "outputs": [
    {
     "data": {
      "text/plain": [
       "0.6274340112505409"
      ]
     },
     "execution_count": 875,
     "metadata": {},
     "output_type": "execute_result"
    }
   ],
   "source": [
    "# Establishing a baseline for model performance\n",
    "clf = GradientBoostingClassifier(random_state=2, n_estimators = 100, max_features = 15, learning_rate = 0.005)\n",
    "clf.fit(X_train_up, np.asarray(y_train_up).ravel())\n",
    "clf.predict(X_test)\n",
    "clf.score(X_test, np.asarray(y_test).ravel())"
   ]
  },
  {
   "cell_type": "code",
   "execution_count": 683,
   "metadata": {},
   "outputs": [
    {
     "name": "stderr",
     "output_type": "stream",
     "text": [
      "/usr/local/lib/python3.7/site-packages/sklearn/utils/validation.py:73: DataConversionWarning: A column-vector y was passed when a 1d array was expected. Please change the shape of y to (n_samples, ), for example using ravel().\n",
      "  return f(**kwargs)\n"
     ]
    },
    {
     "data": {
      "text/plain": [
       "{'criterion': 'friedman_mse',\n",
       " 'learning_rate': 0.01,\n",
       " 'max_depth': 20,\n",
       " 'max_features': 'log2',\n",
       " 'min_samples_leaf': 10,\n",
       " 'min_samples_split': 10,\n",
       " 'n_estimators': 1000,\n",
       " 'subsample': 1.0}"
      ]
     },
     "execution_count": 683,
     "metadata": {},
     "output_type": "execute_result"
    }
   ],
   "source": [
    "# Grid Search for GBC parameters\n",
    "parameters = {\n",
    "    \"learning_rate\": [0.1],\n",
    "    \"min_samples_split\": [10,100,500],\n",
    "    \"min_samples_leaf\": [10,25,50,75],\n",
    "    \"max_depth\":[5,10,15,20],\n",
    "    \"max_features\":[\"log2\"],\n",
    "    \"criterion\": [\"friedman_mse\"],\n",
    "    \"subsample\":[1.0],\n",
    "    \"n_estimators\":[500,750,1000]\n",
    "    }\n",
    "# pass param grid into GridSearchCV\n",
    "clf = GridSearchCV(GradientBoostingClassifier(), parameters,refit=True, n_jobs=-1)\n",
    "\n",
    "clf.fit(X_train_up, y_train_up)"
   ]
  },
  {
   "cell_type": "code",
   "execution_count": 876,
   "metadata": {},
   "outputs": [],
   "source": [
    "clfb = GradientBoostingClassifier(random_state=42, n_estimators = 1000,\n",
    "                                 max_features = 'log2', learning_rate = 0.01,\n",
    "                                max_depth = 20, min_samples_leaf = 10, min_samples_split = 10,\n",
    "                                subsample = 1.0)"
   ]
  },
  {
   "cell_type": "code",
   "execution_count": 877,
   "metadata": {},
   "outputs": [
    {
     "data": {
      "text/plain": [
       "0.7942449156209433"
      ]
     },
     "execution_count": 877,
     "metadata": {},
     "output_type": "execute_result"
    }
   ],
   "source": [
    "clfb.fit(X_train_up, np.asarray(y_train_up).ravel())\n",
    "clfb.predict(X_test)\n",
    "clfb.score(X_test, np.asarray(y_test).ravel())"
   ]
  },
  {
   "cell_type": "code",
   "execution_count": 878,
   "metadata": {
    "scrolled": true
   },
   "outputs": [
    {
     "data": {
      "image/png": "[encoded data removed]",
      "text/plain": [
       "<Figure size 432x288 with 2 Axes>"
      ]
     },
     "metadata": {
      "needs_background": "light"
     },
     "output_type": "display_data"
    }
   ],
   "source": [
    "disp = plot_confusion_matrix(clfb, X_test, y_test, display_labels=['Not a Hit', 'Hit'], cmap = plt.cm.Blues, normalize='true')\n"
   ]
  },
  {
   "cell_type": "code",
   "execution_count": 880,
   "metadata": {},
   "outputs": [
    {
     "data": {
      "text/plain": [
       "<sklearn.metrics._plot.roc_curve.RocCurveDisplay at 0x141f36250>"
      ]
     },
     "execution_count": 880,
     "metadata": {},
     "output_type": "execute_result"
    },
    {
     "data": {
      "image/png": "[encoded data removed]",
      "text/plain": [
       "<Figure size 432x288 with 1 Axes>"
      ]
     },
     "metadata": {
      "needs_background": "light"
     },
     "output_type": "display_data"
    }
   ],
   "source": [
    "plot_roc_curve(clfb, X_test, y_test)"
   ]
  },
  {
   "cell_type": "markdown",
   "metadata": {},
   "source": [
    "# Using Balanced non SMOTE data"
   ]
  },
  {
   "cell_type": "code",
   "execution_count": 886,
   "metadata": {},
   "outputs": [],
   "source": [
    "data = pd.read_csv(\"data/final_subset.csv\", index_col = 0)"
   ]
  },
  {
   "cell_type": "code",
   "execution_count": 895,
   "metadata": {},
   "outputs": [
    {
     "data": {
      "text/html": [
       "<div>\n",
       "<style scoped>\n",
       "    .dataframe tbody tr th:only-of-type {\n",
       "        vertical-align: middle;\n",
       "    }\n",
       "\n",
       "    .dataframe tbody tr th {\n",
       "        vertical-align: top;\n",
       "    }\n",
       "\n",
       "    .dataframe thead th {\n",
       "        text-align: right;\n",
       "    }\n",
       "</style>\n",
       "<table border=\"1\" class=\"dataframe\">\n",
       "  <thead>\n",
       "    <tr style=\"text-align: right;\">\n",
       "      <th></th>\n",
       "      <th>track_popularity</th>\n",
       "      <th>playlist_genre</th>\n",
       "      <th>playlist_subgenre</th>\n",
       "      <th>danceability</th>\n",
       "      <th>energy</th>\n",
       "      <th>loudness</th>\n",
       "      <th>speechiness</th>\n",
       "      <th>acousticness</th>\n",
       "      <th>instrumentalness</th>\n",
       "      <th>liveness</th>\n",
       "      <th>...</th>\n",
       "      <th>tempo</th>\n",
       "      <th>duration_ms</th>\n",
       "      <th>Hit or Not</th>\n",
       "      <th>lyrical_subjectivity</th>\n",
       "      <th>lyrical_polarity</th>\n",
       "      <th>repeated_phrases</th>\n",
       "      <th>minutes</th>\n",
       "      <th>word_count</th>\n",
       "      <th>WPM_approx</th>\n",
       "      <th>artist_past_performance</th>\n",
       "    </tr>\n",
       "  </thead>\n",
       "  <tbody>\n",
       "    <tr>\n",
       "      <th>1</th>\n",
       "      <td>0</td>\n",
       "      <td>3</td>\n",
       "      <td>14</td>\n",
       "      <td>0.845</td>\n",
       "      <td>0.652</td>\n",
       "      <td>-7.504</td>\n",
       "      <td>0.216</td>\n",
       "      <td>0.00432</td>\n",
       "      <td>0.007230</td>\n",
       "      <td>0.4890</td>\n",
       "      <td>...</td>\n",
       "      <td>111.904</td>\n",
       "      <td>262467</td>\n",
       "      <td>1</td>\n",
       "      <td>0.460365</td>\n",
       "      <td>0.150858</td>\n",
       "      <td>0</td>\n",
       "      <td>4.374450</td>\n",
       "      <td>420</td>\n",
       "      <td>96.012070</td>\n",
       "      <td>7</td>\n",
       "    </tr>\n",
       "    <tr>\n",
       "      <th>4</th>\n",
       "      <td>70</td>\n",
       "      <td>3</td>\n",
       "      <td>23</td>\n",
       "      <td>0.496</td>\n",
       "      <td>0.639</td>\n",
       "      <td>-6.157</td>\n",
       "      <td>0.055</td>\n",
       "      <td>0.28000</td>\n",
       "      <td>0.000000</td>\n",
       "      <td>0.0975</td>\n",
       "      <td>...</td>\n",
       "      <td>147.764</td>\n",
       "      <td>224720</td>\n",
       "      <td>1</td>\n",
       "      <td>0.609292</td>\n",
       "      <td>0.232474</td>\n",
       "      <td>0</td>\n",
       "      <td>3.745333</td>\n",
       "      <td>359</td>\n",
       "      <td>95.852617</td>\n",
       "      <td>0</td>\n",
       "    </tr>\n",
       "    <tr>\n",
       "      <th>5</th>\n",
       "      <td>52</td>\n",
       "      <td>3</td>\n",
       "      <td>14</td>\n",
       "      <td>0.764</td>\n",
       "      <td>0.594</td>\n",
       "      <td>-10.050</td>\n",
       "      <td>0.185</td>\n",
       "      <td>0.59100</td>\n",
       "      <td>0.000000</td>\n",
       "      <td>0.1450</td>\n",
       "      <td>...</td>\n",
       "      <td>87.261</td>\n",
       "      <td>286441</td>\n",
       "      <td>1</td>\n",
       "      <td>0.590514</td>\n",
       "      <td>0.200076</td>\n",
       "      <td>0</td>\n",
       "      <td>4.774017</td>\n",
       "      <td>634</td>\n",
       "      <td>132.802218</td>\n",
       "      <td>2</td>\n",
       "    </tr>\n",
       "    <tr>\n",
       "      <th>9</th>\n",
       "      <td>72</td>\n",
       "      <td>4</td>\n",
       "      <td>6</td>\n",
       "      <td>0.865</td>\n",
       "      <td>0.657</td>\n",
       "      <td>-6.722</td>\n",
       "      <td>0.076</td>\n",
       "      <td>0.04040</td>\n",
       "      <td>0.000000</td>\n",
       "      <td>0.1400</td>\n",
       "      <td>...</td>\n",
       "      <td>111.115</td>\n",
       "      <td>268960</td>\n",
       "      <td>1</td>\n",
       "      <td>0.409803</td>\n",
       "      <td>0.013691</td>\n",
       "      <td>3</td>\n",
       "      <td>4.482667</td>\n",
       "      <td>722</td>\n",
       "      <td>161.064842</td>\n",
       "      <td>8</td>\n",
       "    </tr>\n",
       "    <tr>\n",
       "      <th>11</th>\n",
       "      <td>8</td>\n",
       "      <td>3</td>\n",
       "      <td>9</td>\n",
       "      <td>0.662</td>\n",
       "      <td>0.748</td>\n",
       "      <td>-3.041</td>\n",
       "      <td>0.268</td>\n",
       "      <td>0.68800</td>\n",
       "      <td>0.000008</td>\n",
       "      <td>0.0841</td>\n",
       "      <td>...</td>\n",
       "      <td>82.331</td>\n",
       "      <td>239027</td>\n",
       "      <td>1</td>\n",
       "      <td>0.737900</td>\n",
       "      <td>0.459439</td>\n",
       "      <td>7</td>\n",
       "      <td>3.983783</td>\n",
       "      <td>554</td>\n",
       "      <td>139.063788</td>\n",
       "      <td>0</td>\n",
       "    </tr>\n",
       "  </tbody>\n",
       "</table>\n",
       "<p>5 rows × 21 columns</p>\n",
       "</div>"
      ],
      "text/plain": [
       "    track_popularity  playlist_genre  playlist_subgenre  danceability  energy  \\\n",
       "1                  0               3                 14         0.845   0.652   \n",
       "4                 70               3                 23         0.496   0.639   \n",
       "5                 52               3                 14         0.764   0.594   \n",
       "9                 72               4                  6         0.865   0.657   \n",
       "11                 8               3                  9         0.662   0.748   \n",
       "\n",
       "    loudness  speechiness  acousticness  instrumentalness  liveness  ...  \\\n",
       "1     -7.504        0.216       0.00432          0.007230    0.4890  ...   \n",
       "4     -6.157        0.055       0.28000          0.000000    0.0975  ...   \n",
       "5    -10.050        0.185       0.59100          0.000000    0.1450  ...   \n",
       "9     -6.722        0.076       0.04040          0.000000    0.1400  ...   \n",
       "11    -3.041        0.268       0.68800          0.000008    0.0841  ...   \n",
       "\n",
       "      tempo  duration_ms  Hit or Not  lyrical_subjectivity  lyrical_polarity  \\\n",
       "1   111.904       262467           1              0.460365          0.150858   \n",
       "4   147.764       224720           1              0.609292          0.232474   \n",
       "5    87.261       286441           1              0.590514          0.200076   \n",
       "9   111.115       268960           1              0.409803          0.013691   \n",
       "11   82.331       239027           1              0.737900          0.459439   \n",
       "\n",
       "    repeated_phrases   minutes  word_count  WPM_approx  \\\n",
       "1                  0  4.374450         420   96.012070   \n",
       "4                  0  3.745333         359   95.852617   \n",
       "5                  0  4.774017         634  132.802218   \n",
       "9                  3  4.482667         722  161.064842   \n",
       "11                 7  3.983783         554  139.063788   \n",
       "\n",
       "    artist_past_performance  \n",
       "1                         7  \n",
       "4                         0  \n",
       "5                         2  \n",
       "9                         8  \n",
       "11                        0  \n",
       "\n",
       "[5 rows x 21 columns]"
      ]
     },
     "execution_count": 895,
     "metadata": {},
     "output_type": "execute_result"
    }
   ],
   "source": [
    "data.head()"
   ]
  },
  {
   "cell_type": "code",
   "execution_count": 888,
   "metadata": {},
   "outputs": [],
   "source": [
    "# Defining the relevant columns from the dataframe as some are not necessary or useful \n",
    "\n",
    "numerical_columns = ['danceability', 'energy', 'loudness',\n",
    "            'speechiness', 'acousticness', 'instrumentalness', \n",
    "           'liveness', 'valence', 'tempo', \n",
    "           'lyrical_subjectivity', 'lyrical_polarity', \n",
    "           'repeated_phrases', 'minutes', 'word_count', 'WPM_approx', 'artist_past_performance']\n",
    "\n",
    "categorical_columns = ['playlist_genre', 'playlist_subgenre']\n",
    "\n",
    "target_variable = ['Hit or Not']\n",
    "\n",
    "all_features = ['danceability', 'energy', 'loudness',\n",
    "           'speechiness', 'acousticness', 'instrumentalness', \n",
    "           'liveness', 'valence', 'tempo', \n",
    "           'lyrical_subjectivity', 'lyrical_polarity', \n",
    "           'repeated_phrases', 'minutes', 'word_count', 'WPM_approx',\n",
    "             'playlist_genre', 'playlist_subgenre', 'artist_past_performance']"
   ]
  },
  {
   "cell_type": "code",
   "execution_count": 889,
   "metadata": {},
   "outputs": [],
   "source": [
    "# Define the X and y matrices\n",
    "X = data[all_features]\n",
    "y = data[target_variable]"
   ]
  },
  {
   "cell_type": "code",
   "execution_count": 698,
   "metadata": {},
   "outputs": [],
   "source": [
    "# Split the data into train and test, random state for reproducability\n",
    "X_train, X_test, y_train, y_test = train_test_split(X, y, test_size=0.3, random_state=42)"
   ]
  },
  {
   "cell_type": "markdown",
   "metadata": {},
   "source": [
    "## Logistic Regression"
   ]
  },
  {
   "cell_type": "code",
   "execution_count": 699,
   "metadata": {},
   "outputs": [
    {
     "name": "stdout",
     "output_type": "stream",
     "text": [
      "[ True False False  True  True  True  True  True False  True  True False\n",
      "  True False False False False  True]\n",
      "[1 2 3 1 1 1 1 1 9 1 1 4 1 8 6 7 5 1]\n"
     ]
    }
   ],
   "source": [
    "# Use recursive feature elimination to select features for logistic regression\n",
    "rfe = RFE(estimator=LogisticRegression(max_iter = 5000), n_features_to_select=10)\n",
    "rfe = rfe.fit(X_train, np.asarray(y_train).ravel())\n",
    "print(rfe.support_)\n",
    "print(rfe.ranking_)"
   ]
  },
  {
   "cell_type": "code",
   "execution_count": 700,
   "metadata": {},
   "outputs": [],
   "source": [
    "# select the features selected by RFE\n",
    "f = rfe.get_support(1)\n",
    "X_train_log = X_train[X_train.columns[f]]\n",
    "X_test_log = X_test[X_test.columns[f]]"
   ]
  },
  {
   "cell_type": "code",
   "execution_count": 701,
   "metadata": {},
   "outputs": [
    {
     "data": {
      "text/html": [
       "<div>\n",
       "<style scoped>\n",
       "    .dataframe tbody tr th:only-of-type {\n",
       "        vertical-align: middle;\n",
       "    }\n",
       "\n",
       "    .dataframe tbody tr th {\n",
       "        vertical-align: top;\n",
       "    }\n",
       "\n",
       "    .dataframe thead th {\n",
       "        text-align: right;\n",
       "    }\n",
       "</style>\n",
       "<table border=\"1\" class=\"dataframe\">\n",
       "  <thead>\n",
       "    <tr style=\"text-align: right;\">\n",
       "      <th></th>\n",
       "      <th>danceability</th>\n",
       "      <th>speechiness</th>\n",
       "      <th>acousticness</th>\n",
       "      <th>instrumentalness</th>\n",
       "      <th>liveness</th>\n",
       "      <th>valence</th>\n",
       "      <th>lyrical_subjectivity</th>\n",
       "      <th>lyrical_polarity</th>\n",
       "      <th>minutes</th>\n",
       "      <th>artist_past_performance</th>\n",
       "    </tr>\n",
       "  </thead>\n",
       "  <tbody>\n",
       "    <tr>\n",
       "      <th>1881</th>\n",
       "      <td>0.830</td>\n",
       "      <td>0.4320</td>\n",
       "      <td>0.02530</td>\n",
       "      <td>0.024800</td>\n",
       "      <td>0.1060</td>\n",
       "      <td>0.6070</td>\n",
       "      <td>0.000000</td>\n",
       "      <td>0.000000</td>\n",
       "      <td>2.570433</td>\n",
       "      <td>0</td>\n",
       "    </tr>\n",
       "    <tr>\n",
       "      <th>11873</th>\n",
       "      <td>0.446</td>\n",
       "      <td>0.0295</td>\n",
       "      <td>0.02980</td>\n",
       "      <td>0.000009</td>\n",
       "      <td>0.0931</td>\n",
       "      <td>0.3940</td>\n",
       "      <td>0.741493</td>\n",
       "      <td>0.330382</td>\n",
       "      <td>3.950000</td>\n",
       "      <td>0</td>\n",
       "    </tr>\n",
       "    <tr>\n",
       "      <th>4054</th>\n",
       "      <td>0.386</td>\n",
       "      <td>0.0489</td>\n",
       "      <td>0.00287</td>\n",
       "      <td>0.000023</td>\n",
       "      <td>0.2450</td>\n",
       "      <td>0.0858</td>\n",
       "      <td>0.516049</td>\n",
       "      <td>-0.099383</td>\n",
       "      <td>3.463500</td>\n",
       "      <td>0</td>\n",
       "    </tr>\n",
       "    <tr>\n",
       "      <th>9986</th>\n",
       "      <td>0.693</td>\n",
       "      <td>0.1190</td>\n",
       "      <td>0.67900</td>\n",
       "      <td>0.000000</td>\n",
       "      <td>0.2580</td>\n",
       "      <td>0.4730</td>\n",
       "      <td>0.249242</td>\n",
       "      <td>0.000758</td>\n",
       "      <td>2.034450</td>\n",
       "      <td>10</td>\n",
       "    </tr>\n",
       "    <tr>\n",
       "      <th>14265</th>\n",
       "      <td>0.764</td>\n",
       "      <td>0.1390</td>\n",
       "      <td>0.05440</td>\n",
       "      <td>0.000000</td>\n",
       "      <td>0.3100</td>\n",
       "      <td>0.6520</td>\n",
       "      <td>0.564947</td>\n",
       "      <td>0.065468</td>\n",
       "      <td>3.552217</td>\n",
       "      <td>2</td>\n",
       "    </tr>\n",
       "  </tbody>\n",
       "</table>\n",
       "</div>"
      ],
      "text/plain": [
       "       danceability  speechiness  acousticness  instrumentalness  liveness  \\\n",
       "1881          0.830       0.4320       0.02530          0.024800    0.1060   \n",
       "11873         0.446       0.0295       0.02980          0.000009    0.0931   \n",
       "4054          0.386       0.0489       0.00287          0.000023    0.2450   \n",
       "9986          0.693       0.1190       0.67900          0.000000    0.2580   \n",
       "14265         0.764       0.1390       0.05440          0.000000    0.3100   \n",
       "\n",
       "       valence  lyrical_subjectivity  lyrical_polarity   minutes  \\\n",
       "1881    0.6070              0.000000          0.000000  2.570433   \n",
       "11873   0.3940              0.741493          0.330382  3.950000   \n",
       "4054    0.0858              0.516049         -0.099383  3.463500   \n",
       "9986    0.4730              0.249242          0.000758  2.034450   \n",
       "14265   0.6520              0.564947          0.065468  3.552217   \n",
       "\n",
       "       artist_past_performance  \n",
       "1881                         0  \n",
       "11873                        0  \n",
       "4054                         0  \n",
       "9986                        10  \n",
       "14265                        2  "
      ]
     },
     "execution_count": 701,
     "metadata": {},
     "output_type": "execute_result"
    }
   ],
   "source": [
    "# inspecting the features selected\n",
    "X_train_log.head()"
   ]
  },
  {
   "cell_type": "code",
   "execution_count": 702,
   "metadata": {},
   "outputs": [
    {
     "data": {
      "text/plain": [
       "LogisticRegression()"
      ]
     },
     "execution_count": 702,
     "metadata": {},
     "output_type": "execute_result"
    }
   ],
   "source": [
    "logreg = LogisticRegression()\n",
    "logreg.fit(X_train_log, np.asarray(y_train).ravel())"
   ]
  },
  {
   "cell_type": "code",
   "execution_count": 703,
   "metadata": {},
   "outputs": [
    {
     "name": "stdout",
     "output_type": "stream",
     "text": [
      "Accuracy of logistic regression classifier on test set: 0.60\n"
     ]
    }
   ],
   "source": [
    "y_pred = logreg.predict(X_test_log)\n",
    "print('Accuracy of logistic regression classifier on test set: {:.2f}'.format(logreg.score(X_test_log, y_test)))"
   ]
  },
  {
   "cell_type": "code",
   "execution_count": 704,
   "metadata": {},
   "outputs": [
    {
     "name": "stdout",
     "output_type": "stream",
     "text": [
      "[[653 436]\n",
      " [452 667]]\n"
     ]
    }
   ],
   "source": [
    "confusion_matrix = confusion_matrix(y_test, y_pred)\n",
    "print(confusion_matrix)"
   ]
  },
  {
   "cell_type": "code",
   "execution_count": 705,
   "metadata": {
    "scrolled": true
   },
   "outputs": [
    {
     "data": {
      "image/png": "[encoded data removed]",
      "text/plain": [
       "<Figure size 432x288 with 2 Axes>"
      ]
     },
     "metadata": {
      "needs_background": "light"
     },
     "output_type": "display_data"
    }
   ],
   "source": [
    "disp = plot_confusion_matrix(logreg, X_test_log, y_test, display_labels=['Not a Hit', 'Hit'], cmap = plt.cm.Blues, normalize='true')\n"
   ]
  },
  {
   "cell_type": "code",
   "execution_count": 706,
   "metadata": {},
   "outputs": [
    {
     "data": {
      "text/plain": [
       "<sklearn.metrics._plot.roc_curve.RocCurveDisplay at 0x13db3e750>"
      ]
     },
     "execution_count": 706,
     "metadata": {},
     "output_type": "execute_result"
    },
    {
     "data": {
      "image/png": "[encoded data removed]",
      "text/plain": [
       "<Figure size 432x288 with 1 Axes>"
      ]
     },
     "metadata": {
      "needs_background": "light"
     },
     "output_type": "display_data"
    }
   ],
   "source": [
    "plot_roc_curve(logreg, X_test_log, y_test)"
   ]
  },
  {
   "cell_type": "markdown",
   "metadata": {},
   "source": [
    "## Fully Connected Neural Network"
   ]
  },
  {
   "cell_type": "code",
   "execution_count": 710,
   "metadata": {},
   "outputs": [],
   "source": [
    "# scale the data before passing into neural network\n",
    "scaler = StandardScaler()\n",
    "X_train_nn = pd.DataFrame(scaler.fit_transform(X_train), columns=X_train.columns)\n",
    "X_test_nn = pd.DataFrame(scaler.fit_transform(X_test), columns=X_test.columns)"
   ]
  },
  {
   "cell_type": "code",
   "execution_count": 712,
   "metadata": {},
   "outputs": [],
   "source": [
    "# create a validation set for the NN as Keras validation_split only selects the last x% of the data\n",
    "X_train_nn, X_valid_nn, y_train_nn, y_valid_nn = train_test_split(X_train_nn, y_train, test_size=0.3, random_state=42)"
   ]
  },
  {
   "cell_type": "code",
   "execution_count": 725,
   "metadata": {},
   "outputs": [],
   "source": [
    "model = keras.Sequential([\n",
    "    keras.layers.Flatten(input_shape=(18,)),\n",
    "\n",
    "    keras.layers.Dense(12, activation=tf.nn.relu, kernel_initializer='glorot_normal'),\n",
    "\n",
    "    keras.layers.Dense(1, activation=tf.nn.sigmoid),\n",
    "])"
   ]
  },
  {
   "cell_type": "code",
   "execution_count": 726,
   "metadata": {
    "scrolled": true
   },
   "outputs": [
    {
     "name": "stdout",
     "output_type": "stream",
     "text": [
      "Epoch 1/200\n",
      "73/73 [==============================] - 0s 3ms/step - loss: 0.7722 - accuracy: 0.4910 - val_loss: 0.7679 - val_accuracy: 0.5023\n",
      "Epoch 2/200\n",
      "73/73 [==============================] - 0s 2ms/step - loss: 0.7604 - accuracy: 0.4924 - val_loss: 0.7574 - val_accuracy: 0.4984\n",
      "Epoch 3/200\n",
      "73/73 [==============================] - 0s 2ms/step - loss: 0.7502 - accuracy: 0.4993 - val_loss: 0.7482 - val_accuracy: 0.5042\n",
      "Epoch 4/200\n",
      "73/73 [==============================] - 0s 2ms/step - loss: 0.7413 - accuracy: 0.5057 - val_loss: 0.7403 - val_accuracy: 0.5068\n",
      "Epoch 5/200\n",
      "73/73 [==============================] - 0s 2ms/step - loss: 0.7335 - accuracy: 0.5135 - val_loss: 0.7330 - val_accuracy: 0.5139\n",
      "Epoch 6/200\n",
      "73/73 [==============================] - 0s 2ms/step - loss: 0.7265 - accuracy: 0.5207 - val_loss: 0.7269 - val_accuracy: 0.5230\n",
      "Epoch 7/200\n",
      "73/73 [==============================] - 0s 2ms/step - loss: 0.7206 - accuracy: 0.5240 - val_loss: 0.7215 - val_accuracy: 0.5204\n",
      "Epoch 8/200\n",
      "73/73 [==============================] - 0s 2ms/step - loss: 0.7153 - accuracy: 0.5284 - val_loss: 0.7168 - val_accuracy: 0.5197\n",
      "Epoch 9/200\n",
      "73/73 [==============================] - 0s 2ms/step - loss: 0.7108 - accuracy: 0.5295 - val_loss: 0.7130 - val_accuracy: 0.5146\n",
      "Epoch 10/200\n",
      "73/73 [==============================] - 0s 2ms/step - loss: 0.7066 - accuracy: 0.5337 - val_loss: 0.7093 - val_accuracy: 0.5172\n",
      "Epoch 11/200\n",
      "73/73 [==============================] - 0s 2ms/step - loss: 0.7030 - accuracy: 0.5404 - val_loss: 0.7062 - val_accuracy: 0.5256\n",
      "Epoch 12/200\n",
      "73/73 [==============================] - 0s 2ms/step - loss: 0.6997 - accuracy: 0.5440 - val_loss: 0.7034 - val_accuracy: 0.5282\n",
      "Epoch 13/200\n",
      "73/73 [==============================] - 0s 2ms/step - loss: 0.6968 - accuracy: 0.5479 - val_loss: 0.7008 - val_accuracy: 0.5294\n",
      "Epoch 14/200\n",
      "73/73 [==============================] - 0s 2ms/step - loss: 0.6942 - accuracy: 0.5473 - val_loss: 0.6986 - val_accuracy: 0.5262\n",
      "Epoch 15/200\n",
      "73/73 [==============================] - 0s 2ms/step - loss: 0.6919 - accuracy: 0.5512 - val_loss: 0.6967 - val_accuracy: 0.5307\n",
      "Epoch 16/200\n",
      "73/73 [==============================] - 0s 2ms/step - loss: 0.6899 - accuracy: 0.5512 - val_loss: 0.6951 - val_accuracy: 0.5307\n",
      "Epoch 17/200\n",
      "73/73 [==============================] - 0s 3ms/step - loss: 0.6880 - accuracy: 0.5587 - val_loss: 0.6934 - val_accuracy: 0.5385\n",
      "Epoch 18/200\n",
      "73/73 [==============================] - 0s 2ms/step - loss: 0.6862 - accuracy: 0.5589 - val_loss: 0.6920 - val_accuracy: 0.5340\n",
      "Epoch 19/200\n",
      "73/73 [==============================] - 0s 1ms/step - loss: 0.6846 - accuracy: 0.5601 - val_loss: 0.6906 - val_accuracy: 0.5333\n",
      "Epoch 20/200\n",
      "73/73 [==============================] - 0s 2ms/step - loss: 0.6831 - accuracy: 0.5659 - val_loss: 0.6895 - val_accuracy: 0.5366\n",
      "Epoch 21/200\n",
      "73/73 [==============================] - 0s 2ms/step - loss: 0.6816 - accuracy: 0.5670 - val_loss: 0.6884 - val_accuracy: 0.5411\n",
      "Epoch 22/200\n",
      "73/73 [==============================] - 0s 2ms/step - loss: 0.6803 - accuracy: 0.5684 - val_loss: 0.6873 - val_accuracy: 0.5405\n",
      "Epoch 23/200\n",
      "73/73 [==============================] - 0s 1ms/step - loss: 0.6791 - accuracy: 0.5706 - val_loss: 0.6863 - val_accuracy: 0.5430\n",
      "Epoch 24/200\n",
      "73/73 [==============================] - 0s 1ms/step - loss: 0.6779 - accuracy: 0.5712 - val_loss: 0.6855 - val_accuracy: 0.5463\n",
      "Epoch 25/200\n",
      "73/73 [==============================] - 0s 1ms/step - loss: 0.6768 - accuracy: 0.5761 - val_loss: 0.6846 - val_accuracy: 0.5482\n",
      "Epoch 26/200\n",
      "73/73 [==============================] - 0s 2ms/step - loss: 0.6758 - accuracy: 0.5786 - val_loss: 0.6839 - val_accuracy: 0.5495\n",
      "Epoch 27/200\n",
      "73/73 [==============================] - 0s 1ms/step - loss: 0.6747 - accuracy: 0.5786 - val_loss: 0.6832 - val_accuracy: 0.5508\n",
      "Epoch 28/200\n",
      "73/73 [==============================] - 0s 2ms/step - loss: 0.6738 - accuracy: 0.5778 - val_loss: 0.6825 - val_accuracy: 0.5560\n",
      "Epoch 29/200\n",
      "73/73 [==============================] - 0s 1ms/step - loss: 0.6729 - accuracy: 0.5798 - val_loss: 0.6818 - val_accuracy: 0.5560\n",
      "Epoch 30/200\n",
      "73/73 [==============================] - 0s 2ms/step - loss: 0.6719 - accuracy: 0.5825 - val_loss: 0.6812 - val_accuracy: 0.5612\n",
      "Epoch 31/200\n",
      "73/73 [==============================] - 0s 2ms/step - loss: 0.6711 - accuracy: 0.5820 - val_loss: 0.6805 - val_accuracy: 0.5625\n",
      "Epoch 32/200\n",
      "73/73 [==============================] - 0s 2ms/step - loss: 0.6703 - accuracy: 0.5847 - val_loss: 0.6799 - val_accuracy: 0.5618\n",
      "Epoch 33/200\n",
      "73/73 [==============================] - 0s 2ms/step - loss: 0.6695 - accuracy: 0.5867 - val_loss: 0.6794 - val_accuracy: 0.5618\n",
      "Epoch 34/200\n",
      "73/73 [==============================] - 0s 2ms/step - loss: 0.6686 - accuracy: 0.5889 - val_loss: 0.6788 - val_accuracy: 0.5631\n",
      "Epoch 35/200\n",
      "73/73 [==============================] - 0s 2ms/step - loss: 0.6679 - accuracy: 0.5900 - val_loss: 0.6783 - val_accuracy: 0.5631\n",
      "Epoch 36/200\n",
      "73/73 [==============================] - 0s 1ms/step - loss: 0.6672 - accuracy: 0.5928 - val_loss: 0.6778 - val_accuracy: 0.5625\n",
      "Epoch 37/200\n",
      "73/73 [==============================] - 0s 2ms/step - loss: 0.6664 - accuracy: 0.5947 - val_loss: 0.6773 - val_accuracy: 0.5644\n",
      "Epoch 38/200\n",
      "73/73 [==============================] - 0s 2ms/step - loss: 0.6657 - accuracy: 0.5961 - val_loss: 0.6768 - val_accuracy: 0.5618\n",
      "Epoch 39/200\n",
      "73/73 [==============================] - 0s 2ms/step - loss: 0.6651 - accuracy: 0.5950 - val_loss: 0.6764 - val_accuracy: 0.5592\n",
      "Epoch 40/200\n",
      "73/73 [==============================] - 0s 2ms/step - loss: 0.6644 - accuracy: 0.5950 - val_loss: 0.6760 - val_accuracy: 0.5605\n",
      "Epoch 41/200\n",
      "73/73 [==============================] - 0s 2ms/step - loss: 0.6638 - accuracy: 0.5956 - val_loss: 0.6756 - val_accuracy: 0.5644\n",
      "Epoch 42/200\n",
      "73/73 [==============================] - 0s 2ms/step - loss: 0.6632 - accuracy: 0.5997 - val_loss: 0.6753 - val_accuracy: 0.5625\n",
      "Epoch 43/200\n",
      "73/73 [==============================] - 0s 2ms/step - loss: 0.6626 - accuracy: 0.6003 - val_loss: 0.6749 - val_accuracy: 0.5605\n",
      "Epoch 44/200\n",
      "73/73 [==============================] - 0s 1ms/step - loss: 0.6620 - accuracy: 0.6017 - val_loss: 0.6746 - val_accuracy: 0.5592\n",
      "Epoch 45/200\n",
      "73/73 [==============================] - 0s 2ms/step - loss: 0.6615 - accuracy: 0.6017 - val_loss: 0.6743 - val_accuracy: 0.5618\n",
      "Epoch 46/200\n",
      "73/73 [==============================] - 0s 2ms/step - loss: 0.6609 - accuracy: 0.6011 - val_loss: 0.6740 - val_accuracy: 0.5644\n",
      "Epoch 47/200\n",
      "73/73 [==============================] - 0s 2ms/step - loss: 0.6604 - accuracy: 0.6025 - val_loss: 0.6737 - val_accuracy: 0.5676\n",
      "Epoch 48/200\n",
      "73/73 [==============================] - 0s 2ms/step - loss: 0.6599 - accuracy: 0.6036 - val_loss: 0.6735 - val_accuracy: 0.5689\n",
      "Epoch 49/200\n",
      "73/73 [==============================] - 0s 2ms/step - loss: 0.6593 - accuracy: 0.6047 - val_loss: 0.6732 - val_accuracy: 0.5696\n",
      "Epoch 50/200\n",
      "73/73 [==============================] - 0s 2ms/step - loss: 0.6588 - accuracy: 0.6072 - val_loss: 0.6729 - val_accuracy: 0.5722\n",
      "Epoch 51/200\n",
      "73/73 [==============================] - 0s 2ms/step - loss: 0.6584 - accuracy: 0.6086 - val_loss: 0.6727 - val_accuracy: 0.5715\n",
      "Epoch 52/200\n",
      "73/73 [==============================] - 0s 1ms/step - loss: 0.6579 - accuracy: 0.6089 - val_loss: 0.6725 - val_accuracy: 0.5748\n",
      "Epoch 53/200\n",
      "73/73 [==============================] - 0s 2ms/step - loss: 0.6575 - accuracy: 0.6094 - val_loss: 0.6722 - val_accuracy: 0.5754\n",
      "Epoch 54/200\n",
      "73/73 [==============================] - 0s 2ms/step - loss: 0.6571 - accuracy: 0.6097 - val_loss: 0.6720 - val_accuracy: 0.5754\n",
      "Epoch 55/200\n",
      "73/73 [==============================] - 0s 2ms/step - loss: 0.6567 - accuracy: 0.6094 - val_loss: 0.6718 - val_accuracy: 0.5761\n",
      "Epoch 56/200\n",
      "73/73 [==============================] - 0s 1ms/step - loss: 0.6563 - accuracy: 0.6111 - val_loss: 0.6716 - val_accuracy: 0.5754\n",
      "Epoch 57/200\n",
      "73/73 [==============================] - 0s 1ms/step - loss: 0.6559 - accuracy: 0.6128 - val_loss: 0.6714 - val_accuracy: 0.5761\n",
      "Epoch 58/200\n",
      "73/73 [==============================] - 0s 1ms/step - loss: 0.6555 - accuracy: 0.6128 - val_loss: 0.6713 - val_accuracy: 0.5767\n"
     ]
    },
    {
     "name": "stdout",
     "output_type": "stream",
     "text": [
      "Epoch 59/200\n",
      "73/73 [==============================] - 0s 1ms/step - loss: 0.6553 - accuracy: 0.6125 - val_loss: 0.6711 - val_accuracy: 0.5741\n",
      "Epoch 60/200\n",
      "73/73 [==============================] - 0s 2ms/step - loss: 0.6549 - accuracy: 0.6130 - val_loss: 0.6710 - val_accuracy: 0.5754\n",
      "Epoch 61/200\n",
      "73/73 [==============================] - 0s 1ms/step - loss: 0.6546 - accuracy: 0.6128 - val_loss: 0.6709 - val_accuracy: 0.5754\n",
      "Epoch 62/200\n",
      "73/73 [==============================] - 0s 2ms/step - loss: 0.6543 - accuracy: 0.6133 - val_loss: 0.6707 - val_accuracy: 0.5748\n",
      "Epoch 63/200\n",
      "73/73 [==============================] - 0s 2ms/step - loss: 0.6540 - accuracy: 0.6125 - val_loss: 0.6705 - val_accuracy: 0.5748\n",
      "Epoch 64/200\n",
      "73/73 [==============================] - 0s 2ms/step - loss: 0.6537 - accuracy: 0.6153 - val_loss: 0.6705 - val_accuracy: 0.5754\n",
      "Epoch 65/200\n",
      "73/73 [==============================] - 0s 1ms/step - loss: 0.6534 - accuracy: 0.6164 - val_loss: 0.6704 - val_accuracy: 0.5748\n",
      "Epoch 66/200\n",
      "73/73 [==============================] - 0s 1ms/step - loss: 0.6532 - accuracy: 0.6166 - val_loss: 0.6702 - val_accuracy: 0.5748\n",
      "Epoch 67/200\n",
      "73/73 [==============================] - 0s 2ms/step - loss: 0.6529 - accuracy: 0.6178 - val_loss: 0.6702 - val_accuracy: 0.5748\n",
      "Epoch 68/200\n",
      "73/73 [==============================] - 0s 2ms/step - loss: 0.6526 - accuracy: 0.6166 - val_loss: 0.6701 - val_accuracy: 0.5735\n",
      "Epoch 69/200\n",
      "73/73 [==============================] - 0s 2ms/step - loss: 0.6524 - accuracy: 0.6178 - val_loss: 0.6700 - val_accuracy: 0.5715\n",
      "Epoch 70/200\n",
      "73/73 [==============================] - 0s 2ms/step - loss: 0.6521 - accuracy: 0.6175 - val_loss: 0.6698 - val_accuracy: 0.5702\n",
      "Epoch 71/200\n",
      "73/73 [==============================] - 0s 1ms/step - loss: 0.6519 - accuracy: 0.6197 - val_loss: 0.6698 - val_accuracy: 0.5728\n",
      "Epoch 72/200\n",
      "73/73 [==============================] - 0s 2ms/step - loss: 0.6517 - accuracy: 0.6205 - val_loss: 0.6697 - val_accuracy: 0.5722\n",
      "Epoch 73/200\n",
      "73/73 [==============================] - 0s 2ms/step - loss: 0.6515 - accuracy: 0.6202 - val_loss: 0.6696 - val_accuracy: 0.5722\n",
      "Epoch 74/200\n",
      "73/73 [==============================] - 0s 1ms/step - loss: 0.6512 - accuracy: 0.6216 - val_loss: 0.6696 - val_accuracy: 0.5715\n",
      "Epoch 75/200\n",
      "73/73 [==============================] - 0s 2ms/step - loss: 0.6511 - accuracy: 0.6216 - val_loss: 0.6695 - val_accuracy: 0.5709\n",
      "Epoch 76/200\n",
      "73/73 [==============================] - 0s 1ms/step - loss: 0.6509 - accuracy: 0.6211 - val_loss: 0.6695 - val_accuracy: 0.5722\n",
      "Epoch 77/200\n",
      "73/73 [==============================] - 0s 1ms/step - loss: 0.6507 - accuracy: 0.6211 - val_loss: 0.6695 - val_accuracy: 0.5735\n",
      "Epoch 78/200\n",
      "73/73 [==============================] - 0s 2ms/step - loss: 0.6505 - accuracy: 0.6205 - val_loss: 0.6695 - val_accuracy: 0.5728\n",
      "Epoch 79/200\n",
      "73/73 [==============================] - 0s 2ms/step - loss: 0.6503 - accuracy: 0.6200 - val_loss: 0.6694 - val_accuracy: 0.5728\n",
      "Epoch 80/200\n",
      "73/73 [==============================] - 0s 2ms/step - loss: 0.6501 - accuracy: 0.6216 - val_loss: 0.6694 - val_accuracy: 0.5741\n",
      "Epoch 81/200\n",
      "73/73 [==============================] - 0s 2ms/step - loss: 0.6499 - accuracy: 0.6225 - val_loss: 0.6694 - val_accuracy: 0.5735\n",
      "Epoch 82/200\n",
      "73/73 [==============================] - 0s 1ms/step - loss: 0.6497 - accuracy: 0.6230 - val_loss: 0.6693 - val_accuracy: 0.5741\n",
      "Epoch 83/200\n",
      "73/73 [==============================] - 0s 2ms/step - loss: 0.6496 - accuracy: 0.6255 - val_loss: 0.6693 - val_accuracy: 0.5748\n",
      "Epoch 84/200\n",
      "73/73 [==============================] - 0s 4ms/step - loss: 0.6494 - accuracy: 0.6247 - val_loss: 0.6693 - val_accuracy: 0.5773\n",
      "Epoch 85/200\n",
      "73/73 [==============================] - 0s 2ms/step - loss: 0.6493 - accuracy: 0.6247 - val_loss: 0.6692 - val_accuracy: 0.5773\n",
      "Epoch 86/200\n",
      "73/73 [==============================] - 0s 2ms/step - loss: 0.6491 - accuracy: 0.6241 - val_loss: 0.6691 - val_accuracy: 0.5786\n",
      "Epoch 87/200\n",
      "73/73 [==============================] - 0s 2ms/step - loss: 0.6490 - accuracy: 0.6252 - val_loss: 0.6691 - val_accuracy: 0.5793\n",
      "Epoch 88/200\n",
      "73/73 [==============================] - 0s 3ms/step - loss: 0.6488 - accuracy: 0.6261 - val_loss: 0.6691 - val_accuracy: 0.5806\n",
      "Epoch 89/200\n",
      "73/73 [==============================] - 0s 3ms/step - loss: 0.6486 - accuracy: 0.6264 - val_loss: 0.6691 - val_accuracy: 0.5812\n",
      "Epoch 90/200\n",
      "73/73 [==============================] - 0s 2ms/step - loss: 0.6485 - accuracy: 0.6266 - val_loss: 0.6690 - val_accuracy: 0.5806\n",
      "Epoch 91/200\n",
      "73/73 [==============================] - 0s 1ms/step - loss: 0.6484 - accuracy: 0.6272 - val_loss: 0.6691 - val_accuracy: 0.5825\n",
      "Epoch 92/200\n",
      "73/73 [==============================] - 0s 2ms/step - loss: 0.6483 - accuracy: 0.6286 - val_loss: 0.6690 - val_accuracy: 0.5819\n",
      "Epoch 93/200\n",
      "73/73 [==============================] - 0s 2ms/step - loss: 0.6481 - accuracy: 0.6280 - val_loss: 0.6690 - val_accuracy: 0.5825\n",
      "Epoch 94/200\n",
      "73/73 [==============================] - 0s 2ms/step - loss: 0.6480 - accuracy: 0.6291 - val_loss: 0.6690 - val_accuracy: 0.5812\n",
      "Epoch 95/200\n",
      "73/73 [==============================] - 0s 2ms/step - loss: 0.6479 - accuracy: 0.6269 - val_loss: 0.6689 - val_accuracy: 0.5812\n",
      "Epoch 96/200\n",
      "73/73 [==============================] - 0s 2ms/step - loss: 0.6478 - accuracy: 0.6283 - val_loss: 0.6688 - val_accuracy: 0.5799\n",
      "Epoch 97/200\n",
      "73/73 [==============================] - 0s 2ms/step - loss: 0.6477 - accuracy: 0.6288 - val_loss: 0.6688 - val_accuracy: 0.5812\n",
      "Epoch 98/200\n",
      "73/73 [==============================] - 0s 2ms/step - loss: 0.6476 - accuracy: 0.6294 - val_loss: 0.6688 - val_accuracy: 0.5806\n",
      "Epoch 99/200\n",
      "73/73 [==============================] - 0s 1ms/step - loss: 0.6474 - accuracy: 0.6308 - val_loss: 0.6688 - val_accuracy: 0.5812\n",
      "Epoch 100/200\n",
      "73/73 [==============================] - 0s 2ms/step - loss: 0.6473 - accuracy: 0.6313 - val_loss: 0.6688 - val_accuracy: 0.5812\n",
      "Epoch 101/200\n",
      "73/73 [==============================] - 0s 1ms/step - loss: 0.6472 - accuracy: 0.6316 - val_loss: 0.6687 - val_accuracy: 0.5825\n",
      "Epoch 102/200\n",
      "73/73 [==============================] - 0s 2ms/step - loss: 0.6471 - accuracy: 0.6319 - val_loss: 0.6687 - val_accuracy: 0.5819\n",
      "Epoch 103/200\n",
      "73/73 [==============================] - 0s 2ms/step - loss: 0.6470 - accuracy: 0.6322 - val_loss: 0.6687 - val_accuracy: 0.5799\n",
      "Epoch 104/200\n",
      "73/73 [==============================] - 0s 1ms/step - loss: 0.6469 - accuracy: 0.6325 - val_loss: 0.6687 - val_accuracy: 0.5793\n",
      "Epoch 105/200\n",
      "73/73 [==============================] - 0s 2ms/step - loss: 0.6468 - accuracy: 0.6313 - val_loss: 0.6687 - val_accuracy: 0.5799\n",
      "Epoch 106/200\n",
      "73/73 [==============================] - 0s 2ms/step - loss: 0.6467 - accuracy: 0.6313 - val_loss: 0.6687 - val_accuracy: 0.5806\n",
      "Epoch 107/200\n",
      "73/73 [==============================] - 0s 2ms/step - loss: 0.6466 - accuracy: 0.6316 - val_loss: 0.6687 - val_accuracy: 0.5793\n",
      "Epoch 108/200\n",
      "73/73 [==============================] - 0s 2ms/step - loss: 0.6465 - accuracy: 0.6313 - val_loss: 0.6687 - val_accuracy: 0.5780\n",
      "Epoch 109/200\n",
      "73/73 [==============================] - 0s 2ms/step - loss: 0.6464 - accuracy: 0.6319 - val_loss: 0.6687 - val_accuracy: 0.5786\n",
      "Epoch 110/200\n",
      "73/73 [==============================] - 0s 2ms/step - loss: 0.6463 - accuracy: 0.6325 - val_loss: 0.6687 - val_accuracy: 0.5799\n",
      "Epoch 111/200\n",
      "73/73 [==============================] - 0s 2ms/step - loss: 0.6462 - accuracy: 0.6319 - val_loss: 0.6687 - val_accuracy: 0.5812\n",
      "Epoch 112/200\n",
      "73/73 [==============================] - 0s 1ms/step - loss: 0.6461 - accuracy: 0.6308 - val_loss: 0.6687 - val_accuracy: 0.5825\n",
      "Epoch 113/200\n",
      "73/73 [==============================] - 0s 2ms/step - loss: 0.6460 - accuracy: 0.6322 - val_loss: 0.6687 - val_accuracy: 0.5845\n",
      "Epoch 114/200\n",
      "73/73 [==============================] - 0s 1ms/step - loss: 0.6459 - accuracy: 0.6313 - val_loss: 0.6687 - val_accuracy: 0.5812\n",
      "Epoch 115/200\n",
      "73/73 [==============================] - 0s 2ms/step - loss: 0.6458 - accuracy: 0.6316 - val_loss: 0.6686 - val_accuracy: 0.5819\n",
      "Epoch 116/200\n",
      "73/73 [==============================] - 0s 2ms/step - loss: 0.6457 - accuracy: 0.6308 - val_loss: 0.6686 - val_accuracy: 0.5819\n",
      "Epoch 117/200\n",
      "73/73 [==============================] - 0s 2ms/step - loss: 0.6456 - accuracy: 0.6311 - val_loss: 0.6686 - val_accuracy: 0.5799\n",
      "Epoch 118/200\n",
      "73/73 [==============================] - 0s 1ms/step - loss: 0.6455 - accuracy: 0.6322 - val_loss: 0.6686 - val_accuracy: 0.5825\n",
      "Epoch 119/200\n",
      "73/73 [==============================] - 0s 2ms/step - loss: 0.6454 - accuracy: 0.6316 - val_loss: 0.6686 - val_accuracy: 0.5819\n",
      "Epoch 120/200\n",
      "73/73 [==============================] - 0s 2ms/step - loss: 0.6453 - accuracy: 0.6327 - val_loss: 0.6686 - val_accuracy: 0.5812\n",
      "Epoch 121/200\n",
      "73/73 [==============================] - 0s 2ms/step - loss: 0.6452 - accuracy: 0.6325 - val_loss: 0.6686 - val_accuracy: 0.5806\n",
      "Epoch 122/200\n",
      "73/73 [==============================] - 0s 2ms/step - loss: 0.6451 - accuracy: 0.6330 - val_loss: 0.6686 - val_accuracy: 0.5799\n",
      "Epoch 123/200\n",
      "73/73 [==============================] - 0s 2ms/step - loss: 0.6450 - accuracy: 0.6325 - val_loss: 0.6686 - val_accuracy: 0.5806\n",
      "Epoch 124/200\n",
      "73/73 [==============================] - 0s 2ms/step - loss: 0.6449 - accuracy: 0.6319 - val_loss: 0.6686 - val_accuracy: 0.5806\n",
      "Epoch 125/200\n",
      "73/73 [==============================] - 0s 1ms/step - loss: 0.6448 - accuracy: 0.6322 - val_loss: 0.6686 - val_accuracy: 0.5806\n",
      "Epoch 126/200\n",
      "73/73 [==============================] - 0s 2ms/step - loss: 0.6447 - accuracy: 0.6316 - val_loss: 0.6686 - val_accuracy: 0.5812\n",
      "Epoch 127/200\n",
      "73/73 [==============================] - 0s 2ms/step - loss: 0.6446 - accuracy: 0.6322 - val_loss: 0.6686 - val_accuracy: 0.5819\n",
      "Epoch 128/200\n",
      "73/73 [==============================] - 0s 2ms/step - loss: 0.6445 - accuracy: 0.6325 - val_loss: 0.6687 - val_accuracy: 0.5825\n",
      "Epoch 129/200\n",
      "73/73 [==============================] - 0s 2ms/step - loss: 0.6444 - accuracy: 0.6322 - val_loss: 0.6686 - val_accuracy: 0.5825\n",
      "Epoch 130/200\n",
      "73/73 [==============================] - 0s 1ms/step - loss: 0.6444 - accuracy: 0.6300 - val_loss: 0.6686 - val_accuracy: 0.5825\n",
      "Epoch 131/200\n",
      "73/73 [==============================] - 0s 2ms/step - loss: 0.6442 - accuracy: 0.6308 - val_loss: 0.6685 - val_accuracy: 0.5825\n",
      "Epoch 132/200\n",
      "73/73 [==============================] - 0s 3ms/step - loss: 0.6442 - accuracy: 0.6311 - val_loss: 0.6685 - val_accuracy: 0.5832\n",
      "Epoch 133/200\n",
      "73/73 [==============================] - 0s 1ms/step - loss: 0.6441 - accuracy: 0.6286 - val_loss: 0.6685 - val_accuracy: 0.5832\n",
      "Epoch 134/200\n",
      "73/73 [==============================] - 0s 1ms/step - loss: 0.6440 - accuracy: 0.6308 - val_loss: 0.6685 - val_accuracy: 0.5825\n",
      "Epoch 135/200\n",
      "73/73 [==============================] - 0s 2ms/step - loss: 0.6439 - accuracy: 0.6302 - val_loss: 0.6686 - val_accuracy: 0.5819\n",
      "Epoch 136/200\n",
      "73/73 [==============================] - 0s 2ms/step - loss: 0.6438 - accuracy: 0.6297 - val_loss: 0.6685 - val_accuracy: 0.5812\n",
      "Epoch 137/200\n",
      "73/73 [==============================] - 0s 2ms/step - loss: 0.6437 - accuracy: 0.6300 - val_loss: 0.6685 - val_accuracy: 0.5819\n",
      "Epoch 138/200\n",
      "73/73 [==============================] - 0s 2ms/step - loss: 0.6436 - accuracy: 0.6294 - val_loss: 0.6686 - val_accuracy: 0.5825\n",
      "Epoch 139/200\n",
      "73/73 [==============================] - 0s 1ms/step - loss: 0.6436 - accuracy: 0.6294 - val_loss: 0.6685 - val_accuracy: 0.5819\n",
      "Epoch 140/200\n",
      "73/73 [==============================] - 0s 2ms/step - loss: 0.6434 - accuracy: 0.6302 - val_loss: 0.6685 - val_accuracy: 0.5812\n",
      "Epoch 141/200\n",
      "73/73 [==============================] - 0s 2ms/step - loss: 0.6434 - accuracy: 0.6305 - val_loss: 0.6685 - val_accuracy: 0.5832\n",
      "Epoch 142/200\n",
      "73/73 [==============================] - 0s 1ms/step - loss: 0.6433 - accuracy: 0.6305 - val_loss: 0.6685 - val_accuracy: 0.5832\n",
      "Epoch 143/200\n",
      "73/73 [==============================] - 0s 2ms/step - loss: 0.6432 - accuracy: 0.6308 - val_loss: 0.6684 - val_accuracy: 0.5832\n",
      "Epoch 144/200\n",
      "73/73 [==============================] - 0s 1ms/step - loss: 0.6431 - accuracy: 0.6311 - val_loss: 0.6684 - val_accuracy: 0.5819\n",
      "Epoch 145/200\n",
      "73/73 [==============================] - 0s 2ms/step - loss: 0.6430 - accuracy: 0.6322 - val_loss: 0.6684 - val_accuracy: 0.5825\n",
      "Epoch 146/200\n",
      "73/73 [==============================] - 0s 2ms/step - loss: 0.6429 - accuracy: 0.6316 - val_loss: 0.6684 - val_accuracy: 0.5832\n",
      "Epoch 147/200\n",
      "73/73 [==============================] - 0s 2ms/step - loss: 0.6428 - accuracy: 0.6311 - val_loss: 0.6685 - val_accuracy: 0.5858\n",
      "Epoch 148/200\n",
      "73/73 [==============================] - 0s 2ms/step - loss: 0.6428 - accuracy: 0.6308 - val_loss: 0.6685 - val_accuracy: 0.5858\n",
      "Epoch 149/200\n",
      "73/73 [==============================] - 0s 2ms/step - loss: 0.6427 - accuracy: 0.6308 - val_loss: 0.6685 - val_accuracy: 0.5858\n",
      "Epoch 150/200\n",
      "73/73 [==============================] - 0s 2ms/step - loss: 0.6426 - accuracy: 0.6316 - val_loss: 0.6684 - val_accuracy: 0.5838\n",
      "Epoch 151/200\n",
      "73/73 [==============================] - 0s 2ms/step - loss: 0.6425 - accuracy: 0.6316 - val_loss: 0.6684 - val_accuracy: 0.5832\n",
      "Epoch 152/200\n",
      "73/73 [==============================] - 0s 2ms/step - loss: 0.6424 - accuracy: 0.6308 - val_loss: 0.6684 - val_accuracy: 0.5825\n",
      "Epoch 153/200\n",
      "73/73 [==============================] - 0s 2ms/step - loss: 0.6423 - accuracy: 0.6325 - val_loss: 0.6684 - val_accuracy: 0.5819\n",
      "Epoch 154/200\n",
      "73/73 [==============================] - 0s 2ms/step - loss: 0.6422 - accuracy: 0.6322 - val_loss: 0.6683 - val_accuracy: 0.5812\n",
      "Epoch 155/200\n",
      "73/73 [==============================] - 0s 1ms/step - loss: 0.6422 - accuracy: 0.6325 - val_loss: 0.6684 - val_accuracy: 0.5812\n",
      "Epoch 156/200\n",
      "73/73 [==============================] - 0s 3ms/step - loss: 0.6421 - accuracy: 0.6322 - val_loss: 0.6684 - val_accuracy: 0.5825\n",
      "Epoch 157/200\n",
      "73/73 [==============================] - 0s 2ms/step - loss: 0.6420 - accuracy: 0.6327 - val_loss: 0.6684 - val_accuracy: 0.5858\n",
      "Epoch 158/200\n",
      "73/73 [==============================] - 0s 4ms/step - loss: 0.6419 - accuracy: 0.6316 - val_loss: 0.6684 - val_accuracy: 0.5858\n",
      "Epoch 159/200\n",
      "73/73 [==============================] - 0s 3ms/step - loss: 0.6418 - accuracy: 0.6338 - val_loss: 0.6684 - val_accuracy: 0.5851\n",
      "Epoch 160/200\n",
      "73/73 [==============================] - 0s 3ms/step - loss: 0.6417 - accuracy: 0.6327 - val_loss: 0.6684 - val_accuracy: 0.5845\n",
      "Epoch 161/200\n",
      "73/73 [==============================] - 0s 2ms/step - loss: 0.6416 - accuracy: 0.6325 - val_loss: 0.6683 - val_accuracy: 0.5845\n",
      "Epoch 162/200\n",
      "73/73 [==============================] - 0s 2ms/step - loss: 0.6416 - accuracy: 0.6319 - val_loss: 0.6682 - val_accuracy: 0.5845\n",
      "Epoch 163/200\n",
      "73/73 [==============================] - 0s 2ms/step - loss: 0.6415 - accuracy: 0.6313 - val_loss: 0.6683 - val_accuracy: 0.5851\n",
      "Epoch 164/200\n",
      "73/73 [==============================] - 0s 2ms/step - loss: 0.6414 - accuracy: 0.6325 - val_loss: 0.6683 - val_accuracy: 0.5851\n",
      "Epoch 165/200\n",
      "73/73 [==============================] - 0s 2ms/step - loss: 0.6414 - accuracy: 0.6327 - val_loss: 0.6682 - val_accuracy: 0.5851\n",
      "Epoch 166/200\n",
      "73/73 [==============================] - 0s 2ms/step - loss: 0.6412 - accuracy: 0.6319 - val_loss: 0.6682 - val_accuracy: 0.5838\n",
      "Epoch 167/200\n",
      "73/73 [==============================] - 0s 2ms/step - loss: 0.6412 - accuracy: 0.6316 - val_loss: 0.6682 - val_accuracy: 0.5838\n",
      "Epoch 168/200\n",
      "73/73 [==============================] - 0s 2ms/step - loss: 0.6411 - accuracy: 0.6308 - val_loss: 0.6682 - val_accuracy: 0.5845\n",
      "Epoch 169/200\n",
      "73/73 [==============================] - 0s 2ms/step - loss: 0.6410 - accuracy: 0.6311 - val_loss: 0.6682 - val_accuracy: 0.5838\n",
      "Epoch 170/200\n",
      "73/73 [==============================] - 0s 4ms/step - loss: 0.6409 - accuracy: 0.6311 - val_loss: 0.6682 - val_accuracy: 0.5858\n",
      "Epoch 171/200\n",
      "73/73 [==============================] - 0s 2ms/step - loss: 0.6409 - accuracy: 0.6311 - val_loss: 0.6682 - val_accuracy: 0.5851\n",
      "Epoch 172/200\n",
      "73/73 [==============================] - 0s 2ms/step - loss: 0.6408 - accuracy: 0.6302 - val_loss: 0.6681 - val_accuracy: 0.5858\n",
      "Epoch 173/200\n"
     ]
    },
    {
     "name": "stdout",
     "output_type": "stream",
     "text": [
      "73/73 [==============================] - 0s 2ms/step - loss: 0.6407 - accuracy: 0.6313 - val_loss: 0.6682 - val_accuracy: 0.5845\n",
      "Epoch 174/200\n",
      "73/73 [==============================] - 0s 2ms/step - loss: 0.6406 - accuracy: 0.6305 - val_loss: 0.6681 - val_accuracy: 0.5858\n",
      "Epoch 175/200\n",
      "73/73 [==============================] - 0s 4ms/step - loss: 0.6406 - accuracy: 0.6313 - val_loss: 0.6682 - val_accuracy: 0.5858\n",
      "Epoch 176/200\n",
      "73/73 [==============================] - 0s 2ms/step - loss: 0.6405 - accuracy: 0.6297 - val_loss: 0.6681 - val_accuracy: 0.5864\n",
      "Epoch 177/200\n",
      "73/73 [==============================] - 0s 2ms/step - loss: 0.6404 - accuracy: 0.6297 - val_loss: 0.6682 - val_accuracy: 0.5851\n",
      "Epoch 178/200\n",
      "73/73 [==============================] - 0s 2ms/step - loss: 0.6403 - accuracy: 0.6294 - val_loss: 0.6682 - val_accuracy: 0.5845\n",
      "Epoch 179/200\n",
      "73/73 [==============================] - 0s 3ms/step - loss: 0.6402 - accuracy: 0.6297 - val_loss: 0.6681 - val_accuracy: 0.5838\n",
      "Epoch 180/200\n",
      "73/73 [==============================] - 0s 2ms/step - loss: 0.6402 - accuracy: 0.6300 - val_loss: 0.6681 - val_accuracy: 0.5832\n",
      "Epoch 181/200\n",
      "73/73 [==============================] - 0s 2ms/step - loss: 0.6401 - accuracy: 0.6291 - val_loss: 0.6681 - val_accuracy: 0.5838\n",
      "Epoch 182/200\n",
      "73/73 [==============================] - 0s 1ms/step - loss: 0.6400 - accuracy: 0.6316 - val_loss: 0.6681 - val_accuracy: 0.5838\n",
      "Epoch 183/200\n",
      "73/73 [==============================] - 0s 2ms/step - loss: 0.6400 - accuracy: 0.6286 - val_loss: 0.6680 - val_accuracy: 0.5832\n",
      "Epoch 184/200\n",
      "73/73 [==============================] - 0s 3ms/step - loss: 0.6399 - accuracy: 0.6302 - val_loss: 0.6680 - val_accuracy: 0.5832\n",
      "Epoch 185/200\n",
      "73/73 [==============================] - 0s 2ms/step - loss: 0.6398 - accuracy: 0.6313 - val_loss: 0.6680 - val_accuracy: 0.5825\n",
      "Epoch 186/200\n",
      "73/73 [==============================] - 0s 2ms/step - loss: 0.6397 - accuracy: 0.6291 - val_loss: 0.6680 - val_accuracy: 0.5825\n",
      "Epoch 187/200\n",
      "73/73 [==============================] - 0s 1ms/step - loss: 0.6397 - accuracy: 0.6300 - val_loss: 0.6681 - val_accuracy: 0.5819\n",
      "Epoch 188/200\n",
      "73/73 [==============================] - 0s 3ms/step - loss: 0.6396 - accuracy: 0.6302 - val_loss: 0.6679 - val_accuracy: 0.5819\n",
      "Epoch 189/200\n",
      "73/73 [==============================] - 0s 2ms/step - loss: 0.6395 - accuracy: 0.6300 - val_loss: 0.6680 - val_accuracy: 0.5806\n",
      "Epoch 190/200\n",
      "73/73 [==============================] - 0s 2ms/step - loss: 0.6394 - accuracy: 0.6305 - val_loss: 0.6680 - val_accuracy: 0.5799\n",
      "Epoch 191/200\n",
      "73/73 [==============================] - 0s 2ms/step - loss: 0.6394 - accuracy: 0.6319 - val_loss: 0.6679 - val_accuracy: 0.5825\n",
      "Epoch 192/200\n",
      "73/73 [==============================] - 0s 1ms/step - loss: 0.6393 - accuracy: 0.6308 - val_loss: 0.6680 - val_accuracy: 0.5832\n",
      "Epoch 193/200\n",
      "73/73 [==============================] - 0s 4ms/step - loss: 0.6392 - accuracy: 0.6325 - val_loss: 0.6680 - val_accuracy: 0.5832\n",
      "Epoch 194/200\n",
      "73/73 [==============================] - 0s 2ms/step - loss: 0.6392 - accuracy: 0.6319 - val_loss: 0.6679 - val_accuracy: 0.5838\n",
      "Epoch 195/200\n",
      "73/73 [==============================] - 0s 2ms/step - loss: 0.6391 - accuracy: 0.6330 - val_loss: 0.6680 - val_accuracy: 0.5838\n",
      "Epoch 196/200\n",
      "73/73 [==============================] - 0s 2ms/step - loss: 0.6390 - accuracy: 0.6327 - val_loss: 0.6679 - val_accuracy: 0.5851\n",
      "Epoch 197/200\n",
      "73/73 [==============================] - 0s 2ms/step - loss: 0.6389 - accuracy: 0.6319 - val_loss: 0.6679 - val_accuracy: 0.5832\n",
      "Epoch 198/200\n",
      "73/73 [==============================] - 0s 2ms/step - loss: 0.6389 - accuracy: 0.6319 - val_loss: 0.6679 - val_accuracy: 0.5838\n",
      "Epoch 199/200\n",
      "73/73 [==============================] - 0s 2ms/step - loss: 0.6388 - accuracy: 0.6327 - val_loss: 0.6679 - val_accuracy: 0.5825\n",
      "Epoch 200/200\n",
      "73/73 [==============================] - 0s 2ms/step - loss: 0.6387 - accuracy: 0.6327 - val_loss: 0.6679 - val_accuracy: 0.5838\n",
      "69/69 [==============================] - 0s 1ms/step - loss: 42.9882 - accuracy: 0.5072\n"
     ]
    }
   ],
   "source": [
    "opt = keras.optimizers.Adam(lr = 0.0001)\n",
    "model.compile(optimizer=opt,\n",
    "              loss='binary_crossentropy',\n",
    "              metrics=['accuracy'])\n",
    "\n",
    "hist = model.fit(X_train_nn, y_train_nn, epochs=200, batch_size=50, validation_data = (X_valid_nn, y_valid_nn))\n",
    "test_loss, test_acc = model.evaluate(X_test, y_test)"
   ]
  },
  {
   "cell_type": "code",
   "execution_count": 798,
   "metadata": {},
   "outputs": [
    {
     "data": {
      "image/png": "[encoded data removed]",
      "text/plain": [
       "<Figure size 432x288 with 1 Axes>"
      ]
     },
     "metadata": {
      "needs_background": "light"
     },
     "output_type": "display_data"
    }
   ],
   "source": [
    "plt.plot(hist.history['accuracy'])\n",
    "plt.plot(hist.history['val_accuracy'])\n",
    "plt.title('Fully Connected Neural Network Accuracy')\n",
    "plt.ylabel('accuracy')\n",
    "plt.xlabel('epoch')\n",
    "plt.legend(['train', 'validation'], loc='lower right')\n",
    "plt.show()"
   ]
  },
  {
   "cell_type": "code",
   "execution_count": 729,
   "metadata": {},
   "outputs": [],
   "source": [
    "model.save(\"data/NN.h5\")"
   ]
  },
  {
   "cell_type": "code",
   "execution_count": 731,
   "metadata": {},
   "outputs": [],
   "source": [
    "# Load NN instead of retraining, uncomment line below\n",
    "# model = tf.keras.models.load_model(\"data/NN.h5\")"
   ]
  },
  {
   "cell_type": "code",
   "execution_count": 801,
   "metadata": {},
   "outputs": [],
   "source": [
    "y_pred = model.predict(X_test_nn)"
   ]
  },
  {
   "cell_type": "markdown",
   "metadata": {},
   "source": [
    "#### calculating the confusion matrix for neural network"
   ]
  },
  {
   "cell_type": "code",
   "execution_count": 838,
   "metadata": {},
   "outputs": [],
   "source": [
    "y_p_ = np.where(np.asarray(y_pred)>= 0.5, 1, 0).flatten()"
   ]
  },
  {
   "cell_type": "code",
   "execution_count": 839,
   "metadata": {},
   "outputs": [],
   "source": [
    "counts = Counter(zip(y_p_, y_test.to_numpy().flatten().tolist()))\n",
    "tp = counts[1,1]\n",
    "fp = counts[1,0]\n",
    "tn = counts[0,0]\n",
    "fn = counts[0,1]"
   ]
  },
  {
   "cell_type": "code",
   "execution_count": 842,
   "metadata": {},
   "outputs": [
    {
     "name": "stdout",
     "output_type": "stream",
     "text": [
      "0.5755138516532619\n"
     ]
    }
   ],
   "source": [
    "print(tp / (tp+fn))"
   ]
  },
  {
   "cell_type": "code",
   "execution_count": 830,
   "metadata": {},
   "outputs": [
    {
     "name": "stdout",
     "output_type": "stream",
     "text": [
      "0.6391184573002755\n"
     ]
    }
   ],
   "source": [
    "print(tn / (tn+fp))"
   ]
  },
  {
   "cell_type": "code",
   "execution_count": 831,
   "metadata": {},
   "outputs": [
    {
     "data": {
      "text/plain": [
       "0.42448614834673815"
      ]
     },
     "execution_count": 831,
     "metadata": {},
     "output_type": "execute_result"
    }
   ],
   "source": [
    "1 - (tp / (tp+fn))"
   ]
  },
  {
   "cell_type": "code",
   "execution_count": 832,
   "metadata": {},
   "outputs": [
    {
     "data": {
      "text/plain": [
       "0.3608815426997245"
      ]
     },
     "execution_count": 832,
     "metadata": {},
     "output_type": "execute_result"
    }
   ],
   "source": [
    "1 - (tn / (tn+fp))"
   ]
  },
  {
   "cell_type": "code",
   "execution_count": 802,
   "metadata": {
    "scrolled": true
   },
   "outputs": [
    {
     "data": {
      "image/png": "[encoded data removed]",
      "text/plain": [
       "<Figure size 432x288 with 1 Axes>"
      ]
     },
     "metadata": {
      "needs_background": "light"
     },
     "output_type": "display_data"
    }
   ],
   "source": [
    "# ROC curve for Neural Network\n",
    "nn_roc_auc = roc_auc_score(y_test, y_pred)\n",
    "fpr, tpr, thresholds = roc_curve(y_test, y_pred)\n",
    "plt.figure()\n",
    "plt.plot(fpr, tpr, label='Neural Network(area = %0.2f)' % logit_roc_auc)\n",
    "plt.plot([0, 1], [0, 1],'r--')\n",
    "plt.xlim([0.0, 1.0])\n",
    "plt.ylim([0.0, 1.05])\n",
    "plt.xlabel('False Positive Rate')\n",
    "plt.ylabel('True Positive Rate')\n",
    "plt.title('ROC Curve Neural Network')\n",
    "plt.legend(loc=\"lower right\")\n",
    "plt.savefig('Log_ROC')\n",
    "plt.show()"
   ]
  },
  {
   "cell_type": "markdown",
   "metadata": {},
   "source": [
    "## Gradient Boosting Classifier"
   ]
  },
  {
   "cell_type": "code",
   "execution_count": 747,
   "metadata": {
    "scrolled": true
   },
   "outputs": [
    {
     "data": {
      "text/plain": [
       "{'criterion': 'friedman_mse',\n",
       " 'learning_rate': 0.01,\n",
       " 'max_depth': 15,\n",
       " 'max_features': 'log2',\n",
       " 'min_samples_leaf': 2,\n",
       " 'min_samples_split': 5,\n",
       " 'n_estimators': 700,\n",
       " 'subsample': 1.0}"
      ]
     },
     "execution_count": 747,
     "metadata": {},
     "output_type": "execute_result"
    }
   ],
   "source": [
    "# Grid Search for GB Classifier\n",
    "parameters = {\n",
    "    \"learning_rate\": [0.01],\n",
    "    \"min_samples_split\": [5,10,20],\n",
    "    \"min_samples_leaf\": [2,5,10],\n",
    "    \"max_depth\":[5,10,15],\n",
    "    \"max_features\":[\"log2\"],\n",
    "    \"criterion\": [\"friedman_mse\"],\n",
    "    \"subsample\":[1.0],\n",
    "    \"n_estimators\":[700,900,1000]\n",
    "    }\n",
    "# pass param grid into GridSearchCV\n",
    "clf = GridSearchCV(GradientBoostingClassifier(), parameters,refit=False, n_jobs=-1)\n",
    "\n",
    "clf.fit(X_train, y_train)\n",
    "clf.best_params_"
   ]
  },
  {
   "cell_type": "code",
   "execution_count": 748,
   "metadata": {},
   "outputs": [],
   "source": [
    "clfb = GradientBoostingClassifier(criterion= 'friedman_mse',\n",
    "                                     learning_rate= 0.01,\n",
    "                                     max_depth= 15, \n",
    "                                     max_features= 'log2',\n",
    "                                     min_samples_leaf= 2,\n",
    "                                     min_samples_split= 5, \n",
    "                                     n_estimators= 700,\n",
    "                                     subsample= 1,\n",
    "                                    random_state = 42)"
   ]
  },
  {
   "cell_type": "code",
   "execution_count": 749,
   "metadata": {},
   "outputs": [
    {
     "data": {
      "text/plain": [
       "GradientBoostingClassifier(learning_rate=0.01, max_depth=15,\n",
       "                           max_features='log2', min_samples_leaf=2,\n",
       "                           min_samples_split=5, n_estimators=700,\n",
       "                           random_state=42, subsample=1)"
      ]
     },
     "execution_count": 749,
     "metadata": {},
     "output_type": "execute_result"
    }
   ],
   "source": [
    "clfb.fit(X_train, np.asarray(y_train).ravel())"
   ]
  },
  {
   "cell_type": "code",
   "execution_count": 750,
   "metadata": {
    "scrolled": true
   },
   "outputs": [
    {
     "data": {
      "text/plain": [
       "0.6748188405797102"
      ]
     },
     "execution_count": 750,
     "metadata": {},
     "output_type": "execute_result"
    }
   ],
   "source": [
    "clfb.predict(X_test)\n",
    "clfb.score(X_test, np.asarray(y_test).ravel())"
   ]
  },
  {
   "cell_type": "code",
   "execution_count": 751,
   "metadata": {},
   "outputs": [
    {
     "data": {
      "text/plain": [
       "<sklearn.metrics._plot.roc_curve.RocCurveDisplay at 0x13f37e6d0>"
      ]
     },
     "execution_count": 751,
     "metadata": {},
     "output_type": "execute_result"
    },
    {
     "data": {
      "image/png": "[encoded data removed]",
      "text/plain": [
       "<Figure size 432x288 with 1 Axes>"
      ]
     },
     "metadata": {
      "needs_background": "light"
     },
     "output_type": "display_data"
    }
   ],
   "source": [
    "plot_roc_curve(clfb, X_test, y_test)"
   ]
  },
  {
   "cell_type": "code",
   "execution_count": 799,
   "metadata": {},
   "outputs": [
    {
     "data": {
      "text/html": [
       "<div>\n",
       "<style scoped>\n",
       "    .dataframe tbody tr th:only-of-type {\n",
       "        vertical-align: middle;\n",
       "    }\n",
       "\n",
       "    .dataframe tbody tr th {\n",
       "        vertical-align: top;\n",
       "    }\n",
       "\n",
       "    .dataframe thead th {\n",
       "        text-align: right;\n",
       "    }\n",
       "</style>\n",
       "<table border=\"1\" class=\"dataframe\">\n",
       "  <thead>\n",
       "    <tr style=\"text-align: right;\">\n",
       "      <th></th>\n",
       "      <th>danceability</th>\n",
       "      <th>energy</th>\n",
       "      <th>loudness</th>\n",
       "      <th>speechiness</th>\n",
       "      <th>acousticness</th>\n",
       "      <th>instrumentalness</th>\n",
       "      <th>liveness</th>\n",
       "      <th>valence</th>\n",
       "      <th>tempo</th>\n",
       "      <th>lyrical_subjectivity</th>\n",
       "      <th>lyrical_polarity</th>\n",
       "      <th>repeated_phrases</th>\n",
       "      <th>minutes</th>\n",
       "      <th>word_count</th>\n",
       "      <th>WPM_approx</th>\n",
       "      <th>playlist_genre</th>\n",
       "      <th>playlist_subgenre</th>\n",
       "      <th>artist_past_performance</th>\n",
       "    </tr>\n",
       "  </thead>\n",
       "  <tbody>\n",
       "    <tr>\n",
       "      <th>1881</th>\n",
       "      <td>0.830</td>\n",
       "      <td>0.794</td>\n",
       "      <td>-6.279</td>\n",
       "      <td>0.4320</td>\n",
       "      <td>0.02530</td>\n",
       "      <td>0.024800</td>\n",
       "      <td>0.1060</td>\n",
       "      <td>0.6070</td>\n",
       "      <td>128.160</td>\n",
       "      <td>0.000000</td>\n",
       "      <td>0.000000</td>\n",
       "      <td>3</td>\n",
       "      <td>2.570433</td>\n",
       "      <td>131</td>\n",
       "      <td>50.964169</td>\n",
       "      <td>0</td>\n",
       "      <td>1</td>\n",
       "      <td>0</td>\n",
       "    </tr>\n",
       "    <tr>\n",
       "      <th>11873</th>\n",
       "      <td>0.446</td>\n",
       "      <td>0.701</td>\n",
       "      <td>-4.179</td>\n",
       "      <td>0.0295</td>\n",
       "      <td>0.02980</td>\n",
       "      <td>0.000009</td>\n",
       "      <td>0.0931</td>\n",
       "      <td>0.3940</td>\n",
       "      <td>159.958</td>\n",
       "      <td>0.741493</td>\n",
       "      <td>0.330382</td>\n",
       "      <td>0</td>\n",
       "      <td>3.950000</td>\n",
       "      <td>329</td>\n",
       "      <td>83.291139</td>\n",
       "      <td>1</td>\n",
       "      <td>11</td>\n",
       "      <td>0</td>\n",
       "    </tr>\n",
       "    <tr>\n",
       "      <th>4054</th>\n",
       "      <td>0.386</td>\n",
       "      <td>0.708</td>\n",
       "      <td>-8.173</td>\n",
       "      <td>0.0489</td>\n",
       "      <td>0.00287</td>\n",
       "      <td>0.000023</td>\n",
       "      <td>0.2450</td>\n",
       "      <td>0.0858</td>\n",
       "      <td>110.354</td>\n",
       "      <td>0.516049</td>\n",
       "      <td>-0.099383</td>\n",
       "      <td>0</td>\n",
       "      <td>3.463500</td>\n",
       "      <td>320</td>\n",
       "      <td>92.392089</td>\n",
       "      <td>2</td>\n",
       "      <td>10</td>\n",
       "      <td>0</td>\n",
       "    </tr>\n",
       "    <tr>\n",
       "      <th>9986</th>\n",
       "      <td>0.693</td>\n",
       "      <td>0.497</td>\n",
       "      <td>-7.316</td>\n",
       "      <td>0.1190</td>\n",
       "      <td>0.67900</td>\n",
       "      <td>0.000000</td>\n",
       "      <td>0.2580</td>\n",
       "      <td>0.4730</td>\n",
       "      <td>81.308</td>\n",
       "      <td>0.249242</td>\n",
       "      <td>0.000758</td>\n",
       "      <td>3</td>\n",
       "      <td>2.034450</td>\n",
       "      <td>316</td>\n",
       "      <td>155.324535</td>\n",
       "      <td>5</td>\n",
       "      <td>0</td>\n",
       "      <td>10</td>\n",
       "    </tr>\n",
       "    <tr>\n",
       "      <th>14265</th>\n",
       "      <td>0.764</td>\n",
       "      <td>0.732</td>\n",
       "      <td>-7.232</td>\n",
       "      <td>0.1390</td>\n",
       "      <td>0.05440</td>\n",
       "      <td>0.000000</td>\n",
       "      <td>0.3100</td>\n",
       "      <td>0.6520</td>\n",
       "      <td>89.976</td>\n",
       "      <td>0.564947</td>\n",
       "      <td>0.065468</td>\n",
       "      <td>10</td>\n",
       "      <td>3.552217</td>\n",
       "      <td>560</td>\n",
       "      <td>157.648041</td>\n",
       "      <td>3</td>\n",
       "      <td>14</td>\n",
       "      <td>2</td>\n",
       "    </tr>\n",
       "  </tbody>\n",
       "</table>\n",
       "</div>"
      ],
      "text/plain": [
       "       danceability  energy  loudness  speechiness  acousticness  \\\n",
       "1881          0.830   0.794    -6.279       0.4320       0.02530   \n",
       "11873         0.446   0.701    -4.179       0.0295       0.02980   \n",
       "4054          0.386   0.708    -8.173       0.0489       0.00287   \n",
       "9986          0.693   0.497    -7.316       0.1190       0.67900   \n",
       "14265         0.764   0.732    -7.232       0.1390       0.05440   \n",
       "\n",
       "       instrumentalness  liveness  valence    tempo  lyrical_subjectivity  \\\n",
       "1881           0.024800    0.1060   0.6070  128.160              0.000000   \n",
       "11873          0.000009    0.0931   0.3940  159.958              0.741493   \n",
       "4054           0.000023    0.2450   0.0858  110.354              0.516049   \n",
       "9986           0.000000    0.2580   0.4730   81.308              0.249242   \n",
       "14265          0.000000    0.3100   0.6520   89.976              0.564947   \n",
       "\n",
       "       lyrical_polarity  repeated_phrases   minutes  word_count  WPM_approx  \\\n",
       "1881           0.000000                 3  2.570433         131   50.964169   \n",
       "11873          0.330382                 0  3.950000         329   83.291139   \n",
       "4054          -0.099383                 0  3.463500         320   92.392089   \n",
       "9986           0.000758                 3  2.034450         316  155.324535   \n",
       "14265          0.065468                10  3.552217         560  157.648041   \n",
       "\n",
       "       playlist_genre  playlist_subgenre  artist_past_performance  \n",
       "1881                0                  1                        0  \n",
       "11873               1                 11                        0  \n",
       "4054                2                 10                        0  \n",
       "9986                5                  0                       10  \n",
       "14265               3                 14                        2  "
      ]
     },
     "execution_count": 799,
     "metadata": {},
     "output_type": "execute_result"
    }
   ],
   "source": [
    "X_train.head()"
   ]
  },
  {
   "cell_type": "code",
   "execution_count": 752,
   "metadata": {
    "scrolled": true
   },
   "outputs": [
    {
     "data": {
      "text/plain": [
       "array([0.0594815 , 0.05457487, 0.058781  , 0.08117901, 0.06220512,\n",
       "       0.04527764, 0.06065024, 0.06839062, 0.06288459, 0.06030938,\n",
       "       0.06846894, 0.02636196, 0.0796816 , 0.05954478, 0.05795326,\n",
       "       0.02344063, 0.03750724, 0.03330762])"
      ]
     },
     "execution_count": 752,
     "metadata": {},
     "output_type": "execute_result"
    }
   ],
   "source": [
    "clfb.feature_importances_"
   ]
  },
  {
   "cell_type": "code",
   "execution_count": 753,
   "metadata": {
    "scrolled": true
   },
   "outputs": [
    {
     "data": {
      "image/png": "[encoded data removed]",
      "text/plain": [
       "<Figure size 432x288 with 2 Axes>"
      ]
     },
     "metadata": {
      "needs_background": "light"
     },
     "output_type": "display_data"
    }
   ],
   "source": [
    "disp = plot_confusion_matrix(clfb, X_test, y_test, display_labels=['Not a Hit', 'Hit'], cmap = plt.cm.Blues, normalize='true')\n"
   ]
  },
  {
   "cell_type": "markdown",
   "metadata": {},
   "source": [
    "## XGBoost"
   ]
  },
  {
   "cell_type": "code",
   "execution_count": 791,
   "metadata": {},
   "outputs": [
    {
     "data": {
      "text/plain": [
       "XGBClassifier(base_score=0.5, booster='gbtree', colsample_bylevel=1,\n",
       "              colsample_bynode=1, colsample_bytree=1, gamma=0, gpu_id=-1,\n",
       "              importance_type='gain', interaction_constraints='',\n",
       "              learning_rate=0.01, max_delta_step=0, max_depth=10,\n",
       "              min_child_weight=4, missing=nan, monotone_constraints='()',\n",
       "              n_estimators=1000, n_jobs=0, num_parallel_tree=1, random_state=42,\n",
       "              reg_alpha=0, reg_lambda=1, scale_pos_weight=1, subsample=0.8,\n",
       "              tree_method='exact', validate_parameters=1, verbosity=None)"
      ]
     },
     "execution_count": 791,
     "metadata": {},
     "output_type": "execute_result"
    }
   ],
   "source": [
    "xgb = XGBClassifier(max_depth = 10, min_child_weight = 4, subsample = 0.8, colsample_bytree = 1\n",
    "                        ,n_estimators = 1000, booster = 'gbtree', objective= 'binary:logistic'\n",
    "                      ,random_state = 42, learning_rate = 0.01)\n",
    "xgb.fit(X_train, np.asarray(y_train).ravel())"
   ]
  },
  {
   "cell_type": "code",
   "execution_count": 792,
   "metadata": {},
   "outputs": [],
   "source": [
    "y_pred = xgb.predict(X_test)\n",
    "predictions = [round(value) for value in y_pred]"
   ]
  },
  {
   "cell_type": "code",
   "execution_count": 793,
   "metadata": {},
   "outputs": [
    {
     "name": "stdout",
     "output_type": "stream",
     "text": [
      "Accuracy: 66.53%\n"
     ]
    }
   ],
   "source": [
    "accuracy = accuracy_score(y_test, predictions)\n",
    "print(\"Accuracy: %.2f%%\" % (accuracy * 100.0))"
   ]
  },
  {
   "cell_type": "code",
   "execution_count": 794,
   "metadata": {},
   "outputs": [
    {
     "data": {
      "image/png": "[encoded data removed]",
      "text/plain": [
       "<Figure size 432x288 with 2 Axes>"
      ]
     },
     "metadata": {
      "needs_background": "light"
     },
     "output_type": "display_data"
    }
   ],
   "source": [
    "disp = plot_confusion_matrix(xgb, X_test, y_test, display_labels=['Not a Hit', 'Hit'], cmap = plt.cm.Blues, normalize='true')\n"
   ]
  },
  {
   "cell_type": "code",
   "execution_count": 795,
   "metadata": {},
   "outputs": [
    {
     "data": {
      "text/plain": [
       "<sklearn.metrics._plot.roc_curve.RocCurveDisplay at 0x141ab0410>"
      ]
     },
     "execution_count": 795,
     "metadata": {},
     "output_type": "execute_result"
    },
    {
     "data": {
      "image/png": "[encoded data removed]",
      "text/plain": [
       "<Figure size 432x288 with 1 Axes>"
      ]
     },
     "metadata": {
      "needs_background": "light"
     },
     "output_type": "display_data"
    }
   ],
   "source": [
    "plot_roc_curve(xgb, X_test, y_test)"
   ]
  }
 ],
 "metadata": {
  "kernelspec": {
   "display_name": "music",
   "language": "python",
   "name": "music"
  },
  "language_info": {
   "codemirror_mode": {
    "name": "ipython",
    "version": 3
   },
   "file_extension": ".py",
   "mimetype": "text/x-python",
   "name": "python",
   "nbconvert_exporter": "python",
   "pygments_lexer": "ipython3",
   "version": "3.7.7"
  }
 },
 "nbformat": 4,
 "nbformat_minor": 2
}
